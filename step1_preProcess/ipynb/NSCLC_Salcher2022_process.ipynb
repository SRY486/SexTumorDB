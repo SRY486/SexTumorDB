{
 "cells": [
  {
   "cell_type": "markdown",
   "id": "dc1277c2-b1c4-464d-a2b8-601fa22e6a6d",
   "metadata": {},
   "source": [
    "# load data"
   ]
  },
  {
   "cell_type": "code",
   "execution_count": null,
   "id": "375273f0-71b1-425a-96e2-1389097368e3",
   "metadata": {
    "execution": {
     "iopub.execute_input": "2025-06-24T10:22:05.390034Z",
     "iopub.status.busy": "2025-06-24T10:22:05.386442Z",
     "iopub.status.idle": "2025-06-24T10:22:05.418536Z",
     "shell.execute_reply": "2025-06-24T10:22:05.416843Z"
    },
    "tags": []
   },
   "outputs": [],
   "source": [
    "obj.NSCLC <- readRDS('/project/sex_cancer/data/NSCLC_Salcher2022/NSCLC_Salcher2022_coreAtlas.rds')\n",
    "obj.NSCLC <- UpdateSeuratObject(obj.NSCLC)"
   ]
  },
  {
   "cell_type": "markdown",
   "id": "66a78a98-d36a-46c7-9f50-3106d2917b5e",
   "metadata": {},
   "source": [
    "# filter sample"
   ]
  },
  {
   "cell_type": "code",
   "execution_count": null,
   "id": "b7bb39db-aa33-4446-81da-2311f48a9d77",
   "metadata": {
    "execution": {
     "iopub.execute_input": "2025-06-26T04:57:26.497687Z",
     "iopub.status.busy": "2025-06-26T04:57:26.477869Z",
     "iopub.status.idle": "2025-06-26T05:07:24.938627Z",
     "shell.execute_reply": "2025-06-26T05:07:24.937303Z"
    },
    "tags": []
   },
   "outputs": [],
   "source": [
    "obj.NSCLC <- obj.NSCLC %>% \n",
    "                    subset(Sex %in% c('female', 'male')) %>% \n",
    "                    subset(tissue == 'lung') %>% \n",
    "                    subset(origin != 'nan') %>%\n",
    "                    subset(platform == '10x') %>%\n",
    "                    subset(disease != 'chronic obstructive pulmonary disease')\n",
    "length(unique(obj.NSCLC$sample))\n",
    "table(obj.NSCLC$study)"
   ]
  },
  {
   "cell_type": "code",
   "execution_count": null,
   "id": "d2dc77fe-7262-492e-aa5d-7b7845ce3322",
   "metadata": {
    "execution": {
     "iopub.execute_input": "2025-06-26T05:47:36.934010Z",
     "iopub.status.busy": "2025-06-26T05:47:36.931721Z",
     "iopub.status.idle": "2025-06-26T05:47:37.054696Z",
     "shell.execute_reply": "2025-06-26T05:47:37.053383Z"
    },
    "tags": []
   },
   "outputs": [],
   "source": [
    "## filter meta.data\n",
    "keep_meta <- c('sample', 'Sex', 'Age', 'oCT', 'mCT', \n",
    "               'donor_id', 'disease', 'origin', 'uicc_stage', 'tumor_stage', 'cell_type_major', 'cell_type', 'cell_type_tumor', \n",
    "               'dataset', 'study', \n",
    "               'EGFR_mutation', 'TP53_mutation', 'ALK_mutation', 'BRAF_mutation', 'ERBB2_mutation', 'KRAS_mutation', 'ROS_mutation', 'ever_smoker')\n",
    "obj.NSCLC@meta.data <- obj.NSCLC@meta.data %>%\n",
    "                              dplyr::select(keep_meta) %>%\n",
    "                              transform(barcode = rownames(.))"
   ]
  },
  {
   "cell_type": "markdown",
   "id": "9a2a8c6b-ee73-4056-abe7-5946724b0ae4",
   "metadata": {},
   "source": [
    "# modify meta.data"
   ]
  },
  {
   "cell_type": "code",
   "execution_count": null,
   "id": "3bfaa6a4-a8d0-4501-8147-5a7b2c00ea29",
   "metadata": {
    "execution": {
     "iopub.execute_input": "2025-06-26T08:02:50.562474Z",
     "iopub.status.busy": "2025-06-26T08:02:50.559103Z",
     "iopub.status.idle": "2025-06-26T08:02:50.688015Z",
     "shell.execute_reply": "2025-06-26T08:02:50.686462Z"
    },
    "tags": []
   },
   "outputs": [],
   "source": [
    "## de-factor\n",
    "obj.NSCLC@meta.data <-obj.NSCLC@meta.data %>% \n",
    "                      mutate_if(~ !is.numeric(.), ~ ext_list(.)) %>%\n",
    "                      dplyr::rename(c('SampleID' = 'sample', 'Chemistry' = 'assay', 'DonorID' = 'donor_id')) %>% \n",
    "                      transform(Sex = ifelse(Sex == 'female', 'F', 'M')) %>%\n",
    "                      mutate(SampleType = case_when(origin == 'normal' ~ 'normal',\n",
    "                                                    origin == 'normal_adjacent' ~ 'normal_adjacent',\n",
    "                                                    origin == 'tumor_primary' ~ 'tumor',\n",
    "                                                    TRUE ~ 'Others')) %>%\n",
    "                      transform(Cohort = 'NSCLC_Salcher2022') "
   ]
  },
  {
   "cell_type": "markdown",
   "id": "743a40c8-04a4-4a92-a14b-21b7a2926fff",
   "metadata": {},
   "source": [
    "# cell type annotation"
   ]
  },
  {
   "cell_type": "markdown",
   "id": "4077a247-9b2d-48a4-a6e3-0edfc31a21fe",
   "metadata": {},
   "source": [
    "## assign mCT"
   ]
  },
  {
   "cell_type": "code",
   "execution_count": null,
   "id": "e33cd747-0ea6-4f02-b660-453f468fc5d7",
   "metadata": {
    "execution": {
     "iopub.execute_input": "2025-06-27T14:06:33.040308Z",
     "iopub.status.busy": "2025-06-27T14:06:33.036688Z",
     "iopub.status.idle": "2025-06-27T14:06:33.519153Z",
     "shell.execute_reply": "2025-06-27T14:06:33.517732Z"
    },
    "tags": []
   },
   "outputs": [],
   "source": [
    "obj.NSCLC@meta.data  <- obj.NSCLC@meta.data %>%\n",
    "                        mutate(mCT = case_when(cell_type_major %in% c('Tumor cells') ~ 'Tumor',\n",
    "                                               cell_type_major %in% c('Alveolar cell type 1', 'Ciliated', 'Club', 'transitional club/AT2', 'Alveolar cell type 2') ~ 'Epi',\n",
    "                                               cell_type_major %in% c('T cell CD8') ~ 'CD8T', \n",
    "                                               cell_type_major %in% c('T cell CD4') ~ 'CD4T',\n",
    "                                               cell_type_major %in% c('T cell regulatory') ~ 'Treg',\n",
    "                                               cell_type_major %in% c('NK cell') ~ 'NK', \n",
    "                                               cell_type_major %in% c('B cell', 'Plasma cell') ~ 'B',\n",
    "                                               cell_type_major %in% c('Monocyte') ~ 'Mono',\n",
    "                                               cell_type_major %in% c('Macrophage alveolar', 'Macrophage') ~ 'Mph',\n",
    "                                               cell_type_major %in% c('cDC2', 'cDC1', 'pDC', 'DC mature') ~ 'DC', \n",
    "                                               cell_type_major %in% c('Neutrophils') ~ 'Neu',\n",
    "                                               cell_type_major %in% c('Mast cell') ~ 'Mast', \n",
    "                                               cell_type_major %in% c('Endothelial cell') ~ 'Endo', \n",
    "                                               cell_type_tumor %in% c('Fibroblast adventitial', 'Fibroblast alveolar', 'Fibroblast peribronchial') ~ 'Fibro',\n",
    "                                               cell_type_tumor %in% c('Pericyte') ~ 'Pericyte',\n",
    "                                               cell_type_tumor %in% c('Mesothelial') ~ 'Mesothelial',\n",
    "                                               cell_type_tumor %in% c('Smooth muscle cell') ~ 'SMC',\n",
    "                                               cell_type_major %in% c('other') ~ 'Others', \n",
    "                                             )) %>%\n",
    "                         transform(dCT = oCT)\n",
    "head(obj.NSCLC@meta.data, n  = 2)"
   ]
  },
  {
   "cell_type": "markdown",
   "id": "569af670-3f69-4760-a5f9-6bb3c1b65556",
   "metadata": {},
   "source": [
    "## assign gCT"
   ]
  },
  {
   "cell_type": "code",
   "execution_count": null,
   "id": "46ab49b5-51fb-44c9-8a98-a0119ced7054",
   "metadata": {
    "execution": {
     "iopub.execute_input": "2025-06-27T14:12:51.715763Z",
     "iopub.status.busy": "2025-06-27T14:12:51.712183Z",
     "iopub.status.idle": "2025-06-27T14:12:51.829871Z",
     "shell.execute_reply": "2025-06-27T14:12:51.828334Z"
    },
    "tags": []
   },
   "outputs": [],
   "source": [
    "obj.NSCLC@meta.data  <- obj.NSCLC@meta.data %>%\n",
    "                        mutate(gCT = case_when(mCT %in% c('Tumor', 'Epi') ~ 'Tumor',\n",
    "                                               mCT %in% c('Neu', 'Mast', 'CD8T', 'CD4T', 'NK', 'DC', 'B', 'Treg', 'Mono', 'Mph') ~ 'Immune',\n",
    "                                               mCT %in% c('Pericyte', 'SMC', 'Mesothelial', 'Fibro', 'Endo') ~ 'Stromal',\n",
    "                                               TRUE ~ 'Others', \n",
    "                                             ))\n",
    "head(obj.NSCLC@meta.data, n  = 2)"
   ]
  },
  {
   "cell_type": "markdown",
   "id": "38c2b20f-2d26-4443-ac53-c0af3a4cc71b",
   "metadata": {},
   "source": [
    "# ENSG to symbol"
   ]
  },
  {
   "cell_type": "code",
   "execution_count": null,
   "id": "1c1df319-280a-4ac8-b072-fac0692776f2",
   "metadata": {
    "execution": {
     "iopub.execute_input": "2025-08-05T13:17:00.763635Z",
     "iopub.status.busy": "2025-08-05T13:17:00.760076Z",
     "iopub.status.idle": "2025-08-05T13:17:00.794363Z",
     "shell.execute_reply": "2025-08-05T13:17:00.792598Z"
    },
    "tags": []
   },
   "outputs": [],
   "source": [
    "table(rownames(obj.NSCLC@assays$RNA@counts) == rownames(obj.NSCLC@assays$RNA@data))\n",
    "trans <- obj.NSCLC@assays$RNA@meta.features %>% \n",
    "         dplyr::select(c('feature_type', 'feature_name')) %>% \n",
    "         .[rownames(obj.NSCLC@assays$RNA@counts),] %>% \n",
    "         rownames_to_column('feature')\n",
    "trans %>% head(n = 2)\n",
    "\n",
    "## rename counts\n",
    "rownames(obj.NSCLC@assays$RNA@counts) <- trans$feature_name\n",
    "## rename data\n",
    "rownames(obj.NSCLC@assays$RNA@data) <- trans$feature_name\n",
    "## rename meta.feature\n",
    "obj.NSCLC@assays$RNA@meta.features <- trans %>% column_to_rownames('feature_name')"
   ]
  },
  {
   "cell_type": "markdown",
   "id": "90efe13e-9172-4bce-a0a0-95cd270cb424",
   "metadata": {},
   "source": [
    "# save"
   ]
  },
  {
   "cell_type": "code",
   "execution_count": null,
   "id": "a796583d-05fd-47d7-b078-b332eaaf4c8a",
   "metadata": {
    "execution": {
     "iopub.execute_input": "2025-08-05T13:23:18.388390Z",
     "iopub.status.busy": "2025-08-05T13:23:18.384792Z",
     "iopub.status.idle": "2025-08-05T13:36:29.972910Z",
     "shell.execute_reply": "2025-08-05T13:36:29.967162Z"
    },
    "tags": []
   },
   "outputs": [],
   "source": [
    "saveRDS(obj.NSCLC, 'obj.NSCLC.use.rds')"
   ]
  }
 ],
 "metadata": {
  "kernelspec": {
   "display_name": "R4.2.0",
   "language": "R",
   "name": "r4.2.0"
  },
  "language_info": {
   "codemirror_mode": "r",
   "file_extension": ".r",
   "mimetype": "text/x-r-source",
   "name": "R",
   "pygments_lexer": "r",
   "version": "4.2.0"
  }
 },
 "nbformat": 4,
 "nbformat_minor": 5
}
