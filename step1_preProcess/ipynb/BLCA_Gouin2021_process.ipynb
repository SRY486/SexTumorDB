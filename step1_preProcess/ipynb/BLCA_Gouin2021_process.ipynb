{
 "cells": [
  {
   "cell_type": "markdown",
   "id": "1032f9ef-b209-4223-a349-e5b08dac34fe",
   "metadata": {},
   "source": [
    "# load data"
   ]
  },
  {
   "cell_type": "code",
   "execution_count": null,
   "id": "ddf76025-df14-49ef-b830-1ce508025ae0",
   "metadata": {
    "execution": {
     "iopub.execute_input": "2025-07-29T06:19:50.063328Z",
     "iopub.status.busy": "2025-07-29T06:19:50.060231Z",
     "iopub.status.idle": "2025-07-29T06:21:04.170521Z",
     "shell.execute_reply": "2025-07-29T06:21:04.169340Z"
    },
    "tags": []
   },
   "outputs": [],
   "source": [
    "# load h5ad: 25 MICA patients\n",
    "adata <- read_h5ad('/project/sex_cancer/data/BLCA_Gouin2021/GSE169379_MIBC_snSeq.h5ad')\n",
    "adata\n",
    "\n",
    "exp <- adata$X %>% t()\n",
    "meta <- adata$obs\n",
    "table(rownames(adata$X) == rownames(adata))\n",
    "summary(meta)"
   ]
  },
  {
   "cell_type": "code",
   "execution_count": null,
   "id": "770711d1-70a0-431a-be27-d6fe337fbcbb",
   "metadata": {
    "execution": {
     "iopub.execute_input": "2025-07-29T12:46:42.861894Z",
     "iopub.status.busy": "2025-07-29T12:46:42.858823Z",
     "iopub.status.idle": "2025-07-29T12:46:57.175114Z",
     "shell.execute_reply": "2025-07-29T12:46:57.173676Z"
    },
    "tags": []
   },
   "outputs": [],
   "source": [
    "# load h5ad: 4 healthy donors\n",
    "adata2 <- anndata::read_h5ad('/project/sex_cancer/data/BLCA_Gouin2021/GSE169379_non_tumor_snSeq.h5ad')\n",
    "adata2\n",
    "\n",
    "exp2 <- adata2$X %>% t()\n",
    "meta2 <- adata2$obs\n",
    "table(rownames(adata2$X) == rownames(adata2))\n",
    "summary(meta2)"
   ]
  },
  {
   "cell_type": "code",
   "execution_count": null,
   "id": "332d25df-d3b1-4e38-83ce-35fd68b99517",
   "metadata": {
    "execution": {
     "iopub.execute_input": "2025-07-29T06:26:31.678057Z",
     "iopub.status.busy": "2025-07-29T06:26:31.674590Z",
     "iopub.status.idle": "2025-07-29T06:26:31.701634Z",
     "shell.execute_reply": "2025-07-29T06:26:31.699670Z"
    },
    "tags": []
   },
   "outputs": [],
   "source": [
    "# combine expreesion matrix\n",
    "exp.all <- cbind(exp, exp2)\n",
    "dim(exp.all)"
   ]
  },
  {
   "cell_type": "code",
   "execution_count": null,
   "id": "858c0d21-00d6-4cfd-aca7-95ab458c0a14",
   "metadata": {
    "execution": {
     "iopub.execute_input": "2025-08-11T10:07:32.571828Z",
     "iopub.status.busy": "2025-08-11T10:07:32.568771Z",
     "iopub.status.idle": "2025-08-11T10:07:32.586529Z",
     "shell.execute_reply": "2025-08-11T10:07:32.584241Z"
    },
    "tags": []
   },
   "outputs": [],
   "source": [
    "# combine meta.data\n",
    "meta.all <- meta2 %>% \n",
    "            transform(subtype = SubType_Normal, \n",
    "                      initial_celltype = SubType_Normal, \n",
    "                      celltype = SubType_Normal, \n",
    "                      hash_ID = rownames(.),\n",
    "                      Patient = strsplit2(rownames(.), split = '_')[,1]) %>%\n",
    "            dplyr::select(-'SubType_Normal') %>%\n",
    "            rbind(meta) %>%\n",
    "            .[colnames(exp.all),]\n",
    "\n",
    "## de-factor\n",
    "meta.all <- meta.all %>% mutate_if(~!is.numeric(.), ext_list)"
   ]
  },
  {
   "cell_type": "markdown",
   "id": "d5180f0d-dedc-4453-8d7b-7de7654db83f",
   "metadata": {},
   "source": [
    "## trans into Seurat object"
   ]
  },
  {
   "cell_type": "code",
   "execution_count": null,
   "id": "940b9a32-2f88-43ae-a436-ca55600107a8",
   "metadata": {
    "execution": {
     "iopub.execute_input": "2025-07-29T10:50:39.049514Z",
     "iopub.status.busy": "2025-07-29T10:50:39.046285Z",
     "iopub.status.idle": "2025-07-29T10:50:55.449938Z",
     "shell.execute_reply": "2025-07-29T10:50:55.448419Z"
    },
    "tags": []
   },
   "outputs": [],
   "source": [
    "obj.BLCA <- CreateSeuratObject(counts = exp.all, meta.data = meta.all, \n",
    "                               project = 'BLCA_Gouin2021',\n",
    "                               min.cells = 0, min.features = 0)\n",
    "length(unique(obj.BLCA$Patient))"
   ]
  },
  {
   "cell_type": "markdown",
   "id": "7a790bd4-28c1-4973-ae86-aed9c162dc98",
   "metadata": {},
   "source": [
    "## add clinical info"
   ]
  },
  {
   "cell_type": "code",
   "execution_count": null,
   "id": "fcaabaa5-4929-4e5f-997e-9569f8a42b9d",
   "metadata": {
    "execution": {
     "iopub.execute_input": "2025-08-11T10:09:52.650609Z",
     "iopub.status.busy": "2025-08-11T10:09:52.647462Z",
     "iopub.status.idle": "2025-08-11T10:09:52.667078Z",
     "shell.execute_reply": "2025-08-11T10:09:52.662681Z"
    },
    "jupyter": {
     "outputs_hidden": true
    },
    "tags": []
   },
   "outputs": [],
   "source": [
    "sample_info_T <- openxlsx::read.xlsx(\"/project/sex_cancer/data/BLCA_Gouin2021/patient_infomation_BLCA.xlsx\") ## supp table 1\n",
    "sample_info_T <- sample_info_T %>% \n",
    "                 subset(Patient %in% obj.BLCA$Patient) %>% \n",
    "                 dplyr::rename(c('StageI' = 'Stage', 'DonorID' = 'Cohort_ID')) %>%\n",
    "                 transform(SampleType = 'tumor') %>%\n",
    "                 dplyr::select(-c(\"Sex_estimate\", 'Tobacco_use', 'Dead'))\n",
    "sample_info_N <- data.frame(Patient = c('A', 'B', 'C', 'D'), DonorID = c('A', 'B', 'C', 'D'), \n",
    "                            Grade = NA, Invasive = NA, Recurrence = NA, StageI = 'Normal', SampleType = 'normal',\n",
    "                            Recurrence_days = NA, Outcome = NA)\n",
    "sample_info <- rbind(sample_info_T, sample_info_N)"
   ]
  },
  {
   "cell_type": "code",
   "execution_count": null,
   "id": "eb236acd-fecb-4bfa-bb5a-538ca23dc745",
   "metadata": {
    "execution": {
     "iopub.execute_input": "2025-07-29T11:32:55.383330Z",
     "iopub.status.busy": "2025-07-29T11:32:55.380204Z",
     "iopub.status.idle": "2025-07-29T11:32:55.695460Z",
     "shell.execute_reply": "2025-07-29T11:32:55.694268Z"
    },
    "tags": []
   },
   "outputs": [],
   "source": [
    "obj.BLCA@meta.data <- obj.BLCA@meta.data %>%\n",
    "                      transform(barcode = rownames(.), barcode2 = rownames(.)) %>%\n",
    "                      merge(sample_info, ., by = 'Patient', all = TRUE) %>%\n",
    "                      dplyr::select(-c('hash_ID', 'orig.ident', 'scVI_vanilla_leiden', 'batch')) %>%\n",
    "                      column_to_rownames('barcode2') %>%\n",
    "                      dplyr::rename(c('SampleID' = 'Patient')) %>%\n",
    "                      .[colnames(obj.BLCA),]\n",
    "obj.BLCA@meta.data %>% head(n = 2)"
   ]
  },
  {
   "cell_type": "markdown",
   "id": "dc4867bd-51f2-498d-80f4-7074132b216a",
   "metadata": {},
   "source": [
    "# evaluate sample sex"
   ]
  },
  {
   "cell_type": "code",
   "execution_count": null,
   "id": "f0546a88-89ef-4673-825b-777db155165c",
   "metadata": {
    "execution": {
     "iopub.execute_input": "2025-07-29T11:39:07.205600Z",
     "iopub.status.busy": "2025-07-29T11:39:07.202380Z",
     "iopub.status.idle": "2025-07-29T11:39:08.725842Z",
     "shell.execute_reply": "2025-07-29T11:39:08.724633Z"
    },
    "tags": []
   },
   "outputs": [],
   "source": [
    "DotPlot(obj.BLCA, features = c('XIST', \"RPS4Y1\"), group.by = 'SampleID')+\n",
    "coord_flip()+theme(axis.text.x = element_text(angle = 45, hjust = 1))"
   ]
  },
  {
   "cell_type": "code",
   "execution_count": null,
   "id": "b4e30672-88cc-4a5e-af1b-14d56eb3ed05",
   "metadata": {
    "execution": {
     "iopub.execute_input": "2025-08-11T10:16:56.549116Z",
     "iopub.status.busy": "2025-08-11T10:16:56.545386Z",
     "iopub.status.idle": "2025-08-11T10:16:56.566818Z",
     "shell.execute_reply": "2025-08-11T10:16:56.564055Z"
    },
    "tags": []
   },
   "outputs": [],
   "source": [
    "# extract chrX/chrY genes\n",
    "hg38 <- get_map('/refdata-gex-GRCh38-2020-A/genes/genes.gtf')\n",
    "chrY <- setdiff(subset(hg38, chr == 'chrY')$gene_name, subset(hg38, chr != 'chrY')$gene_name)\n",
    "chrY <- intersect(chrY, rownames(obj.BLCA))"
   ]
  },
  {
   "cell_type": "code",
   "execution_count": null,
   "id": "36beb80a-52d1-4c31-b029-593b7fb1ca5e",
   "metadata": {
    "execution": {
     "iopub.execute_input": "2025-08-11T10:17:08.093651Z",
     "iopub.status.busy": "2025-08-11T10:17:08.090255Z",
     "iopub.status.idle": "2025-08-11T10:17:08.109786Z",
     "shell.execute_reply": "2025-08-11T10:17:08.107201Z"
    },
    "tags": []
   },
   "outputs": [],
   "source": [
    "obj.BLCA <- obj.BLCA %>% \n",
    "            PercentageFeatureSet(features = 'XIST', col.name = 'Female_XIST') %>% \n",
    "            PercentageFeatureSet(features = chrY, col.name = 'Male_chrY')\n",
    "obj.BLCA@meta.data %>% head(n = 2)"
   ]
  },
  {
   "cell_type": "code",
   "execution_count": null,
   "id": "b57b2c52-40b7-43d0-a3c9-973a1cfbfe30",
   "metadata": {
    "execution": {
     "iopub.execute_input": "2025-08-11T10:21:46.400270Z",
     "iopub.status.busy": "2025-08-11T10:21:46.398529Z",
     "iopub.status.idle": "2025-08-11T10:21:46.408794Z",
     "shell.execute_reply": "2025-08-11T10:21:46.407409Z"
    },
    "jupyter": {
     "outputs_hidden": true
    },
    "tags": []
   },
   "outputs": [],
   "source": [
    "sex_ratio <- lapply(unique(obj.BLCA$SampleID), function(x){\n",
    "                F_ratio <- nrow(obj.BLCA@meta.data %>% subset(Female_XIST>0 & SampleID == x))/nrow(obj.BLCA@meta.data %>% subset(SampleID == x))\n",
    "                M_ratio <- nrow(obj.BLCA@meta.data %>% subset(Male_chrY>0 & SampleID == x))/nrow(obj.BLCA@meta.data %>% subset(SampleID == x))\n",
    "                data.frame(F_ratio = F_ratio, M_ratio = M_ratio, SampleID = x)\n",
    "             }) %>% powerjoin::power_full_join(by = c('F_ratio', 'M_ratio', 'SampleID'))\n",
    "sex_ratio <- sex_ratio %>% \n",
    "             mutate(sex = case_when((F_ratio > 0.8 & M_ratio < 0.5) ~ \"F\",\n",
    "                                    (F_ratio < 0.5 & M_ratio > 0.8) ~ 'M',\n",
    "                                    TRUE ~ 'Unassigned')) "
   ]
  },
  {
   "cell_type": "code",
   "execution_count": null,
   "id": "5295921f-e431-4778-b96a-9ea6585ad0a2",
   "metadata": {
    "execution": {
     "iopub.execute_input": "2025-08-11T10:21:53.951087Z",
     "iopub.status.busy": "2025-08-11T10:21:53.947911Z",
     "iopub.status.idle": "2025-08-11T10:21:53.966578Z",
     "shell.execute_reply": "2025-08-11T10:21:53.964218Z"
    },
    "tags": []
   },
   "outputs": [],
   "source": [
    "# filter sample\n",
    "obj.BLCA.sex <- obj.BLCA %>% subset(SampleID %in% subset(sex_ratio, sex %in% c('M', 'F'))$SampleID)\n",
    "obj.BLCA.sex@meta.data <- obj.BLCA.sex@meta.data %>% \n",
    "                          transform(Sex = ifelse(SampleID %in% subset(sex_ratio, sex == 'M')$SampleID, 'M', 'F')) %>%\n",
    "                          transform(barcode = rownames(.))\n",
    "obj.BLCA.sex@meta.data %>% head(n = 2)"
   ]
  },
  {
   "cell_type": "code",
   "execution_count": null,
   "id": "0983b11c-c2df-4d7a-b575-3be8b0a0229e",
   "metadata": {
    "execution": {
     "iopub.execute_input": "2025-07-29T11:45:54.282052Z",
     "iopub.status.busy": "2025-07-29T11:45:54.278741Z",
     "iopub.status.idle": "2025-07-29T11:45:56.440671Z",
     "shell.execute_reply": "2025-07-29T11:45:56.439504Z"
    },
    "tags": []
   },
   "outputs": [],
   "source": [
    "options(repr.plot.height = 4, repr.plot.width = 8)\n",
    "p <- VlnPlot(obj.BLCA.sex, features = c('Female_XIST', 'Male_chrY'), pt.size = 0, group.by = 'SampleID', slot = 'counts', split.plot = F, split.by = 'Sex', stack = TRUE, flip = T)+\n",
    "     scale_fill_manual(values = c(\"F\" = '#E73a36', \"M\" = '#388ABA'))+\n",
    "     scale_y_continuous(breaks = c(1,2))+\n",
    "     labs(x = 'Patient', y = 'Signature expression')+\n",
    "     basic_theme+\n",
    "     theme(legend.key.width = unit(0.1,\"inches\"),\n",
    "           legend.key.height = unit(0.1,\"inches\"),\n",
    "           legend.position = c(0.05, 0.9))\n",
    "p\n",
    "\n",
    "ggsave('BLCA_Gouin21.Sex_estimate.pdf',\n",
    "       egg::set_panel_size(p, height=unit(1, \"cm\"), width=unit(4, \"cm\")), \n",
    "       width = 10, height = 10, units = 'cm', dpi = 300)"
   ]
  },
  {
   "cell_type": "code",
   "execution_count": null,
   "id": "a0ee65c9-f188-45f0-be8c-a7935e3e0e5c",
   "metadata": {
    "execution": {
     "iopub.execute_input": "2025-07-29T13:39:31.428049Z",
     "iopub.status.busy": "2025-07-29T13:39:31.424927Z",
     "iopub.status.idle": "2025-07-29T13:42:35.477440Z",
     "shell.execute_reply": "2025-07-29T13:42:35.475010Z"
    },
    "tags": []
   },
   "outputs": [],
   "source": [
    "obj.BLCA <- obj.BLCA %>% NormalizeData(normalization.method = \"LogNormalize\", scale.factor = 10000, verbose = F)\n",
    "view_deg <- obj.BLCA %>% \n",
    "            FindMarkers(ident.1 = obj.BLCA %>% subset(subtype == 'Normal_Neuronal') %>% colnames(), \n",
    "                        ident.2 = obj.BLCA %>% subset(subtype != 'Normal_Neuronal') %>% colnames())"
   ]
  },
  {
   "cell_type": "code",
   "execution_count": null,
   "id": "df21d47f-9779-4050-b3e6-177282cd0eff",
   "metadata": {
    "execution": {
     "iopub.execute_input": "2025-07-29T13:45:36.507870Z",
     "iopub.status.busy": "2025-07-29T13:45:36.504566Z",
     "iopub.status.idle": "2025-07-29T13:45:36.583284Z",
     "shell.execute_reply": "2025-07-29T13:45:36.582026Z"
    },
    "jupyter": {
     "outputs_hidden": true
    },
    "tags": []
   },
   "outputs": [],
   "source": [
    "view_deg %>% subset(p_val_adj<0.05 & p_val<0.05) %>% .[order(-.$avg_log2FC),]"
   ]
  },
  {
   "cell_type": "markdown",
   "id": "cea5a79a-67b2-48b6-a829-f3c46074b30e",
   "metadata": {},
   "source": [
    "# cell type annotation"
   ]
  },
  {
   "cell_type": "markdown",
   "id": "2241f5f2-4a79-47bb-aba1-48151afc76fb",
   "metadata": {},
   "source": [
    "## assign oCT"
   ]
  },
  {
   "cell_type": "code",
   "execution_count": null,
   "id": "76fa14ea-6d96-4a2e-9151-d042fe94715e",
   "metadata": {
    "execution": {
     "iopub.execute_input": "2025-07-29T13:48:43.848197Z",
     "iopub.status.busy": "2025-07-29T13:48:43.844867Z",
     "iopub.status.idle": "2025-07-29T13:48:44.991647Z",
     "shell.execute_reply": "2025-07-29T13:48:44.990334Z"
    },
    "tags": []
   },
   "outputs": [],
   "source": [
    "options(repr.plot.height = 4, repr.plot.width = 20)\n",
    "DotPlot(obj.BLCA, features = c('CDH19', 'SCN7A', 'NRXN1'), group.by = 'subtype')+coord_flip()+theme(axis.text.x = element_text(angle = 90, hjust = 0))"
   ]
  },
  {
   "cell_type": "code",
   "execution_count": null,
   "id": "48f88f7e-378f-4c9b-ade4-6bf12e94f021",
   "metadata": {
    "execution": {
     "iopub.execute_input": "2025-07-29T13:58:32.449586Z",
     "iopub.status.busy": "2025-07-29T13:58:32.445919Z",
     "iopub.status.idle": "2025-07-29T13:58:32.636645Z",
     "shell.execute_reply": "2025-07-29T13:58:32.635380Z"
    },
    "tags": []
   },
   "outputs": [],
   "source": [
    "obj.BLCA@meta.data  <-  obj.BLCA@meta.data %>%\n",
    "                        mutate(oCT = case_when(subtype %in% c('CDH12_Epithelial', 'KRT13_Epithelial', 'KRT6A_Epithelial', 'UPK_Epithelial', 'Cycling_Epithelial', \n",
    "                                                              'Normal_Umbrella_Intermediate', 'Normal_Basal_Intermediate', 'Normal_CDH12', 'Normal_KRT7_KRT13_Basal') ~ 'Epi',\n",
    "                                               subtype %in% c('ACTA2_Fibroblast', 'PDPN_Fibroblast', 'PDGFRB_Fibroblast', 'FAP_Fibroblast',\n",
    "                                                              'Normal_Fibroblast_1', 'Normal_Fibroblast_2') ~ 'Fibro',\n",
    "                                               subtype %in% c('Endothelial', 'Normal_Endothelial_1') ~ 'Endo',\n",
    "                                               subtype %in% c('Inflam_Macrophage', 'MHCII_Macrophage') ~ 'Mph',\n",
    "                                               subtype %in% c('Naive_Tcell') ~ 'Tnaive',\n",
    "                                               subtype %in% c('Treg') ~ 'Treg',\n",
    "                                               subtype %in% c('CD8T') ~ 'CD8T', \n",
    "                                               subtype %in% c('CD20_Bcell', 'Normal_Bcell') ~ 'B',\n",
    "                                               subtype %in% c('Plasma_Bcell') ~ 'Plasma', \n",
    "                                               subtype %in% c('Dendritic_cell') ~ 'DC', \n",
    "                                               subtype %in% c('Normal_Smooth_muscle') ~ 'SMC', \n",
    "                                               subtype %in% c('Normal_Mast_cell') ~ 'Mast',\n",
    "                                               subtype %in% c('Normal_Tcell') ~ 'T',\n",
    "                                               subtype %in% c('Normal_Myeloid') ~ 'Myeloid',\n",
    "                                               subtype %in% c('Normal_Neuronal') ~ 'Neuron',\n",
    "                                               TRUE ~ 'Others'))\n",
    "obj.BLCA@meta.data %>% head(n = 2)"
   ]
  },
  {
   "cell_type": "code",
   "execution_count": null,
   "id": "e7f58fd6-daee-4ce3-8789-a1b2b9d4a2ea",
   "metadata": {
    "execution": {
     "iopub.execute_input": "2025-07-29T13:58:51.035885Z",
     "iopub.status.busy": "2025-07-29T13:58:51.032421Z",
     "iopub.status.idle": "2025-07-29T13:58:51.078366Z",
     "shell.execute_reply": "2025-07-29T13:58:51.077033Z"
    },
    "jupyter": {
     "outputs_hidden": true
    },
    "tags": []
   },
   "outputs": [],
   "source": [
    "table(obj.BLCA$subtype, obj.BLCA$oCT)"
   ]
  },
  {
   "cell_type": "markdown",
   "id": "43ffecf1-1268-41dd-9786-9b8d6bc6e345",
   "metadata": {},
   "source": [
    "# run UMAP"
   ]
  },
  {
   "cell_type": "code",
   "execution_count": null,
   "id": "186ebb83-c945-4f9e-94f8-1c12cf3c07ee",
   "metadata": {
    "execution": {
     "iopub.execute_input": "2025-07-30T10:10:41.470690Z",
     "iopub.status.busy": "2025-07-30T10:10:41.466445Z",
     "iopub.status.idle": "2025-07-30T10:10:41.496809Z",
     "shell.execute_reply": "2025-07-30T10:10:41.494968Z"
    },
    "tags": []
   },
   "outputs": [],
   "source": [
    "marker_list <- c('PTPRC', 'CD3D', 'CD3E', 'CD8A', 'CD4', 'TRAC', 'TRDC', 'IL7R', 'CTLA4', 'FOXP3', 'NKG7', 'NCAM1', 'KLRD1', ## T/NK\n",
    "                 'CD79A', 'CD79B', 'MS4A1', 'IGHM', 'IGHD', 'IGKC', 'JCHAIN', # B/Plasma\n",
    "                 'CD163','CD68','ITGAX','MARCO', 'MRC1', 'SLC40A1', 'SPP1', ## Mph\n",
    "                 'S100A8', 'S100A9', 'THBS1', 'CD14', 'FCGR3A','FCN1', 'VCAN', ## Myeloid \n",
    "                 'CD1C', 'IDO1', 'CLEC4C', 'CSF2RA', 'LAMP3', 'CLEC10A', ## DC\n",
    "                 \"CPA3\", \"CST3\", \"TPSAB1\", \"TPSB2\")\n",
    "marker_list <- marker_list[marker_list %in% rownames(obj.BLCA)]"
   ]
  },
  {
   "cell_type": "code",
   "execution_count": null,
   "id": "a31caf70-a170-4817-87ae-4f36b8d416f2",
   "metadata": {
    "execution": {
     "iopub.execute_input": "2025-07-30T10:12:28.488196Z",
     "iopub.status.busy": "2025-07-30T10:12:28.484033Z",
     "iopub.status.idle": "2025-07-30T10:48:44.829914Z",
     "shell.execute_reply": "2025-07-30T10:48:44.828537Z"
    },
    "jupyter": {
     "outputs_hidden": true
    },
    "tags": []
   },
   "outputs": [],
   "source": [
    "sampleList <- unique(obj.BLCA$SampleID)\n",
    "obj.anchor <- lapply(sampleList, function(sampleID){\n",
    "                          obj <- obj.BLCA %>% \n",
    "                                 subset(SampleID == sampleID) %>%\n",
    "                                 NormalizeData(normalization.method = \"LogNormalize\", scale.factor = 10000, verbose = F) %>%\n",
    "                                 FindVariableFeatures(selection.method = \"vst\", nfeatures = 2000, verbose = F) \n",
    "                          VariableFeatures(obj) <- union(VariableFeatures(obj), marker_list)\n",
    "                          obj <- obj %>%\n",
    "                                 ScaleData(vars.to.regress = c(\"nCount_RNA\"), verbose = F)\n",
    "                          return(obj)\n",
    "                 })\n",
    "obj.anchor\n",
    "\n",
    "names(obj.anchor) <- sampleList\n",
    "obj.anchor\n",
    "\n",
    "## FindIntegrationAnchors\n",
    "obj.anchor <- FindIntegrationAnchors(obj.anchor, dims = 1:30)\n",
    "obj.anchor <- IntegrateData(anchorset = obj.anchor, dims = 1:30, verbose = F)\n",
    "DefaultAssay(obj.anchor)\n",
    "\n",
    "## scale data+runPCA\n",
    "obj.anchor <- obj.anchor %>%\n",
    "              ScaleData(verbose = FALSE) %>% \n",
    "              RunPCA(npcs = 50, verbose = F)\n",
    "\n",
    "## view\n",
    "options(repr.plot.height = 4, repr.plot.width = 8)\n",
    "PC_selection(obj.anchor)\n",
    "ElbowPlot(obj.anchor, reduction = \"pca\", ndims = 50)\n",
    "\n",
    "#### Clustering\n",
    "set.seed(486)\n",
    "\n",
    "select <- 1:(PC_selection(obj.anchor)$PCselect %>% min())\n",
    "obj.anchor <- obj.anchor %>% \n",
    "              RunUMAP(reduction = \"pca\", dims = select, umap.method = \"uwot\") %>%\n",
    "              RunTSNE(reduction = \"pca\", dims = select)\n",
    "obj.anchor"
   ]
  },
  {
   "cell_type": "code",
   "execution_count": null,
   "id": "5719d502-783a-47f7-aff6-3fe5ea49ea95",
   "metadata": {
    "execution": {
     "iopub.execute_input": "2025-07-30T11:27:35.624866Z",
     "iopub.status.busy": "2025-07-30T11:27:35.621647Z",
     "iopub.status.idle": "2025-07-30T11:27:40.827322Z",
     "shell.execute_reply": "2025-07-30T11:27:40.826146Z"
    },
    "tags": []
   },
   "outputs": [],
   "source": [
    "options(repr.plot.height = 5, repr.plot.width = 20)\n",
    "select <- 'umap'\n",
    "DimPlot_scCustom(obj.anchor, reduction = select, pt.size = 1, group.by = \"oCT\", label = F, label.size = 8, colors_use = pal_igv(\"default\")(51))|\n",
    "DimPlot_scCustom(obj.anchor, reduction = select, pt.size = 1, group.by = \"SampleType\", label = TRUE, label.size = 4, colors_use = pal_igv(\"default\")(51))|\n",
    "DimPlot_scCustom(obj.anchor, reduction = select, pt.size = 1, group.by = \"SampleID\", label = F, label.size = 8, colors_use = pal_igv(\"default\")(51))"
   ]
  },
  {
   "cell_type": "markdown",
   "id": "af46e32c-cbe8-4d71-8c5a-317d52f47998",
   "metadata": {},
   "source": [
    "## immune annotation"
   ]
  },
  {
   "cell_type": "code",
   "execution_count": null,
   "id": "a6a04dcc-39ce-4d9b-8dcd-36f60f42553f",
   "metadata": {
    "execution": {
     "iopub.execute_input": "2025-08-11T10:25:03.164111Z",
     "iopub.status.busy": "2025-08-11T10:25:03.160875Z",
     "iopub.status.idle": "2025-08-11T10:25:03.177603Z",
     "shell.execute_reply": "2025-08-11T10:25:03.175385Z"
    },
    "tags": []
   },
   "outputs": [],
   "source": [
    "DefaultAssay(obj.anchor) <- 'RNA'"
   ]
  },
  {
   "cell_type": "code",
   "execution_count": null,
   "id": "f3ee46f7-2a66-402a-9517-0e30db133acd",
   "metadata": {
    "execution": {
     "iopub.execute_input": "2025-07-30T12:10:33.936321Z",
     "iopub.status.busy": "2025-07-30T12:10:33.932979Z",
     "iopub.status.idle": "2025-07-30T12:11:28.459058Z",
     "shell.execute_reply": "2025-07-30T12:11:28.457300Z"
    },
    "tags": []
   },
   "outputs": [],
   "source": [
    "obj.BLCA.immune <- obj.anchor %>% subset(oCT %in% c('Mph', 'Tnaive', 'Treg', 'B', 'CD8T', 'Plasma', 'DC', 'T', 'Myeloid', 'Mast'))\n",
    "obj.BLCA.immune\n",
    "DefaultAssay(obj.BLCA.immune) <- 'integrated'\n",
    "\n",
    "obj.BLCA.immune <- obj.BLCA.immune %>% FindVariableFeatures(selection.method = \"vst\", nfeatures = 1000, verbose = F) \n",
    "VariableFeatures(obj.BLCA.immune) <- union(VariableFeatures(obj.BLCA.immune), marker_list)\n",
    "obj.BLCA.immune <- obj.BLCA.immune %>%\n",
    "                   ScaleData(verbose = FALSE, vars.to.regress = c(\"nCount_RNA\", \"percent.mt\")) %>% \n",
    "                   RunPCA(npcs = 50, verbose = F)\n",
    "\n",
    "## view\n",
    "options(repr.plot.height = 3, repr.plot.width = 8)\n",
    "PC_selection(obj.BLCA.immune)\n",
    "ElbowPlot(obj.BLCA.immune, reduction = \"pca\", ndims = 50)"
   ]
  },
  {
   "cell_type": "code",
   "execution_count": null,
   "id": "1fd3c70f-6541-4a49-91b9-84b9b4c9ac5a",
   "metadata": {
    "execution": {
     "iopub.execute_input": "2025-07-30T12:11:37.296166Z",
     "iopub.status.busy": "2025-07-30T12:11:37.293296Z",
     "iopub.status.idle": "2025-07-30T12:12:25.146386Z",
     "shell.execute_reply": "2025-07-30T12:12:25.144870Z"
    },
    "jupyter": {
     "outputs_hidden": true
    },
    "tags": []
   },
   "outputs": [],
   "source": [
    "select <- 1:(PC_selection(obj.BLCA.immune)$PCselect %>% min())\n",
    "obj.BLCA.immune <- obj.BLCA.immune %>%\n",
    "                   RunUMAP(reduction = \"pca\", dims = select, umap.method = \"uwot\") %>%\n",
    "                   RunTSNE(reduction = \"pca\", dims = select) %>%\n",
    "                   FindNeighbors(reduction = \"pca\", dims = select) %>%\n",
    "                   FindClusters(resolution = 0.1) %>% FindClusters(resolution = 0.2) %>% FindClusters(resolution = 0.3) %>% FindClusters(resolution = 0.4) %>% FindClusters(resolution = 0.5) %>% FindClusters(resolution = 0.6)\n",
    "obj.BLCA.immune\n",
    "\n",
    "colnames(obj.BLCA.immune@meta.data) <- colnames(obj.BLCA.immune@meta.data) %>% gsub(\"integrated_snn_res.0.\", \"i0\", .)\n",
    "names(obj.BLCA.immune@meta.data)"
   ]
  },
  {
   "cell_type": "code",
   "execution_count": null,
   "id": "9547c639-9f06-4ce2-a772-21f16eb95eb5",
   "metadata": {
    "execution": {
     "iopub.execute_input": "2025-07-30T12:29:59.356206Z",
     "iopub.status.busy": "2025-07-30T12:29:59.353453Z",
     "iopub.status.idle": "2025-07-30T12:30:03.274997Z",
     "shell.execute_reply": "2025-07-30T12:30:03.273485Z"
    },
    "tags": []
   },
   "outputs": [],
   "source": [
    "options(repr.plot.height = 5, repr.plot.width = 30)\n",
    "select <- 'umap'\n",
    "DimPlot_scCustom(obj.BLCA.immune, reduction = select, pt.size = 1, group.by = \"oCT\", label = T, label.size = 3, colors_use = pal_igv(\"default\")(51))|\n",
    "DimPlot_scCustom(obj.BLCA.immune, reduction = select, pt.size = 1, group.by = \"i06\", label = T, label.size = 8, colors_use = pal_igv(\"default\")(51))|\n",
    "DimPlot_scCustom(obj.BLCA.immune, reduction = select, pt.size = 1, group.by = \"SampleType\", label = T, label.size = 8, colors_use = pal_igv(\"default\")(51))|\n",
    "DimPlot_scCustom(obj.BLCA.immune, reduction = select, pt.size = 1, group.by = \"SampleID\", label = F, label.size = 8, colors_use = pal_igv(\"default\")(51))"
   ]
  },
  {
   "cell_type": "code",
   "execution_count": null,
   "id": "4300491d-fb4d-42dd-a697-de83fa3e12ca",
   "metadata": {
    "execution": {
     "iopub.execute_input": "2025-07-30T15:31:57.685197Z",
     "iopub.status.busy": "2025-07-30T15:31:57.681767Z",
     "iopub.status.idle": "2025-07-30T15:31:58.853415Z",
     "shell.execute_reply": "2025-07-30T15:31:58.852260Z"
    },
    "tags": []
   },
   "outputs": [],
   "source": [
    "DotPlot(obj.BLCA.immune, features = marker_list, group.by = 'i06')+theme(axis.text.x = element_text(angle = 45, hjust = 1))"
   ]
  },
  {
   "cell_type": "code",
   "execution_count": null,
   "id": "e9d399f3-39e2-4a48-b5b6-b0b8d323387a",
   "metadata": {
    "execution": {
     "iopub.execute_input": "2025-07-30T13:32:40.806638Z",
     "iopub.status.busy": "2025-07-30T13:32:40.803519Z",
     "iopub.status.idle": "2025-07-30T13:35:18.400082Z",
     "shell.execute_reply": "2025-07-30T13:35:18.397289Z"
    },
    "jupyter": {
     "outputs_hidden": true
    },
    "tags": []
   },
   "outputs": [],
   "source": [
    "## marker expression\n",
    "Idents(obj.BLCA.immune) <- factor(obj.BLCA.immune$i06, levels = 11:0)\n",
    "cluster_deg <- FindAllMarkers(obj.BLCA.immune, assay = \"RNA\", slot = \"data\",\n",
    "                              logfc.threshold = 0.25, min.pct = 0.1, test.use = \"wilcox\")\n",
    "rownames(cluster_deg) <- NULL"
   ]
  },
  {
   "cell_type": "code",
   "execution_count": null,
   "id": "7525d116-e79f-4fa1-b205-bdf2c4c6e773",
   "metadata": {
    "execution": {
     "iopub.execute_input": "2025-07-30T15:38:42.159681Z",
     "iopub.status.busy": "2025-07-30T15:38:42.156539Z",
     "iopub.status.idle": "2025-07-30T15:38:42.225090Z",
     "shell.execute_reply": "2025-07-30T15:38:42.223889Z"
    },
    "tags": []
   },
   "outputs": [],
   "source": [
    "## assign dCT/mCT/gCT\n",
    "obj.BLCA.immune@meta.data <-obj.BLCA.immune@meta.data %>%\n",
    "                            mutate(dCT = case_when(i06 %in% c(\"0\") ~ \"Treg\",\n",
    "                                                   i06 %in% c(\"2\", \"9\") ~ \"CD8T\",\n",
    "                                                   i06 %in% c(\"8\") ~ \"Tnaive\",\n",
    "                                                   i06 %in% c(\"3\",  \"6\") ~ \"B\",\n",
    "                                                   i06 %in% c(\"1\", \"5\") ~ \"Mph\",\n",
    "                                                   i06 %in% c(\"4\") ~ \"DC\",\n",
    "                                                   i06 %in% c(\"11\") ~ \"pDC\",\n",
    "                                                   i06 %in% c(\"10\") ~ \"Mast\",\n",
    "                                                   i06 %in% c(\"7\") ~ \"Plasma\",\n",
    "                                                   TRUE ~ 'Others'))\n",
    "\n",
    "obj.BLCA.immune@meta.data <- obj.BLCA.immune@meta.data %>%\n",
    "                             mutate(mCT = case_when(dCT %in% c(\"DC\", \"pDC\") ~ \"DC\",\n",
    "                                                    dCT %in% c(\"B\", \"Plasma\") ~ \"B\",\n",
    "                                                    TRUE ~ dCT))\n",
    "\n",
    "obj.BLCA.immune@meta.data <- obj.BLCA.immune@meta.data %>% transform(gCT = 'Immune')"
   ]
  },
  {
   "cell_type": "code",
   "execution_count": null,
   "id": "3228611d-4784-4479-8f0c-491bde302134",
   "metadata": {
    "execution": {
     "iopub.execute_input": "2025-07-30T15:44:24.417782Z",
     "iopub.status.busy": "2025-07-30T15:44:24.414706Z",
     "iopub.status.idle": "2025-07-30T15:44:26.455084Z",
     "shell.execute_reply": "2025-07-30T15:44:26.453714Z"
    },
    "tags": []
   },
   "outputs": [],
   "source": [
    "options(repr.plot.height = 5, repr.plot.width = 30)\n",
    "select <- 'umap'\n",
    "DimPlot_scCustom(obj.BLCA.immune, reduction = select, pt.size = 1, group.by = \"oCT\", label = T, label.size = 3, colors_use = pal_igv(\"default\")(51))|\n",
    "DimPlot_scCustom(obj.BLCA.immune, reduction = select, pt.size = 1, group.by = \"dCT\", label = T, label.size = 8, colors_use = pal_igv(\"default\")(51))|\n",
    "DimPlot_scCustom(obj.BLCA.immune, reduction = select, pt.size = 1, group.by = \"mCT\", label = T, label.size = 8, colors_use = pal_igv(\"default\")(51))|\n",
    "DimPlot_scCustom(obj.BLCA.immune, reduction = select, pt.size = 1, group.by = \"SampleID\", label = F, label.size = 8, colors_use = pal_igv(\"default\")(51))"
   ]
  },
  {
   "cell_type": "code",
   "execution_count": null,
   "id": "4c15f7c2-2d36-4e76-adf6-265c74d9db9a",
   "metadata": {
    "execution": {
     "iopub.execute_input": "2025-07-30T15:45:25.811383Z",
     "iopub.status.busy": "2025-07-30T15:45:25.808226Z",
     "iopub.status.idle": "2025-07-30T15:45:36.743332Z",
     "shell.execute_reply": "2025-07-30T15:45:36.742049Z"
    },
    "tags": []
   },
   "outputs": [],
   "source": [
    "## merge together\n",
    "obj.BLCA.others <- obj.anchor %>% subset(oCT %in% c('Mph', 'Tnaive', 'Treg', 'B', 'CD8T', 'Plasma', 'DC', 'T', 'Myeloid', 'Mast') == F)\n",
    "obj.BLCA.others\n",
    "\n",
    "obj.BLCA.others@meta.data <- obj.BLCA.others@meta.data %>%\n",
    "                             transform(dCT = oCT, mCT = oCT) %>%\n",
    "                             mutate(gCT = case_when(oCT %in% c('Epi') ~ 'Tumor',\n",
    "                                                    oCT %in% c('Endo', 'Fibro', 'Neuron', 'SMC') ~ 'Stromal'))\n",
    "obj.BLCA.others@meta.data %>% head(n = 1)"
   ]
  },
  {
   "cell_type": "code",
   "execution_count": null,
   "id": "29b2a570-82b6-409e-8ea0-65cb64d8ce0c",
   "metadata": {
    "execution": {
     "iopub.execute_input": "2025-07-30T15:49:39.503526Z",
     "iopub.status.busy": "2025-07-30T15:49:39.500483Z",
     "iopub.status.idle": "2025-07-30T15:49:39.570408Z",
     "shell.execute_reply": "2025-07-30T15:49:39.569299Z"
    },
    "tags": []
   },
   "outputs": [],
   "source": [
    "obj.BLCA <- obj.anchor\n",
    "obj.BLCA@meta.data <- rbind(obj.BLCA.immune@meta.data %>% .[,names(obj.BLCA.others@meta.data)], obj.BLCA.others@meta.data)[colnames(obj.BLCA),]"
   ]
  },
  {
   "cell_type": "code",
   "execution_count": null,
   "id": "6b2696d4-7c17-4b05-a13d-0205c7e11d1f",
   "metadata": {
    "execution": {
     "iopub.execute_input": "2025-07-30T15:50:42.091139Z",
     "iopub.status.busy": "2025-07-30T15:50:42.087237Z",
     "iopub.status.idle": "2025-07-30T15:50:48.429719Z",
     "shell.execute_reply": "2025-07-30T15:50:48.428237Z"
    },
    "tags": []
   },
   "outputs": [],
   "source": [
    "options(repr.plot.height = 5, repr.plot.width = 30)\n",
    "select <- 'umap'\n",
    "DimPlot_scCustom(obj.BLCA, reduction = select, pt.size = 1, group.by = \"gCT\", label = T, label.size = 8, colors_use = pal_igv(\"default\")(51))|\n",
    "DimPlot_scCustom(obj.BLCA, reduction = select, pt.size = 1, group.by = \"mCT\", label = T, label.size = 5, colors_use = pal_igv(\"default\")(51))|\n",
    "DimPlot_scCustom(obj.BLCA, reduction = select, pt.size = 1, group.by = \"dCT\", label = F, label.size = 5, colors_use = pal_igv(\"default\")(51))|\n",
    "DimPlot_scCustom(obj.BLCA, reduction = select, pt.size = 1, group.by = \"oCT\", label = F, label.size = 8, colors_use = pal_igv(\"default\")(51))|\n",
    "DimPlot_scCustom(obj.BLCA, reduction = select, pt.size = 1, group.by = \"SampleType\", label = F, label.size = 8, colors_use = pal_igv(\"default\")(51))"
   ]
  },
  {
   "cell_type": "markdown",
   "id": "24cdea69-efeb-49bb-9787-c9fa212e0e12",
   "metadata": {},
   "source": [
    "# save"
   ]
  },
  {
   "cell_type": "code",
   "execution_count": null,
   "id": "c0d36dd8-e10d-4334-b864-94722b3e7429",
   "metadata": {
    "execution": {
     "iopub.execute_input": "2025-07-30T15:51:07.061225Z",
     "iopub.status.busy": "2025-07-30T15:51:07.055200Z"
    },
    "tags": []
   },
   "outputs": [],
   "source": [
    "saveRDS(obj.BLCA, 'obj.BLCA.rds')"
   ]
  }
 ],
 "metadata": {
  "kernelspec": {
   "display_name": "R4.2.0",
   "language": "R",
   "name": "r4.2.0"
  },
  "language_info": {
   "codemirror_mode": "r",
   "file_extension": ".r",
   "mimetype": "text/x-r-source",
   "name": "R",
   "pygments_lexer": "r",
   "version": "4.2.0"
  }
 },
 "nbformat": 4,
 "nbformat_minor": 5
}
