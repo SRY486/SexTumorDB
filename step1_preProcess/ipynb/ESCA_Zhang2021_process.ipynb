{
 "cells": [
  {
   "cell_type": "markdown",
   "id": "39b82d95-1357-4b13-89b6-bd524b711534",
   "metadata": {},
   "source": [
    "# load data\n",
    "\"All patients were not treated with chemotherapy or radiotherapy before tumor resection\""
   ]
  },
  {
   "cell_type": "code",
   "execution_count": null,
   "id": "418cadc0-7555-4b6f-8bdc-47ca5357eb92",
   "metadata": {},
   "outputs": [],
   "source": [
    "exp1 <- fread('/project/sex_cancer/data/ESCC_Zhang2021/GSE160269_CD45neg_UMIs.txt') %>% column_to_rownames('V1')\n",
    "exp2 <- fread('/project/sex_cancer/data/ESCC_Zhang2021/GSE160269_CD45pos_UMIs.txt') %>% column_to_rownames('V1')\n",
    "\n",
    "all_genes <- unique(c(rownames(exp1), rownames(exp2)))\n",
    "# create merged df\n",
    "exp_merge <- data.frame(matrix(0, nrow = length(all_genes), ncol = ncol(exp1) + ncol(exp2)))\n",
    "rownames(exp_merge) <- all_genes\n",
    "colnames(exp_merge) <- c(colnames(exp1), colnames(exp2))\n",
    "# load data\n",
    "exp_merge[rownames(exp1), colnames(exp1)] <- exp1\n",
    "exp_merge[rownames(exp2), colnames(exp2)] <- exp2"
   ]
  },
  {
   "cell_type": "code",
   "execution_count": null,
   "id": "b632410c-3539-4bf8-a430-f1ec96f13889",
   "metadata": {},
   "outputs": [],
   "source": [
    "metaList <- list.files('/project/sex_cancer/data/ESCC_Zhang2021', pattern = 'GSE160269_*cells', full.names = TRUE)\n",
    "meta <- lapply(metaList, function(x){fread(x)}) %>% \n",
    "        do.call(rbind, .) %>%\n",
    "        transform(DonorID = gsub('T|N','', sample), barcode = rownames(.))\n",
    "\n",
    "info <- read_xlsx('./ESCC_Zhang2021/ESCC_Zhang2021_PatienInfo.xlsx',skip = 1)\n",
    "names(info)[1]='DonorID'\n",
    "meta  <- merge(meta, info, by = 'DonorID',all = TRUE) %>% column_to_rownames('barcode') %>% mutate_if(~!is.numeric(.), ext_list) %>% .[colnames(exp_merge),]"
   ]
  },
  {
   "cell_type": "code",
   "execution_count": null,
   "id": "6de5517a-3b05-4c50-8665-691fb4ad2129",
   "metadata": {
    "execution": {
     "iopub.execute_input": "2025-08-11T11:55:21.031346Z",
     "iopub.status.busy": "2025-08-11T11:55:21.028276Z",
     "iopub.status.idle": "2025-08-11T11:55:21.045583Z",
     "shell.execute_reply": "2025-08-11T11:55:21.043690Z"
    },
    "tags": []
   },
   "outputs": [],
   "source": [
    "obj.ESCA <- CreateSeuratObject(counts = exp_merge, meta.data = meta, min.cells = 0,min.features = 0)\n",
    "obj.ESCA"
   ]
  },
  {
   "cell_type": "markdown",
   "id": "975674a3-61d6-410a-a5c2-30882db2a7dd",
   "metadata": {
    "execution": {
     "iopub.execute_input": "2025-07-09T09:00:48.326565Z",
     "iopub.status.busy": "2025-07-09T09:00:48.322704Z",
     "iopub.status.idle": "2025-07-09T09:00:48.357670Z",
     "shell.execute_reply": "2025-07-09T09:00:48.356044Z"
    },
    "tags": []
   },
   "source": [
    "# modify meta.data"
   ]
  },
  {
   "cell_type": "code",
   "execution_count": null,
   "id": "76e1dfa1-445d-44df-9641-6f2e5e99f2f9",
   "metadata": {
    "execution": {
     "iopub.execute_input": "2025-08-11T11:51:30.988291Z",
     "iopub.status.busy": "2025-08-11T11:51:30.985041Z",
     "iopub.status.idle": "2025-08-11T11:51:31.005455Z",
     "shell.execute_reply": "2025-08-11T11:51:31.003005Z"
    },
    "tags": []
   },
   "outputs": [],
   "source": [
    "## 60patient ~ 64 samples (4 normal_adjacent）\n",
    "obj.ESCA@meta.data <- obj.ESCA@meta.data %>% \n",
    "                      dplyr::rename(c('SampleID' = 'sample')) %>%\n",
    "                      transform(Cohort = 'ESCA_Zhang2021') %>%\n",
    "                      mutate(Sex = case_when(Sex == 'Female' ~ 'F', Sex == 'Male' ~ 'M', TRUE ~ 'Others')) %>%\n",
    "                      mutate(SampleType = case_when(SampleID %in% c('P126N', 'P127N', 'P128N', 'P130N') ~ 'normal_adjacent', TRUE ~ 'tumor'))\n",
    "obj.ESCA@meta.data %>% head(n = 2)"
   ]
  },
  {
   "cell_type": "code",
   "execution_count": null,
   "id": "f9ead8ae-6d62-44fe-aeae-4077ff54329f",
   "metadata": {
    "execution": {
     "iopub.execute_input": "2025-07-11T03:25:06.726375Z",
     "iopub.status.busy": "2025-07-11T03:25:06.723144Z",
     "iopub.status.idle": "2025-07-11T03:25:06.805885Z",
     "shell.execute_reply": "2025-07-11T03:25:06.804742Z"
    },
    "tags": []
   },
   "outputs": [],
   "source": [
    "obj.ESCA@meta.data[,c('SampleID', 'SampleType', 'Sex')] %>% .[!duplicated(.$SampleID),] %$% table(.$SampleType, .$Sex)\n",
    "obj.ESCA@meta.data %>% subset(SampleType == 'tumor') %>% nrow()"
   ]
  },
  {
   "cell_type": "markdown",
   "id": "e8b9f9c0-c557-457a-86d9-ff04bd549633",
   "metadata": {},
   "source": [
    "# cell type annotation"
   ]
  },
  {
   "cell_type": "code",
   "execution_count": null,
   "id": "9dc1fec3-a7e7-41cd-8281-d9e817a3787c",
   "metadata": {
    "execution": {
     "iopub.execute_input": "2025-07-09T10:32:13.568754Z",
     "iopub.status.busy": "2025-07-09T10:32:13.565616Z",
     "iopub.status.idle": "2025-07-09T10:32:13.600794Z",
     "shell.execute_reply": "2025-07-09T10:32:13.599590Z"
    },
    "tags": []
   },
   "outputs": [],
   "source": [
    "unique(obj.ESCA$oCT)"
   ]
  },
  {
   "cell_type": "code",
   "execution_count": null,
   "id": "740a871d-6b51-4abd-ae99-58270a6eb43f",
   "metadata": {
    "execution": {
     "iopub.execute_input": "2025-07-09T10:51:17.370660Z",
     "iopub.status.busy": "2025-07-09T10:51:17.367397Z",
     "iopub.status.idle": "2025-07-09T10:51:17.468450Z",
     "shell.execute_reply": "2025-07-09T10:51:17.467065Z"
    },
    "tags": []
   },
   "outputs": [],
   "source": [
    "obj.ESCA@meta.data <- obj.ESCA@meta.data %>% \n",
    "                      mutate(dCT = case_when(oCT %in% c('Epithelial') ~ 'Tumor',\n",
    "                                             oCT %in% c('Bcell') ~ 'B/Plasma',\n",
    "                                             oCT %in% c('Endothelial') ~ 'Endo',\n",
    "                                             oCT %in% c('Fibroblast') ~ 'Fibro',\n",
    "                                             oCT %in% c('Tcell') ~ 'NK/T',\n",
    "                                             oCT %in% c('Pericytes') ~ 'Pericyte',\n",
    "                                             oCT %in% c('FRC') ~ 'FRC', ## Fibroblastic Reticular Cells\n",
    "                                             TRUE ~ oCT))"
   ]
  },
  {
   "cell_type": "markdown",
   "id": "229adf1e-0169-4567-b5ba-29b22b2b4c27",
   "metadata": {},
   "source": [
    "## assign NK/T"
   ]
  },
  {
   "cell_type": "code",
   "execution_count": null,
   "id": "8e42d63c-5a77-4c35-bb95-8defa6b8bc0c",
   "metadata": {
    "execution": {
     "iopub.execute_input": "2025-07-11T05:25:24.403008Z",
     "iopub.status.busy": "2025-07-11T05:25:24.399343Z",
     "iopub.status.idle": "2025-07-11T05:25:38.250404Z",
     "shell.execute_reply": "2025-07-11T05:25:38.249035Z"
    },
    "tags": []
   },
   "outputs": [],
   "source": [
    "obj.ESCA.nkt <- obj.ESCA %>% subset(dCT == 'NK/T')\n",
    "obj.ESCA.nkt\n",
    "\n",
    "obj.ESCA.nkt <- obj.ESCA.nkt %>%\n",
    "                 NormalizeData(normalization.method = \"LogNormalize\", scale.factor = 10000, verbose = F) %>%\n",
    "                 FindVariableFeatures(selection.method = \"vst\", nfeatures = 1000, verbose = F) %>%\n",
    "                 ScaleData(vars.to.regress = c(\"nCount_RNA\"), verbose = F) %>%\n",
    "                 RunPCA(verbose = F) %>% \n",
    "                 RunHarmony(group.by.vars = \"SampleID\", plot_convergence = TRUE)\n",
    "## cluster\n",
    "nPC <- min(PC_selection_harmony(obj.ESCA.nkt)$PCselect)\n",
    "obj.ESCA.nkt <- obj.ESCA.nkt %>% \n",
    "                 RunUMAP(reduction = \"harmony\", dims = 1:nPC, umap.method = \"uwot\") %>%\n",
    "                 FindNeighbors(reduction = \"harmony\", dims = 1:nPC) %>%\n",
    "                 FindClusters(resolution=0.1) %>% FindClusters(resolution=0.2) %>% FindClusters(resolution=0.3) %>% FindClusters(resolution=0.4)\n",
    "colnames(obj.ESCA.nkt@meta.data) <- gsub(\"RNA_snn_res.0.\",\"r0\", colnames(obj.ESCA.nkt@meta.data))"
   ]
  },
  {
   "cell_type": "code",
   "execution_count": null,
   "id": "77c4e8ce-7b33-43f5-864c-07e2895b60c2",
   "metadata": {
    "execution": {
     "iopub.execute_input": "2025-07-11T12:12:41.455710Z",
     "iopub.status.busy": "2025-07-11T12:12:41.452619Z",
     "iopub.status.idle": "2025-07-11T12:12:51.878833Z",
     "shell.execute_reply": "2025-07-11T12:12:51.877653Z"
    },
    "tags": []
   },
   "outputs": [],
   "source": [
    "## view marker\n",
    "marker_list <- c('CD3D', 'CD3E', 'CD3G', 'TRDC',\n",
    "                 'CD4','FOXP3', 'CTLA4', ## Treg\n",
    "                 'CD8A', 'CD8B', 'CD28', 'GZMA', 'GZMH',\n",
    "                 'TIGIT', 'PDCD1', 'TCF7',\n",
    "                 'GNLY', 'NKG7', 'KLRD1', 'NCAM1', 'FCGR3A', 'PRF1',\n",
    "                 'MKI67', 'TOP2A', 'STMN1', 'TOX')\n",
    "\n",
    "options(repr.plot.height = 6, repr.plot.width = 12)\n",
    "VlnPlot(obj.ESCA.nkt, group.by = 'r03', features = marker_list, pt.size = 0, cols = pal_igv(\"default\")(51), \n",
    "        slot = 'data',assay = 'RNA', raster=FALSE, stack = TRUE, flip = TRUE)+\n",
    "theme(legend.position = 'none')|\n",
    "DimPlot_scCustom(obj.ESCA.nkt, pt.size = 1, group.by = \"r03\", label = TRUE, label.size = 8, colors_use = pal_igv(\"default\")(51))"
   ]
  },
  {
   "cell_type": "code",
   "execution_count": null,
   "id": "9aae34cc-f110-4ed1-a88e-5cdc38c61a00",
   "metadata": {},
   "outputs": [],
   "source": [
    "Idents(obj.ESCA.nkt) <- factor(obj.ESCA.nkt$r03, levels = 9:0)\n",
    "cluster_deg <- FindAllMarkers(obj.ESCA.nkt, assay = \"RNA\", slot = \"data\",\n",
    "                              logfc.threshold = 0.25, min.pct = 0.1, test.use = \"wilcox\")\n",
    "rownames(cluster_deg) <- NULL"
   ]
  },
  {
   "cell_type": "code",
   "execution_count": null,
   "id": "bac4a404-7679-47c6-a001-7827c16c8011",
   "metadata": {
    "execution": {
     "iopub.execute_input": "2025-07-11T12:11:45.791800Z",
     "iopub.status.busy": "2025-07-11T12:11:45.788706Z",
     "iopub.status.idle": "2025-07-11T12:11:45.922913Z",
     "shell.execute_reply": "2025-07-11T12:11:45.921594Z"
    },
    "tags": []
   },
   "outputs": [],
   "source": [
    "## assign mCT/dCT\n",
    "obj.ESCA.nkt@meta.data <- obj.ESCA.nkt@meta.data %>%\n",
    "                          mutate(dCT = case_when(r03 %in% c('0') ~ 'Treg',\n",
    "                                                 r03 %in% c('5') ~ 'NK',\n",
    "                                                 r03 %in% c('8') ~ 'NKT',\n",
    "                                                 r03 %in% c('1', '2', '7') ~ 'CD8T',\n",
    "                                                 r03 %in% c('6') ~ 'CD8T_proliferation',\n",
    "                                                 r03 %in% c('3') ~ 'CD4Tnaive',\n",
    "                                                 r03 %in% c('4') ~ 'CD4Tfh',\n",
    "                                                 r03 %in% c('9') ~ 'CD4T',\n",
    "                                                 TRUE ~ 'Others'\n",
    "                                                 )) %>%\n",
    "                          mutate(mCT = case_when(r03 %in% c('0') ~ 'Treg',\n",
    "                                                 r03 %in% c('5') ~ 'NK',\n",
    "                                                 r03 %in% c('8') ~ 'NKT',\n",
    "                                                 r03 %in% c('1', '2', '6', '7') ~ 'CD8T',\n",
    "                                                 r03 %in% c('3', '4', '9') ~ 'CD4T',\n",
    "                                                 TRUE ~ 'Others'\n",
    "                                                 )) \n",
    "obj.ESCA.nkt@meta.data <- obj.ESCA.nkt@meta.data %>% dplyr::select(-c('r01', 'r02', 'r03', 'r04', 'seurat_clusters'))"
   ]
  },
  {
   "cell_type": "code",
   "execution_count": null,
   "id": "b1b59af6-8554-4af0-a18f-f0a3ecdf0f95",
   "metadata": {
    "execution": {
     "iopub.execute_input": "2025-07-11T12:11:50.705162Z",
     "iopub.status.busy": "2025-07-11T12:11:50.701120Z",
     "iopub.status.idle": "2025-07-11T12:11:57.002296Z",
     "shell.execute_reply": "2025-07-11T12:11:57.001011Z"
    },
    "tags": []
   },
   "outputs": [],
   "source": [
    "options(repr.plot.height = 4, repr.plot.width = 16)\n",
    "DimPlot_scCustom(obj.ESCA.nkt, pt.size = 1, group.by = \"r03\", label = TRUE, label.size = 8, colors_use = pal_igv(\"default\")(51))|\n",
    "DimPlot_scCustom(obj.ESCA.nkt, pt.size = 1, group.by = \"mCT\", label = TRUE, label.size = 8, colors_use = pal_igv(\"default\")(51))|\n",
    "DimPlot_scCustom(obj.ESCA.nkt, pt.size = 1, group.by = \"dCT\", label = TRUE, label.size = 8, colors_use = pal_igv(\"default\")(51))"
   ]
  },
  {
   "cell_type": "markdown",
   "id": "0347812a-13d1-4fa6-969f-ee0899dec93d",
   "metadata": {
    "execution": {
     "iopub.execute_input": "2025-07-11T11:18:17.392225Z",
     "iopub.status.busy": "2025-07-11T11:18:17.388888Z",
     "iopub.status.idle": "2025-07-11T11:18:17.416365Z",
     "shell.execute_reply": "2025-07-11T11:18:17.414474Z"
    },
    "tags": []
   },
   "source": [
    "## assign B/Plasma"
   ]
  },
  {
   "cell_type": "code",
   "execution_count": null,
   "id": "084326f4-2200-4104-adf7-7fced7b3dd2c",
   "metadata": {
    "execution": {
     "iopub.execute_input": "2025-07-11T11:31:53.232942Z",
     "iopub.status.busy": "2025-07-11T11:31:53.229782Z",
     "iopub.status.idle": "2025-07-11T11:31:59.198735Z",
     "shell.execute_reply": "2025-07-11T11:31:59.197488Z"
    },
    "tags": []
   },
   "outputs": [],
   "source": [
    "obj.ESCA.bp <- obj.ESCA %>% subset(dCT == 'B/Plasma')\n",
    "obj.ESCA.bp\n",
    "\n",
    "obj.ESCA.bp <- obj.ESCA.bp %>%\n",
    "                 NormalizeData(normalization.method = \"LogNormalize\", scale.factor = 10000, verbose = F) %>%\n",
    "                 FindVariableFeatures(selection.method = \"vst\", nfeatures = 2000, verbose = F) %>%\n",
    "                 ScaleData(vars.to.regress = c(\"nCount_RNA\"), verbose = F) %>%\n",
    "                 RunPCA(verbose = F) %>% \n",
    "                 RunHarmony(group.by.vars = \"SampleID\", plot_convergence = TRUE)\n",
    "## cluster\n",
    "nPC <- min(PC_selection_harmony(obj.ESCA.bp)$PCselect)\n",
    "obj.ESCA.bp <- obj.ESCA.bp %>% \n",
    "                 RunUMAP(reduction = \"harmony\", dims = 1:nPC, umap.method = \"uwot\") %>%\n",
    "                 FindNeighbors(reduction = \"harmony\", dims = 1:nPC) %>%\n",
    "                 FindClusters(resolution=0.1) %>% FindClusters(resolution=0.2) %>% FindClusters(resolution=0.3)\n",
    "colnames(obj.ESCA.bp@meta.data) <- gsub(\"RNA_snn_res.0.\",\"r0\", colnames(obj.ESCA.bp@meta.data))"
   ]
  },
  {
   "cell_type": "code",
   "execution_count": null,
   "id": "da62a432-77e9-4155-b18a-7f3192823c89",
   "metadata": {
    "execution": {
     "iopub.execute_input": "2025-07-11T12:26:05.837821Z",
     "iopub.status.busy": "2025-07-11T12:26:05.834657Z",
     "iopub.status.idle": "2025-07-11T12:26:09.384159Z",
     "shell.execute_reply": "2025-07-11T12:26:09.383012Z"
    },
    "tags": []
   },
   "outputs": [],
   "source": [
    "## marker expression\n",
    "marker_list <- c('PTPRC', 'CD19', 'CD79A', 'MS4A1', 'IGHD', 'IGHM', 'FCER2', 'CD72',  \n",
    "                 'JCHAIN', 'MZB1',  'IGHA1', 'IGHG1', \n",
    "                 'RGS13', 'MEF2B', 'BCL6', 'MKI67', 'TOP2A')\n",
    "\n",
    "options(repr.plot.height = 4, repr.plot.width = 10)\n",
    "VlnPlot(obj.ESCA.bp, group.by = 'r01', features = marker_list, pt.size = 0, cols = pal_igv(\"default\")(51), \n",
    "        slot = 'data',assay = 'RNA', raster=FALSE, stack = TRUE, flip = TRUE)+\n",
    "theme(legend.position = 'none')|\n",
    "DimPlot_scCustom(obj.ESCA.bp, pt.size = 1, reduction = 'umap', group.by = \"r01\", label = TRUE, label.size = 8, colors_use = pal_igv(\"default\")(51))"
   ]
  },
  {
   "cell_type": "code",
   "execution_count": null,
   "id": "c5c29745-6fdb-47c7-80b3-a549058f4792",
   "metadata": {
    "execution": {
     "iopub.execute_input": "2025-07-11T11:55:37.194851Z",
     "iopub.status.busy": "2025-07-11T11:55:37.191771Z",
     "iopub.status.idle": "2025-07-11T11:57:35.327811Z",
     "shell.execute_reply": "2025-07-11T11:57:35.325605Z"
    },
    "tags": []
   },
   "outputs": [],
   "source": [
    "Idents(obj.ESCA.bp) <- factor(obj.ESCA.bp$r01, levels = 4:0)\n",
    "cluster_deg <- FindAllMarkers(obj.ESCA.bp, assay = \"RNA\", slot = \"data\",\n",
    "                              logfc.threshold = 0.25, min.pct = 0.1, test.use = \"wilcox\")\n",
    "rownames(cluster_deg) <- NULL"
   ]
  },
  {
   "cell_type": "code",
   "execution_count": null,
   "id": "ce705482-5782-43c2-ba41-d2ee09c8eb0d",
   "metadata": {
    "execution": {
     "iopub.execute_input": "2025-07-11T12:42:04.372945Z",
     "iopub.status.busy": "2025-07-11T12:42:04.369654Z",
     "iopub.status.idle": "2025-07-11T12:42:04.471737Z",
     "shell.execute_reply": "2025-07-11T12:42:04.470502Z"
    },
    "tags": []
   },
   "outputs": [],
   "source": [
    "## assign mCT/dCT\n",
    "obj.ESCA.bp@meta.data <- obj.ESCA.bp@meta.data %>%\n",
    "                          mutate(dCT = case_when(r01 %in% c('0', '2') ~ 'B',\n",
    "                                                 r01 %in% c('1') ~ 'Plasma',\n",
    "                                                 r01 %in% c('3') ~ 'B_GerminalCenter',\n",
    "                                                 r01 %in% c('4') ~ 'Others',\n",
    "                                                 TRUE ~ 'Others'\n",
    "                                                 )) %>%\n",
    "                          mutate(mCT = case_when(r01 %in% c('0', '2', '3') ~ 'B',\n",
    "                                                 r01 %in% c('1') ~ 'Plasma',\n",
    "                                                 r01 %in% c('4') ~ 'Others',\n",
    "                                                 TRUE ~ 'Others'\n",
    "                                                 )) \n",
    "obj.ESCA.bp@meta.data <- obj.ESCA.bp@meta.data %>% dplyr::select(-c('r02', 'r03', 'seurat_clusters'))"
   ]
  },
  {
   "cell_type": "code",
   "execution_count": null,
   "id": "b947690a-5f25-4c92-92bf-af6a9c7345e6",
   "metadata": {
    "execution": {
     "iopub.execute_input": "2025-07-11T12:42:04.474627Z",
     "iopub.status.busy": "2025-07-11T12:42:04.473658Z",
     "iopub.status.idle": "2025-07-11T12:42:06.917920Z",
     "shell.execute_reply": "2025-07-11T12:42:06.916745Z"
    },
    "tags": []
   },
   "outputs": [],
   "source": [
    "options(repr.plot.height = 3, repr.plot.width = 12)\n",
    "DimPlot_scCustom(obj.ESCA.bp, pt.size = 1, group.by = \"r01\", label = TRUE, label.size = 5, colors_use = pal_igv(\"default\")(51))|\n",
    "DimPlot_scCustom(obj.ESCA.bp, pt.size = 1, group.by = \"mCT\", label = TRUE, label.size = 5, colors_use = pal_igv(\"default\")(51))|\n",
    "DimPlot_scCustom(obj.ESCA.bp, pt.size = 1, group.by = \"dCT\", label = TRUE, label.size = 5, colors_use = pal_igv(\"default\")(51))"
   ]
  },
  {
   "cell_type": "markdown",
   "id": "acb1a315-9223-440b-bede-54dbee735513",
   "metadata": {
    "tags": []
   },
   "source": [
    "## assign Myeloid"
   ]
  },
  {
   "cell_type": "code",
   "execution_count": null,
   "id": "fb9df13f-3c08-433a-8307-a582a5196d46",
   "metadata": {
    "execution": {
     "iopub.execute_input": "2025-07-12T07:01:09.511413Z",
     "iopub.status.busy": "2025-07-12T07:01:09.510255Z",
     "iopub.status.idle": "2025-07-12T07:01:14.385329Z",
     "shell.execute_reply": "2025-07-12T07:01:14.383951Z"
    },
    "tags": []
   },
   "outputs": [],
   "source": [
    "obj.ESCA.mye <- obj.ESCA %>% subset(dCT == 'Myeloid')\n",
    "obj.ESCA.mye\n",
    "\n",
    "obj.ESCA.mye <- obj.ESCA.mye %>%\n",
    "                 NormalizeData(normalization.method = \"LogNormalize\", scale.factor = 10000, verbose = F) %>%\n",
    "                 FindVariableFeatures(selection.method = \"vst\", nfeatures = 3000, verbose = F) %>%\n",
    "                 ScaleData(vars.to.regress = c(\"nCount_RNA\"), verbose = F) %>%\n",
    "                 RunPCA(verbose = F) %>% \n",
    "                 RunHarmony(group.by.vars = \"SampleID\", plot_convergence = TRUE)\n",
    "## cluster\n",
    "nPC <- min(PC_selection_harmony(obj.ESCA.mye)$PCselect)\n",
    "obj.ESCA.mye <- obj.ESCA.mye %>% \n",
    "                 RunUMAP(reduction = \"harmony\", dims = 1:nPC, umap.method = \"uwot\") %>%\n",
    "                 FindNeighbors(reduction = \"harmony\", dims = 1:nPC) %>%\n",
    "                 FindClusters(resolution=0.1) %>% FindClusters(resolution=0.2) %>% FindClusters(resolution=0.3)\n",
    "colnames(obj.ESCA.mye@meta.data) <- gsub(\"RNA_snn_res.0.\",\"r0\", colnames(obj.ESCA.mye@meta.data))"
   ]
  },
  {
   "cell_type": "code",
   "execution_count": null,
   "id": "4eb4ba32-dd36-4aaf-9960-7f8a99119077",
   "metadata": {
    "execution": {
     "iopub.execute_input": "2025-07-12T08:06:56.943892Z",
     "iopub.status.busy": "2025-07-12T08:06:56.940666Z",
     "iopub.status.idle": "2025-07-12T08:07:04.523451Z",
     "shell.execute_reply": "2025-07-12T08:07:04.522184Z"
    },
    "tags": []
   },
   "outputs": [],
   "source": [
    "## marker expression\n",
    "marker_list <- c('PTPRC',  'CD163', 'CD68', 'S100A8','C1QA', 'APOC1', 'ITGAX','SPP1','MRC1', 'SLC40A1', ## Mph\n",
    "                 'CD14', 'FCGR3A','FCN1', 'VCAN',  ## monocyte\n",
    "                 'CSF3R', 'S100A8', 'S100A9', ## neutrophil\n",
    "                 'MS4A2', 'TPSAB1', 'TPSB2', ## mast\n",
    "                 'CD1C', 'IDO1', 'CLEC4C', 'CSF2RA', 'LAMP3', 'CLEC10A', 'CD1A', 'LILRA4'  ## DC\n",
    "                 )\n",
    "\n",
    "options(repr.plot.height = 6, repr.plot.width = 12)\n",
    "VlnPlot(obj.ESCA.mye, group.by = 'r01', features = marker_list, pt.size = 0, cols = pal_igv(\"default\")(51), \n",
    "        slot = 'data',assay = 'RNA', raster=FALSE, stack = TRUE, flip = TRUE)+\n",
    "theme(legend.position = 'none')|\n",
    "DimPlot_scCustom(obj.ESCA.mye, pt.size = 1, reduction = 'umap', group.by = \"r01\", label = TRUE, label.size = 8, colors_use = pal_igv(\"default\")(51))"
   ]
  },
  {
   "cell_type": "code",
   "execution_count": null,
   "id": "86d7814a-9b58-481f-bd6a-98fa1d6369b0",
   "metadata": {
    "execution": {
     "iopub.execute_input": "2025-07-12T07:19:06.315366Z",
     "iopub.status.busy": "2025-07-12T07:19:06.312286Z",
     "iopub.status.idle": "2025-07-12T07:22:47.155668Z",
     "shell.execute_reply": "2025-07-12T07:22:47.153090Z"
    },
    "jupyter": {
     "outputs_hidden": true
    },
    "tags": []
   },
   "outputs": [],
   "source": [
    "Idents(obj.ESCA.mye) <- factor(obj.ESCA.mye$r01, levels = 9:0)\n",
    "cluster_deg <- FindAllMarkers(obj.ESCA.mye, assay = \"RNA\", slot = \"data\",\n",
    "                              logfc.threshold = 0.25, min.pct = 0.1, test.use = \"wilcox\")\n",
    "rownames(cluster_deg) <- NULL"
   ]
  },
  {
   "cell_type": "code",
   "execution_count": null,
   "id": "ffbef325-364c-4f4c-9751-db7c36303398",
   "metadata": {
    "execution": {
     "iopub.execute_input": "2025-07-12T08:51:20.666401Z",
     "iopub.status.busy": "2025-07-12T08:51:20.663337Z",
     "iopub.status.idle": "2025-07-12T08:51:20.755818Z",
     "shell.execute_reply": "2025-07-12T08:51:20.754606Z"
    },
    "tags": []
   },
   "outputs": [],
   "source": [
    "## assign mCT/dCT\n",
    "obj.ESCA.mye@meta.data <- obj.ESCA.mye@meta.data %>%\n",
    "                          mutate(dCT = case_when(r01 %in% c('0', '9') ~ 'Mph',\n",
    "                                                 r01 %in% c('1') ~ 'Mono',\n",
    "                                                 r01 %in% c('2', '7') ~ 'cDC',\n",
    "                                                 r01 %in% c('3') ~ 'Mast',\n",
    "                                                 r01 %in% c('4') ~ 'pDC',\n",
    "                                                 r01 %in% c('5') ~ 'tDC', ## tolerogenic DC\n",
    "                                                 r01 %in% c('6') ~ 'Mph_proliferation',\n",
    "                                                 r01 %in% c('8') ~ 'Plasma',\n",
    "                                                 TRUE ~ 'Others'\n",
    "                                                 )) %>%\n",
    "                          mutate(mCT = case_when(r01 %in% c('0', '9', '6') ~ 'Mph',\n",
    "                                                 r01 %in% c('1') ~ 'Mono',\n",
    "                                                 r01 %in% c('2', '4', '5', '7') ~ 'DC',\n",
    "                                                 r01 %in% c('3') ~ 'Mast',\n",
    "                                                 r01 %in% c('8') ~ 'B',\n",
    "                                                 TRUE ~ 'Others'\n",
    "                                                 ))\n",
    "obj.ESCA.mye@meta.data <- obj.ESCA.mye@meta.data %>% dplyr::select(-c('r02', 'r03', 'seurat_clusters'))"
   ]
  },
  {
   "cell_type": "code",
   "execution_count": null,
   "id": "fb13d48f-aa93-440f-992a-1c69b5262966",
   "metadata": {
    "execution": {
     "iopub.execute_input": "2025-07-12T08:51:24.229496Z",
     "iopub.status.busy": "2025-07-12T08:51:24.226416Z",
     "iopub.status.idle": "2025-07-12T08:51:26.743694Z",
     "shell.execute_reply": "2025-07-12T08:51:26.742465Z"
    },
    "tags": []
   },
   "outputs": [],
   "source": [
    "options(repr.plot.height = 4, repr.plot.width = 15)\n",
    "DimPlot_scCustom(obj.ESCA.mye, pt.size = 1, group.by = \"r01\", label = TRUE, label.size = 5, colors_use = pal_igv(\"default\")(51))|\n",
    "DimPlot_scCustom(obj.ESCA.mye, pt.size = 1, group.by = \"mCT\", label = TRUE, label.size = 5, colors_use = pal_igv(\"default\")(51))|\n",
    "DimPlot_scCustom(obj.ESCA.mye, pt.size = 1, group.by = \"dCT\", label = TRUE, label.size = 5, colors_use = pal_igv(\"default\")(51))"
   ]
  },
  {
   "cell_type": "markdown",
   "id": "0f4624b2-68bf-4eff-9e13-059ad899f3e1",
   "metadata": {},
   "source": [
    "## assign mCT/dCT"
   ]
  },
  {
   "cell_type": "code",
   "execution_count": null,
   "id": "85ee887f-71b2-49a5-bdd1-22fd1c02ff2a",
   "metadata": {
    "execution": {
     "iopub.execute_input": "2025-07-12T09:30:54.368224Z",
     "iopub.status.busy": "2025-07-12T09:30:54.365133Z",
     "iopub.status.idle": "2025-07-12T09:30:54.395025Z",
     "shell.execute_reply": "2025-07-12T09:30:54.393536Z"
    },
    "tags": []
   },
   "outputs": [],
   "source": [
    "obj.ESCA.nkt@meta.data <- obj.ESCA.nkt@meta.data %>% dplyr::select(-c('r03', 'r04'))\n",
    "obj.ESCA.bp@meta.data <- obj.ESCA.bp@meta.data %>% dplyr::select(-c('r01'))\n",
    "obj.ESCA.mye@meta.data <- obj.ESCA.mye@meta.data %>% dplyr::select(-c('r01'))\n",
    "table(names(obj.ESCA.nkt@meta.data) == names(obj.ESCA.bp@meta.data))\n",
    "table(names(obj.ESCA.nkt@meta.data) == names(obj.ESCA.mye@meta.data))"
   ]
  },
  {
   "cell_type": "code",
   "execution_count": null,
   "id": "93599d78-1f03-4845-80d1-8311db8d4b9f",
   "metadata": {
    "execution": {
     "iopub.execute_input": "2025-07-12T09:34:17.508750Z",
     "iopub.status.busy": "2025-07-12T09:34:17.505650Z",
     "iopub.status.idle": "2025-07-12T09:34:35.377458Z",
     "shell.execute_reply": "2025-07-12T09:34:35.376218Z"
    },
    "tags": []
   },
   "outputs": [],
   "source": [
    "obj.ESCA.others <- obj.ESCA %>% subset(dCT %in% c('NK/T', 'B/Plasma', 'Myeloid') == FALSE)\n",
    "obj.ESCA.others@meta.data <- obj.ESCA.others@meta.data %>% transform(mCT = dCT)\n",
    "table(names(obj.ESCA.others@meta.data) == names(obj.ESCA.nkt@meta.data))"
   ]
  },
  {
   "cell_type": "code",
   "execution_count": null,
   "id": "ddad168c-7188-43b2-a9c6-2a15f7e9de0e",
   "metadata": {
    "execution": {
     "iopub.execute_input": "2025-08-11T12:02:08.211122Z",
     "iopub.status.busy": "2025-08-11T12:02:08.207961Z",
     "iopub.status.idle": "2025-08-11T12:02:08.227129Z",
     "shell.execute_reply": "2025-08-11T12:02:08.224705Z"
    },
    "tags": []
   },
   "outputs": [],
   "source": [
    "obj.ESCA <- merge(obj.ESCA.others, c(obj.ESCA.nkt, obj.ESCA.bp, obj.ESCA.mye))\n",
    "obj.ESCA"
   ]
  },
  {
   "cell_type": "markdown",
   "id": "6baa7063-6d75-45cf-95b7-abe67cce3eb7",
   "metadata": {},
   "source": [
    "## assign gCT"
   ]
  },
  {
   "cell_type": "code",
   "execution_count": null,
   "id": "2ee0205c-58c1-42e2-97d7-5fcd6e7a3c19",
   "metadata": {
    "execution": {
     "iopub.execute_input": "2025-07-12T13:27:59.051171Z",
     "iopub.status.busy": "2025-07-12T13:27:59.047736Z",
     "iopub.status.idle": "2025-07-12T13:27:59.143092Z",
     "shell.execute_reply": "2025-07-12T13:27:59.141668Z"
    },
    "tags": []
   },
   "outputs": [],
   "source": [
    "obj.ESCA@meta.data <- obj.ESCA@meta.data %>%\n",
    "                          mutate(gCT = case_when(mCT %in% c('Tumor') ~ 'Tumor',\n",
    "                                                 mCT %in% c('DC', 'Mono', 'Mph', 'Mast', 'CD8T', 'Treg', 'CD4T', 'NK', 'NKT', 'Plasma', 'B') ~ 'Immune',\n",
    "                                                 mCT %in% c('Endo', 'Fibro', 'FRC', 'Pericyte') ~ 'Stromal',\n",
    "                                                 TRUE ~ 'Others'\n",
    "                                                 ))"
   ]
  },
  {
   "cell_type": "markdown",
   "id": "37340f7f-673a-4d2c-9e44-64c6cf8fee72",
   "metadata": {},
   "source": [
    "# run UMAP"
   ]
  },
  {
   "cell_type": "code",
   "execution_count": null,
   "id": "a42f4f70-a8d7-4cdc-8896-5a6265446860",
   "metadata": {
    "execution": {
     "iopub.execute_input": "2025-08-11T12:03:23.070185Z",
     "iopub.status.busy": "2025-08-11T12:03:23.066949Z",
     "iopub.status.idle": "2025-08-11T12:03:23.087950Z",
     "shell.execute_reply": "2025-08-11T12:03:23.085551Z"
    },
    "tags": []
   },
   "outputs": [],
   "source": [
    "obj.ESCA <- obj.ESCA %>%\n",
    "             NormalizeData(normalization.method = \"LogNormalize\", scale.factor = 10000, verbose = F) %>%\n",
    "             FindVariableFeatures(selection.method = \"vst\", nfeatures = 3000, verbose = F) %>%\n",
    "             ScaleData(vars.to.regress = c(\"nCount_RNA\"), verbose = F) %>%\n",
    "             RunPCA(verbose = F) %>% \n",
    "             RunHarmony(group.by.vars = \"SampleID\", plot_convergence = TRUE)\n",
    "## cluster\n",
    "nPC <- min(PC_selection_harmony(obj.ESCA)$PCselect)\n",
    "obj.ESCA <- obj.ESCA %>% \n",
    "                RunUMAP(reduction = \"harmony\", dims = 1:nPC, umap.method = \"uwot\")"
   ]
  },
  {
   "cell_type": "code",
   "execution_count": null,
   "id": "3173c41a-165b-4cc1-9087-0588b4bed931",
   "metadata": {
    "execution": {
     "iopub.execute_input": "2025-07-28T12:30:11.902319Z",
     "iopub.status.busy": "2025-07-28T12:30:11.898438Z",
     "iopub.status.idle": "2025-07-28T12:30:19.671253Z",
     "shell.execute_reply": "2025-07-28T12:30:19.670059Z"
    },
    "tags": []
   },
   "outputs": [],
   "source": [
    "options(repr.plot.height = 5, repr.plot.width = 30)\n",
    "select <- 'umap'\n",
    "DimPlot_scCustom(obj.ESCA, pt.size = 1, reduction = select, group.by = \"gCT\", label = TRUE, label.size = 5, colors_use = pal_igv(\"default\")(51))|\n",
    "DimPlot_scCustom(obj.ESCA, pt.size = 1, reduction = select, group.by = \"mCT\", label = TRUE, label.size = 5, colors_use = pal_igv(\"default\")(51))|\n",
    "DimPlot_scCustom(obj.ESCA, pt.size = 1, reduction = select, group.by = \"dCT\", label = TRUE, label.size = 5, colors_use = pal_igv(\"default\")(51))|\n",
    "DimPlot_scCustom(obj.ESCA, pt.size = 1, reduction = select, group.by = \"oCT\", label = TRUE, label.size = 5, colors_use = pal_igv(\"default\")(51))|\n",
    "DimPlot_scCustom(obj.ESCA, pt.size = 1, reduction = select, group.by = \"SampleType\", label = TRUE, label.size = 5, colors_use = pal_igv(\"default\")(51))"
   ]
  },
  {
   "cell_type": "code",
   "execution_count": null,
   "id": "4703c0cc-7aaf-4927-9931-fbb1a805128a",
   "metadata": {
    "execution": {
     "iopub.execute_input": "2025-07-28T12:49:22.577310Z",
     "iopub.status.busy": "2025-07-28T12:49:22.574187Z",
     "iopub.status.idle": "2025-07-28T12:49:22.600341Z",
     "shell.execute_reply": "2025-07-28T12:49:22.598775Z"
    },
    "tags": []
   },
   "outputs": [],
   "source": [
    "obj.ESCA@meta.data[,c('SampleID', 'SampleType', 'Sex')] %>% .[!duplicated(.$SampleID),] %$% table(.$SampleType, .$Sex)"
   ]
  },
  {
   "cell_type": "markdown",
   "id": "62c2ab7f-d78a-44cc-9212-a856040f5441",
   "metadata": {},
   "source": [
    "# save"
   ]
  },
  {
   "cell_type": "code",
   "execution_count": null,
   "id": "7d7b5ccc-50f1-4d00-87c6-b82cb8c6ec66",
   "metadata": {
    "execution": {
     "iopub.execute_input": "2025-07-28T12:32:54.123086Z",
     "iopub.status.busy": "2025-07-28T12:32:54.119924Z",
     "iopub.status.idle": "2025-07-28T12:45:03.975160Z",
     "shell.execute_reply": "2025-07-28T12:45:03.972793Z"
    },
    "tags": []
   },
   "outputs": [],
   "source": [
    "saveRDS(obj.ESCA, 'obj.ESCA.use.rds')"
   ]
  }
 ],
 "metadata": {
  "kernelspec": {
   "display_name": "rTrace",
   "language": "R",
   "name": "rtrace"
  },
  "language_info": {
   "codemirror_mode": "r",
   "file_extension": ".r",
   "mimetype": "text/x-r-source",
   "name": "R",
   "pygments_lexer": "r",
   "version": "4.2.3"
  }
 },
 "nbformat": 4,
 "nbformat_minor": 5
}
