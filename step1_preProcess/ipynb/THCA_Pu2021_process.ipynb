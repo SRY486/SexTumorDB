{
 "cells": [
  {
   "cell_type": "markdown",
   "id": "3267246a-5c9d-49b9-aa60-bb43661e6013",
   "metadata": {},
   "source": [
    "# load data\n",
    "https://www.ncbi.nlm.nih.gov/geo/query/acc.cgi?acc=GSE184362 - all without treatment"
   ]
  },
  {
   "cell_type": "code",
   "execution_count": null,
   "id": "895530dc-f341-49fc-bddd-cc926341ebcb",
   "metadata": {
    "execution": {
     "iopub.execute_input": "2025-07-12T13:43:44.418211Z",
     "iopub.status.busy": "2025-07-12T13:43:44.414433Z",
     "iopub.status.idle": "2025-07-12T13:43:44.596723Z",
     "shell.execute_reply": "2025-07-12T13:43:44.595379Z"
    },
    "tags": []
   },
   "outputs": [],
   "source": [
    "obj.THCA <- readRDS('/project/sex_cancer/data/THCA_Pu2021/AllComb/expr.RDS')\n",
    "\n",
    "info <- read_xlsx('/project/sex_cancer/data/THCA_Pu2021/THCA_PatientInfo.xlsx')\n",
    "colnames(info)[c(2,4,5)] <- c('sampleID','ID2','sample.ident')\n",
    "\n",
    "meta <- obj.THCA@meta.data %>% \n",
    "        transform(sample.ident = gsub('-','_',meta$sample.ident)) %>% \n",
    "        separate('sample.ident',into = c('sampleID','other'),sep = '_',remove = FALSE)  %>% \n",
    "        merge(., info[,c(2:3)],by = 'sampleID',all.x = TRUE)\n",
    "rownames(meta) <- meta$barcode\n",
    "obj.THCA@meta.data <- meta"
   ]
  },
  {
   "cell_type": "markdown",
   "id": "37d13368-a4bb-4121-85ca-81574b244669",
   "metadata": {},
   "source": [
    "# modify meta.data"
   ]
  },
  {
   "cell_type": "code",
   "execution_count": null,
   "id": "420efc19-3cd4-46e5-ba19-9ce05ea35fb7",
   "metadata": {
    "execution": {
     "iopub.execute_input": "2025-07-12T13:44:58.734436Z",
     "iopub.status.busy": "2025-07-12T13:44:58.730688Z",
     "iopub.status.idle": "2025-07-12T13:44:58.768936Z",
     "shell.execute_reply": "2025-07-12T13:44:58.767645Z"
    },
    "tags": []
   },
   "outputs": [],
   "source": [
    "meta_drop <- c(names(obj.THCA@meta.data) %>% .[grepl(\".corr\", .)], names(obj.THCA@meta.data) %>% .[grepl(\"GS__\", .)])\n",
    "obj.THCA@meta.data <- obj.THCA@meta.data %>% dplyr::select(-meta_drop)\n",
    "\n",
    "sample_paratumor <- unique(obj.THCA@meta.data$orig.ident) %>% .[grepl(\"_P\", .)]\n",
    "sample_tumor <- unique(obj.THCA@meta.data$orig.ident) %>% .[grepl(\"_T\", .)]"
   ]
  },
  {
   "cell_type": "code",
   "execution_count": null,
   "id": "b6d455ad-54f8-40f9-b121-4b88cd35688b",
   "metadata": {
    "execution": {
     "iopub.execute_input": "2025-07-12T13:47:53.242835Z",
     "iopub.status.busy": "2025-07-12T13:47:53.239689Z",
     "iopub.status.idle": "2025-07-12T13:47:53.273397Z",
     "shell.execute_reply": "2025-07-12T13:47:53.272282Z"
    },
    "tags": []
   },
   "outputs": [],
   "source": [
    "obj.THCA@meta.data <- obj.THCA@meta.data %>% \n",
    "                      dplyr::select(-c('diss.percent', 'RNA_snn_res.0.8', 'seurat_clusters', 'CellCycle.score', 'Malign.type', 'Malign.score',\n",
    "                                       'Stemness.score', 'orig.ident', 'default', 'other', 'integrated_snn_res.0.8', 'comb.cluster', 'Cell.Type')) %>%\n",
    "                      dplyr::rename(c('SampleID' = 'sample.ident', 'DonorID' = 'sampleID')) %>%\n",
    "                      transform(Cohort = 'THCA_Pu2021')  %>%\n",
    "                      mutate(Sex = case_when(Sex == 'female' ~ 'F', Sex == 'male' ~ 'M', TRUE ~ 'Others')) %>%\n",
    "                      mutate(SampleType = case_when(SampleID %in% sample_paratumor ~ 'normal_adjacent', SampleID %in% sample_tumor ~ 'tumor', TRUE ~ 'Others'))"
   ]
  },
  {
   "cell_type": "markdown",
   "id": "3d1c4e2d-d67e-45de-898d-2223be5d865b",
   "metadata": {},
   "source": [
    "# cell type annotation"
   ]
  },
  {
   "cell_type": "code",
   "execution_count": null,
   "id": "35c60e67-443b-4baa-bb01-164902725841",
   "metadata": {},
   "outputs": [],
   "source": [
    "marker_list <- c('PTPRC',\n",
    "                 'LYZ', 'S100A8', 'S100A9', 'CD14', 'CD68', 'CD163', 'CD1C', 'LAMP3', 'CSF3R', 'CLEC10A', ## Myeloid 'TPSAB1',  \n",
    "                 'CD3D', 'CD3E', 'CD8A', 'CD4', 'TRAC', 'TRDC', 'IL7R', 'CTLA4', 'FOXP3', 'NKG7', 'NCAM1', 'KLRD1', ## T/NK\n",
    "                 'CD79A', 'CD79B', 'MS4A1', 'IGHM', 'IGHD', 'IGKC', 'CD74', ## B cell\n",
    "                 'TG', 'EPCAM', 'KRT18', 'KRT19', 'CLU', 'FN1', 'MGST1', 'S100A13', ## thyrocyte=thyroid epithelial cells\n",
    "                 'COL1A1', 'COL1A2', 'ACTA2', ## Fibro\n",
    "                 'PECAM1', 'CDH5', 'VWF' ## Endo\n",
    "                )"
   ]
  },
  {
   "cell_type": "code",
   "execution_count": null,
   "id": "ebc15911-9fca-4772-923d-e6676c317417",
   "metadata": {
    "execution": {
     "iopub.execute_input": "2025-07-26T11:45:06.124924Z",
     "iopub.status.busy": "2025-07-26T11:45:06.123801Z",
     "iopub.status.idle": "2025-07-26T11:45:06.136418Z",
     "shell.execute_reply": "2025-07-26T11:45:06.135139Z"
    },
    "tags": []
   },
   "outputs": [],
   "source": [
    "sampleList = unique(ext_list(obj.THCA$SampleID))\n",
    "obj.anchor <- lapply(sampleList, function(sampleID){\n",
    "                       obj <- obj.THCA %>% \n",
    "                              subset(SampleID == sampleID) %>%\n",
    "                              NormalizeData(normalization.method = \"LogNormalize\", scale.factor = 10000, verbose = F) %>%\n",
    "                              FindVariableFeatures(selection.method = \"vst\", nfeatures = 3000, verbose = F)\n",
    "                       VariableFeatures(obj) <- union(marker_list, VariableFeatures(obj))\n",
    "                       obj <- obj %>% ScaleData(vars.to.regress = c(\"nCount_RNA\", \"percent.mt\"),verbose = F)\n",
    "                       return(obj)\n",
    "                 })\n",
    "names(obj.anchor) <- sampleList\n",
    "## FindIntegrationAnchors\n",
    "obj.anchor <- FindIntegrationAnchors(obj.anchor, dims = 1:30)\n",
    "obj.anchor <- IntegrateData(anchorset = obj.anchor, dims = 1:30, verbose = F)\n",
    "\n",
    "## scale data+runPCA\n",
    "obj.anchor <- obj.anchor %>% \n",
    "              ScaleData(verbose = FALSE) %>% \n",
    "              RunPCA(npcs = 50, verbose = F)\n",
    "\n",
    "#### Clustering\n",
    "set.seed(486)\n",
    "select <- 1:(PC_selection(obj.anchor)$PCselect %>% min())\n",
    "obj.anchor <- obj.anchor %>% \n",
    "               RunUMAP(reduction = \"pca\", dims = select, umap.method = \"uwot\") %>%\n",
    "               RunTSNE(reduction = \"pca\", dims = select) %>%\n",
    "               FindNeighbors(reduction = \"pca\", dims = select) %>%\n",
    "               FindClusters(resolution = 0.1) %>% FindClusters(resolution = 0.2) %>% FindClusters(resolution = 0.3) %>% FindClusters(resolution = 0.4)\n",
    "colnames(obj.anchor@meta.data) <- colnames(obj.anchor@meta.data) %>% gsub(\"integrated_snn_res.0.\", \"r0\", .)"
   ]
  },
  {
   "cell_type": "markdown",
   "id": "7403185d-05ac-4afe-9c78-cadb1353be1c",
   "metadata": {},
   "source": [
    "## assign mCT"
   ]
  },
  {
   "cell_type": "code",
   "execution_count": null,
   "id": "7c73de0f-704f-427b-8d80-879af84c2ed1",
   "metadata": {
    "execution": {
     "iopub.execute_input": "2025-07-26T13:35:56.822688Z",
     "iopub.status.busy": "2025-07-26T13:35:56.819267Z",
     "iopub.status.idle": "2025-07-26T13:35:56.960273Z",
     "shell.execute_reply": "2025-07-26T13:35:56.959085Z"
    },
    "tags": []
   },
   "outputs": [],
   "source": [
    "obj.THCA <- obj.anchor\n",
    "obj.THCA@meta.data <- obj.THCA@meta.data %>% dplyr::select(-c('seurat_clusters', 'r01', 'r03', 'r04'))\n",
    "obj.THCA@meta.data <- obj.THCA@meta.data %>% \n",
    "                      mutate(mCT = case_when(r02 %in% c('1') ~ 'Epi', ## thyrocyte=thyroid epithelial cells\n",
    "                                             r02 %in% c('6') ~ 'Myeloid',\n",
    "                                             r02 %in% c('2', '5') ~ 'B/Plasma',\n",
    "                                             r02 %in% c('0', '3', '4', '7') ~ 'T/NK',\n",
    "                                             r02 %in% c('8') ~ 'Endo',\n",
    "                                             r02 %in% c('9') ~ 'Fibro',\n",
    "                                             TRUE ~ 'Others'\n",
    "                                             ))"
   ]
  },
  {
   "cell_type": "markdown",
   "id": "7fe8f39d-e143-49ba-ae2d-5deb712ab565",
   "metadata": {},
   "source": [
    "## assign NK/T/Epi"
   ]
  },
  {
   "cell_type": "code",
   "execution_count": null,
   "id": "126abdfb-4e52-4727-8771-2dc2af4ea842",
   "metadata": {
    "execution": {
     "iopub.execute_input": "2025-07-27T09:28:48.332201Z",
     "iopub.status.busy": "2025-07-27T09:28:48.329145Z",
     "iopub.status.idle": "2025-07-27T09:28:54.986887Z",
     "shell.execute_reply": "2025-07-27T09:28:54.985442Z"
    },
    "tags": []
   },
   "outputs": [],
   "source": [
    "obj.THCA.nkte <- obj.THCA %>% subset(mCT %in% c('T/NK', 'Epi'))\n",
    "DefaultAssay(obj.THCA.nkte) <- 'integrated'\n",
    "\n",
    "obj.THCA.nkte <- obj.THCA.nkte %>% \n",
    "                 FindVariableFeatures(selection.method = \"vst\", nfeatures = 1500, verbose = F) %>% \n",
    "                 ScaleData(verbose = FALSE) %>% \n",
    "                 RunPCA(npcs = 50, verbose = F)\n",
    "select <- 1:(PC_selection(obj.THCA.nkte)$PCselect %>% min())\n",
    "obj.THCA.nkte <- obj.THCA.nkte %>%\n",
    "                 RunUMAP(reduction = \"pca\", dims = select, umap.method = \"uwot\") %>%\n",
    "                 RunTSNE(reduction = \"pca\", dims = select) %>%\n",
    "                 FindNeighbors(reduction = \"pca\", dims = select) %>%\n",
    "                 FindClusters(resolution = 0.1) %>% FindClusters(resolution = 0.2) %>% FindClusters(resolution = 0.3) %>% FindClusters(resolution = 0.4)\n",
    "colnames(obj.THCA.nkte@meta.data) <- colnames(obj.THCA.nkte@meta.data) %>% gsub(\"integrated_snn_res.0.\", \"nkte0\", .)"
   ]
  },
  {
   "cell_type": "code",
   "execution_count": null,
   "id": "a3de8d42-0024-4ca4-aa24-020eadf6c56f",
   "metadata": {
    "execution": {
     "iopub.execute_input": "2025-07-27T11:16:18.827574Z",
     "iopub.status.busy": "2025-07-27T11:16:18.824475Z",
     "iopub.status.idle": "2025-07-27T11:16:18.867338Z",
     "shell.execute_reply": "2025-07-27T11:16:18.866147Z"
    },
    "tags": []
   },
   "outputs": [],
   "source": [
    "obj.THCA.epi <- obj.THCA.nkte %>% subset(nkte01 == 0)\n",
    "obj.THCA.epi@meta.data <- obj.THCA.epi@meta.data %>% \n",
    "                          transform(dCT = 'Epi') %>%\n",
    "                          dplyr::select(-c('nkte01', 'nkte02', 'nkte03', 'nkte04', 'seurat_clusters', 'r02'))\n",
    "obj.THCA.epi@meta.data %>% head(n = 2)"
   ]
  },
  {
   "cell_type": "markdown",
   "id": "223339cb-5f95-4b21-8445-ffbc98148fc2",
   "metadata": {},
   "source": [
    "### assign NK/T"
   ]
  },
  {
   "cell_type": "code",
   "execution_count": null,
   "id": "97d77337-132d-4f91-88bd-9ec4f34da434",
   "metadata": {
    "execution": {
     "iopub.execute_input": "2025-07-27T14:34:32.329881Z",
     "iopub.status.busy": "2025-07-27T14:34:32.326645Z",
     "iopub.status.idle": "2025-07-27T14:34:36.100638Z",
     "shell.execute_reply": "2025-07-27T14:34:36.099265Z"
    },
    "tags": []
   },
   "outputs": [],
   "source": [
    "obj.THCA.nkt <- obj.THCA.nkte %>% subset(nkte01 != 0)\n",
    "DefaultAssay(obj.THCA.nkt) <- 'integrated'\n",
    "## scale data+runPCA\n",
    "obj.THCA.nkt <- obj.THCA.nkt %>% \n",
    "                 FindVariableFeatures(selection.method = \"vst\", nfeatures = 1500, verbose = F) %>% \n",
    "                 ScaleData(verbose = FALSE) %>% \n",
    "                 RunPCA(npcs = 50, verbose = F)\n",
    "select <- 1:(PC_selection(obj.THCA.nkt)$PCselect %>% min())\n",
    "obj.THCA.nkt <- obj.THCA.nkt %>%\n",
    "                 RunUMAP(reduction = \"pca\", dims = select, umap.method = \"uwot\") %>%\n",
    "                 RunTSNE(reduction = \"pca\", dims = select) %>%\n",
    "                 FindNeighbors(reduction = \"pca\", dims = select) %>%\n",
    "                 FindClusters(resolution = 0.1) %>% FindClusters(resolution = 0.2) %>% FindClusters(resolution = 0.3) %>% FindClusters(resolution = 0.4)\n",
    "colnames(obj.THCA.nkt@meta.data) <- colnames(obj.THCA.nkt@meta.data) %>% gsub(\"integrated_snn_res.0.\", \"nkt0\", .)\n",
    "\n"
   ]
  },
  {
   "cell_type": "code",
   "execution_count": null,
   "id": "8e115898-c301-45a3-98de-f7a4e03da9de",
   "metadata": {
    "execution": {
     "iopub.execute_input": "2025-07-27T14:44:49.437878Z",
     "iopub.status.busy": "2025-07-27T14:44:49.434207Z",
     "iopub.status.idle": "2025-07-27T14:44:49.549316Z",
     "shell.execute_reply": "2025-07-27T14:44:49.548141Z"
    },
    "tags": []
   },
   "outputs": [],
   "source": [
    "obj.THCA.nkt@meta.data <- obj.THCA.nkt@meta.data %>% \n",
    "                          mutate(dCT = case_when(nkt04 %in% c('5', '8') ~ 'NK',\n",
    "                                                 nkt04 %in% c('3', '6') ~ 'Treg',\n",
    "                                                 nkt04 %in% c('1', '2', '7') ~ 'CD4T',\n",
    "                                                 nkt04 %in% c('0', '4') ~ 'CD8T',\n",
    "                                                 TRUE ~ 'Others'\n",
    "                                                 ))\n",
    "obj.THCA.nkt@meta.data <- obj.THCA.nkt@meta.data %>% \n",
    "                          dplyr::select(-c('nkte01', 'nkte02', 'nkte03', 'nkte04', 'seurat_clusters', 'r02', 'nkt01', 'nkt02', 'nkt03', 'nkt04'))"
   ]
  },
  {
   "cell_type": "markdown",
   "id": "a7ecc0cd",
   "metadata": {},
   "source": [
    "## assign Myeloid/B/Plasma"
   ]
  },
  {
   "cell_type": "code",
   "execution_count": null,
   "id": "c90a6ef4-a194-4f4d-8e6b-f96b31ac6e86",
   "metadata": {
    "execution": {
     "iopub.execute_input": "2025-07-28T07:11:09.098528Z",
     "iopub.status.busy": "2025-07-28T07:11:09.095159Z",
     "iopub.status.idle": "2025-07-28T07:11:09.118086Z",
     "shell.execute_reply": "2025-07-28T07:11:09.115664Z"
    },
    "tags": []
   },
   "outputs": [],
   "source": [
    "marker_list <- c('PTPRC', 'LYZ', \n",
    "                 'CD163','CD68','ITGAX','MARCO', 'MRC1', 'SLC40A1', 'SPP1', ## Mph\n",
    "                 'S100A8', 'S100A9', 'THBS1', 'CD14', 'FCGR3A','FCN1', 'VCAN', ## Myeloid \n",
    "                 'CD1C', 'IDO1', 'CLEC4C', 'CSF2RA', 'LAMP3', 'CLEC10A', ## DC\n",
    "                 'CD79A', 'CD79B', 'MS4A1', 'IGHM', 'IGHD', 'IGKC', 'CD74', 'JCHAIN')"
   ]
  },
  {
   "cell_type": "code",
   "execution_count": null,
   "id": "30657bc4",
   "metadata": {
    "execution": {
     "iopub.execute_input": "2025-07-27T15:17:47.473599Z",
     "iopub.status.busy": "2025-07-27T15:17:47.470176Z",
     "iopub.status.idle": "2025-07-27T15:17:50.487543Z",
     "shell.execute_reply": "2025-07-27T15:17:50.486365Z"
    },
    "tags": []
   },
   "outputs": [],
   "source": [
    "obj.THCA.mb <- obj.THCA %>% subset(mCT %in% c('Myeloid', 'B/Plasma'))\n",
    "DefaultAssay(obj.THCA.mb) <- 'integrated'\n",
    "# scale\n",
    "obj.THCA.mb <- obj.THCA.mb %>% \n",
    "                 FindVariableFeatures(selection.method = \"vst\", nfeatures = 1000, verbose = F) %>% \n",
    "                 ScaleData(verbose = FALSE) %>% \n",
    "                 RunPCA(npcs = 50, verbose = F)\n",
    "# PCA+clustering\n",
    "select <- 1:(PC_selection(obj.THCA.mb)$PCselect %>% min())\n",
    "obj.THCA.mb <- obj.THCA.mb %>%\n",
    "                 RunUMAP(reduction = \"pca\", dims = select, umap.method = \"uwot\") %>%\n",
    "                 RunTSNE(reduction = \"pca\", dims = select) %>%\n",
    "                 FindNeighbors(reduction = \"pca\", dims = select) %>%\n",
    "                 FindClusters(resolution = 0.1) %>% FindClusters(resolution = 0.2) %>% FindClusters(resolution = 0.3) %>% FindClusters(resolution = 0.4)\n",
    "colnames(obj.THCA.mb@meta.data) <- colnames(obj.THCA.mb@meta.data) %>% gsub(\"integrated_snn_res.0.\", \"mb0\", .)"
   ]
  },
  {
   "cell_type": "code",
   "execution_count": null,
   "id": "badd6b4a-1bae-4d87-ac92-517a52014f60",
   "metadata": {
    "execution": {
     "iopub.execute_input": "2025-07-28T06:16:30.448496Z",
     "iopub.status.busy": "2025-07-28T06:16:30.445209Z",
     "iopub.status.idle": "2025-07-28T06:18:25.718983Z",
     "shell.execute_reply": "2025-07-28T06:18:25.716650Z"
    },
    "jupyter": {
     "outputs_hidden": true
    },
    "tags": []
   },
   "outputs": [],
   "source": [
    "Idents(obj.THCA.mb) <- factor(obj.THCA.mb$mb02, levels = 8:0)\n",
    "cluster_deg <- FindAllMarkers(obj.THCA.mb, assay = \"RNA\", slot = \"data\",\n",
    "                              logfc.threshold = 0.25, min.pct = 0.1, test.use = \"wilcox\")\n",
    "rownames(cluster_deg) <- NULL"
   ]
  },
  {
   "cell_type": "code",
   "execution_count": null,
   "id": "68d76a0d-8ab0-40f0-afb0-9237217efd0c",
   "metadata": {
    "execution": {
     "iopub.execute_input": "2025-07-28T07:32:37.356505Z",
     "iopub.status.busy": "2025-07-28T07:32:37.353175Z",
     "iopub.status.idle": "2025-07-28T07:32:37.469822Z",
     "shell.execute_reply": "2025-07-28T07:32:37.468633Z"
    },
    "tags": []
   },
   "outputs": [],
   "source": [
    "obj.THCA.mb@meta.data <-  obj.THCA.mb@meta.data %>% \n",
    "                          mutate(dCT = case_when(mb02 %in% c('0', '2', '8') ~ 'B',\n",
    "                                                 mb02 %in% c('1', '6') ~ 'Plasma',\n",
    "                                                 mb02 %in% c('3') ~ 'Mph',\n",
    "                                                 mb02 %in% c('4') ~ 'Mono',\n",
    "                                                 mb02 %in% c('5', '7') ~ 'DC',\n",
    "                                                 TRUE ~ 'Others'\n",
    "                                                 ))\n",
    "obj.THCA.mb@meta.data <- obj.THCA.mb@meta.data %>% dplyr::select(-c('mb01', 'mb02', 'mb03', 'mb04', 'seurat_clusters', 'r02'))"
   ]
  },
  {
   "cell_type": "markdown",
   "id": "818ec140-0587-4e0a-b53f-a0db58602c70",
   "metadata": {},
   "source": [
    "## integrate annotation"
   ]
  },
  {
   "cell_type": "code",
   "execution_count": null,
   "id": "72fb2101-6307-40c0-854c-9cc56512bcb4",
   "metadata": {
    "execution": {
     "iopub.execute_input": "2025-07-28T07:54:27.533740Z",
     "iopub.status.busy": "2025-07-28T07:54:27.530497Z",
     "iopub.status.idle": "2025-07-28T07:54:29.308517Z",
     "shell.execute_reply": "2025-07-28T07:54:29.305993Z"
    },
    "tags": []
   },
   "outputs": [],
   "source": [
    "obj.THCA.others <- subset(obj.THCA, barcode %in% c(obj.THCA.epi$barcode, obj.THCA.nkt$barcode, obj.THCA.mb$barcode) == FALSE)\n",
    "obj.THCA.others@meta.data <- obj.THCA.others@meta.data %>%\n",
    "                             dplyr::select(-c('r02')) %>%\n",
    "                             transform(dCT = mCT)"
   ]
  },
  {
   "cell_type": "code",
   "execution_count": null,
   "id": "3897623e-732f-4750-9548-3286f7f7d33b",
   "metadata": {},
   "outputs": [],
   "source": [
    "meta_new <- list(obj.THCA.epi@meta.data, obj.THCA.nkt@meta.data, obj.THCA.mb@meta.data, obj.THCA.others@meta.data) %>%\n",
    "            do.call(rbind, .) %>%\n",
    "            .[colnames(obj.THCA),]\n",
    "obj.THCA@meta.data <- meta_new\n",
    "obj.THCA@meta.data  <-  obj.THCA@meta.data %>% \n",
    "                        transform(oCT = dCT) %>%\n",
    "                        mutate(mCT = case_when(dCT %in% c('B', 'Plasma') ~ 'B',\n",
    "                                              TRUE ~ dCT)) %>%\n",
    "                        mutate(gCT = case_when(mCT %in% c('Epi') ~ 'Tumor',\n",
    "                                               mCT %in% c('CD4T', 'Treg', 'B', 'Plasma', 'CD8T', 'Mph', 'DC', 'NK', 'Mono') ~ 'Immune',\n",
    "                                               mCT %in% c('Endo', 'Fibro') ~ 'Stromal',\n",
    "                                               TRUE ~ 'Others'))"
   ]
  },
  {
   "cell_type": "markdown",
   "id": "243a161e-0881-4fbd-a322-9bd7ec46f6ab",
   "metadata": {},
   "source": [
    "# save"
   ]
  },
  {
   "cell_type": "code",
   "execution_count": null,
   "id": "ac978f1b-0ac6-4f5f-afc8-c584d1b187ba",
   "metadata": {
    "execution": {
     "iopub.execute_input": "2025-07-28T08:16:52.275466Z",
     "iopub.status.busy": "2025-07-28T08:16:52.272347Z",
     "iopub.status.idle": "2025-07-28T08:20:27.276655Z",
     "shell.execute_reply": "2025-07-28T08:20:27.274148Z"
    },
    "tags": []
   },
   "outputs": [],
   "source": [
    "saveRDS(obj.THCA, 'obj.THCA.use.rds')"
   ]
  }
 ],
 "metadata": {
  "kernelspec": {
   "display_name": "rTrace",
   "language": "R",
   "name": "rtrace"
  },
  "language_info": {
   "codemirror_mode": "r",
   "file_extension": ".r",
   "mimetype": "text/x-r-source",
   "name": "R",
   "pygments_lexer": "r",
   "version": "4.2.3"
  }
 },
 "nbformat": 4,
 "nbformat_minor": 5
}
