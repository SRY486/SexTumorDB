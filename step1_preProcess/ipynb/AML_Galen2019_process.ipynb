{
 "cells": [
  {
   "cell_type": "markdown",
   "id": "e1cda225-11cf-4dc4-9d85-131c82996888",
   "metadata": {},
   "source": [
    "# load data"
   ]
  },
  {
   "cell_type": "code",
   "execution_count": null,
   "id": "68ba4a82-49cc-48ff-901f-7558f8d3ae2d",
   "metadata": {},
   "outputs": [],
   "source": [
    "meta_path <- data.frame(meta_path = list.files('/project/sex_cancer/data/AML_Galen2019') %>% .[grepl('anno.txt', .)]) %>%\n",
    "             mutate(sampleID = strsplit2(meta_path, split = '_')[,2] %>% gsub('.anno.txt', '', .)) %>% .[order(.$sampleID),]\n",
    "exp_path <- data.frame(exp_path = list.files('project/sex_cancer/data/AML_Galen2019') %>% .[grepl('dem.txt', .)]) %>%\n",
    "            mutate(sampleID = strsplit2(exp_path, split = '_')[,2] %>% gsub('.dem.txt', '', .)) %>% .[order(.$sampleID),]\n",
    "file_path <- merge(meta_path, exp_path, by = 'sampleID')"
   ]
  },
  {
   "cell_type": "code",
   "execution_count": null,
   "id": "a72c488b-e4a0-488e-a706-01d21f4ba708",
   "metadata": {},
   "outputs": [],
   "source": [
    "obj_list <- lapply(1:nrow(file_path), function(x){\n",
    "                    meta <- fread(paste('/project/sex_cancer/data/AML_Galen2019/', file_path[x, 2], sep = '')) %>% transform(barcode = Cell) %>% column_to_rownames('Cell')\n",
    "                    exp <- fread(paste('/project/sex_cancer/data/AML_Galen2019/', file_path[x, 3], sep = '')) %>% column_to_rownames('Gene') %>% .[, rownames(meta)] %>% as.sparse() \n",
    "                    CreateSeuratObject(counts = exp, assay = 'RNA', meta.data = meta, min.cells = 0, min.features = 0, project = 'AML_Galen2019')\n",
    "                })\n",
    "\n",
    "## data merge\n",
    "obj.AML <- merge(obj_list[[1]], obj_list[-1])\n",
    "obj.AML"
   ]
  },
  {
   "cell_type": "markdown",
   "id": "24540116-0ec9-4674-a3f9-3c529005f228",
   "metadata": {},
   "source": [
    "# filter sample"
   ]
  },
  {
   "cell_type": "code",
   "execution_count": null,
   "id": "657bd3b2-3f4b-480e-89a5-7040d7ea4c3e",
   "metadata": {
    "execution": {
     "iopub.execute_input": "2025-08-11T09:40:17.121051Z",
     "iopub.status.busy": "2025-08-11T09:40:17.119642Z",
     "iopub.status.idle": "2025-08-11T09:40:17.129356Z",
     "shell.execute_reply": "2025-08-11T09:40:17.128198Z"
    },
    "tags": []
   },
   "outputs": [],
   "source": [
    "obj.AML <- obj.AML %>% \n",
    "           subset(Tissue == 'Bone marrow') %>%  ## remove cellline sample\n",
    "           subset(time == 'D0' | sample %in% c('BM1', 'BM2', 'BM3', 'BM4')) %>% ## remove treated samples\n",
    "           subset(sample != 'BM5') ## remove sorted samples\n",
    "table(obj.AML$sample, obj.AML@meta.data$Sex)\n",
    "unique(obj.AML$CellType)"
   ]
  },
  {
   "cell_type": "markdown",
   "id": "7a2d98fc-6ab9-4b16-bf9d-fc2df20aba9e",
   "metadata": {},
   "source": [
    "# modify meta.data"
   ]
  },
  {
   "cell_type": "code",
   "execution_count": null,
   "id": "cda05463-56fa-42f4-b9a8-56e05ebe2000",
   "metadata": {
    "execution": {
     "iopub.execute_input": "2025-08-11T09:43:11.473987Z",
     "iopub.status.busy": "2025-08-11T09:43:11.472681Z",
     "iopub.status.idle": "2025-08-11T09:43:11.480481Z",
     "shell.execute_reply": "2025-08-11T09:43:11.479349Z"
    },
    "tags": []
   },
   "outputs": [],
   "source": [
    "table(colnames(obj.AML) == rownames(obj.AML@meta.data))\n",
    "table(obj.AML$`Days from diagnosis`)"
   ]
  },
  {
   "cell_type": "code",
   "execution_count": null,
   "id": "07891b72-1eac-440d-8728-6960c1c41ce5",
   "metadata": {
    "execution": {
     "iopub.execute_input": "2025-08-11T09:38:53.359425Z",
     "iopub.status.busy": "2025-08-11T09:38:53.356055Z",
     "iopub.status.idle": "2025-08-11T09:38:53.376129Z",
     "shell.execute_reply": "2025-08-11T09:38:53.373633Z"
    },
    "tags": []
   },
   "outputs": [],
   "source": [
    "obj.AML@meta.data <-obj.AML@meta.data %>%\n",
    "                    dplyr::select(-(names(obj.AML@meta.data) %>% .[grepl('Score', .)])) %>%\n",
    "                    dplyr::rename(c('DonorID' = 'sample', 'SampleID' = 'orig.ident')) %>%\n",
    "                    transform(Sex = ifelse(Sex == 'Female', 'F', 'M')) %>%\n",
    "                    transform(SampleType = ifelse(grepl('AML', .$DonorID), 'tumor', 'normal')) %>%\n",
    "                    transform(Cohort = 'AML_Galen2019') %>%\n",
    "                    transform(Chemistry = 'Seq-Well')"
   ]
  },
  {
   "cell_type": "markdown",
   "id": "adf87f8b-8cd6-4a96-92a6-58005d972364",
   "metadata": {},
   "source": [
    "# CT annotation"
   ]
  },
  {
   "cell_type": "markdown",
   "id": "12f3bfef-b74f-4c81-8a23-55ac58fc976d",
   "metadata": {},
   "source": [
    "## assign dCT/mCT"
   ]
  },
  {
   "cell_type": "code",
   "execution_count": null,
   "id": "61ceb99e-dca4-4b4a-990d-010010e94c55",
   "metadata": {
    "execution": {
     "iopub.execute_input": "2025-07-04T06:09:29.098207Z",
     "iopub.status.busy": "2025-07-04T06:09:29.094520Z",
     "iopub.status.idle": "2025-07-04T06:09:29.146951Z",
     "shell.execute_reply": "2025-07-04T06:09:29.145700Z"
    },
    "tags": []
   },
   "outputs": [],
   "source": [
    "obj.AML@meta.data <-obj.AML@meta.data %>% \n",
    "                    transform(dCT = CellType) %>% \n",
    "                    mutate(mCT = case_when(CellType %in% c('B', 'Plasma', 'ProB', 'NK', 'CTL', 'T') ~ 'Lymphoid',\n",
    "                                           CellType %in% c('earlyEry', 'lateEry') ~ 'Erythroid',\n",
    "                                           CellType %in% c('cDC', 'cDC-like', 'pDC', 'GMP', 'GMP-like', 'Mono', 'Mono-like', 'ProMono', 'ProMono-like') ~ 'Myeloid',\n",
    "                                           CellType %in% c('HSC', 'HSC-like', 'Prog', 'Prog-like') ~ 'Undiff',\n",
    "                                           TRUE ~ 'Others'))\n",
    "table(obj.AML$CellType, obj.AML$mCT)\n",
    "table(obj.AML$mCT, obj.AML$PredictionRefined)"
   ]
  },
  {
   "cell_type": "markdown",
   "id": "4487c81d-481f-419b-a834-5cfb15a59c16",
   "metadata": {},
   "source": [
    "## assign gCT"
   ]
  },
  {
   "cell_type": "code",
   "execution_count": null,
   "id": "27e25996-712f-4a0f-8ec4-6b1bb3e67cc8",
   "metadata": {
    "execution": {
     "iopub.execute_input": "2025-07-04T06:15:00.608977Z",
     "iopub.status.busy": "2025-07-04T06:15:00.605318Z",
     "iopub.status.idle": "2025-07-04T06:15:00.652169Z",
     "shell.execute_reply": "2025-07-04T06:15:00.651002Z"
    },
    "tags": []
   },
   "outputs": [],
   "source": [
    "obj.AML@meta.data <-obj.AML@meta.data %>% \n",
    "                    mutate(gCT = case_when(mCT %in% c('Myeloid', 'Undiff') ~ 'Tumor',\n",
    "                                           mCT %in% c('Lymphoid', 'Erythroid') ~ 'Immune',\n",
    "                                           TRUE ~ 'Others'))\n",
    "table(obj.AML$dCT, obj.AML$gCT)\n",
    "table(obj.AML$gCT, obj.AML$PredictionRefined)"
   ]
  },
  {
   "cell_type": "markdown",
   "id": "648c4475-6cd0-4cc3-bf94-84f68e4fe3d2",
   "metadata": {},
   "source": [
    "# run UMAP"
   ]
  },
  {
   "cell_type": "code",
   "execution_count": null,
   "id": "a73d254f-5e5b-4818-bdaa-cfa7f8a9b1e8",
   "metadata": {
    "execution": {
     "iopub.execute_input": "2025-07-04T06:31:36.447999Z",
     "iopub.status.busy": "2025-07-04T06:31:36.444531Z",
     "iopub.status.idle": "2025-07-04T06:33:28.494000Z",
     "shell.execute_reply": "2025-07-04T06:33:28.492667Z"
    },
    "tags": []
   },
   "outputs": [],
   "source": [
    "obj.AML <- obj.AML %>%\n",
    "           NormalizeData(normalization.method = \"LogNormalize\", scale.factor = 10000, verbose = F) %>%\n",
    "           FindVariableFeatures(selection.method = \"vst\", nfeatures = 3000, verbose = F) %>%\n",
    "           ScaleData(vars.to.regress = c(\"nCount_RNA\"), verbose = F) %>%\n",
    "           RunPCA(verbose = F)\n",
    "\n",
    "options(repr.plot.height = 3, repr.plot.width = 6)\n",
    "DimPlot(object = obj.AML, reduction = \"pca\", group.by = \"SampleID\", cols = paletteer_d(\"ggsci::default_igv\"))\n",
    "PC_selection(obj.AML)"
   ]
  },
  {
   "cell_type": "code",
   "execution_count": null,
   "id": "a210e275-d64c-417c-a07b-12995ba623f4",
   "metadata": {
    "execution": {
     "iopub.execute_input": "2025-08-11T09:43:28.569011Z",
     "iopub.status.busy": "2025-08-11T09:43:28.565972Z",
     "iopub.status.idle": "2025-08-11T09:43:28.589027Z",
     "shell.execute_reply": "2025-08-11T09:43:28.583311Z"
    },
    "tags": []
   },
   "outputs": [],
   "source": [
    "obj.AML <- obj.AML %>% RunHarmony(group.by.vars = \"SampleID\", plot_convergence = TRUE)\n",
    "## cluster\n",
    "nPC <- min(PC_selection_harmony(obj.AML)$PCselect)\n",
    "nPC\n",
    "\n",
    "obj.AML <- obj.AML %>% \n",
    "           RunUMAP(reduction = \"harmony\", dims = 1:nPC, umap.method = \"uwot\") %>%\n",
    "           RunTSNE(reduction = \"harmony\", dims = 1:nPC)"
   ]
  },
  {
   "cell_type": "code",
   "execution_count": null,
   "id": "f361e62b-51c3-4541-be1f-58ee3b1a84f9",
   "metadata": {
    "execution": {
     "iopub.execute_input": "2025-07-04T13:45:44.789600Z",
     "iopub.status.busy": "2025-07-04T13:45:44.786129Z",
     "iopub.status.idle": "2025-07-04T13:45:47.117094Z",
     "shell.execute_reply": "2025-07-04T13:45:47.115906Z"
    },
    "tags": []
   },
   "outputs": [],
   "source": [
    "options(repr.plot.height = 5, repr.plot.width = 25)\n",
    "select <- 'umap'\n",
    "DimPlot_scCustom(obj.AML, pt.size = .1, group.by = \"gCT\", reduction = select, label = TRUE, label.size = 4, colors_use = pal_igv(\"default\")(51))|\n",
    "DimPlot_scCustom(obj.AML, pt.size = .1, group.by = \"mCT\", reduction = select, label = TRUE, label.size = 4, colors_use = pal_igv(\"default\")(51))|\n",
    "DimPlot_scCustom(obj.AML, pt.size = .1, group.by = \"dCT\", reduction = select, label = TRUE, label.size = 4, colors_use = pal_igv(\"default\")(51))"
   ]
  },
  {
   "cell_type": "code",
   "execution_count": null,
   "id": "28477310-9cbb-4915-96df-5ab90ae7c10d",
   "metadata": {
    "execution": {
     "iopub.execute_input": "2025-07-28T12:52:06.285832Z",
     "iopub.status.busy": "2025-07-28T12:52:06.282010Z",
     "iopub.status.idle": "2025-07-28T12:52:06.315214Z",
     "shell.execute_reply": "2025-07-28T12:52:06.313922Z"
    },
    "tags": []
   },
   "outputs": [],
   "source": [
    "obj.AML@meta.data[,c('SampleID', 'SampleType', 'Sex')] %>% .[!duplicated(.$SampleID),] %$% table(.$SampleType, .$Sex)\n",
    "obj.AML@meta.data %$% table(.$SampleType)"
   ]
  },
  {
   "cell_type": "markdown",
   "id": "42a92128-685c-4efe-a35b-e3a7e0086e3b",
   "metadata": {},
   "source": [
    "# save"
   ]
  },
  {
   "cell_type": "code",
   "execution_count": null,
   "id": "97f0cea7-9865-45f4-a92f-94b58429fc80",
   "metadata": {
    "execution": {
     "iopub.execute_input": "2025-07-28T12:59:15.308670Z",
     "iopub.status.busy": "2025-07-28T12:59:15.305558Z",
     "iopub.status.idle": "2025-07-28T12:59:58.625870Z",
     "shell.execute_reply": "2025-07-28T12:59:58.623410Z"
    },
    "tags": []
   },
   "outputs": [],
   "source": [
    "saveRDS(obj.AML, 'obj.AML.use.rds')"
   ]
  }
 ],
 "metadata": {
  "kernelspec": {
   "display_name": "R4.2.0",
   "language": "R",
   "name": "r4.2.0"
  },
  "language_info": {
   "codemirror_mode": "r",
   "file_extension": ".r",
   "mimetype": "text/x-r-source",
   "name": "R",
   "pygments_lexer": "r",
   "version": "4.2.0"
  }
 },
 "nbformat": 4,
 "nbformat_minor": 5
}
