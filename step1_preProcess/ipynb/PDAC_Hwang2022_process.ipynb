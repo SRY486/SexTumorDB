{
 "cells": [
  {
   "cell_type": "markdown",
   "id": "9b9f58c4-6d2d-4b2e-be29-d8f60d02a07a",
   "metadata": {},
   "source": [
    "# Attention"
   ]
  },
  {
   "cell_type": "markdown",
   "id": "9f09f3c2-4f1e-46a8-8b8d-c41c0d66f463",
   "metadata": {
    "tags": []
   },
   "source": [
    "content in obj.PDAC@assays$RNA@counts: \"UMI counts were normalized by the total number of UMIs per nucleus and converted to transcripts-per-10,000 (TP10K) as the final expression unit\""
   ]
  },
  {
   "cell_type": "markdown",
   "id": "8f4d6480-8730-4e1d-b45c-c3cb904884e6",
   "metadata": {},
   "source": [
    "# load data"
   ]
  },
  {
   "cell_type": "code",
   "execution_count": null,
   "id": "2671851d-98fc-4a29-878c-3be2ee2a8cb6",
   "metadata": {
    "execution": {
     "iopub.execute_input": "2025-07-07T11:39:28.488443Z",
     "iopub.status.busy": "2025-07-07T11:39:28.485182Z",
     "iopub.status.idle": "2025-07-07T11:39:57.997612Z",
     "shell.execute_reply": "2025-07-07T11:39:57.996453Z"
    },
    "tags": []
   },
   "outputs": [],
   "source": [
    "## gene info \n",
    "feature <- read.delim('/project/sex_cancer/data/PDAC_Hwang2022/Group1/genes.txt', header = F, row.names = NULL)\n",
    "\n",
    "## obj1\n",
    "exp <- Matrix::readMM('/project/sex_cancer/data/PDAC_Hwang2022/Group1/Exp_data_TP10K_1.mtx')\n",
    "meta <- read.csv('/project/sex_cancer/data/PDAC_Hwang2022/Group1/Cells1.csv') %>% transform(barcode = cell_name) %>% column_to_rownames('cell_name')\n",
    "colnames(exp) <- rownames(meta)\n",
    "rownames(exp) <- feature$V1\n",
    "obj1 <- CreateSeuratObject(counts = exp, meta.data = meta, project = \"PDAC\")\n",
    "\n",
    "## obj2\n",
    "exp <- Matrix::readMM('/project/sex_cancer/data/PDAC_Hwang2022/Group2/Exp_data_TP10K_2.mtx')\n",
    "meta <- read.csv('/project/sex_cancer/data/PDAC_Hwang2022/Group2/Cells2.csv') %>% transform(barcode = cell_name) %>% column_to_rownames('cell_name')\n",
    "colnames(exp) <- rownames(meta)\n",
    "rownames(exp) <- feature$V1\n",
    "obj2 <- CreateSeuratObject(counts = exp, meta.data = meta, project = \"PDAC\")\n",
    "\n",
    "## obj2\n",
    "exp <- Matrix::readMM('/project/sex_cancer/data/PDAC_Hwang2022/Group3/Exp_data_TP10K_3.mtx')\n",
    "meta <- read.csv('/project/sex_cancer/data/PDAC_Hwang2022/Group3/Cells3.csv') %>% transform(barcode = cell_name) %>% column_to_rownames('cell_name')\n",
    "colnames(exp) <- rownames(meta)\n",
    "rownames(exp) <- feature$V1\n",
    "obj3 <- CreateSeuratObject(counts = exp, meta.data = meta, project = \"PDAC\")\n",
    "\n",
    "## all merge into 1\n",
    "obj.PDAC <- merge(obj1, c(obj2, obj3))"
   ]
  },
  {
   "cell_type": "code",
   "execution_count": null,
   "id": "f45a4443-dc90-45d1-a920-3c209f346f8b",
   "metadata": {},
   "outputs": [],
   "source": [
    "info <- read_xlsx('/project/sex_cancer/data/PDAC_Hwang2022/PDAC_WilliamL2022_PatientInfo.xlsx',skip = 1)\n",
    "info1 <- info[grepl('PDAC_',info$ID),]\n",
    "\n",
    "meta <- obj.PDAC@meta.data %>% transform(barcode2 = rownames(.))\n",
    "sample=sapply(info1$ID,function(x){\n",
    "                    parts=strsplit(x,split = '_')[[1]]\n",
    "                    new=paste(parts[2:3],collapse = '')\n",
    "                    return(new)\n",
    "})\n",
    "info2 <- cbind(sample,info1) %>%\n",
    "         .[which(.$sample %in% meta$sample),] \n",
    "obj.PDAC@meta.data <- merge(meta, info2, by = 'sample',all = TRUE) %>% column_to_rownames('barcode2') %>% .[colnames(obj.PDAC),]"
   ]
  },
  {
   "cell_type": "markdown",
   "id": "d8f321ad-4143-4290-9e71-6f7da0db35d6",
   "metadata": {},
   "source": [
    "# modify meta.data"
   ]
  },
  {
   "cell_type": "code",
   "execution_count": null,
   "id": "4fe61f6c-92cb-4be3-8df3-6af759dd4e92",
   "metadata": {
    "execution": {
     "iopub.execute_input": "2025-07-07T11:40:58.083837Z",
     "iopub.status.busy": "2025-07-07T11:40:58.080904Z",
     "iopub.status.idle": "2025-07-07T11:40:58.108786Z",
     "shell.execute_reply": "2025-07-07T11:40:58.107242Z"
    },
    "tags": []
   },
   "outputs": [],
   "source": [
    "## remove useless meta.data\n",
    "obj.PDAC@meta.data <- obj.PDAC@meta.data %>% \n",
    "                      dplyr::select(-c('orig.ident', 'complexity', 'umap1', 'umap2', 'g1s_score', 'g2m_score', 'cell_cycle_phase', 'nFeature_RNA',\n",
    "                                       'mp_top', 'mp_top_score', 'mp_assignment', 'mCT', 'disease')) "
   ]
  },
  {
   "cell_type": "code",
   "execution_count": null,
   "id": "57cb938a-1384-49b7-ba39-984313574d47",
   "metadata": {
    "execution": {
     "iopub.execute_input": "2025-07-07T11:45:59.992292Z",
     "iopub.status.busy": "2025-07-07T11:45:59.989200Z",
     "iopub.status.idle": "2025-07-07T11:46:00.169424Z",
     "shell.execute_reply": "2025-07-07T11:46:00.168249Z"
    },
    "tags": []
   },
   "outputs": [],
   "source": [
    "obj.PDAC@meta.data  <-  obj.PDAC@meta.data %>%\n",
    "                        dplyr::rename(c('Chemistry' = '10x Chemistry', 'SampleID' = 'sample', 'Disease' = 'source')) %>%\n",
    "                        mutate(Chemistry = case_when(Chemistry == 'v2' ~ \"10x 3' v2\",\n",
    "                                                     Chemistry == 'v3' ~ \"10x 3' v3\",\n",
    "                                                     TRUE ~ 'Others')) %>%\n",
    "                        mutate(Sex = case_when(Sex == 'Female' ~ 'F', Sex == 'Male' ~ 'M', TRUE ~ 'Others')) %>%\n",
    "                        transform(Cohort = 'PDAC_Hwang2022')"
   ]
  },
  {
   "cell_type": "markdown",
   "id": "56bff5f5-f402-4880-9ffd-9dd5f25e8d14",
   "metadata": {},
   "source": [
    "# add UMAP embeddings"
   ]
  },
  {
   "cell_type": "code",
   "execution_count": null,
   "id": "5a23a3e2-944b-4805-9e1d-b2100c27a633",
   "metadata": {
    "execution": {
     "iopub.execute_input": "2025-07-07T10:51:26.831648Z",
     "iopub.status.busy": "2025-07-07T10:51:26.828540Z",
     "iopub.status.idle": "2025-07-07T10:51:26.847250Z",
     "shell.execute_reply": "2025-07-07T10:51:26.845246Z"
    },
    "tags": []
   },
   "outputs": [],
   "source": [
    "obj.h5ad <- anndata::read_h5ad('/project/sex_cancer/data/PDAC_Hwang2022/GSE202051_totaldata-final-toshare.h5ad')\n",
    "umap_emb <- obj.h5ad$obsm$X_umap %>% as.data.frame() %>% \n",
    "            `rownames<-`(rownames(obj.h5ad$X)) %>% `colnames<-`(c('umap_1', 'umap_2')) \n",
    "umap_emb <- umap_emb %>% .[colnames(obj.PDAC),] %>% as.matrix()\n",
    "## add UMAP embeddings\n",
    "Idents(obj.PDAC) <- obj.PDAC$barcode\n",
    "obj.PDAC[['umap']] <- CreateDimReducObject(embeddings = umap_emb[colnames(obj.PDAC),] , key = 'umap_', assay = 'RNA')"
   ]
  },
  {
   "cell_type": "markdown",
   "id": "6d2b4238-42a6-4058-9198-943b5c900706",
   "metadata": {},
   "source": [
    "# cell type annotation"
   ]
  },
  {
   "cell_type": "markdown",
   "id": "3a0383f4-6250-4835-a98e-a215a03cfdd4",
   "metadata": {},
   "source": [
    "## assign oCT"
   ]
  },
  {
   "cell_type": "code",
   "execution_count": null,
   "id": "39efc704-d8f1-4bad-84d0-a25bcd14e9ec",
   "metadata": {
    "execution": {
     "iopub.execute_input": "2025-07-07T11:55:52.395678Z",
     "iopub.status.busy": "2025-07-07T11:55:52.392564Z",
     "iopub.status.idle": "2025-07-07T11:55:52.463155Z",
     "shell.execute_reply": "2025-07-07T11:55:52.461952Z"
    },
    "tags": []
   },
   "outputs": [],
   "source": [
    "obj.PDAC@meta.data <- obj.PDAC@meta.data %>% transform(oCT = cell_subtype)"
   ]
  },
  {
   "cell_type": "markdown",
   "id": "fb4640a5-f449-4c1b-8d12-649f52cdbabb",
   "metadata": {},
   "source": [
    "## assign dCT"
   ]
  },
  {
   "cell_type": "code",
   "execution_count": null,
   "id": "6ad02a5e-2e6b-494a-bbb9-ea63d0fdcdf9",
   "metadata": {
    "execution": {
     "iopub.execute_input": "2025-07-07T12:27:40.666837Z",
     "iopub.status.busy": "2025-07-07T12:27:40.663703Z",
     "iopub.status.idle": "2025-07-07T12:27:40.918169Z",
     "shell.execute_reply": "2025-07-07T12:27:40.916946Z"
    },
    "tags": []
   },
   "outputs": [],
   "source": [
    "obj.PDAC@meta.data <- obj.PDAC@meta.data %>% \n",
    "                      mutate(dCT = case_when(cell_subtype %in% c('Ductal (atypical)', 'Ductal', 'Acinar', 'ADM') ~ 'Epi',\n",
    "                                             cell_subtype %in% c('Malignant') ~ 'Epi',\n",
    "                                             cell_subtype %in% c('CD8+ T') ~ 'CD8T',\n",
    "                                             cell_subtype %in% c('CD4+ T') ~ 'CD4T',\n",
    "                                             cell_subtype %in% c('Treg') ~ 'Treg',\n",
    "                                             cell_subtype %in% c('NK_cell') ~ 'NK',\n",
    "                                             cell_subtype %in% c('B_cell') ~ 'B',\n",
    "                                             cell_subtype %in% c('Plasma') ~ 'Plasma',\n",
    "                                             \n",
    "                                             cell_subtype %in% c('Macrophage') ~ 'Mph',\n",
    "                                             cell_subtype %in% c('Dendritic') ~ 'DC',\n",
    "                                             cell_subtype %in% c('Neutrophil') ~ 'Neu',\n",
    "                                             cell_subtype %in% c('Mast') ~ 'Mast',\n",
    "                                             \n",
    "                                             cell_subtype %in% c('myCAF', 'CAF') ~ 'Fibro',\n",
    "                                             cell_subtype %in% c('Pericyte') ~ 'Pericyte',\n",
    "                                             cell_subtype %in% c('Vascular', 'Lymphatic') ~ 'Endo',\n",
    "                                             cell_subtype %in% c('Schwann') ~ 'Schwann',\n",
    "                                             cell_subtype %in% c('Alpha', 'Beta', 'Delta', 'Epsilon', 'Gamma', 'Hormone-negative neuroendocrine', 'Intra-pancreatic neurons') ~ 'Neuron',\n",
    "                                             cell_subtype %in% c('Adipocyte') ~ 'Adipocyte',\n",
    "                                             cell_subtype %in% c('Vascular smooth muscle') ~ 'VSMC',\n",
    "                                             TRUE ~ 'Others')) "
   ]
  },
  {
   "cell_type": "markdown",
   "id": "282f0a8c-5b4e-4c0d-ba57-70f606d56484",
   "metadata": {},
   "source": [
    "## assign mCT"
   ]
  },
  {
   "cell_type": "code",
   "execution_count": null,
   "id": "5f25e349-5bb6-4e37-a8ae-778b7e476dc7",
   "metadata": {
    "execution": {
     "iopub.execute_input": "2025-07-07T12:28:16.784152Z",
     "iopub.status.busy": "2025-07-07T12:28:16.781012Z",
     "iopub.status.idle": "2025-07-07T12:28:17.028316Z",
     "shell.execute_reply": "2025-07-07T12:28:17.027059Z"
    },
    "tags": []
   },
   "outputs": [],
   "source": [
    "obj.PDAC@meta.data <- obj.PDAC@meta.data %>% \n",
    "                      mutate(mCT = case_when(cell_subtype %in% c('Ductal (atypical)', 'Ductal', 'Acinar', 'ADM') ~ 'Epi',\n",
    "                                             cell_subtype %in% c('Malignant') ~ 'Epi',\n",
    "                                             \n",
    "                                             cell_subtype %in% c('CD8+ T') ~ 'CD8T',\n",
    "                                             cell_subtype %in% c('CD4+ T') ~ 'CD4T',\n",
    "                                             cell_subtype %in% c('Treg') ~ 'Treg',\n",
    "                                             cell_subtype %in% c('NK_cell') ~ 'NK',\n",
    "                                             cell_subtype %in% c('B_cell', 'Plasma') ~ 'B',\n",
    "                                             \n",
    "                                             cell_subtype %in% c('Macrophage') ~ 'Mph',\n",
    "                                             cell_subtype %in% c('Dendritic') ~ 'DC',\n",
    "                                             cell_subtype %in% c('Neutrophil') ~ 'Neu',\n",
    "                                             cell_subtype %in% c('Mast') ~ 'Mast',\n",
    "                                             \n",
    "                                             cell_subtype %in% c('myCAF', 'CAF') ~ 'Fibro',\n",
    "                                             cell_subtype %in% c('Pericyte') ~ 'Pericyte',\n",
    "                                             cell_subtype %in% c('Vascular', 'Lymphatic') ~ 'Endo',\n",
    "                                             cell_subtype %in% c('Schwann') ~ 'Schwann',\n",
    "                                             cell_subtype %in% c('Alpha', 'Beta', 'Delta', 'Epsilon', 'Gamma', 'Hormone-negative neuroendocrine', 'Intra-pancreatic neurons') ~ 'Neuron',\n",
    "                                             cell_subtype %in% c('Adipocyte') ~ 'Adipocyte',\n",
    "                                             cell_subtype %in% c('Vascular smooth muscle') ~ 'SMC',\n",
    "                                             TRUE ~ 'Others'))"
   ]
  },
  {
   "cell_type": "markdown",
   "id": "d184fc26-33f3-4248-9501-6238018609a4",
   "metadata": {},
   "source": [
    "## assign gCT"
   ]
  },
  {
   "cell_type": "code",
   "execution_count": null,
   "id": "b7a96b25-5642-42bf-a1ea-96ad667d97cd",
   "metadata": {
    "execution": {
     "iopub.execute_input": "2025-07-07T12:33:47.332683Z",
     "iopub.status.busy": "2025-07-07T12:33:47.329592Z",
     "iopub.status.idle": "2025-07-07T12:33:47.430478Z",
     "shell.execute_reply": "2025-07-07T12:33:47.429286Z"
    },
    "tags": []
   },
   "outputs": [],
   "source": [
    "obj.PDAC@meta.data <- obj.PDAC@meta.data %>% \n",
    "                      mutate(gCT = case_when(mCT %in% c('Epi') ~ 'Tumor',\n",
    "                                             mCT %in% c('CD8T', 'CD4T', 'Treg', 'NK', 'B', 'Mph', 'DC', 'Neu', 'Mast') ~ 'Immune',\n",
    "                                             mCT %in% c('Fibro', 'Pericyte', 'Endo', 'Schwann', 'Neuron', 'Adipocyte', 'SMC') ~ 'Stromal',\n",
    "                                             TRUE ~ 'Others'))"
   ]
  },
  {
   "cell_type": "markdown",
   "id": "8da5f734-ebca-4a13-a8ba-0ac6c8c9b1b8",
   "metadata": {},
   "source": [
    "# filter sample"
   ]
  },
  {
   "cell_type": "code",
   "execution_count": null,
   "id": "b3716aea-065f-4da2-895b-9efbf67d3e56",
   "metadata": {
    "execution": {
     "iopub.execute_input": "2025-07-07T12:36:59.737803Z",
     "iopub.status.busy": "2025-07-07T12:36:59.734627Z",
     "iopub.status.idle": "2025-07-07T12:36:59.768333Z",
     "shell.execute_reply": "2025-07-07T12:36:59.766934Z"
    },
    "tags": []
   },
   "outputs": [],
   "source": [
    "obj.PDAC <- obj.PDAC %>% subset(Neoadjuvant == 'None')\n",
    "obj.PDAC@meta.data <- obj.PDAC@meta.data %>% transform(SampleType = 'tumor')"
   ]
  },
  {
   "cell_type": "markdown",
   "id": "e7b3f974-00ac-453c-996d-156fbbf0e806",
   "metadata": {
    "execution": {
     "iopub.execute_input": "2025-07-08T02:38:38.976371Z",
     "iopub.status.busy": "2025-07-08T02:38:38.973037Z",
     "iopub.status.idle": "2025-07-08T02:38:39.013962Z",
     "shell.execute_reply": "2025-07-08T02:38:39.012809Z"
    },
    "tags": []
   },
   "source": [
    "# save"
   ]
  },
  {
   "cell_type": "code",
   "execution_count": null,
   "id": "6b81f2e8-2ded-4c8b-bf17-ea5fef3c8cc0",
   "metadata": {
    "execution": {
     "iopub.execute_input": "2025-07-11T07:49:08.366667Z",
     "iopub.status.busy": "2025-07-11T07:49:08.363542Z",
     "iopub.status.idle": "2025-07-11T07:51:44.507962Z",
     "shell.execute_reply": "2025-07-11T07:51:44.505267Z"
    },
    "tags": []
   },
   "outputs": [],
   "source": [
    "saveRDS(obj.PDAC, 'obj.PDAC.use.rds')"
   ]
  }
 ],
 "metadata": {
  "kernelspec": {
   "display_name": "rTrace",
   "language": "R",
   "name": "rtrace"
  },
  "language_info": {
   "codemirror_mode": "r",
   "file_extension": ".r",
   "mimetype": "text/x-r-source",
   "name": "R",
   "pygments_lexer": "r",
   "version": "4.2.3"
  }
 },
 "nbformat": 4,
 "nbformat_minor": 5
}
