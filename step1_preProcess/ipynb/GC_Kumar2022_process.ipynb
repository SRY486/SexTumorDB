{
 "cells": [
  {
   "cell_type": "markdown",
   "id": "561feac3-b084-4c46-b86c-b1406d44d453",
   "metadata": {},
   "source": [
    "# load data"
   ]
  },
  {
   "cell_type": "code",
   "execution_count": null,
   "id": "def05000-8e25-40ff-911f-2d884b692934",
   "metadata": {
    "execution": {
     "iopub.execute_input": "2025-05-12T11:26:37.128656Z",
     "iopub.status.busy": "2025-05-12T11:26:37.124933Z",
     "iopub.status.idle": "2025-05-12T11:26:37.156413Z",
     "shell.execute_reply": "2025-05-12T11:26:37.154779Z"
    },
    "tags": []
   },
   "outputs": [],
   "source": [
    "obj.GC <- load3CAdata(\"/project/sex_cancer/data/GC_Kumar2022/\")\n",
    "obj.GC"
   ]
  },
  {
   "cell_type": "markdown",
   "id": "ea127adf-717f-4f92-a50d-c6b9e85c3a17",
   "metadata": {},
   "source": [
    "## modify meta.data"
   ]
  },
  {
   "cell_type": "code",
   "execution_count": null,
   "id": "b6f5333e-348f-423f-a937-47e7e1616908",
   "metadata": {
    "execution": {
     "iopub.execute_input": "2025-08-11T15:57:50.849171Z",
     "iopub.status.busy": "2025-08-11T15:57:50.845941Z",
     "iopub.status.idle": "2025-08-11T15:57:50.865628Z",
     "shell.execute_reply": "2025-08-11T15:57:50.863071Z"
    },
    "tags": []
   },
   "outputs": [],
   "source": [
    "obj.GC@meta.data <- obj.GC@meta.data %>% \n",
    "                    transform(orig.ident = sample) %>% \n",
    "                    dplyr::rename(c('SampleID' = 'sample', 'DonorID' = 'patient')) %>% \n",
    "                    transform(Cohort = 'GC_Kumar2022', Chemistry = \"10x 5'\")"
   ]
  },
  {
   "cell_type": "code",
   "execution_count": null,
   "id": "0bb5ff81-083d-4fc2-bc48-d71ceb094be9",
   "metadata": {
    "execution": {
     "iopub.execute_input": "2025-07-28T16:58:54.890142Z",
     "iopub.status.busy": "2025-07-28T16:58:54.887112Z",
     "iopub.status.idle": "2025-07-28T16:58:54.925970Z",
     "shell.execute_reply": "2025-07-28T16:58:54.924790Z"
    },
    "tags": []
   },
   "outputs": [],
   "source": [
    "# add sample info\n",
    "sample_info <- read.csv('/project/sex_cancer/data/GC_Kumar2022/Samples.csv') %>%\n",
    "               dplyr::select(-c('n_cells', 'technology', 'cancer_type')) %>%\n",
    "               dplyr::rename(c('SampleID' = 'sample', 'SampleType' = 'source', 'DonorID' = 'patient', \n",
    "                               'Age' = 'age', 'Sex' = 'gender', 'Site' = 'site', 'MMR' = 'mmr', 'EBV' = 'ebv', 'IM_status' = 'im_status',\n",
    "                               'StageI' = 'stage', 'Laurens' = 'laurens')) %>%\n",
    "               mutate(SampleType = case_when(SampleType == \"Primary_Tumor\" ~ \"tumor\",\n",
    "                                             SampleType == \"Primary_Normal\" ~ \"normal_adjacent\",\n",
    "                                             SampleType == \"Peritoneal_Tumor\" ~ \"tumor_peritoneal\",\n",
    "                                             SampleType == \"Peritoneal_Normal\" ~ \"normal_peritoneal\",\n",
    "                                             TRUE ~ NA))\n",
    "\n",
    "obj.GC@meta.data <- obj.GC@meta.data %>%\n",
    "                    transform(barcode2 = barcode) %>%\n",
    "                    merge(., sample_info, by = c('SampleID', 'DonorID'), all = TRUE) %>%\n",
    "                    column_to_rownames('barcode2')\n",
    "obj.GC@meta.data <- obj.GC@meta.data[colnames(obj.GC),]"
   ]
  },
  {
   "cell_type": "markdown",
   "id": "99dd47f5-40fc-479f-8255-da1b7e83656d",
   "metadata": {},
   "source": [
    "# cell type annotation"
   ]
  },
  {
   "cell_type": "markdown",
   "id": "a75ec38b-d471-41ee-ad9a-0105e746eef2",
   "metadata": {},
   "source": [
    "## assign dCT"
   ]
  },
  {
   "cell_type": "code",
   "execution_count": null,
   "id": "1c8c4dca-2cd1-415c-9155-a256f78f614d",
   "metadata": {
    "execution": {
     "iopub.execute_input": "2025-07-28T16:59:16.649689Z",
     "iopub.status.busy": "2025-07-28T16:59:16.646528Z",
     "iopub.status.idle": "2025-07-28T16:59:16.829289Z",
     "shell.execute_reply": "2025-07-28T16:59:16.828060Z"
    },
    "tags": []
   },
   "outputs": [],
   "source": [
    "obj.GC@meta.data <- obj.GC@meta.data %>%\n",
    "                    mutate(dCT = case_when(cell_type %in% c('Epithelial') ~ 'Epi',\n",
    "                                           cell_cluster %in% c('LB') ~ 'B',\n",
    "                                           cell_cluster %in% c('PL1', 'PL2', 'PL3', 'PL4', 'PL5') ~ 'Plasma',\n",
    "                                           cell_cluster %in% c('LNK1', 'LNK2', 'LNK3', 'LNK4') ~ 'NK',\n",
    "                                           cell_cluster %in% c('LT1', 'LT2') ~ 'CD8T',\n",
    "                                           cell_cluster %in% c('LT3', 'LT4') ~ 'CD4T',\n",
    "                                           cell_cluster %in% c('LT5') ~ 'Treg',\n",
    "                                           cell_cluster %in% c('LPT') ~ 'T_proliferation',\n",
    "                                           cell_cluster %in% c('MYD') ~ 'DC',\n",
    "                                           cell_cluster %in% c('MYM1', 'MYM2', 'MYM3') ~ 'Mph',\n",
    "                                           cell_cluster %in% c('MYMAST') ~ 'Mast',\n",
    "                                           cell_cluster %in% c('STE1', 'STE2') ~ 'Endo',\n",
    "                                           cell_cluster %in% c('STF1', 'STF2', 'STF3', 'STF4') ~ 'Fibro',\n",
    "                                           TRUE ~ 'Others'\n",
    "                                           ))\n",
    "\n",
    "table(obj.GC$cell_cluster, obj.GC$dCT)"
   ]
  },
  {
   "cell_type": "markdown",
   "id": "63cf22c5-8bef-4958-8e75-efe8973ed411",
   "metadata": {},
   "source": [
    "## assign mCT"
   ]
  },
  {
   "cell_type": "code",
   "execution_count": null,
   "id": "b5f0f47e-b967-4790-bf83-4098be49e972",
   "metadata": {
    "execution": {
     "iopub.execute_input": "2025-07-28T16:59:20.893201Z",
     "iopub.status.busy": "2025-07-28T16:59:20.889897Z",
     "iopub.status.idle": "2025-07-28T16:59:20.960113Z",
     "shell.execute_reply": "2025-07-28T16:59:20.958849Z"
    },
    "tags": []
   },
   "outputs": [],
   "source": [
    "obj.GC@meta.data <- obj.GC@meta.data %>%\n",
    "                    mutate(mCT = case_when(dCT %in% c('B', 'Plasma') ~ 'B',\n",
    "                                           TRUE ~ dCT\n",
    "                                           ))\n",
    "table(obj.GC$dCT, obj.GC$mCT)"
   ]
  },
  {
   "cell_type": "markdown",
   "id": "347dcaba-23cc-4823-926a-9ae755f1566c",
   "metadata": {},
   "source": [
    "## assign gCT"
   ]
  },
  {
   "cell_type": "code",
   "execution_count": null,
   "id": "2db416ad-aef4-4374-903d-3ad40e23b6c6",
   "metadata": {
    "execution": {
     "iopub.execute_input": "2025-07-28T16:59:24.777341Z",
     "iopub.status.busy": "2025-07-28T16:59:24.774001Z",
     "iopub.status.idle": "2025-07-28T16:59:24.802937Z",
     "shell.execute_reply": "2025-07-28T16:59:24.801207Z"
    },
    "tags": []
   },
   "outputs": [],
   "source": [
    "unique(obj.GC@meta.data$mCT)"
   ]
  },
  {
   "cell_type": "code",
   "execution_count": null,
   "id": "65697feb-df13-463e-90d6-beac7ba6077f",
   "metadata": {
    "execution": {
     "iopub.execute_input": "2025-07-28T16:59:24.998717Z",
     "iopub.status.busy": "2025-07-28T16:59:24.995646Z",
     "iopub.status.idle": "2025-07-28T16:59:25.103761Z",
     "shell.execute_reply": "2025-07-28T16:59:25.102568Z"
    },
    "tags": []
   },
   "outputs": [],
   "source": [
    "obj.GC@meta.data <- obj.GC@meta.data %>%\n",
    "                    mutate(gCT = case_when(mCT %in% c('Epi') ~ 'Tumor',\n",
    "                                           mCT %in% c('NK', 'B', 'Mph', 'CD8T', 'CD4T', 'Mast', 'DC', 'Treg', 'T_proliferation') ~ 'Immune',\n",
    "                                           mCT %in% c('Endo', 'Fibro') ~ 'Stromal',\n",
    "                                           TRUE ~ 'Others'\n",
    "                                           ))\n",
    "table(obj.GC$dCT, obj.GC$mCT)"
   ]
  },
  {
   "cell_type": "markdown",
   "id": "54e28ca0-eb3c-42d9-8ed3-2ac30e6fce4a",
   "metadata": {
    "execution": {
     "iopub.execute_input": "2025-06-30T13:03:06.892435Z",
     "iopub.status.busy": "2025-06-30T13:03:06.888931Z",
     "iopub.status.idle": "2025-06-30T13:03:06.912595Z",
     "shell.execute_reply": "2025-06-30T13:03:06.910619Z"
    },
    "tags": []
   },
   "source": [
    "## assign oCT"
   ]
  },
  {
   "cell_type": "code",
   "execution_count": null,
   "id": "1c02472c-ce66-4d68-8379-ae9ea4edb25c",
   "metadata": {
    "execution": {
     "iopub.execute_input": "2025-07-28T16:59:29.228472Z",
     "iopub.status.busy": "2025-07-28T16:59:29.225349Z",
     "iopub.status.idle": "2025-07-28T16:59:29.292467Z",
     "shell.execute_reply": "2025-07-28T16:59:29.291298Z"
    },
    "tags": []
   },
   "outputs": [],
   "source": [
    "obj.GC@meta.data <- obj.GC@meta.data %>% \n",
    "                    transform(oCT = ifelse(cell_cluster == '', 'Unknown', cell_cluster))"
   ]
  },
  {
   "cell_type": "markdown",
   "id": "2e6fb9db-aad8-42f5-b9ed-4de4ae657638",
   "metadata": {},
   "source": [
    "# filter sample"
   ]
  },
  {
   "cell_type": "code",
   "execution_count": null,
   "id": "1e74c2bf-2064-4b67-b6af-8347e59be8d0",
   "metadata": {
    "execution": {
     "iopub.execute_input": "2025-07-28T17:10:34.530562Z",
     "iopub.status.busy": "2025-07-28T17:10:34.527323Z",
     "iopub.status.idle": "2025-07-28T17:10:47.554912Z",
     "shell.execute_reply": "2025-07-28T17:10:47.553723Z"
    },
    "tags": []
   },
   "outputs": [],
   "source": [
    "obj.GC <- obj.GC %>% subset(SampleType %in% c('tumor_peritoneal', 'normal_peritoneal') == FALSE) ##  & Laurens != 'Metastatic'\n",
    "obj.GC"
   ]
  },
  {
   "cell_type": "code",
   "execution_count": null,
   "id": "cce3086d-f0ff-4786-b7b7-99e83166c520",
   "metadata": {
    "execution": {
     "iopub.execute_input": "2025-07-28T17:11:06.419228Z",
     "iopub.status.busy": "2025-07-28T17:11:06.416111Z",
     "iopub.status.idle": "2025-07-28T17:11:06.455357Z",
     "shell.execute_reply": "2025-07-28T17:11:06.454284Z"
    },
    "tags": []
   },
   "outputs": [],
   "source": [
    "obj.GC@meta.data[,c('SampleID', 'StageI', 'Laurens', 'IM_status', 'Sex', 'Site', 'SampleType')] %>% .[!duplicated(.$SampleID),]  %$% \n",
    "table(.$SampleType, .$Sex)\n",
    "obj.GC@meta.data[,c('SampleID', 'StageI', 'Laurens', 'IM_status', 'Sex', 'Site', 'SampleType')] %$% table(.$SampleType)"
   ]
  },
  {
   "cell_type": "markdown",
   "id": "aa9efae7-c4e4-4182-a994-8bff8a9c3857",
   "metadata": {},
   "source": [
    "# run UMAP"
   ]
  },
  {
   "cell_type": "code",
   "execution_count": null,
   "id": "7d7cdf27-29c1-4051-a920-cf7b7d83a985",
   "metadata": {
    "execution": {
     "iopub.execute_input": "2025-07-29T06:31:17.147831Z",
     "iopub.status.busy": "2025-07-29T06:31:17.144706Z",
     "iopub.status.idle": "2025-07-29T06:45:50.610023Z",
     "shell.execute_reply": "2025-07-29T06:45:50.608516Z"
    },
    "jupyter": {
     "outputs_hidden": true
    },
    "tags": []
   },
   "outputs": [],
   "source": [
    "obj.GC <- obj.GC %>%\n",
    "          NormalizeData(normalization.method = \"LogNormalize\", scale.factor = 10000, verbose = F) %>%\n",
    "          FindVariableFeatures(selection.method = \"vst\", nfeatures = 3000, verbose = F) %>%\n",
    "          ScaleData(vars.to.regress = c(\"nCount_RNA\"), verbose = F) %>% \n",
    "          RunPCA(verbose = F) %>% \n",
    "          RunHarmony(group.by.vars = \"SampleID\", plot_convergence = TRUE)\n",
    "\n",
    "nPC <- min(PC_selection_harmony(obj.GC)$PCselect)\n",
    "obj.GC <- obj.GC %>% \n",
    "           RunUMAP(reduction = \"harmony\", dims = 1:nPC, umap.method = \"uwot\") %>%\n",
    "           RunTSNE(reduction = \"harmony\", dims = 1:nPC)\n",
    "colnames(obj.GC@meta.data)"
   ]
  },
  {
   "cell_type": "code",
   "execution_count": null,
   "id": "5fd3ab87-4a4b-483e-a8db-598cb8977741",
   "metadata": {
    "execution": {
     "iopub.execute_input": "2025-07-29T07:14:30.787347Z",
     "iopub.status.busy": "2025-07-29T07:14:30.783860Z",
     "iopub.status.idle": "2025-07-29T07:14:41.206598Z",
     "shell.execute_reply": "2025-07-29T07:14:41.205366Z"
    },
    "tags": []
   },
   "outputs": [],
   "source": [
    "options(repr.plot.height = 4, repr.plot.width = 30)\n",
    "select <- 'umap'\n",
    "DimPlot_scCustom(obj.GC, reduction = select, pt.size = 1, group.by = \"gCT\", label = F, label.size = 8, colors_use = pal_igv(\"default\")(51))|\n",
    "DimPlot_scCustom(obj.GC, reduction = select, pt.size = 1, group.by = \"mCT\", label = F, label.size = 8, colors_use = pal_igv(\"default\")(51))|\n",
    "DimPlot_scCustom(obj.GC, reduction = select, pt.size = 1, group.by = \"SampleType\", label = F, label.size = 8, colors_use = pal_igv(\"default\")(51))|\n",
    "DimPlot_scCustom(obj.GC, reduction = select, pt.size = 1, group.by = \"SampleID\", label = F, label.size = 8, colors_use = pal_igv(\"default\")(51))"
   ]
  },
  {
   "cell_type": "markdown",
   "id": "93093907-243a-459e-8f37-0a1892c7925b",
   "metadata": {},
   "source": [
    "# save"
   ]
  },
  {
   "cell_type": "code",
   "execution_count": null,
   "id": "bbbaec8f-5713-420e-a051-f0e646a0e4ea",
   "metadata": {
    "execution": {
     "iopub.execute_input": "2025-07-29T07:15:27.784961Z",
     "iopub.status.busy": "2025-07-29T07:15:27.781862Z",
     "iopub.status.idle": "2025-07-29T07:22:02.397006Z",
     "shell.execute_reply": "2025-07-29T07:22:02.394418Z"
    },
    "tags": []
   },
   "outputs": [],
   "source": [
    "saveRDS(obj.GC, 'obj.GC.use.rds')"
   ]
  }
 ],
 "metadata": {
  "kernelspec": {
   "display_name": "R4.2.0",
   "language": "R",
   "name": "r4.2.0"
  },
  "language_info": {
   "codemirror_mode": "r",
   "file_extension": ".r",
   "mimetype": "text/x-r-source",
   "name": "R",
   "pygments_lexer": "r",
   "version": "4.2.0"
  }
 },
 "nbformat": 4,
 "nbformat_minor": 5
}
