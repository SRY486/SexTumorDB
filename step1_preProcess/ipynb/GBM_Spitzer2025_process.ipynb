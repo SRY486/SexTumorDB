{
 "cells": [
  {
   "cell_type": "markdown",
   "id": "551ca1e4-e46b-45c2-b434-bc2438539af9",
   "metadata": {},
   "source": [
    "# load data"
   ]
  },
  {
   "cell_type": "code",
   "execution_count": null,
   "id": "e00eacf1-5522-4db7-8c67-b634c24fcb92",
   "metadata": {},
   "outputs": [],
   "source": [
    "## read RDS file\n",
    "file_list <- list.files(path = \"/project/sex_cancer/data/GBM_Spitzer2025/GSE274546/\", pattern = \"*.RDS\", full.names = TRUE)\n",
    "seurat_list <- lapply(file_list, function(file){\n",
    "                        data <- readRDS(file)\n",
    "                        seurat_object <- CreateSeuratObject(counts = data)\n",
    "                        return(seurat_object)\n",
    "                        })\n",
    "obj.GBM <- Reduce(function(x, y) merge(x, y), seurat_list)"
   ]
  },
  {
   "cell_type": "code",
   "execution_count": null,
   "id": "284b6727-fb40-4b56-92cb-4b1861031dcc",
   "metadata": {},
   "outputs": [],
   "source": [
    "md <- readRDS('/project/sex_cancer/data/GBM_Spitzer2025/celltype_meta_data_2025_01_08.RDS')\n",
    "meta <- readRDS('/project/sex_cancer/data/GBM_Spitzer2025/care_full_gene_count_metadata.RDS')\n",
    "rownames(meta) <- meta$CellID\n",
    "meta <- meta[colnames(obj.GBM@assays$RNA),]\n",
    "meta <- meta %>%\n",
    "        merge(obj.GBM@meta.data, by = 'CellID', all = TRUE) %>% \n",
    "        merge(md,by = 'CellID',all = TRUE)\n",
    "\n",
    "info <- read_xlsx('/project/sex_cancer/data/GBM_Spitzer2025/GBM_Abishay2025.xlsx',skip = 2)\n",
    "colnames(info)[11]='Sex'\n",
    "colnames(info)[12]='Age'\n",
    "\n",
    "obj.GBM@meta.data <- merge(meta, info, by = 'Sample_ID_', all = TRUE)\n",
    "rownames(obj.GBM@meta.data)=obj.GBM@meta.data$CellID"
   ]
  },
  {
   "cell_type": "markdown",
   "id": "0e15921d-6ce2-4989-ae0c-c9ab8ecd2384",
   "metadata": {},
   "source": [
    "# modify meta.data"
   ]
  },
  {
   "cell_type": "code",
   "execution_count": null,
   "id": "88004f22-5005-4367-83cd-fa1d32ec73bd",
   "metadata": {
    "execution": {
     "iopub.execute_input": "2025-08-11T15:54:14.955365Z",
     "iopub.status.busy": "2025-08-11T15:54:14.951860Z",
     "iopub.status.idle": "2025-08-11T15:54:14.976803Z",
     "shell.execute_reply": "2025-08-11T15:54:14.974863Z"
    },
    "tags": []
   },
   "outputs": [],
   "source": [
    "obj.GBM@meta.data <- obj.GBM@meta.data %>%\n",
    "                     dplyr::rename(c('barcode' = 'CellID', 'SampleID' = 'Sample_ID', 'DonorID' = 'Patient_ID', 'TumorID' = 'Tumor_ID')) %>%\n",
    "                     transform(SampleType = 'tumor', Cohort = 'GBM_Spitzer2025') %>% \n",
    "                     transform(oCT = ext_list(oCT), CellType = ext_list(CellType))"
   ]
  },
  {
   "cell_type": "markdown",
   "id": "86e46ac4-90ab-4aac-b5ea-b644bee0d822",
   "metadata": {},
   "source": [
    "# filter sample"
   ]
  },
  {
   "cell_type": "code",
   "execution_count": null,
   "id": "ee2339ad-a9bf-45ca-9b25-a872658f7e70",
   "metadata": {
    "execution": {
     "iopub.execute_input": "2025-07-05T09:25:48.557035Z",
     "iopub.status.busy": "2025-07-05T09:25:48.553908Z",
     "iopub.status.idle": "2025-07-05T09:25:48.606286Z",
     "shell.execute_reply": "2025-07-05T09:25:48.604757Z"
    },
    "jupyter": {
     "outputs_hidden": true
    },
    "tags": []
   },
   "outputs": [],
   "source": [
    "obj.GBM <- obj.GBM %>%\n",
    "           subset(Time_point == 'T1' & Primary_or_recurrent == 'Primary' & Steroid_treatment_before_the_surgery == 'No' & \n",
    "                  Radiation_before_the_surgery == 'No' & Alkylate_agents_before_the_surgery == 'No' & \n",
    "                  `Number_of_cycles_treated_by_adjuvant_TMZ_before_the_surgery_` == '-') %>% \n",
    "           subset(is.na(CellType) == FALSE)\n",
    "obj.GBM"
   ]
  },
  {
   "cell_type": "markdown",
   "id": "463fa8b5-38c6-4625-891e-14c13d891a0f",
   "metadata": {},
   "source": [
    "# cell type annotation\n",
    "Reference: https://www.cell.com/trends/cancer/fulltext/S2405-8033(22)00233-3"
   ]
  },
  {
   "cell_type": "markdown",
   "id": "f462b4fa-4732-432d-978c-372568b36536",
   "metadata": {
    "tags": []
   },
   "source": [
    "## assign dCT/mCT"
   ]
  },
  {
   "cell_type": "code",
   "execution_count": null,
   "id": "0b708150-2be7-4c4e-ba80-d5f98397cb1f",
   "metadata": {
    "execution": {
     "iopub.execute_input": "2025-07-05T11:28:40.899967Z",
     "iopub.status.busy": "2025-07-05T11:28:40.896360Z",
     "iopub.status.idle": "2025-07-05T11:28:41.008271Z",
     "shell.execute_reply": "2025-07-05T11:28:41.006953Z"
    },
    "tags": []
   },
   "outputs": [],
   "source": [
    "obj.GBM@meta.data  <-  obj.GBM@meta.data %>% \n",
    "                        mutate(dCT = ext_list(CellType)) %>%\n",
    "                        mutate(mCT = case_when(CellType %in% c('Malignant', 'Oligodendrocyte', 'Astrocyte', 'OPC') ~ 'Glia',\n",
    "                                               CellType %in% c('Excitatory neuron', 'Inhibitory neuron') ~ 'Neuron',\n",
    "                                               CellType %in% c('TAM') ~ 'Mph',\n",
    "                                               CellType %in% c('Lymphocyte') ~ 'Lymphoid',\n",
    "                                               CellType %in% c('Endothel') ~ 'Endo',\n",
    "                                               CellType %in% c('Pericyte') ~ 'Pericyte',\n",
    "                                               TRUE ~ 'Others'))"
   ]
  },
  {
   "cell_type": "markdown",
   "id": "bc559985-76c8-4cb4-8eeb-8d375aed0acd",
   "metadata": {},
   "source": [
    "## assign gCT"
   ]
  },
  {
   "cell_type": "code",
   "execution_count": null,
   "id": "7a302ea8-67fd-4cb2-96a1-15d55fefb055",
   "metadata": {
    "execution": {
     "iopub.execute_input": "2025-07-05T11:41:51.371412Z",
     "iopub.status.busy": "2025-07-05T11:41:51.367781Z",
     "iopub.status.idle": "2025-07-05T11:41:51.442216Z",
     "shell.execute_reply": "2025-07-05T11:41:51.441032Z"
    },
    "tags": []
   },
   "outputs": [],
   "source": [
    "obj.GBM@meta.data <- obj.GBM@meta.data %>% \n",
    "                     mutate(gCT = case_when(CellType %in% c('Malignant', 'Oligodendrocyte', 'Astrocyte', 'OPC') ~ 'Tumor',\n",
    "                                            CellType %in% c('TAM', 'Lymphocyte') ~ 'Immune',\n",
    "                                            CellType %in% c('Endothel', 'Pericyte', 'Excitatory neuron', 'Inhibitory neuron') ~ 'Stromal',\n",
    "                                            TRUE ~ 'Others')) "
   ]
  },
  {
   "cell_type": "markdown",
   "id": "f55e26cb-97f3-43bd-979c-abbfe6a39420",
   "metadata": {},
   "source": [
    "## lympho annotation"
   ]
  },
  {
   "cell_type": "code",
   "execution_count": null,
   "id": "d4b8ac7c-89ef-44f2-8f14-5bf848efaa1f",
   "metadata": {
    "execution": {
     "iopub.execute_input": "2025-07-05T14:09:42.629269Z",
     "iopub.status.busy": "2025-07-05T14:09:42.626949Z",
     "iopub.status.idle": "2025-07-05T14:09:46.378088Z",
     "shell.execute_reply": "2025-07-05T14:09:46.375508Z"
    },
    "tags": []
   },
   "outputs": [],
   "source": [
    "obj.GBM.lympho <- obj.GBM %>% subset(mCT %in% c('Lymphoid'))\n",
    "\n",
    "DefaultAssay(obj.GBM.lympho) <- \"RNA\"\n",
    "obj.GBM.lympho <- obj.GBM.lympho %>% \n",
    "                  NormalizeData(normalization.method = \"LogNormalize\", scale.factor = 10000, verbose = F) %>%\n",
    "                  FindVariableFeatures(selection.method = \"vst\", nfeatures = 1000, verbose = F) %>% \n",
    "                  ScaleData(vars.to.regress = c(\"nCount_RNA\"), verbose = F) %>%\n",
    "                  RunPCA(verbose = F) %>% \n",
    "                  RunHarmony(group.by.vars = \"SampleID\", plot_convergence = TRUE)\n",
    "\n",
    "## cluster\n",
    "nPC <- min(PC_selection_harmony(obj.GBM.lympho)$PCselect)\n",
    "obj.GBM.lympho <- obj.GBM.lympho %>% \n",
    "                  RunUMAP(reduction = \"harmony\", dims = 1:nPC, umap.method = \"uwot\") %>%\n",
    "                  RunTSNE(reduction = \"harmony\", dims = 1:nPC) %>%\n",
    "                  FindNeighbors(reduction = \"harmony\", dims = 1:nPC) %>%\n",
    "                  FindClusters(resolution=0.1) %>% FindClusters(resolution=0.2) %>% FindClusters(resolution=0.3)\n",
    "colnames(obj.GBM.lympho@meta.data) <- gsub(\"RNA_snn_res.0.\",\"r0\", colnames(obj.GBM.lympho@meta.data))"
   ]
  },
  {
   "cell_type": "code",
   "execution_count": null,
   "id": "f0445cc3-9855-412e-80be-6e5ce68908ee",
   "metadata": {
    "execution": {
     "iopub.execute_input": "2025-07-07T03:06:39.745518Z",
     "iopub.status.busy": "2025-07-07T03:06:39.742383Z",
     "iopub.status.idle": "2025-07-07T03:06:41.656906Z",
     "shell.execute_reply": "2025-07-07T03:06:41.655674Z"
    },
    "tags": []
   },
   "outputs": [],
   "source": [
    "marker_list <- c('PTPRC', 'LYN', 'HLA-DQB1',\n",
    "                 'CD3D', 'CD3E', 'CD3G', 'CD4', 'CTLA4', 'FOXP3',\n",
    "                 'CD8A', 'CD8B', 'GZMB', 'GNLY', 'PRF1', 'NKG7', 'KLRD1', 'NCAM1',\n",
    "                 'CD79A', 'MS4A1')\n",
    "\n",
    "options(repr.plot.height = 5, repr.plot.width = 4)\n",
    "VlnPlot(obj.GBM.lympho, group.by = 'r02',\n",
    "        features = marker_list,\n",
    "        pt.size = 0, cols = pal_igv(\"default\")(51),\n",
    "        slot = 'data',assay = 'RNA', raster=FALSE, stack = TRUE, flip = TRUE)+\n",
    "theme(legend.position = 'none')"
   ]
  },
  {
   "cell_type": "code",
   "execution_count": null,
   "id": "6f5751e8-a6ab-4a67-a020-ff7e3e481dab",
   "metadata": {
    "execution": {
     "iopub.execute_input": "2025-07-05T14:18:09.579179Z",
     "iopub.status.busy": "2025-07-05T14:18:09.576891Z",
     "iopub.status.idle": "2025-07-05T14:18:28.674879Z",
     "shell.execute_reply": "2025-07-05T14:18:28.671425Z"
    },
    "tags": []
   },
   "outputs": [],
   "source": [
    "## cluster DEG\n",
    "Idents(obj.GBM.lympho) <- factor(obj.GBM.lympho$r02, levels = 3:0)\n",
    "cluster_deg <- FindAllMarkers(obj.GBM.lympho, assay = \"RNA\", slot = \"data\", \n",
    "                             logfc.threshold = 0.25, min.pct = 0.1, test.use = \"wilcox\")\n",
    "rownames(cluster_deg) <- NULL"
   ]
  },
  {
   "cell_type": "markdown",
   "id": "99148d97-fe21-4b8c-a8ab-5fdb6579a6a1",
   "metadata": {},
   "source": [
    "## assign  mCT/dCT/oCT/gCT"
   ]
  },
  {
   "cell_type": "code",
   "execution_count": null,
   "id": "81c75510-7397-47dc-b42f-90bc57d68d6b",
   "metadata": {
    "execution": {
     "iopub.execute_input": "2025-07-07T03:07:06.995624Z",
     "iopub.status.busy": "2025-07-07T03:07:06.992482Z",
     "iopub.status.idle": "2025-07-07T03:07:07.065939Z",
     "shell.execute_reply": "2025-07-07T03:07:07.064855Z"
    },
    "tags": []
   },
   "outputs": [],
   "source": [
    "obj.GBM.lympho@meta.data <- obj.GBM.lympho@meta.data %>% \n",
    "                            mutate(dCT = ext_list(CellType)) %>%\n",
    "                            mutate(mCT = case_when(r02 == \"0\" ~ \"CD4T\",\n",
    "                                                   r02 == \"1\" ~ \"Microglia\",\n",
    "                                                   r02 == \"2\" ~ \"NK\",\n",
    "                                                   r02 == \"3\" ~ \"Treg\",\n",
    "                                                   TRUE ~ 'Others'))\n",
    "table(obj.GBM.lympho$mCT, obj.GBM.lympho$CellType, obj.GBM.lympho$gCT, obj.GBM.lympho$oCT)"
   ]
  },
  {
   "cell_type": "code",
   "execution_count": null,
   "id": "83158eca-b4f4-47a2-9385-abb46b7c5fbd",
   "metadata": {
    "execution": {
     "iopub.execute_input": "2025-08-11T15:52:36.827573Z",
     "iopub.status.busy": "2025-08-11T15:52:36.824195Z",
     "iopub.status.idle": "2025-08-11T15:52:36.842627Z",
     "shell.execute_reply": "2025-08-11T15:52:36.840694Z"
    },
    "tags": []
   },
   "outputs": [],
   "source": [
    "obj.GBM.other <- subset(obj.GBM, mCT != 'Lymphoid')\n",
    "obj.GBM.lympho@meta.data <- obj.GBM.lympho@meta.data[, names(obj.GBM.other@meta.data)]\n",
    "obj.GBM <- merge(obj.GBM.lympho, obj.GBM.other)"
   ]
  },
  {
   "cell_type": "markdown",
   "id": "0c5804f0-27c9-4a61-a781-d83f4207ae4c",
   "metadata": {},
   "source": [
    "# run UMAP"
   ]
  },
  {
   "cell_type": "code",
   "execution_count": null,
   "id": "9636d625-c0d8-497d-85fd-c9b65bb840b3",
   "metadata": {
    "execution": {
     "iopub.execute_input": "2025-08-11T15:53:08.266508Z",
     "iopub.status.busy": "2025-08-11T15:53:08.263199Z",
     "iopub.status.idle": "2025-08-11T15:53:08.283456Z",
     "shell.execute_reply": "2025-08-11T15:53:08.281182Z"
    },
    "tags": []
   },
   "outputs": [],
   "source": [
    "obj.GBM <- obj.GBM %>%\n",
    "           NormalizeData(normalization.method = \"LogNormalize\", scale.factor = 10000, verbose = F) %>%\n",
    "           FindVariableFeatures(selection.method = \"vst\", nfeatures = 3000, verbose = F) %>%\n",
    "           ScaleData(vars.to.regress = c(\"nCount_RNA\"), verbose = F) %>%\n",
    "           RunPCA(verbose = F)  %>% \n",
    "           RunHarmony(group.by.vars = \"SampleID\", plot_convergence = TRUE)\n",
    "\n",
    "## cluster\n",
    "nPC <- min(PC_selection_harmony(obj.GBM)$PCselect)\n",
    "obj.GBM <- obj.GBM %>% \n",
    "           RunUMAP(reduction = \"harmony\", dims = 1:nPC, umap.method = \"uwot\") %>%\n",
    "           RunTSNE(reduction = \"harmony\", dims = 1:nPC)"
   ]
  },
  {
   "cell_type": "code",
   "execution_count": null,
   "id": "c756f326-5202-4261-8e38-1f7946d76c07",
   "metadata": {
    "execution": {
     "iopub.execute_input": "2025-08-11T15:53:36.301859Z",
     "iopub.status.busy": "2025-08-11T15:53:36.298316Z",
     "iopub.status.idle": "2025-08-11T15:53:36.319349Z",
     "shell.execute_reply": "2025-08-11T15:53:36.317047Z"
    },
    "tags": []
   },
   "outputs": [],
   "source": [
    "options(repr.plot.height = 5, repr.plot.width = 25)\n",
    "select <- 'umap'\n",
    "DimPlot_scCustom(obj.GBM, pt.size = .1, group.by = \"gCT\", reduction = select, label = TRUE, label.size = 4, colors_use = pal_igv(\"default\")(51))|\n",
    "DimPlot_scCustom(obj.GBM, pt.size = .1, group.by = \"mCT\", reduction = select, label = TRUE, label.size = 4, colors_use = pal_igv(\"default\")(51))|\n",
    "DimPlot_scCustom(obj.GBM, pt.size = .1, group.by = \"dCT\", reduction = select, label = TRUE, label.size = 4, colors_use = pal_igv(\"default\")(51))"
   ]
  },
  {
   "cell_type": "code",
   "execution_count": null,
   "id": "e1c3b37e-73e8-460a-9abb-cf34d6c1961f",
   "metadata": {
    "execution": {
     "iopub.execute_input": "2025-07-28T15:22:41.358955Z",
     "iopub.status.busy": "2025-07-28T15:22:41.354013Z",
     "iopub.status.idle": "2025-07-28T15:22:41.398467Z",
     "shell.execute_reply": "2025-07-28T15:22:41.396722Z"
    },
    "tags": []
   },
   "outputs": [],
   "source": [
    "obj.GBM@meta.data[,c('SampleType', 'Sex', 'SampleID')] %>% .[!duplicated(.$SampleID),] %$% table(.$SampleType, .$Sex)\n",
    "table(obj.GBM$SampleType)"
   ]
  },
  {
   "cell_type": "markdown",
   "id": "e10e5683-3a0c-4565-b0eb-1a2c447f1d93",
   "metadata": {},
   "source": [
    "# save"
   ]
  },
  {
   "cell_type": "code",
   "execution_count": null,
   "id": "a56cfa40-78cd-4574-972f-aa0fa256d03f",
   "metadata": {
    "execution": {
     "iopub.execute_input": "2025-07-28T15:32:20.346462Z",
     "iopub.status.busy": "2025-07-28T15:32:20.343141Z",
     "iopub.status.idle": "2025-07-28T15:39:46.175554Z",
     "shell.execute_reply": "2025-07-28T15:39:46.173290Z"
    },
    "tags": []
   },
   "outputs": [],
   "source": [
    "saveRDS(obj.GBM, 'obj.GBM.use.rds')"
   ]
  }
 ],
 "metadata": {
  "kernelspec": {
   "display_name": "R4.2.0",
   "language": "R",
   "name": "r4.2.0"
  },
  "language_info": {
   "codemirror_mode": "r",
   "file_extension": ".r",
   "mimetype": "text/x-r-source",
   "name": "R",
   "pygments_lexer": "r",
   "version": "4.2.0"
  }
 },
 "nbformat": 4,
 "nbformat_minor": 5
}
