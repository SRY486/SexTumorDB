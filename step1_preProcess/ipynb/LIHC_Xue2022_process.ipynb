{
 "cells": [
  {
   "cell_type": "markdown",
   "id": "df384d9d-95db-4175-88aa-04836132d094",
   "metadata": {},
   "source": [
    "# sample match"
   ]
  },
  {
   "cell_type": "code",
   "execution_count": null,
   "id": "0cc7e660-b73e-436a-b45c-09059229b6f5",
   "metadata": {
    "execution": {
     "iopub.execute_input": "2025-05-14T08:42:48.331252Z",
     "iopub.status.busy": "2025-05-14T08:42:48.325993Z",
     "iopub.status.idle": "2025-05-14T08:42:48.452805Z",
     "shell.execute_reply": "2025-05-14T08:42:48.451423Z"
    },
    "tags": []
   },
   "outputs": [],
   "source": [
    "# According to the supp1 table of article+meta info of GSA\n",
    "meta1 <- read.xlsx('/project/sex_cancer/data/LIHC_Xue2022/supp1_patient_info.xlsx', sheet = 2,startRow = 3) %>%\n",
    "         subset(Cancer_type == 'Hepatocellular carcinoma') %>% subset(M == 0) \n",
    "meta2 <- read.xlsx('/project/sex_cancer/data/LIHC_Xue2022/supp1_patient_info.xlsx', sheet = 3,startRow = 3, rowNames = T) %>% \n",
    "         transform(Patient = strsplit2(Sample, split = '_')[,1]) %>% subset(Patient %in% meta1$Patient) %>%\n",
    "         dplyr::select(c('Patient', 'Sample', 'Number.of.cells.after.QC', 'Number.of.Reads', 'Total.Genes.Detected'))\n",
    "meta3 <- merge(meta2, meta1, by = 'Patient', all = TRUE)\n",
    "meta4 <- read.xlsx('/project/sex_cancer/data/LIHC_Xue2022/GSA_HRA001748.xlsx', sheet = 4) %>% \n",
    "         dplyr::select(c('Accession', 'Run.title')) %>% dplyr::rename(c('Sample' = 'Run.title')) %>%\n",
    "         subset(Sample %in% meta3$Sample)\n",
    "\n",
    "meta <- merge(meta4, meta3, by = 'Sample') %>% .[grepl('_HCC$', .$Sample),] \n",
    "select.F <- meta %>% subset(Gender == 'F') %>% .[order(.$Accession),] %>% .[order(-.$Number.of.cells.after.QC),] %>% subset(Number.of.cells.after.QC>5000)\n",
    "select.M <- meta %>% subset(Gender == 'M') %>% .[order(.$Accession),] %>% .[order(-.$Number.of.cells.after.QC),] %>% subset(Number.of.cells.after.QC>5000) \n",
    "match_data <- rbind(select.F, select.M) %>%\n",
    "              transform(Sex = ifelse(Gender == 'F', 1, 0)) %>%\n",
    "              dplyr::rename(c('Age' = \"Age..years.\"))\n",
    "head(match_data, n = 2)\n",
    "\n",
    "match_model <- matchit(formula = Sex ~ Age,\n",
    "                       data = match_data,\n",
    "                       method = \"nearest\", \n",
    "                       distance = \"logit\",\n",
    "                       ratio = 1, \n",
    "                       replace = FALSE)\n",
    "matched_data <- match_data(match_model)\n",
    "\n",
    "matched_data <- matched_data %>% rename_with(~ str_replace_all(.x, \"\\\\.{1,}\", \"_\") |> str_replace(\"_$\", \"\"))"
   ]
  },
  {
   "cell_type": "markdown",
   "id": "2c0adae2-50b7-4307-be45-669bf3aecc8e",
   "metadata": {},
   "source": [
    "# load data"
   ]
  },
  {
   "cell_type": "code",
   "execution_count": null,
   "id": "9548f681-8d88-438d-823d-053b04a282da",
   "metadata": {
    "execution": {
     "iopub.execute_input": "2025-06-05T10:02:42.548743Z",
     "iopub.status.busy": "2025-06-05T10:02:42.545685Z",
     "iopub.status.idle": "2025-06-05T10:03:59.355946Z",
     "shell.execute_reply": "2025-06-05T10:03:59.354693Z"
    },
    "tags": []
   },
   "outputs": [],
   "source": [
    "obj.LIHC <- readRDS('/project/sex_cancer/data/LIHC_Xue2022/Seurat_com.counts.seurat_rm.hvg2000_PC15_res1.rds')\n",
    "obj.LIHC"
   ]
  },
  {
   "cell_type": "markdown",
   "id": "eb38b976-458a-4dcd-b1b3-d8983fe786ef",
   "metadata": {},
   "source": [
    "# add meta.data"
   ]
  },
  {
   "cell_type": "code",
   "execution_count": null,
   "id": "0dbd88ad-1171-4d26-962b-35ebcb4ffe03",
   "metadata": {
    "execution": {
     "iopub.execute_input": "2025-06-05T10:06:39.476330Z",
     "iopub.status.busy": "2025-06-05T10:06:39.473080Z",
     "iopub.status.idle": "2025-06-05T10:06:39.526407Z",
     "shell.execute_reply": "2025-06-05T10:06:39.525223Z"
    },
    "tags": []
   },
   "outputs": [],
   "source": [
    "meta <- matched_data\n",
    "## select partial info\n",
    "meta_select <- meta %>% dplyr::select('Sample', 'Accession', 'Gender', 'Age', 'Tumor_size_cm', 'Differentiation', \n",
    "                                      'Venous_invasion', 'T', 'N', 'M', 'TNM_stage', 'BCLC_stage',\n",
    "                                      'Cirrhosis', 'Virus', 'Relapse_state_Yes_0', 'FPS_time', 'OS_state_Yes_0', 'OS_time')\n",
    "\n",
    "## extract barcode order\n",
    "cell_order <- rownames(obj.LIHC@meta.data)\n",
    "obj.LIHC@meta.data <- obj.LIHC@meta.data %>% \n",
    "                      transform(barcode = rownames(.), Accession = orig.ident) %>%\n",
    "                      merge(., meta_select, by = 'Accession', all = TRUE) %>%\n",
    "                      dplyr::select(-'Sample.x') %>% dplyr::rename(c('Sample' = 'Sample.y')) %>%\n",
    "                      `rownames<-`(., .$barcode) %>%\n",
    "                      dplyr::rename(c('Sex' = 'Gender', 'SampleID' = 'orig.ident')) %>%\n",
    "                      transform(Cohort = \"LIHC_Xue2022\") %>%\n",
    "                      transform(SampleType = 'Tumor')  %>%\n",
    "                      transform(Chemistry = \"10x 3' v3\") %>%\n",
    "                      .[cell_order,]"
   ]
  },
  {
   "cell_type": "markdown",
   "id": "d130736a-b94a-4ce5-b9da-259fe71167db",
   "metadata": {
    "execution": {
     "iopub.execute_input": "2025-06-05T03:21:46.540829Z",
     "iopub.status.busy": "2025-06-05T03:21:46.537595Z",
     "iopub.status.idle": "2025-06-05T03:21:46.666264Z",
     "shell.execute_reply": "2025-06-05T03:21:46.665146Z"
    },
    "jupyter": {
     "outputs_hidden": true
    },
    "tags": []
   },
   "source": [
    "# cell type annotation"
   ]
  },
  {
   "cell_type": "markdown",
   "id": "2e472c41-80d2-4221-a021-8dd3bf3b8284",
   "metadata": {},
   "source": [
    "## mCT annotation"
   ]
  },
  {
   "cell_type": "code",
   "execution_count": null,
   "id": "d6616b8d-53c1-4584-92a4-873d243b7d23",
   "metadata": {
    "execution": {
     "iopub.execute_input": "2025-06-20T04:43:47.919178Z",
     "iopub.status.busy": "2025-06-20T04:43:47.916095Z",
     "iopub.status.idle": "2025-06-20T04:43:50.136966Z",
     "shell.execute_reply": "2025-06-20T04:43:50.135863Z"
    },
    "tags": []
   },
   "outputs": [],
   "source": [
    "obj.LIHC <- obj.LIHC %>%\n",
    "            NormalizeData(normalization.method = \"LogNormalize\", scale.factor = 10000, verbose = F) %>%\n",
    "            FindVariableFeatures(selection.method = \"vst\", nfeatures = 2000, verbose = F) %>%\n",
    "            ScaleData(vars.to.regress = c(\"percent.mt\"), verbose = F) %>% \n",
    "            RunPCA(verbose = F) %>% \n",
    "            RunHarmony(group.by.vars = \"Accession\", plot_convergence = TRUE)\n",
    "\n",
    "## cluster\n",
    "nPC <- min(PC_selection_harmony(obj.LIHC)$PCselect)\n",
    "obj.LIHC <- obj.LIHC %>% \n",
    "            RunUMAP(reduction = \"harmony\", dims = 1:nPC, umap.method = \"uwot\") %>%\n",
    "            RunTSNE(reduction = \"harmony\", dims = 1:nPC) %>%\n",
    "            FindNeighbors(reduction = \"harmony\", dims = 1:nPC) %>%\n",
    "            FindClusters(resolution=0.1) %>% FindClusters(resolution=0.2) %>% FindClusters(resolution=0.3)\n",
    "colnames(obj.LIHC@meta.data) <- gsub(\"RNA_snn_res.0.\",\"r0\", colnames(obj.LIHC@meta.data))"
   ]
  },
  {
   "cell_type": "code",
   "execution_count": null,
   "id": "e74cba6f-8447-4da3-95d5-34ec5f9e0c75",
   "metadata": {
    "execution": {
     "iopub.execute_input": "2025-06-24T06:32:32.809846Z",
     "iopub.status.busy": "2025-06-24T06:32:32.806126Z",
     "iopub.status.idle": "2025-06-24T06:32:33.052751Z",
     "shell.execute_reply": "2025-06-24T06:32:33.051510Z"
    },
    "tags": []
   },
   "outputs": [],
   "source": [
    "Idents(obj.LIHC) <- factor(obj.LIHC$r01, levels = 15:0)\n",
    "cluster_deg <- FindAllMarkers(obj.LIHC, assay = \"RNA\", slot = \"data\", \n",
    "                             logfc.threshold = 0.25, min.pct = 0.1, test.use = \"wilcox\")\n",
    "rownames(cluster_deg) <- NULL"
   ]
  },
  {
   "cell_type": "code",
   "execution_count": null,
   "id": "c09d3302-231f-4941-8e12-928061618968",
   "metadata": {
    "execution": {
     "iopub.execute_input": "2025-06-24T02:20:57.633866Z",
     "iopub.status.busy": "2025-06-24T02:20:57.630800Z",
     "iopub.status.idle": "2025-06-24T02:20:57.650672Z",
     "shell.execute_reply": "2025-06-24T02:20:57.648836Z"
    },
    "tags": []
   },
   "outputs": [],
   "source": [
    "## marker expression\n",
    "marker_list <- c('PTPRC', 'CD3D', 'CD8A', 'CD4', 'NKG7', 'TRDC', 'FOXP3', 'CD79A', 'MS4A1', ## lymphoid\n",
    "                 'CD14', 'CD68', 'CD163', 'CD1C', 'LAMP3', 'CSF3R', 'S100A8', 'CLEC10A', 'TPSAB1', ## myeloid 'CD16', 'TPSAB1',\n",
    "                 'VWF', 'COL1A1', # stromal cell\n",
    "                 'ALB', 'EPCAM') ## epithelial"
   ]
  },
  {
   "cell_type": "code",
   "execution_count": null,
   "id": "923d6eea-683c-4f77-ba72-5e782fe43e5d",
   "metadata": {
    "collapsed": true,
    "execution": {
     "iopub.execute_input": "2025-06-24T06:47:16.074544Z",
     "iopub.status.busy": "2025-06-24T06:47:16.072980Z",
     "iopub.status.idle": "2025-06-24T06:47:16.219223Z",
     "shell.execute_reply": "2025-06-24T06:47:16.217856Z"
    },
    "jupyter": {
     "outputs_hidden": true
    },
    "tags": []
   },
   "outputs": [],
   "source": [
    "## drop C15\n",
    "obj.LIHC <- obj.LIHC %>% subset(r01 %in% c('15') == FALSE)\n",
    "obj.LIHC@meta.data <- obj.LIHC@meta.data %>%\n",
    "                      mutate(mCT = case_when(r01 %in% c('2', '10', '14') ~ 'Epi',\n",
    "                                             r01 %in% c('0', '4', '5', '8') ~ 'NK/T',\n",
    "                                             r01 %in% c('1', '11', '12', '13') ~ 'Myeloid',\n",
    "                                             r01 %in% c('7', '9') ~ 'B',\n",
    "                                             r01 %in% c('3') ~ 'Endothelial',\n",
    "                                             r01 %in% c('6') ~ 'Fibroblast',\n",
    "                                             # r01 %in% c('15') ~ 'Others',\n",
    "                                             TRUE ~ 'Others'  \n",
    "                                             )) %>%\n",
    "                        transform(mCT =  factor(mCT, levels = c('Tumor', 'NK/T', 'B', 'Myeloid', 'Endothelial', 'Fibroblast')))\n",
    "\n",
    "obj.LIHC@meta.data <- obj.LIHC@meta.data %>%\n",
    "                      dplyr::select(-c('r03', 'r02', 'RNA_snn_res.1', 'seurat_clusters', 'Accession'))"
   ]
  },
  {
   "cell_type": "markdown",
   "id": "e7abf49f-3244-4303-8b43-cfc0174b2cf6",
   "metadata": {},
   "source": [
    "## assign Epi"
   ]
  },
  {
   "cell_type": "code",
   "execution_count": null,
   "id": "4cbb062d-c279-40a6-b5a5-5e05b68f2fa3",
   "metadata": {
    "execution": {
     "iopub.execute_input": "2025-06-24T02:59:47.077437Z",
     "iopub.status.busy": "2025-06-24T02:59:47.074230Z",
     "iopub.status.idle": "2025-06-24T03:01:23.300789Z",
     "shell.execute_reply": "2025-06-24T03:01:23.298166Z"
    },
    "tags": []
   },
   "outputs": [],
   "source": [
    "obj.LIHC.epi <- obj.LIHC %>% subset(r01 %in% c(2,10,14))\n",
    "obj.LIHC.epi"
   ]
  },
  {
   "cell_type": "markdown",
   "id": "6154e5a4-fa4d-424f-8c99-1594efdf3168",
   "metadata": {},
   "source": [
    "## assign Myeloid"
   ]
  },
  {
   "cell_type": "code",
   "execution_count": null,
   "id": "44e65632-2de1-489a-938f-70778be5ad60",
   "metadata": {},
   "outputs": [],
   "source": [
    "marker_list <- c('CD163','CD68','ITGAX','MARCO', 'MRC1', 'SLC40A1', 'SPP1', ## Mph\n",
    "                 'CD14', 'FCGR3A','FCN1', 'VCAN',  ## monocyte\n",
    "                 'TPSAB1', ## mast cell\n",
    "                 'CSF3R', 'S100A8', 'S100A9', ## neutrophil\n",
    "                 'CD1C', 'IDO1', 'CLEC4C', 'CSF2RA', 'LAMP3', 'CLEC10A')  ## DC"
   ]
  },
  {
   "cell_type": "code",
   "execution_count": null,
   "id": "0cb6bb65-b20f-4556-8564-2ce10b7965cb",
   "metadata": {
    "execution": {
     "iopub.execute_input": "2025-06-25T10:15:22.481320Z",
     "iopub.status.busy": "2025-06-25T10:15:22.480144Z",
     "iopub.status.idle": "2025-06-25T10:15:30.189748Z",
     "shell.execute_reply": "2025-06-25T10:15:30.188347Z"
    },
    "tags": []
   },
   "outputs": [],
   "source": [
    "obj.LIHC.mye <- obj.LIHC %>% subset(mCT == 'Myeloid')\n",
    "obj.LIHC.mye\n",
    "\n",
    "## anchor-based integration\n",
    "sampleList = unique(ext_list(obj.LIHC.mye$orig.ident)); sampleList; length(sampleList)\n",
    "obj.anchor <- lapply(sampleList, function(sampleID){\n",
    "                       obj <- obj.LIHC.mye %>% \n",
    "                              subset(orig.ident == sampleID) %>%\n",
    "                              NormalizeData(normalization.method = \"LogNormalize\", scale.factor = 10000, verbose = F) %>%\n",
    "                              FindVariableFeatures(selection.method = \"vst\", nfeatures = 1000, verbose = F)\n",
    "                       VariableFeatures(obj) <- union(marker_list, VariableFeatures(obj))\n",
    "                       obj <- obj %>% ScaleData(vars.to.regress = c(\"nCount_RNA\", \"percent.mt\"),verbose = F)\n",
    "                       return(obj)\n",
    "                 })\n",
    "names(obj.anchor) <- sampleList\n",
    "## FindIntegrationAnchors\n",
    "obj.anchor <- FindIntegrationAnchors(obj.anchor, dims = 1:30)\n",
    "obj.anchor <- IntegrateData(anchorset = obj.anchor, dims = 1:30, verbose = F)\n",
    "\n",
    "## scale data+runPCA\n",
    "obj.anchor <- obj.anchor %>% \n",
    "              ScaleData(verbose = FALSE) %>% \n",
    "              RunPCA(npcs = 50, verbose = F)\n",
    "## Clustering\n",
    "select <- 1:(PC_selection(obj.anchor)$PCselect %>% min())\n",
    "obj.anchor <- obj.anchor %>% \n",
    "               RunUMAP(reduction = \"pca\", dims = select, umap.method = \"uwot\") %>%\n",
    "               RunTSNE(reduction = \"pca\", dims = select) %>%\n",
    "               FindNeighbors(reduction = \"pca\", dims = select) %>%\n",
    "               FindClusters(resolution = 0.1) %>% FindClusters(resolution = 0.2) %>% FindClusters(resolution = 0.3) %>% FindClusters(resolution = 0.4)\n",
    "colnames(obj.anchor@meta.data) <- colnames(obj.anchor@meta.data) %>% gsub(\"integrated_snn_res.0.\", \"myeR0\", .)"
   ]
  },
  {
   "cell_type": "code",
   "execution_count": null,
   "id": "b2c0357b-c3c1-4935-b300-aacae8da8250",
   "metadata": {
    "execution": {
     "iopub.execute_input": "2025-06-26T03:34:24.600490Z",
     "iopub.status.busy": "2025-06-26T03:34:24.597328Z",
     "iopub.status.idle": "2025-06-26T03:34:32.899862Z",
     "shell.execute_reply": "2025-06-26T03:34:32.898667Z"
    },
    "tags": []
   },
   "outputs": [],
   "source": [
    "options(repr.plot.height = 6, repr.plot.width = 8)\n",
    "VlnPlot(obj.anchor, group.by = 'myeR03', features = marker_list, pt.size = 0, raster=FALSE, stack = TRUE, flip = TRUE)+theme(legend.position =  'none')"
   ]
  },
  {
   "cell_type": "code",
   "execution_count": null,
   "id": "8dd8e747-97b9-494a-8fd0-93db8b51d46b",
   "metadata": {
    "collapsed": true,
    "execution": {
     "iopub.execute_input": "2025-06-26T05:50:14.537306Z",
     "iopub.status.busy": "2025-06-26T05:50:14.533654Z",
     "iopub.status.idle": "2025-06-26T05:53:42.092715Z",
     "shell.execute_reply": "2025-06-26T05:53:42.090970Z"
    },
    "jupyter": {
     "outputs_hidden": true
    },
    "tags": []
   },
   "outputs": [],
   "source": [
    "Idents(obj.anchor) <- factor(obj.anchor$myeR03, levels = 14:0)\n",
    "cluster_deg <- FindAllMarkers(obj.anchor, assay = \"RNA\", slot = \"data\", \n",
    "                              logfc.threshold = 0.25, min.pct = 0.1, test.use = \"wilcox\")\n",
    "rownames(cluster_deg) <- NULL"
   ]
  },
  {
   "cell_type": "markdown",
   "id": "66bb4e2c-9b9d-45b8-abf0-b88835d8a4e8",
   "metadata": {},
   "source": [
    "## anno dCT"
   ]
  },
  {
   "cell_type": "code",
   "execution_count": null,
   "id": "80493f6e-fbab-4686-bfe4-3d9e8b3d1a4a",
   "metadata": {
    "execution": {
     "iopub.execute_input": "2025-06-26T06:41:00.640448Z",
     "iopub.status.busy": "2025-06-26T06:41:00.637243Z",
     "iopub.status.idle": "2025-06-26T06:41:00.733799Z",
     "shell.execute_reply": "2025-06-26T06:41:00.732531Z"
    },
    "tags": []
   },
   "outputs": [],
   "source": [
    "obj.LIHC.mye <- obj.anchor\n",
    "obj.LIHC.mye@meta.data <- obj.LIHC.mye@meta.data %>%\n",
    "                          mutate(dCT = case_when(myeR03 %in% c('0', '1', '4', '6', '9') ~ 'Mph',\n",
    "                                                 myeR03 %in% c('2', '7') ~ 'Mono',\n",
    "                                                 myeR03 %in% c('13') ~ 'Mast', \n",
    "                                                 myeR03 %in% c('5', '10') ~ 'Neu',\n",
    "                                                 myeR03 %in% c('3', '8', '11', '12', '14') ~ 'DC' \n",
    "                                                 ))\n",
    "table(obj.LIHC.mye$myeR03, obj.LIHC.mye$dCT)\n",
    "obj.LIHC.mye@meta.data <- obj.LIHC.mye@meta.data %>% dplyr::select(-c('myeR02', 'seurat_clusters', 'myeR01', 'myeR04'))"
   ]
  },
  {
   "cell_type": "markdown",
   "id": "c3e45643",
   "metadata": {},
   "source": [
    "## NK/T annotation"
   ]
  },
  {
   "cell_type": "code",
   "execution_count": null,
   "id": "3a1c5585-a7e7-45ed-8652-a7093f2c98ec",
   "metadata": {},
   "outputs": [],
   "source": [
    "marker_list <- c('CD3D', 'CD3E', 'CD3G', 'TRDC',\n",
    "                 'CD4','FOXP3', 'CTLA4', ## Treg: 'FOXP3', 'CTLA4'\n",
    "                 'CD8A', 'CD8B', 'CD28', 'GZMA', 'GZMH', \n",
    "                 'TIGIT', 'PDCD1', 'TCF7',\n",
    "                 'GNLY', 'NKG7', 'KLRD1', 'NCAM1', 'FCGR3A', 'PRF1', ## NK NCAM1-CD56 FCGR3A-CD16\n",
    "                 'MKI67', 'TOP2A', 'STMN1', 'TOX')"
   ]
  },
  {
   "cell_type": "code",
   "execution_count": null,
   "id": "1ef90a42",
   "metadata": {
    "execution": {
     "iopub.execute_input": "2025-06-26T07:27:54.153275Z",
     "iopub.status.busy": "2025-06-26T07:27:54.152370Z",
     "iopub.status.idle": "2025-06-26T07:28:05.703790Z",
     "shell.execute_reply": "2025-06-26T07:28:05.702644Z"
    },
    "tags": []
   },
   "outputs": [],
   "source": [
    "obj.LIHC.nkt <- obj.LIHC %>% subset(mCT == 'NK/T')\n",
    "sampleList = unique(ext_list(obj.LIHC.nkt$orig.ident)); sampleList; length(sampleList)\n",
    "obj.anchor <- lapply(sampleList, function(sampleID){\n",
    "                       obj <- obj.LIHC.nkt %>% \n",
    "                              subset(orig.ident == sampleID) %>%\n",
    "                              NormalizeData(normalization.method = \"LogNormalize\", scale.factor = 10000, verbose = F) %>%\n",
    "                              FindVariableFeatures(selection.method = \"vst\", nfeatures = 1000, verbose = F)\n",
    "                       VariableFeatures(obj) <- union(marker_list, VariableFeatures(obj))\n",
    "                       obj <- obj %>% ScaleData(vars.to.regress = c(\"nCount_RNA\", \"percent.mt\"),verbose = F)\n",
    "                       return(obj)\n",
    "                 })\n",
    "names(obj.anchor) <- sampleList\n",
    "## FindIntegrationAnchors\n",
    "obj.anchor <- FindIntegrationAnchors(obj.anchor, dims = 1:30)\n",
    "obj.anchor <- IntegrateData(anchorset = obj.anchor, dims = 1:30, verbose = F)\n",
    "\n",
    "## scale data+runPCA\n",
    "obj.anchor <- obj.anchor %>% \n",
    "              ScaleData(verbose = FALSE) %>% \n",
    "              RunPCA(npcs = 50, verbose = F)\n",
    "#### Clustering\n",
    "select <- 1:(PC_selection(obj.anchor)$PCselect %>% min())\n",
    "obj.anchor <- obj.anchor %>% \n",
    "               RunUMAP(reduction = \"pca\", dims = select, umap.method = \"uwot\") %>% \n",
    "               RunTSNE(reduction = \"pca\", dims = select) %>%\n",
    "               FindNeighbors(reduction = \"pca\", dims = select) %>%\n",
    "               FindClusters(resolution = 0.1) %>% FindClusters(resolution = 0.2) %>% FindClusters(resolution = 0.3) %>% FindClusters(resolution = 0.4)\n",
    "colnames(obj.anchor@meta.data) <- colnames(obj.anchor@meta.data) %>% gsub(\"integrated_snn_res.0.\", \"nktR0\", .)"
   ]
  },
  {
   "cell_type": "code",
   "execution_count": null,
   "id": "7255bd03",
   "metadata": {
    "collapsed": true,
    "execution": {
     "iopub.execute_input": "2025-06-27T07:39:35.239012Z",
     "iopub.status.busy": "2025-06-27T07:39:35.235707Z",
     "iopub.status.idle": "2025-06-27T07:47:24.131785Z",
     "shell.execute_reply": "2025-06-27T07:47:24.128630Z"
    },
    "jupyter": {
     "outputs_hidden": true
    },
    "tags": []
   },
   "outputs": [],
   "source": [
    "Idents(obj.anchor) <- factor(obj.anchor$nktR03, levels = 12:0)\n",
    "cluster_deg <- FindAllMarkers(obj.anchor, assay = \"RNA\", slot = \"data\",\n",
    "                              logfc.threshold = 0.25, min.pct = 0.1, test.use = \"wilcox\")\n",
    "rownames(cluster_deg) <- NULL"
   ]
  },
  {
   "cell_type": "code",
   "execution_count": null,
   "id": "f622b606",
   "metadata": {
    "execution": {
     "iopub.execute_input": "2025-06-27T08:14:53.487839Z",
     "iopub.status.busy": "2025-06-27T08:14:53.483687Z",
     "iopub.status.idle": "2025-06-27T08:14:53.576324Z",
     "shell.execute_reply": "2025-06-27T08:14:53.574867Z"
    },
    "tags": []
   },
   "outputs": [],
   "source": [
    "obj.LIHC.nkt <- obj.anchor\n",
    "obj.LIHC.nkt@meta.data <- obj.LIHC.nkt@meta.data %>%\n",
    "                          mutate(dCT = case_when(nktR03 %in% c('0', '10') ~ 'CD4T',\n",
    "                                                 nktR03 %in% c('1', '4', '5', '8', '9', '11') ~ 'CD8T',\n",
    "                                                 nktR03 %in% c('2') ~ 'Treg',\n",
    "                                                 nktR03 %in% c('3') ~ 'NK',\n",
    "                                                 nktR03 %in% c('7') ~ 'MAIT',\n",
    "                                                 nktR03 %in% c('6', '12') ~ 'γδT',\n",
    "                                                 ))\n",
    "obj.LIHC.nkt@meta.data <- obj.LIHC.nkt@meta.data %>% \n",
    "                          dplyr::select(-c('seurat_clusters', 'nktR01', 'nktR02', 'nktR04'))"
   ]
  },
  {
   "cell_type": "markdown",
   "id": "3c60b53d-ab9c-488f-8236-2549fe27763e",
   "metadata": {},
   "source": [
    "## integrate annotation"
   ]
  },
  {
   "cell_type": "code",
   "execution_count": null,
   "id": "5fd68e02-1087-4396-b336-a88631b41b6b",
   "metadata": {
    "execution": {
     "iopub.execute_input": "2025-06-27T12:57:01.286210Z",
     "iopub.status.busy": "2025-06-27T12:57:01.283063Z",
     "iopub.status.idle": "2025-06-27T12:57:01.330629Z",
     "shell.execute_reply": "2025-06-27T12:57:01.329515Z"
    },
    "tags": []
   },
   "outputs": [],
   "source": [
    "obj.LIHC.other <- obj.LIHC %>% \n",
    "                  subset(barcode %in% c(obj.LIHC.nkt$barcode, obj.LIHC.mye$barcode) == FALSE)"
   ]
  },
  {
   "cell_type": "code",
   "execution_count": null,
   "id": "d330e9c1-23dc-4a70-9ade-db58b9df33b2",
   "metadata": {
    "execution": {
     "iopub.execute_input": "2025-06-27T13:01:24.745298Z",
     "iopub.status.busy": "2025-06-27T13:01:24.742172Z",
     "iopub.status.idle": "2025-06-27T13:01:24.789107Z",
     "shell.execute_reply": "2025-06-27T13:01:24.787892Z"
    },
    "tags": []
   },
   "outputs": [],
   "source": [
    "obj.LIHC.other@meta.data <- obj.LIHC.other@meta.data %>% \n",
    "                            mutate(dCT = case_when(r01 ==  '9' ~ 'plasma',\n",
    "                                                   TRUE ~ mCT)) %>% \n",
    "                            dplyr::select(-'r01')\n",
    "obj.LIHC.nkt@meta.data <- obj.LIHC.nkt@meta.data %>% dplyr::select(-c('r01', 'nktR03')) \n",
    "obj.LIHC.mye@meta.data <- obj.LIHC.mye@meta.data %>% dplyr::select(-c('r01', 'myeR03'))\n",
    "\n",
    "obj.LIHC <- merge(obj.LIHC.other, c(obj.LIHC.nkt, obj.LIHC.mye))"
   ]
  },
  {
   "cell_type": "code",
   "execution_count": null,
   "id": "3ed7b51e-c465-4e29-984f-5b1b1a8ed8af",
   "metadata": {
    "execution": {
     "iopub.execute_input": "2025-06-27T13:11:00.843021Z",
     "iopub.status.busy": "2025-06-27T13:11:00.839310Z",
     "iopub.status.idle": "2025-06-27T13:11:00.911773Z",
     "shell.execute_reply": "2025-06-27T13:11:00.910429Z"
    },
    "tags": []
   },
   "outputs": [],
   "source": [
    "obj.LIHC@meta.data  <-  obj.LIHC@meta.data %>%\n",
    "                            mutate(mCT = case_when(dCT ==  'Endothelial' ~ 'Endo',\n",
    "                                                   dCT ==  'Fibroblast' ~ 'Fibro',\n",
    "                                                   dCT ==  'plasma' ~ 'B',\n",
    "                                                   TRUE ~ dCT\n",
    "                                                   ))\n",
    "head(obj.LIHC@meta.data, n  = 2)"
   ]
  },
  {
   "cell_type": "code",
   "execution_count": null,
   "id": "4da15e6f-1457-4c50-aa69-994b1c020c51",
   "metadata": {
    "execution": {
     "iopub.execute_input": "2025-06-27T13:16:29.896800Z",
     "iopub.status.busy": "2025-06-27T13:16:29.893311Z",
     "iopub.status.idle": "2025-06-27T13:16:29.971049Z",
     "shell.execute_reply": "2025-06-27T13:16:29.969885Z"
    },
    "tags": []
   },
   "outputs": [],
   "source": [
    "obj.LIHC@meta.data  <-  obj.LIHC@meta.data %>%\n",
    "                            mutate(gCT = case_when(mCT %in% 'Epi' ~ 'Tumor',\n",
    "                                                   mCT %in% c('B', 'NK', 'CD8T', 'Treg', 'CD4T', 'γδT', 'MAIT', 'DC', 'Mph', 'Mono', 'Neu', 'Mast') ~ 'Immune',\n",
    "                                                   mCT %in% c('Endo', 'Fibro') ~ 'Stromal',\n",
    "                                                   TRUE ~ 'Others'))\n",
    "head(obj.LIHC@meta.data, n  = 2)"
   ]
  },
  {
   "cell_type": "markdown",
   "id": "4150545b-9ebe-434f-85ef-d20c45a0a192",
   "metadata": {
    "execution": {
     "iopub.execute_input": "2025-06-27T13:17:31.717806Z",
     "iopub.status.busy": "2025-06-27T13:17:31.714585Z",
     "iopub.status.idle": "2025-06-27T13:17:31.773643Z",
     "shell.execute_reply": "2025-06-27T13:17:31.772310Z"
    },
    "tags": []
   },
   "source": [
    "# add UMAP/PCA info"
   ]
  },
  {
   "cell_type": "code",
   "execution_count": null,
   "id": "d99ec5c4-d441-4dfe-b497-b44586685b48",
   "metadata": {
    "execution": {
     "iopub.execute_input": "2025-06-27T13:25:12.297706Z",
     "iopub.status.busy": "2025-06-27T13:25:12.294464Z",
     "iopub.status.idle": "2025-06-27T13:25:12.608871Z",
     "shell.execute_reply": "2025-06-27T13:25:12.607479Z"
    },
    "tags": []
   },
   "outputs": [],
   "source": [
    "mat <- obj.LIHC@reductions$pca@cell.embeddings[colnames(obj.LIHC),]\n",
    "obj.LIHC[['pca']] <- CreateDimReducObject(embeddings = mat, key = 'PC_', assay = 'RNA')\n",
    "\n",
    "mat <- obj.LIHC@reductions$umap@cell.embeddings[colnames(obj.LIHC),]\n",
    "obj.LIHC[['umap']] <- CreateDimReducObject(embeddings = mat, key = 'umap_', assay = 'RNA')\n",
    "\n",
    "mat <- obj.LIHC@reductions$tsne@cell.embeddings[colnames(obj.LIHC),]\n",
    "obj.LIHC[['tsne']] <- CreateDimReducObject(embeddings = mat, key = 'tSNE_', assay = 'RNA')"
   ]
  },
  {
   "cell_type": "code",
   "execution_count": null,
   "id": "f31b3365-aaac-4202-8322-98ba597808b1",
   "metadata": {
    "execution": {
     "iopub.execute_input": "2025-06-28T10:24:53.600739Z",
     "iopub.status.busy": "2025-06-28T10:24:53.597613Z",
     "iopub.status.idle": "2025-06-28T10:24:53.664846Z",
     "shell.execute_reply": "2025-06-28T10:24:53.663707Z"
    },
    "tags": []
   },
   "outputs": [],
   "source": [
    "obj.LIHC@meta.data <- obj.LIHC@meta.data %>% \n",
    "                      transform(oCT = dCT) %>%\n",
    "                      transform(SampleType = 'Tumor')"
   ]
  },
  {
   "cell_type": "code",
   "execution_count": null,
   "id": "7ab886c3-c709-470d-8807-5e4bef7f6fcc",
   "metadata": {
    "execution": {
     "iopub.execute_input": "2025-06-27T14:33:48.731361Z",
     "iopub.status.busy": "2025-06-27T14:33:48.730257Z",
     "iopub.status.idle": "2025-06-27T14:33:57.941986Z",
     "shell.execute_reply": "2025-06-27T14:33:57.940783Z"
    },
    "tags": []
   },
   "outputs": [],
   "source": [
    "options(repr.plot.height = 5, repr.plot.width = 25)\n",
    "DimPlot_scCustom(obj.LIHC, pt.size = 1, group.by = \"dCT\", reduction = 'umap', label = T, label.size = 4, colors_use = pal_igv(\"default\")(51))|\n",
    "DimPlot_scCustom(obj.LIHC, pt.size = 1, group.by = \"oCT\", reduction = 'umap', label = T, label.size = 4, colors_use = pal_igv(\"default\")(51))|\n",
    "DimPlot_scCustom(obj.LIHC, pt.size = 1, group.by = \"mCT\", reduction = 'umap', label = T, label.size = 4, colors_use = pal_igv(\"default\")(51))|\n",
    "DimPlot_scCustom(obj.LIHC, pt.size = 1, group.by = \"gCT\", reduction = 'umap', label = T, label.size = 4, colors_use = pal_igv(\"default\")(51))"
   ]
  },
  {
   "cell_type": "code",
   "execution_count": null,
   "id": "d1c0e3e0-9be3-4169-b886-e57a17f9c4bb",
   "metadata": {
    "execution": {
     "iopub.execute_input": "2025-07-28T14:11:22.614128Z",
     "iopub.status.busy": "2025-07-28T14:11:22.610911Z",
     "iopub.status.idle": "2025-07-28T14:22:07.574574Z",
     "shell.execute_reply": "2025-07-28T14:22:07.572155Z"
    },
    "tags": []
   },
   "outputs": [],
   "source": [
    "saveRDS(obj.LIHC, 'obj.LIHC.use.rds')"
   ]
  }
 ],
 "metadata": {
  "kernelspec": {
   "display_name": "R4.2.0",
   "language": "R",
   "name": "r4.2.0"
  },
  "language_info": {
   "codemirror_mode": "r",
   "file_extension": ".r",
   "mimetype": "text/x-r-source",
   "name": "R",
   "pygments_lexer": "r",
   "version": "4.2.0"
  }
 },
 "nbformat": 4,
 "nbformat_minor": 5
}
