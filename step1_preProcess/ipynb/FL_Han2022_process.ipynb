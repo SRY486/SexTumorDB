{
 "cells": [
  {
   "cell_type": "markdown",
   "id": "7a0dbf72-7fea-443d-8731-adac0255e1dd",
   "metadata": {
    "execution": {
     "iopub.execute_input": "2025-07-05T13:58:20.853735Z",
     "iopub.status.busy": "2025-07-05T13:58:20.851477Z",
     "iopub.status.idle": "2025-07-05T13:58:20.867865Z",
     "shell.execute_reply": "2025-07-05T13:58:20.864799Z"
    },
    "tags": []
   },
   "source": [
    "# load data\n",
    "follicluar lymphoma - B-cell lymphoma  \n",
    "raw counts not provided in the original article"
   ]
  },
  {
   "cell_type": "code",
   "execution_count": null,
   "id": "8108270e-1734-4985-a2b4-d59b583008e8",
   "metadata": {},
   "outputs": [],
   "source": [
    "adata <- read_h5ad('/project/sex_cancer/data/FL_Han2022/19dc3c7f-1318-401d-b885-e046fd96a13e.h5ad')\n",
    "exp <- adata$X %>% t()\n",
    "meta <- adata$obs\n",
    "\n",
    "## create seurat object\n",
    "obj.FL <- CreateSeuratObject(counts = exp,\n",
    "                             meta.data = meta,\n",
    "                             project = \"FL_Han2022\", assay = \"RNA\", \n",
    "                             min.cells = 0, min.features = 0)\n",
    "\n",
    "## add UMAP embedding\n",
    "obj.FL[['umap']] <- CreateDimReducObject(embeddings = adata$obsm$X_UMAP  %>% {colnames(.) <- c('UMAP_1', 'UMAP_2'); .}, \n",
    "                                         key = 'UMAP_', assay = 'RNA')\n",
    "obj.FL@meta.data <- obj.FL@meta.data %>% mutate_if(~!is.numeric(.), ext_list)"
   ]
  },
  {
   "cell_type": "code",
   "execution_count": null,
   "id": "1355fb01-b0ed-4739-a61b-1139baa1d2c5",
   "metadata": {},
   "outputs": [],
   "source": [
    "## add sample info\n",
    "info <- read_xlsx('/project/sex_cancer/data/FL_Han2022/HanPatientInfo.xlsx',sheet = 2)\n",
    "info$Sample_id <- unique(obj.FL@meta.data$sample_id)\n",
    "\n",
    "meta <- obj.FL@meta.data %>% rownames_to_column('barcode') %>%\n",
    "        merge(info, by = 'sample_id',all = TRUE)\n",
    "names(meta)[26]='Sex'\n",
    "meta=meta[,-c(39:43)]"
   ]
  },
  {
   "cell_type": "markdown",
   "id": "08a09a4e-df1f-4bc0-8e7c-d2bcecb231b7",
   "metadata": {},
   "source": [
    "# modify meta.data"
   ]
  },
  {
   "cell_type": "code",
   "execution_count": null,
   "id": "59cda55b-03ea-4627-b5ba-ac0dc76fdf05",
   "metadata": {
    "execution": {
     "iopub.execute_input": "2025-08-11T15:28:20.228452Z",
     "iopub.status.busy": "2025-08-11T15:28:20.225364Z",
     "iopub.status.idle": "2025-08-11T15:28:20.244279Z",
     "shell.execute_reply": "2025-08-11T15:28:20.241991Z"
    },
    "tags": []
   },
   "outputs": [],
   "source": [
    "obj.FL@meta.data <- obj.FL@meta.data %>%\n",
    "                    dplyr::rename(c('DonorID' = 'SampleID', 'Tissue' = 'tissue', 'Disease' = 'disease')) %>%\n",
    "                    dplyr::rename(c('SampleID' = 'sample_id', 'percent.mt' = 'Ratio.MT')) %>%\n",
    "                    transform(SampleType = ifelse(Disease == 'follicular lymphoma', 'tumor', 'normal')) %>%\n",
    "                    transform(Sex = ifelse(Sex == 'Female', 'F', 'M')) %>%\n",
    "                    dplyr::rename(c('Chemistry' = 'assay'))  %>% \n",
    "                    transform(Cohort = 'FL_Han2022') "
   ]
  },
  {
   "cell_type": "markdown",
   "id": "5c04dfca-40c0-48e8-af8b-d7b4764f32a1",
   "metadata": {},
   "source": [
    "# trans ENSG to symbol"
   ]
  },
  {
   "cell_type": "code",
   "execution_count": null,
   "id": "12c76eb4-34b2-421d-b2e1-0d74abba1cd1",
   "metadata": {
    "execution": {
     "iopub.execute_input": "2025-08-11T15:31:56.164158Z",
     "iopub.status.busy": "2025-08-11T15:31:56.161060Z",
     "iopub.status.idle": "2025-08-11T15:31:56.181054Z",
     "shell.execute_reply": "2025-08-11T15:31:56.178852Z"
    },
    "tags": []
   },
   "outputs": [],
   "source": [
    "hg19 <- get_map('/project/sex_cancer/data/Homo_sapiens.GRCh37.87.gtf') %>% \n",
    "        dplyr::select(c('gene_id', 'gene_name'))\n",
    "\n",
    "## map ENSEMBL ID to gene symbol\n",
    "exp <- GetAssayData(obj.FL, assay = 'RNA', slot = 'counts')\n",
    "gene_keep <- intersect(rownames(exp), hg19$gene_id)\n",
    "exp <- exp[gene_keep,]\n",
    "## merge symbol info\n",
    "exp <- hg19 %>% column_to_rownames('gene_id') %>% .[gene_keep,] %>% cbind(., as_matrix(exp))\n",
    "colnames(exp)[1] <- 'gene_symbol'\n",
    "exp[1:6, 1:6]\n",
    "\n",
    "## aggregate symbols with the same ENSG\n",
    "exp <- exp %>% as.data.frame()\n",
    "exp <- exp %>% mutate_at(vars(2:ncol(exp)), ~ as.numeric(.))\n",
    "exp <- aggregate(. ~ gene_symbol, data = exp, FUN = max)\n",
    "exp <- exp %>% column_to_rownames('gene_symbol') %>% .[,colnames(obj.FL)]"
   ]
  },
  {
   "cell_type": "code",
   "execution_count": null,
   "id": "20db6fc9-4725-45ae-a1db-411736a9a7a5",
   "metadata": {
    "execution": {
     "iopub.execute_input": "2025-07-10T02:35:14.556848Z",
     "iopub.status.busy": "2025-07-10T02:35:14.553548Z",
     "iopub.status.idle": "2025-07-10T02:36:05.917210Z",
     "shell.execute_reply": "2025-07-10T02:36:05.914697Z"
    },
    "tags": []
   },
   "outputs": [],
   "source": [
    "obj.FL <- CreateSeuratObject(counts = exp, meta.data = obj.FL@meta.data[colnames(obj.FL),], min.cells = 0, min.features = 0, project = 'FL_Han2022')\n",
    "obj.FL"
   ]
  },
  {
   "cell_type": "markdown",
   "id": "f7481f03-2404-4030-adae-e5acec7e7a6b",
   "metadata": {},
   "source": [
    "# cell type annotation"
   ]
  },
  {
   "cell_type": "markdown",
   "id": "b438ccf1-983d-409e-ab47-ee94e9eb46d6",
   "metadata": {},
   "source": [
    "## assign dCT"
   ]
  },
  {
   "cell_type": "code",
   "execution_count": null,
   "id": "d7f1af6d-ba8d-4fd3-b3cc-8b14e559530b",
   "metadata": {
    "execution": {
     "iopub.execute_input": "2025-07-10T08:09:10.440736Z",
     "iopub.status.busy": "2025-07-10T08:09:10.437599Z",
     "iopub.status.idle": "2025-07-10T08:09:10.649132Z",
     "shell.execute_reply": "2025-07-10T08:09:10.647783Z"
    },
    "tags": []
   },
   "outputs": [],
   "source": [
    "obj.FL@meta.data <- obj.FL@meta.data %>% \n",
    "                        mutate(dCT = case_when(oCT %in% c('Malignant') ~ 'Malignant',\n",
    "                                               oCT %in% c('CD4_CTL', 'CD4_Naive', 'CD4_Tfh', 'CD4Proliferating') ~ 'CD4T',\n",
    "                                               oCT %in% c('CD4_Treg') ~ 'Treg',\n",
    "                                               oCT %in% c('CD8_Naive', 'CD8_Exh', 'CD8_Eff', 'CD8Proliferating') ~ 'CD8T',\n",
    "                                               oCT %in% c('Tcell_other') ~ 'T_others',\n",
    "                                               oCT %in% c('NKT') ~ 'NKT',\n",
    "                                               oCT %in% c('NormalB') ~ 'B',\n",
    "                                               oCT %in% c('NormalPlasma') ~ 'Plasma',\n",
    "                                               oCT %in% c('Myeloid') ~ 'Myeloid',\n",
    "                                               oCT %in% c('pDC') ~ 'pDC',\n",
    "                                               oCT %in% c('fDC') ~ 'fDC',\n",
    "                                               oCT %in% c('Erythrocyte') ~ 'Erythrocyte',\n",
    "                                               TRUE ~ 'Others'))"
   ]
  },
  {
   "cell_type": "code",
   "execution_count": null,
   "id": "4b8b42b4-c93f-4434-bbd3-8a94c514b12c",
   "metadata": {
    "execution": {
     "iopub.execute_input": "2025-07-10T08:34:42.473609Z",
     "iopub.status.busy": "2025-07-10T08:34:42.470517Z",
     "iopub.status.idle": "2025-07-10T08:34:52.510307Z",
     "shell.execute_reply": "2025-07-10T08:34:52.509175Z"
    },
    "tags": []
   },
   "outputs": [],
   "source": [
    "## marker expreesion\n",
    "marker_list <- c('PTPRC', 'LYN', 'HLA-DQB1',\n",
    "                 'CD3D', 'CD3E', 'CD3G', 'CD4', 'CTLA4', 'FOXP3',\n",
    "                 'CD8A', 'CD8B', 'GZMB', 'GNLY', 'PRF1', 'NKG7', 'KLRD1', 'NCAM1',\n",
    "                 'CD79A', 'MS4A1')\n",
    "\n",
    "options(repr.plot.height = 5, repr.plot.width = 12)\n",
    "VlnPlot(obj.FL, group.by = 'oCT',\n",
    "        features = marker_list,\n",
    "        pt.size = 0, cols = pal_igv(\"default\")(51),\n",
    "        slot = 'counts',assay = 'RNA', raster=FALSE, stack = TRUE, flip = TRUE)+\n",
    "theme(legend.position = 'none')"
   ]
  },
  {
   "cell_type": "markdown",
   "id": "493362fc-1465-4d5a-8c77-d2ef3e839bba",
   "metadata": {},
   "source": [
    "## assign mCT"
   ]
  },
  {
   "cell_type": "code",
   "execution_count": null,
   "id": "1a9c5d5e-eca2-487e-b5ef-3602a192b82b",
   "metadata": {
    "execution": {
     "iopub.execute_input": "2025-07-10T12:50:32.238990Z",
     "iopub.status.busy": "2025-07-10T12:50:32.235409Z",
     "iopub.status.idle": "2025-07-10T12:50:32.309032Z",
     "shell.execute_reply": "2025-07-10T12:50:32.307634Z"
    },
    "tags": []
   },
   "outputs": [],
   "source": [
    "obj.FL@meta.data <- obj.FL@meta.data %>% \n",
    "                        mutate(mCT = case_when(dCT %in% c('CD4T', 'CD8T', 'T_others', 'NKT', 'Treg', 'Malignant', 'B', 'Plasma') ~ 'Lymphoid',\n",
    "                                               dCT %in% c('Myeloid', 'pDC', 'fDC') ~ 'Myeloid',\n",
    "                                               dCT %in% c('Erythrocyte') ~ 'Erythroid',\n",
    "                                               TRUE ~ 'Others'))"
   ]
  },
  {
   "cell_type": "markdown",
   "id": "81158ad6-628a-4fcf-87da-9823e427becb",
   "metadata": {
    "tags": []
   },
   "source": [
    "## assign gCT"
   ]
  },
  {
   "cell_type": "code",
   "execution_count": null,
   "id": "02bff68a-2955-42a9-8ac4-1556a6031169",
   "metadata": {
    "execution": {
     "iopub.execute_input": "2025-08-11T15:33:04.233290Z",
     "iopub.status.busy": "2025-08-11T15:33:04.230230Z",
     "iopub.status.idle": "2025-08-11T15:33:04.249671Z",
     "shell.execute_reply": "2025-08-11T15:33:04.247373Z"
    },
    "tags": []
   },
   "outputs": [],
   "source": [
    "obj.FL@meta.data <- obj.FL@meta.data %>% \n",
    "                        mutate(gCT = case_when(dCT %in% c('B', 'Malignant', 'Plasma') ~ 'Tumor',\n",
    "                                               dCT %in% c('CD4T', 'Treg', 'T_others', 'CD8T', 'NKT', 'Myeloid', 'pDC', 'fDC', 'Erythrocyte') ~ 'Immune',\n",
    "                                               TRUE ~ 'Others'))"
   ]
  },
  {
   "cell_type": "code",
   "execution_count": null,
   "id": "8d2e4c3a-98bd-448c-a9d7-8b461dfa1370",
   "metadata": {
    "execution": {
     "iopub.execute_input": "2025-07-10T12:54:02.744686Z",
     "iopub.status.busy": "2025-07-10T12:54:02.741492Z",
     "iopub.status.idle": "2025-07-10T12:54:10.752694Z",
     "shell.execute_reply": "2025-07-10T12:54:10.750722Z"
    },
    "tags": []
   },
   "outputs": [],
   "source": [
    "options(repr.plot.height = 5, repr.plot.width = 30)\n",
    "select <- 'umap'\n",
    "DimPlot_scCustom(obj.FL, pt.size = .1, group.by = \"gCT\", reduction = select, label = TRUE, label.size = 4, colors_use = pal_igv(\"default\")(51))|\n",
    "DimPlot_scCustom(obj.FL, pt.size = .1, group.by = \"mCT\", reduction = select, label = TRUE, label.size = 4, colors_use = pal_igv(\"default\")(51))|\n",
    "DimPlot_scCustom(obj.FL, pt.size = .1, group.by = \"dCT\", reduction = select, label = TRUE, label.size = 4, colors_use = pal_igv(\"default\")(51))|\n",
    "DimPlot_scCustom(obj.FL, pt.size = .1, group.by = \"oCT\", reduction = select, label = TRUE, label.size = 4, colors_use = pal_igv(\"default\")(51))"
   ]
  },
  {
   "cell_type": "markdown",
   "id": "431894e2-1f2d-49b5-a005-a3c5ea8484e1",
   "metadata": {
    "execution": {
     "iopub.execute_input": "2025-07-13T08:25:29.384072Z",
     "iopub.status.busy": "2025-07-13T08:25:29.380191Z",
     "iopub.status.idle": "2025-07-13T08:25:29.492169Z",
     "shell.execute_reply": "2025-07-13T08:25:29.490772Z"
    },
    "tags": []
   },
   "source": [
    "# filte sample"
   ]
  },
  {
   "cell_type": "code",
   "execution_count": null,
   "id": "1e702fbe-2e75-4b35-81dc-668db64b1989",
   "metadata": {
    "execution": {
     "iopub.execute_input": "2025-07-13T08:52:19.028761Z",
     "iopub.status.busy": "2025-07-13T08:52:19.025629Z",
     "iopub.status.idle": "2025-07-13T08:52:25.463850Z",
     "shell.execute_reply": "2025-07-13T08:52:25.462441Z"
    },
    "tags": []
   },
   "outputs": [],
   "source": [
    "## filter out treated samples\n",
    "obj.FL <- obj.FL %>% subset(Prior.lines.of.therapy == 0 | Disease == 'Normal')\n",
    "obj.FL"
   ]
  },
  {
   "cell_type": "markdown",
   "id": "7a231fa4-8157-4713-82a2-e95fa05539a8",
   "metadata": {},
   "source": [
    "## save"
   ]
  },
  {
   "cell_type": "code",
   "execution_count": null,
   "id": "5894a2dd-9464-4644-965a-437e0038dd5e",
   "metadata": {
    "execution": {
     "iopub.execute_input": "2025-07-13T08:58:45.625779Z",
     "iopub.status.busy": "2025-07-13T08:58:45.622688Z",
     "iopub.status.idle": "2025-07-13T09:00:02.243001Z",
     "shell.execute_reply": "2025-07-13T09:00:02.240700Z"
    },
    "tags": []
   },
   "outputs": [],
   "source": [
    "saveRDS(obj.FL, 'obj.FL.use.rds')"
   ]
  }
 ],
 "metadata": {
  "kernelspec": {
   "display_name": "rTrace",
   "language": "R",
   "name": "rtrace"
  },
  "language_info": {
   "codemirror_mode": "r",
   "file_extension": ".r",
   "mimetype": "text/x-r-source",
   "name": "R",
   "pygments_lexer": "r",
   "version": "4.2.3"
  }
 },
 "nbformat": 4,
 "nbformat_minor": 5
}
