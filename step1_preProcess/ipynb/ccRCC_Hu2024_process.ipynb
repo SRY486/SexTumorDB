{
 "cells": [
  {
   "cell_type": "markdown",
   "id": "5f6facb3-b667-440f-b50a-95e83a1aeaaf",
   "metadata": {},
   "source": [
    "# load data"
   ]
  },
  {
   "cell_type": "code",
   "execution_count": null,
   "id": "3810dd6f-3925-470a-a1c5-a12b67409b73",
   "metadata": {},
   "outputs": [],
   "source": [
    "obj.ccRCC <- readRDS('/project/sex_cancer/data/ccRCC_Hu2024/snRNA.rds')"
   ]
  },
  {
   "cell_type": "markdown",
   "id": "2c815cba-4875-49bc-b784-e05229186a2f",
   "metadata": {
    "execution": {
     "iopub.execute_input": "2025-08-11T10:44:30.984512Z",
     "iopub.status.busy": "2025-08-11T10:44:30.981484Z",
     "iopub.status.idle": "2025-08-11T10:44:30.999700Z",
     "shell.execute_reply": "2025-08-11T10:44:30.997403Z"
    },
    "tags": []
   },
   "source": [
    "# modify meta.data"
   ]
  },
  {
   "cell_type": "code",
   "execution_count": null,
   "id": "16037376-676a-41ba-b3f6-750f431a1599",
   "metadata": {},
   "outputs": [],
   "source": [
    "info <- read_xlsx('/project/sex_cancer/data/ccRCC_Hu2024/ccRCC_Hu2024PatientInfo.xlsx', skip = 1)\n",
    "\n",
    "names(info)[1] <- 'sample'\n",
    "info1 <- info[info$sample%in%unique(obj.ccRCC@meta.data$sample),]\n",
    "info1$Sex=gsub('male','M',info1$Sex)\n",
    "info1$Sex=gsub('female','F',info1$Sex)\n",
    "\n",
    "meta <- obj.ccRCC@meta.data %>% transform(barcode = rownames(.))\n",
    "meta <- merge(meta, info1, by = 'sample',all = TRUE) %>% column_to_rownames('barcode') %>% .[colnames(obj.ccRCC),]"
   ]
  },
  {
   "cell_type": "code",
   "execution_count": null,
   "id": "06b5d2a7-6651-4bf2-8b81-afe4f26a20fd",
   "metadata": {
    "execution": {
     "iopub.execute_input": "2025-08-11T10:43:20.740890Z",
     "iopub.status.busy": "2025-08-11T10:43:20.737842Z",
     "iopub.status.idle": "2025-08-11T10:43:20.757359Z",
     "shell.execute_reply": "2025-08-11T10:43:20.755074Z"
    },
    "tags": []
   },
   "outputs": [],
   "source": [
    "# modify meta.data\n",
    "obj.ccRCC@meta.data <- meta@meta.data %>%\n",
    "                       transform(barcode = rownames(.), Cohort = 'ccRCC_Hu2024', orig.ident = sample) %>%\n",
    "                       dplyr::rename(c('SampleID' = 'sample', 'percent.mt' = 'percent.mito')) %>%\n",
    "                       dplyr::select(-c('nUMI', 'nGene', 'class'))"
   ]
  },
  {
   "cell_type": "code",
   "execution_count": null,
   "id": "1ab2f341-31e5-418e-89ac-789adef48fc3",
   "metadata": {
    "execution": {
     "iopub.execute_input": "2025-08-11T10:42:52.098918Z",
     "iopub.status.busy": "2025-08-11T10:42:52.089124Z",
     "iopub.status.idle": "2025-08-11T10:42:52.113497Z",
     "shell.execute_reply": "2025-08-11T10:42:52.111140Z"
    },
    "tags": []
   },
   "outputs": [],
   "source": [
    "## add sample info\n",
    "sample_info <- openxlsx::read.xlsx('/project/sex_cancer/data/ccRCC_Hu2024/41588_2024_1662_MOESM4_ESM.xlsx', startRow = 2, rowNames = TRUE)\n",
    "sample_info <-  sample_info %>%\n",
    "                transform(SampleID = rownames(.)) %>% \n",
    "                subset(SampleID %in% obj.ccRCC$SampleID) %>%\n",
    "                dplyr::rename(c('Sex' = 'sex'))\n",
    "\n",
    "obj.ccRCC@meta.data <- obj.ccRCC@meta.data %>% \n",
    "                       merge(sample_info, by = 'SampleID', all = TRUE) %>%\n",
    "                       transform(SampleType = 'tumor', DonorID = SampleID) %>%\n",
    "                       `rownames<-`(.$barcode)"
   ]
  },
  {
   "cell_type": "code",
   "execution_count": null,
   "id": "16e80c98-f57a-405d-b0a3-983289a7e877",
   "metadata": {
    "execution": {
     "iopub.execute_input": "2025-07-28T15:46:31.734944Z",
     "iopub.status.busy": "2025-07-28T15:46:31.731099Z",
     "iopub.status.idle": "2025-07-28T15:46:36.209501Z",
     "shell.execute_reply": "2025-07-28T15:46:36.208309Z"
    },
    "tags": []
   },
   "outputs": [],
   "source": [
    "options(repr.plot.height = 5, repr.plot.width = 25)\n",
    "DimPlot_scCustom(obj.ccRCC, pt.size = 1, group.by = \"celltype\", reduction = 'umap', label = T, label.size = 4, colors_use = pal_igv(\"default\")(51))|\n",
    "DimPlot_scCustom(obj.ccRCC, pt.size = 1, group.by = \"celltype2\", reduction = 'umap', label = F, colors_use = pal_igv(\"default\")(51))"
   ]
  },
  {
   "cell_type": "markdown",
   "id": "af5061a7-3e7c-4e40-a82e-81cc5439454b",
   "metadata": {},
   "source": [
    "# cell type annotation"
   ]
  },
  {
   "cell_type": "markdown",
   "id": "576e0b41-649b-4cc3-8e52-bb7beffdf0d5",
   "metadata": {},
   "source": [
    "## assign mCT"
   ]
  },
  {
   "cell_type": "code",
   "execution_count": null,
   "id": "d6790896-476c-4577-b537-e60d55f38507",
   "metadata": {
    "execution": {
     "iopub.execute_input": "2025-07-28T15:47:17.710817Z",
     "iopub.status.busy": "2025-07-28T15:47:17.707386Z",
     "iopub.status.idle": "2025-07-28T15:47:18.608207Z",
     "shell.execute_reply": "2025-07-28T15:47:18.607095Z"
    },
    "jupyter": {
     "outputs_hidden": true
    },
    "tags": []
   },
   "outputs": [],
   "source": [
    "obj.ccRCC@meta.data  <-  obj.ccRCC@meta.data %>%\n",
    "                         mutate(mCT = case_when(celltype %in% c('Malignant') ~ 'Epi',\n",
    "                                                celltype2 %in% c('1_B', '2_Plasma') ~ 'B',\n",
    "                                                celltype2 %in% c('1_CD4-Tcm/Th', '1_CD4-Th') ~ 'CD4T',\n",
    "                                                celltype2 %in% c('1_CD4-Treg') ~ 'Treg',\n",
    "                                                celltype2 %in% c('2_CD8-cycling', '2_CD8-ITGAE', '2_CD8-Tex') ~ 'CD8T',\n",
    "                                                celltype2 %in% c('3_MAIT') ~ 'MAIT',\n",
    "                                                celltype2 %in% c('4_NK-KLRC1', '4_Temra/aNK') ~ 'NK',\n",
    "                                                celltype2 %in% c('4_Macro01', '4_Macro02-IGF1', '4_Macro03-LILRB5', '4_Macro04-GPNMB', \n",
    "                                                                 '4_Macro05-NR4A3', '4_Macro06-C3', '4_Macro07-GBP1', '5_Macro-prolif') ~ 'Mph',\n",
    "                                                celltype2 %in% c('6_DC-cDC1', '6_DC-cDC2', '6_DC-pDC', '6_DC-mDC') ~ 'DC',\n",
    "                                                celltype2 %in% c('3_Mono01-SMIM25', '3_Mono02-VCAN') ~ 'Mono',\n",
    "                                                celltype2 %in% c('7_Mast') ~ 'Mast',\n",
    "                                                celltype2 %in% c('peri') ~ 'Pericyte',\n",
    "                                                celltype2 %in% c('EC_Cap01-F8', 'EC_artery', 'EC_Cap04-NRP2', 'EC_low UMI', 'EC-cycling', 'EC_vein', \n",
    "                                                                 'EC_Cap03-IGFBP5', 'EC_Cap02', 'EC_Cap07-DNASE1L3', 'EC_Cap05-KIT', 'EC_Cap06-WT1', 'EC_Cap-CD36') ~ 'Endo',\n",
    "                                                celltype2 %in% c('Fib') ~ 'Fibro',\n",
    "                                                celltype2 %in% c('SMC') ~ 'SMC',\n",
    "                                                TRUE ~ 'Others' \n",
    "                                                ))"
   ]
  },
  {
   "cell_type": "markdown",
   "id": "e947a7b6-60db-4d1c-a9a1-3033ec12647b",
   "metadata": {},
   "source": [
    "## assign dCT"
   ]
  },
  {
   "cell_type": "code",
   "execution_count": null,
   "id": "498bec4c-dd0e-4a4e-93ac-c0a5b2b19d26",
   "metadata": {
    "execution": {
     "iopub.execute_input": "2025-07-28T15:47:25.351725Z",
     "iopub.status.busy": "2025-07-28T15:47:25.348548Z",
     "iopub.status.idle": "2025-07-28T15:47:25.556073Z",
     "shell.execute_reply": "2025-07-28T15:47:25.554994Z"
    },
    "jupyter": {
     "outputs_hidden": true
    },
    "tags": []
   },
   "outputs": [],
   "source": [
    "obj.ccRCC@meta.data  <-  obj.ccRCC@meta.data %>%\n",
    "                         mutate(dCT = case_when(celltype %in% c('Malignant') ~ 'Epi',\n",
    "                                                celltype2 %in% c('1_B') ~ 'B',\n",
    "                                                celltype2 %in% c('2_Plasma') ~ 'Plasma',\n",
    "                                                celltype2 %in% c('1_CD4-Tcm/Th', '1_CD4-Th') ~ 'CD4T',\n",
    "                                                celltype2 %in% c('1_CD4-Treg') ~ 'Treg',\n",
    "                                                celltype2 %in% c('2_CD8-cycling', '2_CD8-ITGAE', '2_CD8-Tex') ~ 'CD8T',\n",
    "                                                celltype2 %in% c('3_MAIT') ~ 'MAIT',\n",
    "                                                celltype2 %in% c('4_NK-KLRC1', '4_Temra/aNK') ~ 'NK',\n",
    "                                                celltype2 %in% c('4_Macro01', '4_Macro02-IGF1', '4_Macro03-LILRB5', '4_Macro04-GPNMB', \n",
    "                                                                 '4_Macro05-NR4A3', '4_Macro06-C3', '4_Macro07-GBP1', '5_Macro-prolif') ~ 'Mph',\n",
    "                                                celltype2 %in% c('6_DC-cDC1', '6_DC-cDC2', '6_DC-pDC', '6_DC-mDC') ~ 'DC',\n",
    "                                                celltype2 %in% c('3_Mono01-SMIM25', '3_Mono02-VCAN') ~ 'Mono',\n",
    "                                                celltype2 %in% c('7_Mast') ~ 'Mast',\n",
    "                                                celltype2 %in% c('peri') ~ 'Pericyte',\n",
    "                                                celltype2 %in% c('EC_Cap01-F8', 'EC_artery', 'EC_Cap04-NRP2', 'EC_low UMI', 'EC-cycling', 'EC_vein', \n",
    "                                                                 'EC_Cap03-IGFBP5', 'EC_Cap02', 'EC_Cap07-DNASE1L3', 'EC_Cap05-KIT', 'EC_Cap06-WT1', 'EC_Cap-CD36') ~ 'Endo',\n",
    "                                                celltype2 %in% c('Fib') ~ 'Fibro',\n",
    "                                                celltype2 %in% c('SMC') ~ 'SMC',\n",
    "                                                TRUE ~ 'Others'\n",
    "                                                ))"
   ]
  },
  {
   "cell_type": "markdown",
   "id": "8b6239ea-8373-4306-947d-1ac6e7c5fdeb",
   "metadata": {},
   "source": [
    "## assign gCT"
   ]
  },
  {
   "cell_type": "code",
   "execution_count": null,
   "id": "e638b17e-2066-4357-8641-27da6c89c213",
   "metadata": {
    "execution": {
     "iopub.execute_input": "2025-07-28T15:47:38.209654Z",
     "iopub.status.busy": "2025-07-28T15:47:38.206487Z",
     "iopub.status.idle": "2025-07-28T15:47:38.299279Z",
     "shell.execute_reply": "2025-07-28T15:47:38.298201Z"
    },
    "tags": []
   },
   "outputs": [],
   "source": [
    "obj.ccRCC@meta.data  <-  obj.ccRCC@meta.data %>%\n",
    "                         mutate(gCT = case_when(mCT %in% c('Tumor') ~ 'Tumor',\n",
    "                                                mCT %in% c('B', 'CD4T', 'Treg', 'CD8T', 'MAIT', 'NK', 'Mph', 'DC', 'Mono', 'Mast') ~ 'Immune',\n",
    "                                                mCT %in% c('Pericyte', 'Endo', 'Fibro', 'SMC') ~ 'Stromal',\n",
    "                                                TRUE ~ 'Others'\n",
    "                                                ))"
   ]
  },
  {
   "cell_type": "markdown",
   "id": "7846ec8f-0212-42d0-8798-e956e8915d7d",
   "metadata": {
    "execution": {
     "iopub.execute_input": "2025-07-01T13:14:16.513468Z",
     "iopub.status.busy": "2025-07-01T13:14:16.510159Z",
     "iopub.status.idle": "2025-07-01T13:14:16.529607Z",
     "shell.execute_reply": "2025-07-01T13:14:16.527271Z"
    },
    "tags": []
   },
   "source": [
    "## assign oCT"
   ]
  },
  {
   "cell_type": "code",
   "execution_count": null,
   "id": "68bc3bc6-fd43-4c68-ad34-4e090f3464be",
   "metadata": {
    "execution": {
     "iopub.execute_input": "2025-07-28T15:47:45.958463Z",
     "iopub.status.busy": "2025-07-28T15:47:45.955237Z",
     "iopub.status.idle": "2025-07-28T15:47:45.989792Z",
     "shell.execute_reply": "2025-07-28T15:47:45.988588Z"
    },
    "tags": []
   },
   "outputs": [],
   "source": [
    "obj.ccRCC@meta.data <- obj.ccRCC@meta.data %>%\n",
    "                       transform(oCT = celltype2)"
   ]
  },
  {
   "cell_type": "code",
   "execution_count": null,
   "id": "1c17eae2-3d1b-45d5-8944-93e14bdc5134",
   "metadata": {
    "execution": {
     "iopub.execute_input": "2025-07-28T15:47:46.374150Z",
     "iopub.status.busy": "2025-07-28T15:47:46.371128Z",
     "iopub.status.idle": "2025-07-28T15:47:54.418526Z",
     "shell.execute_reply": "2025-07-28T15:47:54.417427Z"
    },
    "tags": []
   },
   "outputs": [],
   "source": [
    "options(repr.plot.height = 5, repr.plot.width = 30)\n",
    "DimPlot_scCustom(obj.ccRCC, pt.size = 1, group.by = \"gCT\", reduction = 'umap', label = T, label.size = 4, colors_use = pal_igv(\"default\")(51))|\n",
    "DimPlot_scCustom(obj.ccRCC, pt.size = 1, group.by = \"mCT\", reduction = 'umap', label = T, label.size = 4, colors_use = pal_igv(\"default\")(51))|\n",
    "DimPlot_scCustom(obj.ccRCC, pt.size = 1, group.by = \"dCT\", reduction = 'umap', label = T, label.size = 4, colors_use = pal_igv(\"default\")(51))|\n",
    "DimPlot_scCustom(obj.ccRCC, pt.size = 1, group.by = \"oCT\", reduction = 'umap', label = F, colors_use = pal_igv(\"default\")(51))"
   ]
  },
  {
   "cell_type": "code",
   "execution_count": null,
   "id": "65f219ed-48c4-495b-8f76-849e960b3b07",
   "metadata": {
    "execution": {
     "iopub.execute_input": "2025-07-28T16:12:09.279604Z",
     "iopub.status.busy": "2025-07-28T16:12:09.276055Z",
     "iopub.status.idle": "2025-07-28T16:12:09.315433Z",
     "shell.execute_reply": "2025-07-28T16:12:09.313839Z"
    },
    "tags": []
   },
   "outputs": [],
   "source": [
    "meta_now[,c('SampleType', 'Sex', 'SampleID')] %>% .[!duplicated(.$SampleID),] %$% table(.$SampleType, .$Sex)\n",
    "table(meta_now$SampleType)"
   ]
  },
  {
   "cell_type": "markdown",
   "id": "0e59beb8-49f8-42b5-a58a-bb2ae8227561",
   "metadata": {},
   "source": [
    "# save"
   ]
  },
  {
   "cell_type": "code",
   "execution_count": null,
   "id": "55f1d242-fcef-4b40-92d9-56f3f1fb1a1b",
   "metadata": {
    "execution": {
     "iopub.execute_input": "2025-07-28T16:21:19.066906Z",
     "iopub.status.busy": "2025-07-28T16:21:19.063600Z",
     "iopub.status.idle": "2025-07-28T16:26:19.938053Z",
     "shell.execute_reply": "2025-07-28T16:26:19.935770Z"
    },
    "tags": []
   },
   "outputs": [],
   "source": [
    "saveRDS(obj.ccRCC, 'obj.ccRCC.use.rds')"
   ]
  }
 ],
 "metadata": {
  "kernelspec": {
   "display_name": "rTrace",
   "language": "R",
   "name": "rtrace"
  },
  "language_info": {
   "codemirror_mode": "r",
   "file_extension": ".r",
   "mimetype": "text/x-r-source",
   "name": "R",
   "pygments_lexer": "r",
   "version": "4.2.3"
  }
 },
 "nbformat": 4,
 "nbformat_minor": 5
}
