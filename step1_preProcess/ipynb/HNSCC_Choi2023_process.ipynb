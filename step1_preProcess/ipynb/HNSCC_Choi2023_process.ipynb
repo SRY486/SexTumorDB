{
 "cells": [
  {
   "cell_type": "markdown",
   "id": "c8c3e378-5b0f-4f54-985e-da7b1df6dab1",
   "metadata": {
    "execution": {
     "iopub.execute_input": "2025-07-08T03:05:08.293882Z",
     "iopub.status.busy": "2025-07-08T03:05:08.288859Z",
     "iopub.status.idle": "2025-07-08T03:05:45.304687Z",
     "shell.execute_reply": "2025-07-08T03:05:45.303194Z"
    },
    "tags": []
   },
   "source": [
    "# load data"
   ]
  },
  {
   "cell_type": "code",
   "execution_count": null,
   "id": "2b519974-6526-4130-8caa-2a6576a6e8ea",
   "metadata": {
    "execution": {
     "iopub.execute_input": "2025-07-08T05:10:25.314480Z",
     "iopub.status.busy": "2025-07-08T05:10:25.310868Z",
     "iopub.status.idle": "2025-07-08T05:10:26.847249Z",
     "shell.execute_reply": "2025-07-08T05:10:26.846153Z"
    },
    "tags": []
   },
   "outputs": [],
   "source": [
    "meta <- read.table('/project/sex_cancer/data/HNSCC_Choi2023/GSE181919_Barcode_metadata.txt',header = T,sep = '\\t') %>%\n",
    "        rownames_to_column(meta,'barcode')\n",
    "info <- read_xlsx('/project/sex_cancer/data/HNSCC_Choi2023/HNSCC_Choi2023_PatientInfo.xlsx')\n",
    "colnames(info)[1]='patient.id'\n",
    "meta <- merge(meta,info,by = 'patient.id',all = TRUE)\n",
    "\n",
    "counts <- read.table('/project/sex_cancer/data/HNSCC_Choi2023/GSE181919_UMI_counts.txt',header=T,sep = '\\t')\n",
    "colnames(counts) <- gsub('\\\\.','-',colnames(counts))\n",
    "\n",
    "obj.HNSCC <- CreateSeuratObject(counts = counts,meta.data = meta, min.cells = 0,min.features = 0)\n",
    "\n",
    "## de-factor\n",
    "obj.HNSCC@meta.data <- obj.HNSCC@meta.data %>% mutate_if(~!is.numeric(.), ext_list)"
   ]
  },
  {
   "cell_type": "markdown",
   "id": "e1144d0a-61d7-4549-b021-931c67e8b3f2",
   "metadata": {},
   "source": [
    "# filter sample \n",
    "primary tumor only"
   ]
  },
  {
   "cell_type": "code",
   "execution_count": null,
   "id": "5a618460-9f1c-46ae-9e76-4e8a92f615f9",
   "metadata": {
    "execution": {
     "iopub.execute_input": "2025-07-08T06:38:44.817369Z",
     "iopub.status.busy": "2025-07-08T06:38:44.814248Z",
     "iopub.status.idle": "2025-07-08T06:38:46.604228Z",
     "shell.execute_reply": "2025-07-08T06:38:46.603000Z"
    },
    "tags": []
   },
   "outputs": [],
   "source": [
    "obj.HNSCC <- obj.HNSCC %>% subset(tissue_type == 'CA' & Tumor_subsite == 'OC')\n",
    "obj.HNSCC"
   ]
  },
  {
   "cell_type": "code",
   "execution_count": null,
   "id": "47a334aa-172f-43ac-b901-6f3afba14d4a",
   "metadata": {
    "execution": {
     "iopub.execute_input": "2025-07-08T06:45:52.892814Z",
     "iopub.status.busy": "2025-07-08T06:45:52.889680Z",
     "iopub.status.idle": "2025-07-08T06:45:52.923337Z",
     "shell.execute_reply": "2025-07-08T06:45:52.921805Z"
    },
    "tags": []
   },
   "outputs": [],
   "source": [
    "obj.HNSCC %$% table(.$patient_id, .$Sex) %>% as.data.frame() %>% subset(Freq>0) %$% table(.$Var2)"
   ]
  },
  {
   "cell_type": "markdown",
   "id": "c929dd44-6749-47f5-9a29-9c0b5b42f9c9",
   "metadata": {},
   "source": [
    "# modify meta.data"
   ]
  },
  {
   "cell_type": "code",
   "execution_count": null,
   "id": "df2620dd-aef6-4f41-91f8-d54f71745e44",
   "metadata": {
    "execution": {
     "iopub.execute_input": "2025-08-12T07:33:17.814734Z",
     "iopub.status.busy": "2025-08-12T07:33:17.811465Z",
     "iopub.status.idle": "2025-08-12T07:33:17.830172Z",
     "shell.execute_reply": "2025-08-12T07:33:17.828128Z"
    },
    "tags": []
   },
   "outputs": [],
   "source": [
    "obj.HNSCC@meta.data <-  obj.HNSCC@meta.data %>% \n",
    "                        dplyr::rename(c('SampleID' = 'sample_id', 'DonorID' = 'patient_id')) %>%\n",
    "                        transform(Cohort = 'HNSCC_Choi2023', 'SampleType' = 'tumor', Tumor_subsite = 'Oral_cavity')\n",
    "obj.HNSCC@meta.data %>% head(n = 2)"
   ]
  },
  {
   "cell_type": "markdown",
   "id": "9287b857-5155-444a-8853-206a2ea40b52",
   "metadata": {},
   "source": [
    "# cell type annotation"
   ]
  },
  {
   "cell_type": "code",
   "execution_count": null,
   "id": "f9c677c9-56d2-44bb-8fbb-a982b72f9851",
   "metadata": {
    "execution": {
     "iopub.execute_input": "2025-07-08T07:32:16.126484Z",
     "iopub.status.busy": "2025-07-08T07:32:16.123343Z",
     "iopub.status.idle": "2025-07-08T07:32:16.192318Z",
     "shell.execute_reply": "2025-07-08T07:32:16.191208Z"
    },
    "tags": []
   },
   "outputs": [],
   "source": [
    "obj.HNSCC@meta.data <-  obj.HNSCC@meta.data %>%\n",
    "                        mutate(dCT = case_when(oCT %in% c('T.cells') ~ 'T/NK',\n",
    "                                               oCT %in% c('Malignant.cells') ~ 'Epi',\n",
    "                                               oCT %in% c('B_Plasma.cells') ~ 'B/Plasma',\n",
    "                                               oCT %in% c('Endothelial.cells') ~ 'Endo',\n",
    "                                               oCT %in% c('Fibroblasts') ~ 'Fibro',\n",
    "                                               oCT %in% c('Macrophages') ~ 'Mph',\n",
    "                                               oCT %in% c('Dendritic.cells') ~ 'DC',\n",
    "                                               oCT %in% c('Mast.cells') ~ 'Mast',\n",
    "                                               oCT %in% c('Myocytes') ~ 'Myocyte', \n",
    "                                               TRUE ~ 'Others')) \n",
    "table(obj.HNSCC$oCT, obj.HNSCC$dCT)"
   ]
  },
  {
   "cell_type": "markdown",
   "id": "2150ee69-7ecc-4ce5-b9a4-dd37fd79d4ff",
   "metadata": {},
   "source": [
    "## assign NK/T"
   ]
  },
  {
   "cell_type": "code",
   "execution_count": null,
   "id": "ec8b9463-227d-4c15-83bf-53ebd029b883",
   "metadata": {
    "execution": {
     "iopub.execute_input": "2025-08-12T07:35:40.045041Z",
     "iopub.status.busy": "2025-08-12T07:35:40.041828Z",
     "iopub.status.idle": "2025-08-12T07:35:40.061346Z",
     "shell.execute_reply": "2025-08-12T07:35:40.059329Z"
    },
    "tags": []
   },
   "outputs": [],
   "source": [
    "obj.HNSCC.nkt <- obj.HNSCC %>% subset(dCT == 'T/NK')\n",
    "obj.HNSCC.nkt\n",
    "\n",
    "obj.HNSCC.nkt <- obj.HNSCC.nkt %>%\n",
    "                 NormalizeData(normalization.method = \"LogNormalize\", scale.factor = 10000, verbose = F) %>%\n",
    "                 FindVariableFeatures(selection.method = \"vst\", nfeatures = 1000, verbose = F) %>%\n",
    "                 ScaleData(vars.to.regress = c(\"nCount_RNA\"), verbose = F) %>%\n",
    "                 RunPCA(verbose = F) %>% \n",
    "                 RunHarmony(group.by.vars = \"SampleID\", plot_convergence = TRUE)\n",
    "## cluster\n",
    "nPC <- min(PC_selection_harmony(obj.HNSCC.nkt)$PCselect)\n",
    "obj.HNSCC.nkt <- obj.HNSCC.nkt %>% \n",
    "                 RunUMAP(reduction = \"harmony\", dims = 1:nPC, umap.method = \"uwot\") %>%\n",
    "                 RunTSNE(reduction = \"harmony\", dims = 1:nPC) %>%\n",
    "                 FindNeighbors(reduction = \"harmony\", dims = 1:nPC) %>%\n",
    "                 FindClusters(resolution=0.1) %>% FindClusters(resolution=0.2) %>% FindClusters(resolution=0.3)\n",
    "colnames(obj.HNSCC.nkt@meta.data) <- gsub(\"RNA_snn_res.0.\",\"r0\", colnames(obj.HNSCC.nkt@meta.data))\n",
    "colnames(obj.HNSCC.nkt@meta.data)"
   ]
  },
  {
   "cell_type": "code",
   "execution_count": null,
   "id": "8f801f48-80c0-4295-9aff-3b4d86ed645e",
   "metadata": {
    "execution": {
     "iopub.execute_input": "2025-07-08T12:57:43.677165Z",
     "iopub.status.busy": "2025-07-08T12:57:43.674101Z",
     "iopub.status.idle": "2025-07-08T12:57:43.695191Z",
     "shell.execute_reply": "2025-07-08T12:57:43.693038Z"
    },
    "tags": []
   },
   "outputs": [],
   "source": [
    "marker_list <- c('CD3D', 'CD3E', 'CD3G', 'TRDC',\n",
    "                 'CD4','FOXP3', 'CTLA4', \n",
    "                 'CD8A', 'CD8B', 'CD28', 'GZMA', 'GZMH', \n",
    "                 'GNLY', 'NKG7', 'KLRD1', 'NCAM1', 'FCGR3A', 'PRF1',\n",
    "                 'MKI67', 'TOP2A', 'STMN1', 'TOX')"
   ]
  },
  {
   "cell_type": "code",
   "execution_count": null,
   "id": "053fcf23-4c6c-41c3-9c0d-111eb98b5c71",
   "metadata": {
    "execution": {
     "iopub.execute_input": "2025-07-08T10:50:21.144325Z",
     "iopub.status.busy": "2025-07-08T10:50:21.141154Z",
     "iopub.status.idle": "2025-07-08T10:50:25.260456Z",
     "shell.execute_reply": "2025-07-08T10:50:25.259209Z"
    },
    "tags": []
   },
   "outputs": [],
   "source": [
    "## marker expression\n",
    "marker_list <- c('CD3D', 'CD3E', 'CD3G', 'TRDC',\n",
    "                 'CD4','FOXP3', 'CTLA4',\n",
    "                 'CD8A', 'CD8B', 'CD28', 'GZMA', 'GZMH', \n",
    "                 'TIGIT', 'PDCD1', 'TCF7',\n",
    "                 'GNLY', 'NKG7', 'KLRD1', 'NCAM1', 'FCGR3A', 'PRF1', \n",
    "                 'MKI67', 'TOP2A', 'STMN1', 'TOX')\n",
    "\n",
    "options(repr.plot.height = 8, repr.plot.width = 5)\n",
    "VlnPlot(obj.HNSCC.nkt, group.by = 'r02', features = marker_list,\n",
    "        pt.size = 0, cols = pal_igv(\"default\")(51),\n",
    "        slot = 'data',assay = 'RNA', raster=FALSE, stack = TRUE, flip = TRUE)+\n",
    "theme(legend.position = 'none')"
   ]
  },
  {
   "cell_type": "code",
   "execution_count": null,
   "id": "2eeefa6f-a843-4f84-ada2-9445001c81a3",
   "metadata": {
    "execution": {
     "iopub.execute_input": "2025-07-08T10:14:12.874190Z",
     "iopub.status.busy": "2025-07-08T10:14:12.871067Z",
     "iopub.status.idle": "2025-07-08T10:14:42.432576Z",
     "shell.execute_reply": "2025-07-08T10:14:42.430668Z"
    },
    "jupyter": {
     "outputs_hidden": true
    },
    "tags": []
   },
   "outputs": [],
   "source": [
    "Idents(obj.HNSCC.nkt) <- factor(obj.HNSCC.nkt$r02, levels = 8:0)\n",
    "cluster_deg <- FindAllMarkers(obj.HNSCC.nkt, assay = \"RNA\", slot = \"data\",\n",
    "                              logfc.threshold = 0.25, min.pct = 0.1, test.use = \"wilcox\")\n",
    "rownames(cluster_deg) <- NULL"
   ]
  },
  {
   "cell_type": "code",
   "execution_count": null,
   "id": "70f47898-420e-4377-a447-40ca327be8b6",
   "metadata": {
    "execution": {
     "iopub.execute_input": "2025-07-08T13:21:40.627650Z",
     "iopub.status.busy": "2025-07-08T13:21:40.624539Z",
     "iopub.status.idle": "2025-07-08T13:21:40.680055Z",
     "shell.execute_reply": "2025-07-08T13:21:40.678941Z"
    },
    "tags": []
   },
   "outputs": [],
   "source": [
    "obj.HNSCC.nkt@meta.data <- obj.HNSCC.nkt@meta.data %>%\n",
    "                           mutate(dCT = case_when(r02 %in% c('0', '3', '4', '6') ~ 'CD8T',\n",
    "                                                  r02 %in% c('1') ~ 'Treg',\n",
    "                                                  r02 %in% c('2') ~ 'T_cycling',\n",
    "                                                  r02 %in% c('5') ~ 'γδT',\n",
    "                                                  r02 %in% c('7', '8') ~ 'Others',\n",
    "                                                  TRUE ~ 'Others'))\n",
    "obj.HNSCC.nkt@meta.data <- obj.HNSCC.nkt@meta.data %>% dplyr::select(-c('r01', 'r02', 'r03', 'seurat_clusters', 'hpv'))"
   ]
  },
  {
   "cell_type": "markdown",
   "id": "b12e6c7c-b26f-45c1-8d4a-d2953507f8a6",
   "metadata": {
    "execution": {
     "iopub.execute_input": "2025-07-08T13:33:14.586996Z",
     "iopub.status.busy": "2025-07-08T13:33:14.583841Z",
     "iopub.status.idle": "2025-07-08T13:33:14.611783Z",
     "shell.execute_reply": "2025-07-08T13:33:14.610205Z"
    },
    "tags": []
   },
   "source": [
    "## assign B/Plasma"
   ]
  },
  {
   "cell_type": "code",
   "execution_count": null,
   "id": "3da97375-67db-4f6c-82e8-3d9abb129895",
   "metadata": {
    "execution": {
     "iopub.execute_input": "2025-07-08T13:42:52.376535Z",
     "iopub.status.busy": "2025-07-08T13:42:52.372543Z",
     "iopub.status.idle": "2025-07-08T13:42:52.777090Z",
     "shell.execute_reply": "2025-07-08T13:42:52.775225Z"
    },
    "tags": []
   },
   "outputs": [],
   "source": [
    "obj.HNSCC.bp <- obj.HNSCC %>% subset(dCT == 'B/Plasma')\n",
    "obj.HNSCC.bp\n",
    "\n",
    "obj.HNSCC.bp <- obj.HNSCC.bp %>%\n",
    "                NormalizeData(normalization.method = \"LogNormalize\", scale.factor = 10000, verbose = F) %>%\n",
    "                FindVariableFeatures(selection.method = \"vst\", nfeatures = 1000, verbose = F) %>%\n",
    "                ScaleData(vars.to.regress = c(\"nCount_RNA\"), verbose = F) %>%\n",
    "                RunPCA(verbose = F) %>% \n",
    "                RunHarmony(group.by.vars = \"SampleID\", plot_convergence = TRUE)\n",
    "\n",
    "## cluster\n",
    "nPC <- min(PC_selection_harmony(obj.HNSCC.bp)$PCselect)\n",
    "obj.HNSCC.bp <- obj.HNSCC.bp %>% \n",
    "                 RunUMAP(reduction = \"harmony\", dims = 1:nPC, umap.method = \"uwot\") %>%\n",
    "                 RunTSNE(reduction = \"harmony\", dims = 1:nPC) %>%\n",
    "                 FindNeighbors(reduction = \"harmony\", dims = 1:nPC) %>%\n",
    "                 FindClusters(resolution=0.1) %>% FindClusters(resolution=0.2) %>% FindClusters(resolution=0.3)\n",
    "colnames(obj.HNSCC.bp@meta.data) <- gsub(\"RNA_snn_res.0.\",\"r0\", colnames(obj.HNSCC.bp@meta.data))\n",
    "colnames(obj.HNSCC.bp@meta.data)"
   ]
  },
  {
   "cell_type": "code",
   "execution_count": null,
   "id": "4139d18c-1d98-4d5a-bff6-7a6c1e5b0792",
   "metadata": {
    "execution": {
     "iopub.execute_input": "2025-07-08T13:51:36.131065Z",
     "iopub.status.busy": "2025-07-08T13:51:36.127714Z",
     "iopub.status.idle": "2025-07-08T13:51:36.996938Z",
     "shell.execute_reply": "2025-07-08T13:51:36.995419Z"
    },
    "tags": []
   },
   "outputs": [],
   "source": [
    "## marker expression\n",
    "options(repr.plot.height = 4, repr.plot.width = 5)\n",
    "marker_list <- c('PTPRC', 'MS4A1', 'CD79A', 'IGKC', 'CD3D')\n",
    "VlnPlot(obj.HNSCC.bp, group.by = 'r03', features = marker_list,\n",
    "        pt.size = 0, cols = pal_igv(\"default\")(51),\n",
    "        slot = 'data',assay = 'RNA', raster=FALSE, stack = TRUE, flip = TRUE)+\n",
    "theme(legend.position = 'none')"
   ]
  },
  {
   "cell_type": "code",
   "execution_count": null,
   "id": "81346b8b-2b2b-4c00-b0d5-9b1f62c61750",
   "metadata": {
    "execution": {
     "iopub.execute_input": "2025-07-08T13:43:42.914935Z",
     "iopub.status.busy": "2025-07-08T13:43:42.911549Z",
     "iopub.status.idle": "2025-07-08T13:43:56.985620Z",
     "shell.execute_reply": "2025-07-08T13:43:56.983814Z"
    },
    "jupyter": {
     "outputs_hidden": true
    },
    "tags": []
   },
   "outputs": [],
   "source": [
    "Idents(obj.HNSCC.bp) <- factor(obj.HNSCC.bp$r03, levels = 4:0)\n",
    "cluster_deg <- FindAllMarkers(obj.HNSCC.bp, assay = \"RNA\", slot = \"data\",\n",
    "                              logfc.threshold = 0.25, min.pct = 0.1, test.use = \"wilcox\")\n",
    "rownames(cluster_deg) <- NULL"
   ]
  },
  {
   "cell_type": "code",
   "execution_count": null,
   "id": "2fbf17bc-0960-4908-b293-66fe60fc8844",
   "metadata": {
    "execution": {
     "iopub.execute_input": "2025-07-08T13:54:28.118076Z",
     "iopub.status.busy": "2025-07-08T13:54:28.114912Z",
     "iopub.status.idle": "2025-07-08T13:54:28.164404Z",
     "shell.execute_reply": "2025-07-08T13:54:28.163254Z"
    },
    "tags": []
   },
   "outputs": [],
   "source": [
    "obj.HNSCC.bp@meta.data <- obj.HNSCC.bp@meta.data %>%\n",
    "                           mutate(dCT = case_when(r03 %in% c('0') ~ 'B',\n",
    "                                                  r03 %in% c('1', '2') ~ 'Plasma',\n",
    "                                                  r03 %in% c('3', '4') ~ 'Others',\n",
    "                                                  TRUE ~ 'Others'))\n",
    "obj.HNSCC.bp@meta.data <- obj.HNSCC.bp@meta.data %>% dplyr::select(-c('r01', 'r02', 'r03', 'seurat_clusters', 'hpv'))"
   ]
  },
  {
   "cell_type": "markdown",
   "id": "bf9a937b-144e-43e5-bd72-24f1e667a457",
   "metadata": {},
   "source": [
    "## assign dCT/mCT/gCT"
   ]
  },
  {
   "cell_type": "code",
   "execution_count": null,
   "id": "55f7542a-0b0b-402b-bd7d-e00b9de17739",
   "metadata": {
    "execution": {
     "iopub.execute_input": "2025-08-12T07:39:18.992071Z",
     "iopub.status.busy": "2025-08-12T07:39:18.988565Z",
     "iopub.status.idle": "2025-08-12T07:39:19.009804Z",
     "shell.execute_reply": "2025-08-12T07:39:19.007302Z"
    },
    "tags": []
   },
   "outputs": [],
   "source": [
    "obj.HNSCC.others <- obj.HNSCC %>% subset(dCT %in% c('T/NK', 'B/Plasma') == FALSE)\n",
    "obj.HNSCC.others@meta.data <- obj.HNSCC.others@meta.data %>% dplyr::select(-c('hpv'))\n",
    "\n",
    "obj.HNSCC <- merge(obj.HNSCC.others, c(obj.HNSCC.bp, obj.HNSCC.nkt))"
   ]
  },
  {
   "cell_type": "code",
   "execution_count": null,
   "id": "7c585f6d-167f-4505-b912-5e14bcaf9b86",
   "metadata": {
    "execution": {
     "iopub.execute_input": "2025-08-12T07:39:35.504639Z",
     "iopub.status.busy": "2025-08-12T07:39:35.501306Z",
     "iopub.status.idle": "2025-08-12T07:39:35.521762Z",
     "shell.execute_reply": "2025-08-12T07:39:35.519249Z"
    },
    "tags": []
   },
   "outputs": [],
   "source": [
    "obj.HNSCC@meta.data <- obj.HNSCC@meta.data %>%\n",
    "                       mutate(mCT = case_when(dCT %in% c('T_cycling') ~ 'T_proliferation',\n",
    "                                              dCT %in% c('Plasma', 'B') ~ 'B',\n",
    "                                              TRUE ~ dCT))"
   ]
  },
  {
   "cell_type": "code",
   "execution_count": null,
   "id": "9c9abcbe-ea3c-4041-89f0-587b9c9fcb5a",
   "metadata": {
    "execution": {
     "iopub.execute_input": "2025-07-08T14:08:19.284286Z",
     "iopub.status.busy": "2025-07-08T14:08:19.281201Z",
     "iopub.status.idle": "2025-07-08T14:08:19.347038Z",
     "shell.execute_reply": "2025-07-08T14:08:19.345954Z"
    },
    "tags": []
   },
   "outputs": [],
   "source": [
    "obj.HNSCC@meta.data <- obj.HNSCC@meta.data %>%\n",
    "                       mutate(gCT = case_when(mCT %in% c('γδT', 'Treg', 'T_proliferation', 'CD8T', 'B', 'Mast', 'DC', 'Mph') ~ 'Immune',\n",
    "                                              mCT %in% c('Epi') ~ 'Tumor',\n",
    "                                              mCT %in% c('Myocyte','Fibro', 'Endo') ~ 'Stromal',\n",
    "                                              TRUE ~ 'Others'))"
   ]
  },
  {
   "cell_type": "code",
   "execution_count": null,
   "id": "8ee72067-4876-40d2-afa0-cde9b01f047a",
   "metadata": {
    "execution": {
     "iopub.execute_input": "2025-07-08T14:09:08.705271Z",
     "iopub.status.busy": "2025-07-08T14:09:08.702168Z",
     "iopub.status.idle": "2025-07-08T14:09:10.177346Z",
     "shell.execute_reply": "2025-07-08T14:09:10.176089Z"
    },
    "tags": []
   },
   "outputs": [],
   "source": [
    "obj.HNSCC <- subset(obj.HNSCC, gCT != 'Others')\n",
    "obj.HNSCC"
   ]
  },
  {
   "cell_type": "markdown",
   "id": "92a29c74-7165-47b2-9e51-e7bb0fc21143",
   "metadata": {},
   "source": [
    "# run UMAP"
   ]
  },
  {
   "cell_type": "code",
   "execution_count": null,
   "id": "e117d0aa-ddfb-406f-9eed-1cd98260d2ee",
   "metadata": {
    "execution": {
     "iopub.execute_input": "2025-07-08T14:10:22.551454Z",
     "iopub.status.busy": "2025-07-08T14:10:22.548168Z",
     "iopub.status.idle": "2025-07-08T14:12:56.369533Z",
     "shell.execute_reply": "2025-07-08T14:12:56.368167Z"
    },
    "jupyter": {
     "outputs_hidden": true
    },
    "tags": []
   },
   "outputs": [],
   "source": [
    "obj.HNSCC <- obj.HNSCC %>%\n",
    "             NormalizeData(normalization.method = \"LogNormalize\", scale.factor = 10000, verbose = F) %>%\n",
    "             FindVariableFeatures(selection.method = \"vst\", nfeatures = 3000, verbose = F) %>%\n",
    "             ScaleData(vars.to.regress = c(\"nCount_RNA\"), verbose = F) %>%\n",
    "             RunPCA(verbose = F) %>% \n",
    "             RunHarmony(group.by.vars = \"SampleID\", plot_convergence = TRUE)\n",
    "## cluster\n",
    "nPC <- min(PC_selection_harmony(obj.HNSCC)$PCselect)\n",
    "obj.HNSCC <- obj.HNSCC %>% \n",
    "                 RunUMAP(reduction = \"harmony\", dims = 1:nPC, umap.method = \"uwot\") %>%\n",
    "                 RunTSNE(reduction = \"harmony\", dims = 1:nPC)"
   ]
  },
  {
   "cell_type": "code",
   "execution_count": null,
   "id": "7cd5ee76-c7ef-4673-899d-b156622e915e",
   "metadata": {
    "execution": {
     "iopub.execute_input": "2025-07-08T14:12:56.484855Z",
     "iopub.status.busy": "2025-07-08T14:12:56.483818Z",
     "iopub.status.idle": "2025-07-08T14:12:58.617346Z",
     "shell.execute_reply": "2025-07-08T14:12:58.616117Z"
    },
    "tags": []
   },
   "outputs": [],
   "source": [
    "options(repr.plot.height = 5, repr.plot.width = 25)\n",
    "select <- 'umap'\n",
    "DimPlot_scCustom(obj.HNSCC, pt.size = .1, group.by = \"gCT\", reduction = select, label = TRUE, label.size = 4, colors_use = pal_igv(\"default\")(51))|\n",
    "DimPlot_scCustom(obj.HNSCC, pt.size = .1, group.by = \"mCT\", reduction = select, label = TRUE, label.size = 4, colors_use = pal_igv(\"default\")(51))|\n",
    "DimPlot_scCustom(obj.HNSCC, pt.size = .1, group.by = \"dCT\", reduction = select, label = TRUE, label.size = 4, colors_use = pal_igv(\"default\")(51))|\n",
    "DimPlot_scCustom(obj.HNSCC, pt.size = 1, group.by = \"oCT\", label = TRUE, label.size = 4, colors_use = pal_igv(\"default\")(51))"
   ]
  },
  {
   "cell_type": "markdown",
   "id": "f3f5d206-6712-4e15-a83e-0efdb86bab46",
   "metadata": {},
   "source": [
    "# save"
   ]
  },
  {
   "cell_type": "code",
   "execution_count": null,
   "id": "76fbe9ac-0232-4f49-a6f2-e61398f6998c",
   "metadata": {
    "execution": {
     "iopub.execute_input": "2025-07-08T14:14:22.818538Z",
     "iopub.status.busy": "2025-07-08T14:14:22.815433Z",
     "iopub.status.idle": "2025-07-08T14:15:01.282648Z",
     "shell.execute_reply": "2025-07-08T14:15:01.280202Z"
    },
    "tags": []
   },
   "outputs": [],
   "source": [
    "saveRDS(obj.HNSCC, 'obj.HNSCC.use.rds')"
   ]
  }
 ],
 "metadata": {
  "kernelspec": {
   "display_name": "rTrace",
   "language": "R",
   "name": "rtrace"
  },
  "language_info": {
   "codemirror_mode": "r",
   "file_extension": ".r",
   "mimetype": "text/x-r-source",
   "name": "R",
   "pygments_lexer": "r",
   "version": "4.2.3"
  }
 },
 "nbformat": 4,
 "nbformat_minor": 5
}
