{
 "cells": [
  {
   "cell_type": "markdown",
   "id": "6d8cda3d-8367-4b4f-9b23-09a232822b05",
   "metadata": {},
   "source": [
    "# load data"
   ]
  },
  {
   "cell_type": "code",
   "execution_count": null,
   "id": "1d9e4106-0d8d-4582-afc6-bd4ca473bdaf",
   "metadata": {},
   "outputs": [],
   "source": [
    "data1 <- load3CAdata('/project/sex_cancer/data/CRC_Pelka2021/Group1')\n",
    "data2 <- load3CAdata('/project/sex_cancer/data/CRC_Pelka2021/Group2')\n",
    "data3 <- load3CAdata('/project/sex_cancer/data/CRC_Pelka2021/Group3')\n",
    "data4 <- load3CAdata('/project/sex_cancer/data/CRC_Pelka2021/Group4')\n",
    "obj.CRC <- merge(data1, c(data2, data3, data4)) %>% UpdateSeuratObject()"
   ]
  },
  {
   "cell_type": "code",
   "execution_count": null,
   "id": "ec906a6c-d780-4ce7-9e03-b9ce7419bed0",
   "metadata": {
    "execution": {
     "iopub.execute_input": "2025-08-11T11:20:54.709444Z",
     "iopub.status.busy": "2025-08-11T11:20:54.706021Z",
     "iopub.status.idle": "2025-08-11T11:20:54.726124Z",
     "shell.execute_reply": "2025-08-11T11:20:54.724432Z"
    },
    "tags": []
   },
   "outputs": [],
   "source": [
    "## add sample info\n",
    "sample_info <- read.csv('/project/sex_cancer/data/CRC_Pelka2021/GSE178341_crc10x_full_c295v4_submit_metatables.csv')"
   ]
  },
  {
   "cell_type": "code",
   "execution_count": null,
   "id": "bed80c17-cfc3-4027-b270-3b896ec36845",
   "metadata": {
    "execution": {
     "iopub.execute_input": "2025-07-30T06:13:21.293898Z",
     "iopub.status.busy": "2025-07-30T06:13:21.290782Z",
     "iopub.status.idle": "2025-07-30T06:13:22.123836Z",
     "shell.execute_reply": "2025-07-30T06:13:22.122684Z"
    },
    "tags": []
   },
   "outputs": [],
   "source": [
    "## add cell type annotation\n",
    "cell_anno <- read.csv('/project/sex_cancer/data/CRC_Pelka2021/crc10x_full_c295v4_submit_cluster.csv')\n",
    "nrow(cell_anno)\n",
    "cell_anno %>% head(n = 2)"
   ]
  },
  {
   "cell_type": "code",
   "execution_count": null,
   "id": "69d3590b-43d4-4777-a4fa-fc9255f28888",
   "metadata": {
    "execution": {
     "iopub.execute_input": "2025-08-11T11:22:39.378103Z",
     "iopub.status.busy": "2025-08-11T11:22:39.374582Z",
     "iopub.status.idle": "2025-08-11T11:22:39.394155Z",
     "shell.execute_reply": "2025-08-11T11:22:39.392141Z"
    },
    "tags": []
   },
   "outputs": [],
   "source": [
    "## modify meat.data\n",
    "meta_data <- cbind(sample_info %>% transform(barcode = cellID) %>% column_to_rownames('cellID'),\n",
    "                   cell_anno %>% column_to_rownames('sampleID')) %>%\n",
    "             dplyr::rename(c('oCT' = 'clMidwayPr', 'dCT' = 'cl295v11SubFull',\n",
    "                             'SampleID' = 'PatientTypeID', 'DonorID' = 'PID')) %>%\n",
    "             transform(SampleType = ifelse(SPECIMEN_TYPE == 'T', 'tumor', 'normal_adjacent')) %>%\n",
    "             transform(Cohort = 'CRC_Pelka2021') %>% \n",
    "             mutate(Chemistry = case_when(SINGLECELL_TYPE == 'SC3Pv2' ~ \"10x 3' v2\",\n",
    "                                          SINGLECELL_TYPE == 'SC3Pv3' ~ \"10x 3' v3\",\n",
    "                                          TRUE ~ 'unknown')) %>%\n",
    "             .[colnames(obj.CRC),]\n",
    "obj.CRC@meta.data <- meta_data"
   ]
  },
  {
   "cell_type": "code",
   "execution_count": null,
   "id": "71142b39-7151-4cfa-9091-a85c82d396ab",
   "metadata": {
    "execution": {
     "iopub.execute_input": "2025-07-30T07:42:21.848105Z",
     "iopub.status.busy": "2025-07-30T07:42:21.844754Z",
     "iopub.status.idle": "2025-07-30T07:42:21.896392Z",
     "shell.execute_reply": "2025-07-30T07:42:21.895128Z"
    },
    "tags": []
   },
   "outputs": [],
   "source": [
    "obj.CRC@meta.data[,c('SampleType', 'SampleID', 'Sex', 'MetastasisStatus')] %>% .[!duplicated(.$SampleID),] %$% table(.$Sex, .$SampleType, useNA = 'ifany')\n",
    "obj.CRC@meta.data %$% table(.$SampleType)"
   ]
  },
  {
   "cell_type": "markdown",
   "id": "e9456b0d-a1f5-4860-a076-262b862e1690",
   "metadata": {},
   "source": [
    "# cell type annotation"
   ]
  },
  {
   "cell_type": "markdown",
   "id": "94c27931-5635-4da0-a1a4-4774a346fdbc",
   "metadata": {},
   "source": [
    "## assign mCT"
   ]
  },
  {
   "cell_type": "code",
   "execution_count": null,
   "id": "27f3ca3d-e337-4bc0-9afa-8ecf5d0b53e4",
   "metadata": {
    "execution": {
     "iopub.execute_input": "2025-07-30T07:47:28.841219Z",
     "iopub.status.busy": "2025-07-30T07:47:28.838077Z",
     "iopub.status.idle": "2025-07-30T07:47:29.108420Z",
     "shell.execute_reply": "2025-07-30T07:47:29.107201Z"
    },
    "tags": []
   },
   "outputs": [],
   "source": [
    "obj.CRC@meta.data <- obj.CRC@meta.data %>%\n",
    "                     mutate(mCT = case_when(oCT %in% c('Epi') ~ 'Epi', \n",
    "                                            oCT %in% c('TCD8') ~ 'CD8T',\n",
    "                                            (oCT == 'TCD4' & dCT %in% c(\"cTNI08 (CD4+ Treg)\", \"cTNI09 (CD4+ Treg prolif)\") == FALSE) ~ 'CD4T',\n",
    "                                            dCT %in% c(\"cTNI08 (CD4+ Treg)\", \"cTNI09 (CD4+ Treg prolif)\") ~ 'Treg',\n",
    "                                            oCT %in% c('TZBTB16') ~ 'T_ZBTB16',\n",
    "                                            oCT %in% c('Tgd') ~ 'γδT',\n",
    "                                            oCT %in% c('Macro') ~ 'Mph',\n",
    "                                            oCT %in% c('Granulo') ~ 'Neu',\n",
    "                                            oCT %in% c('SmoothMuscle') ~ 'SMC',\n",
    "                                            oCT %in% c('Peri') ~ 'Pericyte',\n",
    "                                            oCT %in% c('Plasma', 'B') ~ 'B',\n",
    "                                            TRUE ~ oCT\n",
    "                                            ))\n",
    "unique(obj.CRC$mCT)"
   ]
  },
  {
   "cell_type": "markdown",
   "id": "86816ed1-8fe3-4e94-873c-10fb8cb09e9c",
   "metadata": {},
   "source": [
    "## assign gCT"
   ]
  },
  {
   "cell_type": "code",
   "execution_count": null,
   "id": "09ddf6e1-a858-4a0f-87ce-c493d4a155db",
   "metadata": {
    "execution": {
     "iopub.execute_input": "2025-07-30T07:47:58.558376Z",
     "iopub.status.busy": "2025-07-30T07:47:58.555225Z",
     "iopub.status.idle": "2025-07-30T07:47:58.755033Z",
     "shell.execute_reply": "2025-07-30T07:47:58.753826Z"
    },
    "tags": []
   },
   "outputs": [],
   "source": [
    "obj.CRC@meta.data <- obj.CRC@meta.data %>%\n",
    "                     mutate(gCT = case_when(mCT %in% c('Epi') ~ 'Tumor', \n",
    "                                            mCT %in% c('CD4T', 'Mph', 'Treg', 'DC', 'NK', 'Mono', 'CD8T', 'B', 'Mast', 'T_ZBTB16', 'γδT', 'Neu', 'ILC') ~ 'Immune',\n",
    "                                            mCT %in% c('Pericyte', 'Endo', 'Fibro', 'SMC', 'Schwann') ~ 'Stromal',\n",
    "                                            TRUE ~ 'Others'\n",
    "                                            ))\n",
    "table(obj.CRC$mCT, obj.CRC$gCT, useNA = 'ifany')"
   ]
  },
  {
   "cell_type": "markdown",
   "id": "8405128c-15d3-405d-91ab-0ac9d16b6749",
   "metadata": {},
   "source": [
    "# run UMAP"
   ]
  },
  {
   "cell_type": "code",
   "execution_count": null,
   "id": "2557d431-be5c-42c3-8367-eee37a932265",
   "metadata": {
    "execution": {
     "iopub.execute_input": "2025-07-30T11:10:14.425003Z",
     "iopub.status.busy": "2025-07-30T11:10:14.421867Z",
     "iopub.status.idle": "2025-07-30T11:10:16.737888Z",
     "shell.execute_reply": "2025-07-30T11:10:16.736724Z"
    },
    "tags": []
   },
   "outputs": [],
   "source": [
    "# add nCount\n",
    "nCount_RNA <- colSums(x = obj.CRC, slot = \"counts\")\n",
    "obj.CRC <- obj.CRC %>% AddMetaData(metadata = nCount_RNA, col.name = 'nCount_RNA')\n",
    "obj.CRC@meta.data %>% head(n = 2)"
   ]
  },
  {
   "cell_type": "code",
   "execution_count": null,
   "id": "5c4f6f67-c365-4ea3-ada5-3d8b477f01b9",
   "metadata": {
    "execution": {
     "iopub.execute_input": "2025-08-11T11:25:55.731660Z",
     "iopub.status.busy": "2025-08-11T11:25:55.728645Z",
     "iopub.status.idle": "2025-08-11T11:25:55.745879Z",
     "shell.execute_reply": "2025-08-11T11:25:55.743616Z"
    },
    "tags": []
   },
   "outputs": [],
   "source": [
    "# run harmony\n",
    "obj.CRC <- obj.CRC %>%\n",
    "           NormalizeData(normalization.method = \"LogNormalize\", scale.factor = 10000, verbose = F) %>%\n",
    "           FindVariableFeatures(selection.method = \"vst\", nfeatures = 3000, verbose = F) %>%\n",
    "           ScaleData(vars.to.regress = c(\"nCount_RNA\"), verbose = F) %>% \n",
    "           RunPCA(verbose = F)  %>% \n",
    "           RunHarmony(group.by.vars = \"SampleID\", plot_convergence = TRUE)"
   ]
  },
  {
   "cell_type": "code",
   "execution_count": null,
   "id": "f8b58c5f-50fc-4faa-8b9e-ea2f98b31ba0",
   "metadata": {
    "execution": {
     "iopub.execute_input": "2025-08-11T11:27:36.833262Z",
     "iopub.status.busy": "2025-08-11T11:27:36.830079Z",
     "iopub.status.idle": "2025-08-11T11:27:36.850962Z",
     "shell.execute_reply": "2025-08-11T11:27:36.848547Z"
    },
    "tags": []
   },
   "outputs": [],
   "source": [
    "# run UMAP\n",
    "nPC <- min(PC_selection_harmony(obj.CRC)$PCselect)\n",
    "obj.CRC <- obj.CRC %>% \n",
    "           RunUMAP(reduction = \"harmony\", dims = 1:nPC, umap.method = \"uwot\") %>%\n",
    "           RunTSNE(reduction = \"harmony\", dims = 1:nPC)"
   ]
  },
  {
   "cell_type": "code",
   "execution_count": null,
   "id": "c5328ecb-b843-4042-bc7d-6794ec71ec11",
   "metadata": {
    "execution": {
     "iopub.execute_input": "2025-07-30T15:21:27.814492Z",
     "iopub.status.busy": "2025-07-30T15:21:27.811287Z",
     "iopub.status.idle": "2025-07-30T15:21:33.736431Z",
     "shell.execute_reply": "2025-07-30T15:21:33.735171Z"
    },
    "tags": []
   },
   "outputs": [],
   "source": [
    "options(repr.plot.height = 5, repr.plot.width = 25)\n",
    "DimPlot_scCustom(obj.CRC, pt.size = 1, group.by = \"gCT\", label = TRUE, label.size = 4, colors_use = pal_igv(\"default\")(51))|\n",
    "DimPlot_scCustom(obj.CRC, pt.size = 1, group.by = \"mCT\", label = TRUE, label.size = 4, colors_use = pal_igv(\"default\")(51))|\n",
    "# DimPlot_scCustom(obj.CRC, pt.size = 1, group.by = \"dCT\", label = TRUE, label.size = 4, colors_use = paletteer::paletteer_d('palettesForR::Web', 100))|\n",
    "DimPlot_scCustom(obj.CRC, pt.size = 1, group.by = \"oCT\", label = TRUE, label.size = 4, colors_use = paletteer::paletteer_d('palettesForR::Web', 100))"
   ]
  },
  {
   "cell_type": "markdown",
   "id": "44e39f91-b0d6-4ddf-a75c-0ea9f6131e33",
   "metadata": {},
   "source": [
    "# save"
   ]
  },
  {
   "cell_type": "code",
   "execution_count": null,
   "id": "f724fba5-bdef-474c-8aab-c1f6dd540103",
   "metadata": {
    "execution": {
     "iopub.execute_input": "2025-07-30T15:23:21.524721Z",
     "iopub.status.busy": "2025-07-30T15:23:21.521431Z",
     "iopub.status.idle": "2025-07-30T15:42:16.611838Z",
     "shell.execute_reply": "2025-07-30T15:42:16.609057Z"
    },
    "tags": []
   },
   "outputs": [],
   "source": [
    "saveRDS(obj.CRC, \"obj.CRC.use.rds\")"
   ]
  }
 ],
 "metadata": {
  "kernelspec": {
   "display_name": "rTrace",
   "language": "R",
   "name": "rtrace"
  },
  "language_info": {
   "codemirror_mode": "r",
   "file_extension": ".r",
   "mimetype": "text/x-r-source",
   "name": "R",
   "pygments_lexer": "r",
   "version": "4.2.3"
  }
 },
 "nbformat": 4,
 "nbformat_minor": 5
}
