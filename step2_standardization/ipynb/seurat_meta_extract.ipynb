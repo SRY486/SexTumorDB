{
 "cells": [
  {
   "cell_type": "markdown",
   "id": "f6166d54-7640-4a8b-bf2d-c5a0b073049a",
   "metadata": {},
   "source": [
    "# load-extract meta.data"
   ]
  },
  {
   "cell_type": "code",
   "execution_count": null,
   "id": "722cd06e-83ca-4c64-86b4-0ff1c45a52c2",
   "metadata": {
    "execution": {
     "iopub.execute_input": "2025-08-01T07:29:19.665712Z",
     "iopub.status.busy": "2025-08-01T07:29:19.662599Z",
     "iopub.status.idle": "2025-08-01T07:29:19.687023Z",
     "shell.execute_reply": "2025-08-01T07:29:19.685518Z"
    },
    "tags": []
   },
   "outputs": [],
   "source": [
    "objList <- list.files('/project/sex_cancer/data/step2_standardization', recursive = T, full.names = F, pattern = 'obj.')\n",
    "objList"
   ]
  },
  {
   "cell_type": "code",
   "execution_count": null,
   "id": "ac6e793c-0e3f-4650-aba4-f93e6a27d62a",
   "metadata": {
    "execution": {
     "iopub.execute_input": "2025-08-02T07:50:54.583380Z",
     "iopub.status.busy": "2025-08-02T07:50:54.579631Z",
     "iopub.status.idle": "2025-08-02T07:51:12.296986Z",
     "shell.execute_reply": "2025-08-02T07:51:12.294706Z"
    },
    "tags": []
   },
   "outputs": [],
   "source": [
    "metaList <- lapply(objList, function(x){\n",
    "                     obj <- readRDS(x)\n",
    "                     obj@meta.data\n",
    "            })"
   ]
  },
  {
   "cell_type": "markdown",
   "id": "91440495-0e85-41f7-a451-77102a56770b",
   "metadata": {},
   "source": [
    "# Cell metadata"
   ]
  },
  {
   "cell_type": "code",
   "execution_count": null,
   "id": "4dad7ffa-0a42-4c5e-9c74-c62c3a9699b0",
   "metadata": {
    "execution": {
     "iopub.execute_input": "2025-08-06T05:50:02.292588Z",
     "iopub.status.busy": "2025-08-06T05:50:02.289335Z",
     "iopub.status.idle": "2025-08-06T05:50:11.422511Z",
     "shell.execute_reply": "2025-08-06T05:50:11.420817Z"
    },
    "tags": []
   },
   "outputs": [],
   "source": [
    "meta_cell <- metaList %>% do.call(rbind, .)\n",
    "meta_cell <- meta_all %>% mutate_if(~!is.numeric(.), ext_list)\n",
    "\n",
    "saveRDS(meta_cell, 'info_cell.rds')\n",
    "write.csv(meta_cell, 'info_cell.csv', row.names = FALSE, quote = FALSE)"
   ]
  },
  {
   "cell_type": "markdown",
   "id": "9aeac277-faa1-49ff-b110-e1db4c8158c1",
   "metadata": {
    "execution": {
     "iopub.execute_input": "2025-08-05T14:03:45.887096Z",
     "iopub.status.busy": "2025-08-05T14:03:45.847381Z",
     "iopub.status.idle": "2025-08-05T14:04:05.841466Z",
     "shell.execute_reply": "2025-08-05T14:04:04.279509Z"
    },
    "tags": []
   },
   "source": [
    "# Sample metadata"
   ]
  },
  {
   "cell_type": "code",
   "execution_count": null,
   "id": "ca0e0045-2398-44eb-a567-c43290f2580b",
   "metadata": {
    "execution": {
     "iopub.execute_input": "2025-08-06T05:49:51.647201Z",
     "iopub.status.busy": "2025-08-06T05:49:51.644054Z",
     "iopub.status.idle": "2025-08-06T05:49:51.711795Z",
     "shell.execute_reply": "2025-08-06T05:49:51.699566Z"
    },
    "tags": []
   },
   "outputs": [],
   "source": [
    "meta_sample <- meta_cell %>% dplyr::select(c(\"Cohort\", \"SampleID\", \"SampleType\", \"DonorID\", \"Sex\", \"Chemistry\", \"Tissue\")) %>% .[!duplicated(.$SampleID),]\n",
    "rownames(meta_sample) <- NULL\n",
    "\n",
    "saveRDS(meta_sample, \"info_sample.rds\")\n",
    "write.csv(meta_sample, \"info_sample.csv\", row.names = FALSE, quote = FALSE)"
   ]
  },
  {
   "cell_type": "markdown",
   "id": "a10122d0-8fbc-42c9-97b8-60b9e8c58523",
   "metadata": {},
   "source": [
    "# Cohort statistics"
   ]
  },
  {
   "cell_type": "code",
   "execution_count": null,
   "id": "c14a34a7-3abd-49c8-a2b8-453a8a733665",
   "metadata": {
    "execution": {
     "iopub.execute_input": "2025-08-06T05:49:35.699387Z",
     "iopub.status.busy": "2025-08-06T05:49:35.696133Z",
     "iopub.status.idle": "2025-08-06T05:49:35.764968Z",
     "shell.execute_reply": "2025-08-06T05:49:35.757324Z"
    },
    "jupyter": {
     "outputs_hidden": true
    },
    "tags": []
   },
   "outputs": [],
   "source": [
    "meta_statistics <- table(meta_sample$Cohort, meta_sample$Sex, meta_sample$SampleType) %>% as.data.frame() %>% subset(Freq>0)\n",
    "names(meta_statistics) <- c('Cohort', 'Sex', 'SampleType', 'Nsample')  \n",
    "meta_statistics <- meta_statistics %>% .[order(.$Cohort, .$SampleType, .$Sex),]\n",
    "\n",
    "write.csv(meta_statistics, \"info_cohort.csv\", row.names = FALSE, quote = FALSE)\n",
    "saveRDS(meta_statistics, \"info_cohort.rds\")"
   ]
  }
 ],
 "metadata": {
  "kernelspec": {
   "display_name": "rTrace",
   "language": "R",
   "name": "rtrace"
  },
  "language_info": {
   "codemirror_mode": "r",
   "file_extension": ".r",
   "mimetype": "text/x-r-source",
   "name": "R",
   "pygments_lexer": "r",
   "version": "4.2.3"
  }
 },
 "nbformat": 4,
 "nbformat_minor": 5
}
