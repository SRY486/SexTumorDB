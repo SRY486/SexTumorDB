{
 "cells": [
  {
   "cell_type": "markdown",
   "id": "53df5291-7080-4dc8-b1e7-18bd754efa00",
   "metadata": {},
   "source": [
    "# function for data uniform"
   ]
  },
  {
   "cell_type": "code",
   "execution_count": null,
   "id": "bc8d7289-1e06-4e63-a178-04f1bf1520eb",
   "metadata": {},
   "outputs": [],
   "source": [
    "seurat_meta_all <- function(obj){\n",
    "                        if(is.null(obj@misc[['TMI']])){\n",
    "                             meta_now <- obj@meta.data %>% mutate_if(~!is.numeric(.), ext_list) %>% .[order(.$SampleID),]\n",
    "                        }else{\n",
    "                             meta_now <- cbind(obj@meta.data, obj@misc[['TMI']]) %>% mutate_if(~!is.numeric(.), ext_list) %>% .[order(.$SampleID),]\n",
    "                        }\n",
    "                        return(meta_now)\n",
    "}\n",
    "\n",
    "seurat_object_uniform <- function(obj, barcode_length = 16){\n",
    "                                proj <- unique(obj$Cohort)\n",
    "                                if(is.null(obj@misc[['TMI']])){\n",
    "                                     meta_now <- obj@meta.data %>% mutate_if(~!is.numeric(.), ext_list) %>% .[order(.$SampleID),]\n",
    "                                }else{\n",
    "                                     meta_now <- cbind(obj@meta.data, obj@misc[['TMI']]) %>% mutate_if(~!is.numeric(.), ext_list) %>% .[order(.$SampleID),]\n",
    "                                }\n",
    "                                umap_emb <- obj@reductions$umap@cell.embeddings %>% .[rownames(meta_now),]\n",
    "                                counts <- obj@assays$RNA@counts %>% .[,rownames(meta_now)]\n",
    "\n",
    "                                ## extract SampleID\n",
    "                                sampleIDs <- obj$SampleID\n",
    "                                ## generate 16nt length barcode\n",
    "                                generate_random_barcode <- function(n = 1, length = barcode_length) {\n",
    "                                  bases <- c(\"A\", \"T\", \"C\", \"G\")\n",
    "                                  barcodes <- sapply(1:n, function(x) paste0(sample(bases, length, replace = TRUE), collapse = \"\"))\n",
    "                                  return(barcodes)\n",
    "                                }\n",
    "\n",
    "                                random_barcodes <- generate_random_barcode(n = length(sampleIDs), length = 16)\n",
    "                                new_barcodes <- paste0(sampleIDs, \"_\", random_barcodes)\n",
    "\n",
    "                                # switch the barcode\n",
    "                                rownames(meta_now) <- new_barcodes\n",
    "                                rownames(umap_emb) <- new_barcodes\n",
    "                                colnames(counts) <- new_barcodes\n",
    "\n",
    "                                # modify meta.data\n",
    "                                feature_keep <- c('Cohort', 'SampleID', 'SampleType', 'DonorID', 'Sex', \n",
    "                                                  'Chemistry', 'Tissue', \n",
    "                                                  'gCT', 'mCT', 'oCT')\n",
    "                                feature_common <- intersect(feature_keep, names(meta_now))\n",
    "                                meta_now <- meta_now %>% dplyr::select(feature_common)\n",
    "\n",
    "                                ## Create object for use\n",
    "                                obj_use <- CreateSeuratObject(counts = counts, project = proj, meta.data = meta_now, min.cells = 0, min.features = 0)\n",
    "                                obj_use[['umap']] <- CreateDimReducObject(embeddings = umap_emb)\n",
    "                                return(obj_use)\n",
    "                            }"
   ]
  },
  {
   "cell_type": "markdown",
   "id": "2ac09630-9aa8-4a93-b618-05cf1e5c4ab0",
   "metadata": {},
   "source": [
    "# list all file (13 cancer types)"
   ]
  },
  {
   "cell_type": "code",
   "execution_count": null,
   "id": "71f0f008-1bdb-4df4-89c3-d1ab1aa9fbf3",
   "metadata": {
    "execution": {
     "iopub.execute_input": "2025-07-31T13:15:24.306322Z",
     "iopub.status.busy": "2025-07-31T13:15:24.305433Z",
     "iopub.status.idle": "2025-07-31T13:15:24.317831Z",
     "shell.execute_reply": "2025-07-31T13:15:24.316808Z"
    },
    "tags": []
   },
   "outputs": [],
   "source": [
    "objList_full <- list.files('/project/sex_cancer/data/step1_preProcess', recursive = T, full.names = T, pattern = 'final')\n",
    "objList_short <- list.files('/project/sex_cancer/data/step1_preProcess', recursive = T, full.names = F, pattern = 'final')\n",
    "objList_short"
   ]
  },
  {
   "cell_type": "code",
   "execution_count": null,
   "id": "cff11786-f44e-4466-a6dd-1905a83d9428",
   "metadata": {},
   "outputs": [],
   "source": [
    "feature_keep <- c('Cohort', 'SampleID', 'SampleType', 'DonorID', 'Sex', 'Chemistry', 'Tissue', 'gCT', 'mCT', 'oCT')"
   ]
  },
  {
   "cell_type": "markdown",
   "id": "f6f07e99-9580-46c6-8c93-04189256135f",
   "metadata": {},
   "source": [
    "# obj1: AML_Galen2019"
   ]
  },
  {
   "cell_type": "code",
   "execution_count": null,
   "id": "80c18557-2e37-4439-9655-48f7781f62f8",
   "metadata": {
    "execution": {
     "iopub.execute_input": "2025-07-31T13:15:25.885836Z",
     "iopub.status.busy": "2025-07-31T13:15:25.882704Z",
     "iopub.status.idle": "2025-07-31T13:15:31.947700Z",
     "shell.execute_reply": "2025-07-31T13:15:31.946358Z"
    },
    "jupyter": {
     "outputs_hidden": true
    },
    "tags": []
   },
   "outputs": [],
   "source": [
    "obj <- readRDS(objList_full[1])\n",
    "obj <- UpdateSeuratObject(obj)\n",
    "obj"
   ]
  },
  {
   "cell_type": "markdown",
   "id": "cfaa88df-65d0-4150-b429-571b5ea1c1ce",
   "metadata": {
    "execution": {
     "iopub.execute_input": "2025-07-31T11:28:19.157463Z",
     "iopub.status.busy": "2025-07-31T11:28:19.154319Z",
     "iopub.status.idle": "2025-07-31T11:28:19.180080Z",
     "shell.execute_reply": "2025-07-31T11:28:19.178557Z"
    },
    "tags": []
   },
   "source": [
    "## uniform"
   ]
  },
  {
   "cell_type": "code",
   "execution_count": null,
   "id": "020f8810-a75c-4e54-8f25-e3dc39c44fa5",
   "metadata": {
    "execution": {
     "iopub.execute_input": "2025-07-31T13:15:55.197094Z",
     "iopub.status.busy": "2025-07-31T13:15:55.193554Z",
     "iopub.status.idle": "2025-07-31T13:15:56.703113Z",
     "shell.execute_reply": "2025-07-31T13:15:56.701768Z"
    },
    "tags": []
   },
   "outputs": [],
   "source": [
    "meta_now <- seurat_meta_all(obj)\n",
    "# check meta.data\n",
    "list('keep' = intersect(feature_keep, names(meta_now)),\n",
    "     'miss' = setdiff(feature_keep, names(meta_now)),\n",
    "     'TMI' = setdiff(names(meta_now), feature_keep))\n",
    "\n",
    "obj_use <- seurat_object_uniform(obj, barcode_length = 12)\n",
    "obj_use\n",
    "obj_use@meta.data %>% head(n = 2)"
   ]
  },
  {
   "cell_type": "markdown",
   "id": "18548bdb-1bc1-4487-a8eb-7cce3c2f4da5",
   "metadata": {
    "execution": {
     "iopub.execute_input": "2025-07-31T12:19:08.950419Z",
     "iopub.status.busy": "2025-07-31T12:19:08.947279Z",
     "iopub.status.idle": "2025-07-31T12:19:08.966706Z",
     "shell.execute_reply": "2025-07-31T12:19:08.964522Z"
    },
    "tags": []
   },
   "source": [
    "## UMAP"
   ]
  },
  {
   "cell_type": "code",
   "execution_count": null,
   "id": "1c5a0f59-23b1-45c1-b117-cce9a42c28e9",
   "metadata": {
    "execution": {
     "iopub.execute_input": "2025-07-31T13:16:22.946302Z",
     "iopub.status.busy": "2025-07-31T13:16:22.942597Z",
     "iopub.status.idle": "2025-07-31T13:16:26.328775Z",
     "shell.execute_reply": "2025-07-31T13:16:26.327507Z"
    },
    "tags": []
   },
   "outputs": [],
   "source": [
    "options(repr.plot.height = 4, repr.plot.width = 30)\n",
    "select <- 'umap'\n",
    "DimPlot_scCustom(obj_use, reduction = select, pt.size = 1, group.by = \"gCT\", label = T, label.size = 6, colors_use = pal_igv(\"default\")(51))|\n",
    "DimPlot_scCustom(obj_use, reduction = select, pt.size = 1, group.by = \"mCT\", label = T, label.size = 6, colors_use = pal_igv(\"default\")(51))|\n",
    "DimPlot_scCustom(obj_use, reduction = select, pt.size = 1, group.by = \"oCT\", label = F, colors_use = pal_igv(\"default\")(51))|\n",
    "DimPlot_scCustom(obj_use, reduction = select, pt.size = 1, group.by = \"SampleType\", label = F, label.size = 8, colors_use = pal_igv(\"default\")(51))"
   ]
  },
  {
   "cell_type": "markdown",
   "id": "71a5e594-1100-4866-a5fe-b0f290647b28",
   "metadata": {},
   "source": [
    "## Statistics"
   ]
  },
  {
   "cell_type": "code",
   "execution_count": null,
   "id": "b63d06bf-155d-441f-a3ce-6f8ec047170e",
   "metadata": {
    "execution": {
     "iopub.execute_input": "2025-07-31T13:16:27.198955Z",
     "iopub.status.busy": "2025-07-31T13:16:27.195647Z",
     "iopub.status.idle": "2025-07-31T13:16:27.231262Z",
     "shell.execute_reply": "2025-07-31T13:16:27.229775Z"
    },
    "tags": []
   },
   "outputs": [],
   "source": [
    "obj_use@meta.data[,c('SampleID', 'SampleType', 'Sex')] %>% .[!duplicated(.$SampleID),] %$% table(.$SampleType, .$Sex)\n",
    "obj_use@meta.data %$% table(.$SampleType)"
   ]
  },
  {
   "cell_type": "markdown",
   "id": "4bf118cf-7d1b-4f4d-95de-7e7489a12fcd",
   "metadata": {},
   "source": [
    "## save for use"
   ]
  },
  {
   "cell_type": "code",
   "execution_count": null,
   "id": "daf9a391-99f4-41fd-b805-8ffb1069d216",
   "metadata": {
    "execution": {
     "iopub.execute_input": "2025-07-31T13:16:38.537642Z",
     "iopub.status.busy": "2025-07-31T13:16:38.534444Z",
     "iopub.status.idle": "2025-07-31T13:17:03.853374Z",
     "shell.execute_reply": "2025-07-31T13:17:03.847532Z"
    },
    "tags": []
   },
   "outputs": [],
   "source": [
    "saveRDS(obj_use, 'obj.AML_Galen2019.rds')"
   ]
  },
  {
   "cell_type": "markdown",
   "id": "6355f380-f9a0-459c-be0d-53b1ff3041c4",
   "metadata": {
    "tags": []
   },
   "source": [
    "# obj2: BLCA_Gouin2021"
   ]
  },
  {
   "cell_type": "code",
   "execution_count": null,
   "id": "85cac2c3-4d3d-45b1-bfdf-ae4a006164b0",
   "metadata": {
    "execution": {
     "iopub.execute_input": "2025-07-31T13:18:16.728489Z",
     "iopub.status.busy": "2025-07-31T13:18:16.725393Z",
     "iopub.status.idle": "2025-07-31T13:18:44.897855Z",
     "shell.execute_reply": "2025-07-31T13:18:44.896696Z"
    },
    "tags": []
   },
   "outputs": [],
   "source": [
    "obj <- readRDS(objList_full[2])\n",
    "obj <- UpdateSeuratObject(obj)\n",
    "obj"
   ]
  },
  {
   "cell_type": "markdown",
   "id": "f380cf05-b188-4b76-99ce-c8b237249604",
   "metadata": {},
   "source": [
    "## uniform"
   ]
  },
  {
   "cell_type": "code",
   "execution_count": null,
   "id": "34045584-13d6-4bb5-90ca-607b4ef7afb3",
   "metadata": {
    "execution": {
     "iopub.execute_input": "2025-07-31T13:20:39.064317Z",
     "iopub.status.busy": "2025-07-31T13:20:39.060660Z",
     "iopub.status.idle": "2025-07-31T13:20:47.857533Z",
     "shell.execute_reply": "2025-07-31T13:20:47.855874Z"
    },
    "tags": []
   },
   "outputs": [],
   "source": [
    "meta_now <- seurat_meta_all(obj)\n",
    "# check meta.data\n",
    "list('keep' = intersect(feature_keep, names(meta_now)),\n",
    "     'miss' = setdiff(feature_keep, names(meta_now)),\n",
    "     'TMI' = setdiff(names(meta_now), feature_keep))\n",
    "\n",
    "obj@meta.data <- obj@meta.data %>% transform(Cohort = 'BLCA_Gouin2021', Tissue = 'Bladder', Chemistry = \"10x 3' v3\")\n",
    "obj_use <- seurat_object_uniform(obj, barcode_length = 16)\n",
    "obj_use\n",
    "obj_use@meta.data %>% head(n = 2)"
   ]
  },
  {
   "cell_type": "markdown",
   "id": "ae7f0b41-a519-4558-951e-42edd9e20ec3",
   "metadata": {},
   "source": [
    "## UMAP"
   ]
  },
  {
   "cell_type": "code",
   "execution_count": null,
   "id": "d30e93f8-50a4-4ea8-a98d-068253a5a644",
   "metadata": {
    "execution": {
     "iopub.execute_input": "2025-07-31T13:20:47.913919Z",
     "iopub.status.busy": "2025-07-31T13:20:47.912744Z",
     "iopub.status.idle": "2025-07-31T13:20:54.375628Z",
     "shell.execute_reply": "2025-07-31T13:20:54.374060Z"
    },
    "tags": []
   },
   "outputs": [],
   "source": [
    "options(repr.plot.height = 4, repr.plot.width = 30)\n",
    "select <- 'umap'\n",
    "DimPlot_scCustom(obj_use, reduction = select, pt.size = 1, group.by = \"gCT\", label = T, label.size = 6, colors_use = pal_igv(\"default\")(51))|\n",
    "DimPlot_scCustom(obj_use, reduction = select, pt.size = 1, group.by = \"mCT\", label = F, label.size = 6, colors_use = pal_igv(\"default\")(51))|\n",
    "DimPlot_scCustom(obj_use, reduction = select, pt.size = 1, group.by = \"oCT\", label = F, colors_use = pal_igv(\"default\")(51))|\n",
    "DimPlot_scCustom(obj_use, reduction = select, pt.size = 1, group.by = \"SampleType\", label = F, label.size = 8, colors_use = pal_igv(\"default\")(51))"
   ]
  },
  {
   "cell_type": "markdown",
   "id": "e1fb5a26-c883-403d-a408-cb5a1f642e38",
   "metadata": {},
   "source": [
    "## Statistics"
   ]
  },
  {
   "cell_type": "code",
   "execution_count": null,
   "id": "c62fe045-0738-4631-8d79-eb068ccd3dc8",
   "metadata": {
    "execution": {
     "iopub.execute_input": "2025-07-31T13:20:56.344475Z",
     "iopub.status.busy": "2025-07-31T13:20:56.340573Z",
     "iopub.status.idle": "2025-07-31T13:20:56.375475Z",
     "shell.execute_reply": "2025-07-31T13:20:56.374106Z"
    },
    "tags": []
   },
   "outputs": [],
   "source": [
    "obj_use@meta.data[,c('SampleID', 'SampleType', 'Sex')] %>% .[!duplicated(.$SampleID),] %$% table(.$SampleType, .$Sex)\n",
    "obj_use@meta.data %$% table(.$SampleType)"
   ]
  },
  {
   "cell_type": "markdown",
   "id": "50443f40-4371-4805-86cb-b1369044572d",
   "metadata": {},
   "source": [
    "## save for use"
   ]
  },
  {
   "cell_type": "code",
   "execution_count": null,
   "id": "9c6b1cf4-9a66-4a39-9322-b96c6559adc1",
   "metadata": {
    "execution": {
     "iopub.execute_input": "2025-07-31T13:21:02.737062Z",
     "iopub.status.busy": "2025-07-31T13:21:02.733198Z",
     "iopub.status.idle": "2025-07-31T13:23:56.672380Z",
     "shell.execute_reply": "2025-07-31T13:23:56.665201Z"
    },
    "tags": []
   },
   "outputs": [],
   "source": [
    "saveRDS(obj_use, 'obj.BLCA_Gouin2021.rds')"
   ]
  },
  {
   "cell_type": "markdown",
   "id": "599af451-9420-4e78-8c01-8fd962044cf9",
   "metadata": {
    "tags": []
   },
   "source": [
    "# obj3: ccRCC_Hu2024"
   ]
  },
  {
   "cell_type": "code",
   "execution_count": null,
   "id": "6120d401",
   "metadata": {
    "execution": {
     "iopub.execute_input": "2025-07-31T13:26:04.574759Z",
     "iopub.status.busy": "2025-07-31T13:26:04.571342Z",
     "iopub.status.idle": "2025-07-31T13:26:32.290068Z",
     "shell.execute_reply": "2025-07-31T13:26:32.288876Z"
    },
    "tags": []
   },
   "outputs": [],
   "source": [
    "obj <- readRDS(objList_full[3])\n",
    "obj <- UpdateSeuratObject(obj)\n",
    "obj"
   ]
  },
  {
   "cell_type": "markdown",
   "id": "3154d7c1-524f-48f5-b200-2d09e47af83f",
   "metadata": {},
   "source": [
    "## uniform"
   ]
  },
  {
   "cell_type": "code",
   "execution_count": null,
   "id": "f9abcd4f",
   "metadata": {
    "execution": {
     "iopub.execute_input": "2025-07-31T13:27:19.318404Z",
     "iopub.status.busy": "2025-07-31T13:27:19.314858Z",
     "iopub.status.idle": "2025-07-31T13:27:32.871389Z",
     "shell.execute_reply": "2025-07-31T13:27:32.870266Z"
    },
    "tags": []
   },
   "outputs": [],
   "source": [
    "obj@meta.data <- obj@meta.data %>% transform(Tissue = 'Kidney', Chemistry = \"10x GEX\")\n",
    "meta_now <- obj@meta.data\n",
    "obj_use <- seurat_object_uniform(obj, barcode_length = 16)\n",
    "obj_use\n",
    "obj_use@meta.data %>% head(n = 2)"
   ]
  },
  {
   "cell_type": "markdown",
   "id": "4a19c38a-3e0e-49fe-802c-b4a46bf3c203",
   "metadata": {},
   "source": [
    "## UMAP"
   ]
  },
  {
   "cell_type": "code",
   "execution_count": null,
   "id": "b5998d1a",
   "metadata": {
    "execution": {
     "iopub.execute_input": "2025-07-31T13:28:03.557502Z",
     "iopub.status.busy": "2025-07-31T13:28:03.554239Z",
     "iopub.status.idle": "2025-07-31T13:28:13.311896Z",
     "shell.execute_reply": "2025-07-31T13:28:13.310427Z"
    },
    "tags": []
   },
   "outputs": [],
   "source": [
    "options(repr.plot.height = 4, repr.plot.width = 30)\n",
    "select <- 'umap'\n",
    "DimPlot_scCustom(obj_use, reduction = select, pt.size = 1, group.by = \"gCT\", label = T, label.size = 6, colors_use = pal_igv(\"default\")(51))|\n",
    "DimPlot_scCustom(obj_use, reduction = select, pt.size = 1, group.by = \"mCT\", label = F, label.size = 6, colors_use = pal_igv(\"default\")(51))|\n",
    "DimPlot_scCustom(obj_use, reduction = select, pt.size = 1, group.by = \"oCT\", label = F, colors_use = pal_igv(\"default\")(51))|\n",
    "DimPlot_scCustom(obj_use, reduction = select, pt.size = 1, group.by = \"SampleType\", label = F, label.size = 8, colors_use = pal_igv(\"default\")(51))"
   ]
  },
  {
   "cell_type": "markdown",
   "id": "c7fb5018-23cf-482c-a7cd-297161fca4f3",
   "metadata": {},
   "source": [
    "## Statistics"
   ]
  },
  {
   "cell_type": "code",
   "execution_count": null,
   "id": "e6498587",
   "metadata": {
    "execution": {
     "iopub.execute_input": "2025-07-31T13:28:48.405541Z",
     "iopub.status.busy": "2025-07-31T13:28:48.401749Z",
     "iopub.status.idle": "2025-07-31T13:28:48.440490Z",
     "shell.execute_reply": "2025-07-31T13:28:48.439140Z"
    },
    "tags": []
   },
   "outputs": [],
   "source": [
    "obj_use@meta.data[,c('SampleID', 'SampleType', 'Sex')] %>% .[!duplicated(.$SampleID),] %$% table(.$SampleType, .$Sex)\n",
    "obj_use@meta.data %$% table(.$SampleType)"
   ]
  },
  {
   "cell_type": "markdown",
   "id": "a0f1a7b9-a6d2-40a3-bd31-fae1013f699a",
   "metadata": {},
   "source": [
    "## save for use"
   ]
  },
  {
   "cell_type": "code",
   "execution_count": null,
   "id": "47e00f2d",
   "metadata": {
    "execution": {
     "iopub.execute_input": "2025-07-31T13:29:24.827645Z",
     "iopub.status.busy": "2025-07-31T13:29:24.824115Z",
     "iopub.status.idle": "2025-07-31T13:34:17.794601Z",
     "shell.execute_reply": "2025-07-31T13:34:17.792166Z"
    },
    "tags": []
   },
   "outputs": [],
   "source": [
    "saveRDS(obj_use, 'obj.ccRCC_Hu2024.rds')"
   ]
  },
  {
   "cell_type": "markdown",
   "id": "9f1330a8-df90-4ca0-8fa6-fa73230f62d7",
   "metadata": {},
   "source": [
    "# obj4: CRC_Pelka2021"
   ]
  },
  {
   "cell_type": "code",
   "execution_count": null,
   "id": "f089b86f-d8e9-45db-9e7d-783f2d213683",
   "metadata": {
    "execution": {
     "iopub.execute_input": "2025-07-31T13:39:08.593489Z",
     "iopub.status.busy": "2025-07-31T13:39:08.589919Z",
     "iopub.status.idle": "2025-07-31T13:39:08.713743Z",
     "shell.execute_reply": "2025-07-31T13:39:08.712644Z"
    },
    "tags": []
   },
   "outputs": [],
   "source": [
    "obj <- readRDS(objList_full[4])\n",
    "obj <- UpdateSeuratObject(obj)\n",
    "obj"
   ]
  },
  {
   "cell_type": "markdown",
   "id": "3ef7dca4-8c36-4b0e-9933-86f7b54832b7",
   "metadata": {},
   "source": [
    "## uniform"
   ]
  },
  {
   "cell_type": "code",
   "execution_count": null,
   "id": "d82e46aa-c544-4b55-88cf-1254c240b39c",
   "metadata": {
    "execution": {
     "iopub.execute_input": "2025-07-31T13:44:54.602475Z",
     "iopub.status.busy": "2025-07-31T13:44:54.599035Z",
     "iopub.status.idle": "2025-07-31T13:45:32.532315Z",
     "shell.execute_reply": "2025-07-31T13:45:32.530930Z"
    },
    "tags": []
   },
   "outputs": [],
   "source": [
    "meta_now <- seurat_meta_all(obj)\n",
    "# check meta.data\n",
    "list('keep' = intersect(feature_keep, names(meta_now)),\n",
    "     'miss' = setdiff(feature_keep, names(meta_now)),\n",
    "     'TMI' = setdiff(names(meta_now), feature_keep))\n",
    "obj@meta.data <- obj@meta.data %>% transform(Tissue = 'Colon')\n",
    "\n",
    "obj_use <- seurat_object_uniform(obj, barcode_length = 16)\n",
    "obj_use\n",
    "obj_use@meta.data %>% head(n = 2)"
   ]
  },
  {
   "cell_type": "markdown",
   "id": "ee130e93-043b-4cb3-a6e6-77bb5f2a525e",
   "metadata": {},
   "source": [
    "## UMAP"
   ]
  },
  {
   "cell_type": "code",
   "execution_count": null,
   "id": "6679d0c1-f86a-4a70-9380-3d45e4d8faae",
   "metadata": {
    "execution": {
     "iopub.execute_input": "2025-07-31T13:45:53.544430Z",
     "iopub.status.busy": "2025-07-31T13:45:53.540852Z",
     "iopub.status.idle": "2025-07-31T13:45:59.176996Z",
     "shell.execute_reply": "2025-07-31T13:45:59.175730Z"
    },
    "jupyter": {
     "outputs_hidden": true
    },
    "tags": []
   },
   "outputs": [],
   "source": [
    "options(repr.plot.height = 4, repr.plot.width = 30)\n",
    "select <- 'umap'\n",
    "DimPlot_scCustom(obj_use, reduction = select, pt.size = 1, group.by = \"gCT\", label = T, label.size = 6, colors_use = pal_igv(\"default\")(51))|\n",
    "DimPlot_scCustom(obj_use, reduction = select, pt.size = 1, group.by = \"mCT\", label = F, label.size = 6, colors_use = pal_igv(\"default\")(51))|\n",
    "DimPlot_scCustom(obj_use, reduction = select, pt.size = 1, group.by = \"oCT\", label = F, colors_use = pal_igv(\"default\")(51))|\n",
    "DimPlot_scCustom(obj_use, reduction = select, pt.size = 1, group.by = \"SampleType\", label = F, label.size = 8, colors_use = pal_igv(\"default\")(51))"
   ]
  },
  {
   "cell_type": "markdown",
   "id": "1ca76fba-fbc4-42be-b396-685c89f500e9",
   "metadata": {},
   "source": [
    "## Statistics"
   ]
  },
  {
   "cell_type": "code",
   "execution_count": null,
   "id": "1aa51eca-e5df-430a-8f36-f2073cb8408e",
   "metadata": {
    "execution": {
     "iopub.execute_input": "2025-07-31T13:47:02.617563Z",
     "iopub.status.busy": "2025-07-31T13:47:02.614218Z",
     "iopub.status.idle": "2025-07-31T13:47:02.675785Z",
     "shell.execute_reply": "2025-07-31T13:47:02.674568Z"
    },
    "tags": []
   },
   "outputs": [],
   "source": [
    "obj_use@meta.data[,c('SampleID', 'SampleType', 'Sex')] %>% .[!duplicated(.$SampleID),] %$% table(.$SampleType, .$Sex)\n",
    "obj_use@meta.data %$% table(.$SampleType)"
   ]
  },
  {
   "cell_type": "markdown",
   "id": "24d67572-62cb-4e88-a1c7-2e5865be4062",
   "metadata": {},
   "source": [
    "## save for use"
   ]
  },
  {
   "cell_type": "code",
   "execution_count": null,
   "id": "d0baa905-5a6d-48fe-bc7c-bb0929afc5c6",
   "metadata": {
    "execution": {
     "iopub.execute_input": "2025-07-31T13:47:58.805332Z",
     "iopub.status.busy": "2025-07-31T13:47:58.802249Z",
     "iopub.status.idle": "2025-07-31T14:01:16.373366Z",
     "shell.execute_reply": "2025-07-31T14:01:16.370884Z"
    },
    "tags": []
   },
   "outputs": [],
   "source": [
    "saveRDS(obj_use, 'obj.CRC_Pelka2021.rds')"
   ]
  },
  {
   "cell_type": "markdown",
   "id": "d09e09c3-b847-4233-a5e9-16359a742c9a",
   "metadata": {
    "tags": []
   },
   "source": [
    "# obj5: ESCA_Zhang2021"
   ]
  },
  {
   "cell_type": "code",
   "execution_count": null,
   "id": "7780e66b",
   "metadata": {
    "execution": {
     "iopub.execute_input": "2025-07-31T16:25:32.894488Z",
     "iopub.status.busy": "2025-07-31T16:25:32.891366Z",
     "iopub.status.idle": "2025-07-31T16:26:56.452100Z",
     "shell.execute_reply": "2025-07-31T16:26:56.450958Z"
    },
    "tags": []
   },
   "outputs": [],
   "source": [
    "obj <- readRDS(objList_full[5])\n",
    "obj <- UpdateSeuratObject(obj)\n",
    "obj"
   ]
  },
  {
   "cell_type": "markdown",
   "id": "a4df8012-9382-4192-abbe-0baaff3cecca",
   "metadata": {
    "tags": []
   },
   "source": [
    "## uniform"
   ]
  },
  {
   "cell_type": "code",
   "execution_count": null,
   "id": "ea4542a0",
   "metadata": {
    "execution": {
     "iopub.execute_input": "2025-07-31T16:27:59.172082Z",
     "iopub.status.busy": "2025-07-31T16:27:59.168170Z",
     "iopub.status.idle": "2025-07-31T16:28:22.543194Z",
     "shell.execute_reply": "2025-07-31T16:28:22.542022Z"
    },
    "tags": []
   },
   "outputs": [],
   "source": [
    "meta_now <- seurat_meta_all(obj)\n",
    "# check meta.data\n",
    "list('keep' = intersect(feature_keep, names(meta_now)),\n",
    "     'miss' = setdiff(feature_keep, names(meta_now)),\n",
    "     'TMI' = setdiff(names(meta_now), feature_keep))\n",
    "obj@meta.data <- obj@meta.data %>% transform(Tissue = 'Esophagus', Chemistry = \"10x 5'\")\n",
    "\n",
    "obj_use <- seurat_object_uniform(obj, barcode_length = 16)\n",
    "obj_use\n",
    "obj_use@meta.data %>% head(n = 2)"
   ]
  },
  {
   "cell_type": "markdown",
   "id": "2c48d4eb-1400-4bd6-af53-b87c6c5beb6d",
   "metadata": {},
   "source": [
    "## UMAP"
   ]
  },
  {
   "cell_type": "code",
   "execution_count": null,
   "id": "a2c70749",
   "metadata": {
    "execution": {
     "iopub.execute_input": "2025-07-31T16:32:31.278708Z",
     "iopub.status.busy": "2025-07-31T16:32:31.275372Z",
     "iopub.status.idle": "2025-07-31T16:32:35.784208Z",
     "shell.execute_reply": "2025-07-31T16:32:35.782997Z"
    },
    "tags": []
   },
   "outputs": [],
   "source": [
    "options(repr.plot.height = 4, repr.plot.width = 30)\n",
    "select <- 'umap'\n",
    "DimPlot_scCustom(obj_use, reduction = select, pt.size = 1, group.by = \"gCT\", label = T, label.size = 6, colors_use = pal_igv(\"default\")(51))|\n",
    "DimPlot_scCustom(obj_use, reduction = select, pt.size = 1, group.by = \"mCT\", label = F, label.size = 6, colors_use = pal_igv(\"default\")(51))|\n",
    "DimPlot_scCustom(obj_use, reduction = select, pt.size = 1, group.by = \"oCT\", label = F, colors_use = pal_igv(\"default\")(51))|\n",
    "DimPlot_scCustom(obj_use, reduction = select, pt.size = 1, group.by = \"SampleType\", label = F, label.size = 8, colors_use = pal_igv(\"default\")(51))"
   ]
  },
  {
   "cell_type": "markdown",
   "id": "df266905-4b8b-4d6b-9bab-1309740e6f17",
   "metadata": {},
   "source": [
    "## Statistics"
   ]
  },
  {
   "cell_type": "code",
   "execution_count": null,
   "id": "17e3ced6",
   "metadata": {
    "execution": {
     "iopub.execute_input": "2025-07-31T16:35:58.899456Z",
     "iopub.status.busy": "2025-07-31T16:35:58.896150Z",
     "iopub.status.idle": "2025-07-31T16:35:58.938808Z",
     "shell.execute_reply": "2025-07-31T16:35:58.937540Z"
    },
    "tags": []
   },
   "outputs": [],
   "source": [
    "obj_use@meta.data[,c('SampleID', 'SampleType', 'Sex')] %>% .[!duplicated(.$SampleID),] %$% table(.$SampleType, .$Sex)\n",
    "obj_use@meta.data %$% table(.$SampleType)"
   ]
  },
  {
   "cell_type": "markdown",
   "id": "7e5e3581-3143-4fc7-9be5-8d093aaec13d",
   "metadata": {},
   "source": [
    "## save for use"
   ]
  },
  {
   "cell_type": "code",
   "execution_count": null,
   "id": "a3cc72f4",
   "metadata": {
    "execution": {
     "iopub.execute_input": "2025-07-31T16:36:03.091177Z",
     "iopub.status.busy": "2025-07-31T16:36:03.087876Z",
     "iopub.status.idle": "2025-07-31T16:45:49.550302Z",
     "shell.execute_reply": "2025-07-31T16:45:49.547192Z"
    },
    "tags": []
   },
   "outputs": [],
   "source": [
    "saveRDS(obj_use, 'obj.ESCA_Zhang2021.rds')"
   ]
  },
  {
   "cell_type": "markdown",
   "id": "be6a5831-266c-4eda-bb80-507e0f394b73",
   "metadata": {
    "tags": []
   },
   "source": [
    "# obj6: FL_Han2022"
   ]
  },
  {
   "cell_type": "code",
   "execution_count": null,
   "id": "18f5742b",
   "metadata": {
    "execution": {
     "iopub.execute_input": "2025-07-31T15:11:51.388059Z",
     "iopub.status.busy": "2025-07-31T15:11:51.384996Z",
     "iopub.status.idle": "2025-07-31T15:11:59.801518Z",
     "shell.execute_reply": "2025-07-31T15:11:59.800189Z"
    },
    "tags": []
   },
   "outputs": [],
   "source": [
    "obj <- readRDS(objList_full[6])\n",
    "obj <- UpdateSeuratObject(obj)\n",
    "obj"
   ]
  },
  {
   "cell_type": "markdown",
   "id": "2b1828ed-7393-42f3-b2c3-fa654fb5b2b9",
   "metadata": {
    "tags": []
   },
   "source": [
    "## uniform"
   ]
  },
  {
   "cell_type": "code",
   "execution_count": null,
   "id": "bb119075",
   "metadata": {
    "execution": {
     "iopub.execute_input": "2025-07-31T15:13:04.208197Z",
     "iopub.status.busy": "2025-07-31T15:13:04.204514Z",
     "iopub.status.idle": "2025-07-31T15:13:08.859853Z",
     "shell.execute_reply": "2025-07-31T15:13:08.858720Z"
    },
    "tags": []
   },
   "outputs": [],
   "source": [
    "meta_now <- seurat_meta_all(obj)\n",
    "# check meta.data\n",
    "list('keep' = intersect(feature_keep, names(meta_now)),\n",
    "     'miss' = setdiff(feature_keep, names(meta_now)),\n",
    "     'TMI' = setdiff(names(meta_now), feature_keep))\n",
    "\n",
    "obj_use <- seurat_object_uniform(obj, barcode_length = 16)\n",
    "obj_use\n",
    "obj_use@meta.data %>% head(n = 2)"
   ]
  },
  {
   "cell_type": "markdown",
   "id": "21025852-09ac-42ce-a49f-36bf09ad47f0",
   "metadata": {},
   "source": [
    "## UMAP"
   ]
  },
  {
   "cell_type": "code",
   "execution_count": null,
   "id": "266856e1",
   "metadata": {
    "execution": {
     "iopub.execute_input": "2025-07-31T15:13:41.072219Z",
     "iopub.status.busy": "2025-07-31T15:13:41.068885Z",
     "iopub.status.idle": "2025-07-31T15:13:47.669757Z",
     "shell.execute_reply": "2025-07-31T15:13:47.668635Z"
    },
    "tags": []
   },
   "outputs": [],
   "source": [
    "options(repr.plot.height = 4, repr.plot.width = 30)\n",
    "select <- 'umap'\n",
    "DimPlot_scCustom(obj_use, reduction = select, pt.size = 1, group.by = \"gCT\", label = T, label.size = 6, colors_use = pal_igv(\"default\")(51))|\n",
    "DimPlot_scCustom(obj_use, reduction = select, pt.size = 1, group.by = \"mCT\", label = F, label.size = 6, colors_use = pal_igv(\"default\")(51))|\n",
    "DimPlot_scCustom(obj_use, reduction = select, pt.size = 1, group.by = \"oCT\", label = F, colors_use = pal_igv(\"default\")(51))|\n",
    "DimPlot_scCustom(obj_use, reduction = select, pt.size = 1, group.by = \"SampleType\", label = F, label.size = 8, colors_use = pal_igv(\"default\")(51))"
   ]
  },
  {
   "cell_type": "markdown",
   "id": "abb1791f-9175-4e9c-87e0-8d5663d6c71d",
   "metadata": {},
   "source": [
    "## Statistics"
   ]
  },
  {
   "cell_type": "code",
   "execution_count": null,
   "id": "03dfa141",
   "metadata": {
    "execution": {
     "iopub.execute_input": "2025-07-31T15:24:19.756834Z",
     "iopub.status.busy": "2025-07-31T15:24:19.753525Z",
     "iopub.status.idle": "2025-07-31T15:24:19.790529Z",
     "shell.execute_reply": "2025-07-31T15:24:19.789275Z"
    },
    "tags": []
   },
   "outputs": [],
   "source": [
    "obj_use@meta.data[,c('SampleID', 'SampleType', 'Sex')] %>% .[!duplicated(.$SampleID),] %$% table(.$SampleType, .$Sex)\n",
    "obj_use@meta.data %$% table(.$SampleType)"
   ]
  },
  {
   "cell_type": "markdown",
   "id": "c8a650c7-fa1f-4566-9ffc-3a57af939e79",
   "metadata": {},
   "source": [
    "## save for use"
   ]
  },
  {
   "cell_type": "code",
   "execution_count": null,
   "id": "90dd5507",
   "metadata": {
    "execution": {
     "iopub.execute_input": "2025-07-31T15:24:41.766621Z",
     "iopub.status.busy": "2025-07-31T15:24:41.763260Z",
     "iopub.status.idle": "2025-07-31T15:25:59.214848Z",
     "shell.execute_reply": "2025-07-31T15:25:59.212551Z"
    },
    "tags": []
   },
   "outputs": [],
   "source": [
    "saveRDS(obj_use, 'obj.FL_Han2022.rds')"
   ]
  },
  {
   "cell_type": "markdown",
   "id": "5b56e28e-d12f-4a1d-b193-31087035d029",
   "metadata": {
    "tags": []
   },
   "source": [
    "# obj7: GBM_Spitzer2025"
   ]
  },
  {
   "cell_type": "code",
   "execution_count": null,
   "id": "97575be8",
   "metadata": {
    "execution": {
     "iopub.execute_input": "2025-07-31T15:26:33.956119Z",
     "iopub.status.busy": "2025-07-31T15:26:33.952736Z",
     "iopub.status.idle": "2025-07-31T15:27:26.084962Z",
     "shell.execute_reply": "2025-07-31T15:27:26.083580Z"
    },
    "tags": []
   },
   "outputs": [],
   "source": [
    "obj <- readRDS(objList_full[7])\n",
    "obj <- UpdateSeuratObject(obj)\n",
    "obj"
   ]
  },
  {
   "cell_type": "markdown",
   "id": "e6e19526-d25f-45cf-8c47-65bcf3d7fa45",
   "metadata": {
    "tags": []
   },
   "source": [
    "## uniform"
   ]
  },
  {
   "cell_type": "code",
   "execution_count": null,
   "id": "305a9cb8",
   "metadata": {
    "execution": {
     "iopub.execute_input": "2025-07-31T15:47:09.862557Z",
     "iopub.status.busy": "2025-07-31T15:47:09.859441Z",
     "iopub.status.idle": "2025-07-31T15:47:23.452183Z",
     "shell.execute_reply": "2025-07-31T15:47:23.451067Z"
    },
    "tags": []
   },
   "outputs": [],
   "source": [
    "meta_now <- seurat_meta_all(obj)\n",
    "# check meta.data\n",
    "list('keep' = intersect(feature_keep, names(meta_now)),\n",
    "     'miss' = setdiff(feature_keep, names(meta_now)),\n",
    "     'TMI' = setdiff(names(meta_now), feature_keep))\n",
    "obj@meta.data <- obj@meta.data %>% transform(Tissue = \"Brain\", Chemistry = \"10x 3' v3\")\n",
    "\n",
    "obj_use <- seurat_object_uniform(obj, barcode_length = 16)\n",
    "obj_use\n",
    "obj_use@meta.data %>% head(n = 2)"
   ]
  },
  {
   "cell_type": "markdown",
   "id": "d3727c7f-8e1c-4bec-9182-399ac2e7a697",
   "metadata": {},
   "source": [
    "## UMAP"
   ]
  },
  {
   "cell_type": "code",
   "execution_count": null,
   "id": "b15c3633",
   "metadata": {
    "execution": {
     "iopub.execute_input": "2025-07-31T15:47:54.987222Z",
     "iopub.status.busy": "2025-07-31T15:47:54.984068Z",
     "iopub.status.idle": "2025-07-31T15:48:06.048401Z",
     "shell.execute_reply": "2025-07-31T15:48:06.046982Z"
    },
    "tags": []
   },
   "outputs": [],
   "source": [
    "options(repr.plot.height = 4, repr.plot.width = 30)\n",
    "select <- 'umap'\n",
    "DimPlot_scCustom(obj_use, reduction = select, pt.size = 1, group.by = \"gCT\", label = T, label.size = 6, colors_use = pal_igv(\"default\")(51))|\n",
    "DimPlot_scCustom(obj_use, reduction = select, pt.size = 1, group.by = \"mCT\", label = F, label.size = 6, colors_use = pal_igv(\"default\")(51))|\n",
    "DimPlot_scCustom(obj_use, reduction = select, pt.size = 1, group.by = \"oCT\", label = F, colors_use = pal_igv(\"default\")(51))|\n",
    "DimPlot_scCustom(obj_use, reduction = select, pt.size = 1, group.by = \"SampleType\", label = F, label.size = 8, colors_use = pal_igv(\"default\")(51))"
   ]
  },
  {
   "cell_type": "markdown",
   "id": "8eb99c81-37dc-4a05-ae3c-bb930f50bf7a",
   "metadata": {},
   "source": [
    "## Statistics"
   ]
  },
  {
   "cell_type": "code",
   "execution_count": null,
   "id": "45757183",
   "metadata": {
    "execution": {
     "iopub.execute_input": "2025-07-31T15:50:22.611051Z",
     "iopub.status.busy": "2025-07-31T15:50:22.607655Z",
     "iopub.status.idle": "2025-07-31T15:50:22.643900Z",
     "shell.execute_reply": "2025-07-31T15:50:22.642626Z"
    },
    "tags": []
   },
   "outputs": [],
   "source": [
    "obj_use@meta.data[,c('SampleID', 'SampleType', 'Sex')] %>% .[!duplicated(.$SampleID),] %$% table(.$SampleType, .$Sex)\n",
    "obj_use@meta.data %$% table(.$SampleType)"
   ]
  },
  {
   "cell_type": "markdown",
   "id": "d42e4ec4-2493-4bc7-b62c-1ddd7409beb4",
   "metadata": {},
   "source": [
    "## save for use"
   ]
  },
  {
   "cell_type": "code",
   "execution_count": null,
   "id": "7b9f8ae4",
   "metadata": {
    "execution": {
     "iopub.execute_input": "2025-07-31T15:50:48.604043Z",
     "iopub.status.busy": "2025-07-31T15:50:48.600921Z",
     "iopub.status.idle": "2025-07-31T15:56:48.263235Z",
     "shell.execute_reply": "2025-07-31T15:56:48.260854Z"
    },
    "tags": []
   },
   "outputs": [],
   "source": [
    "saveRDS(obj_use, 'obj.GBM_Spitzer2025.rds')"
   ]
  },
  {
   "cell_type": "markdown",
   "id": "aeb90a4c-141f-4dcb-9c78-605e4e4f8099",
   "metadata": {
    "tags": []
   },
   "source": [
    "# obj8: GC_Kumar2022"
   ]
  },
  {
   "cell_type": "code",
   "execution_count": null,
   "id": "25a561b8",
   "metadata": {
    "execution": {
     "iopub.execute_input": "2025-07-31T15:58:46.318002Z",
     "iopub.status.busy": "2025-07-31T15:58:46.314706Z",
     "iopub.status.idle": "2025-07-31T15:59:37.453836Z",
     "shell.execute_reply": "2025-07-31T15:59:37.452653Z"
    },
    "tags": []
   },
   "outputs": [],
   "source": [
    "obj <- readRDS(objList_full[8])\n",
    "obj <- UpdateSeuratObject(obj)\n",
    "obj"
   ]
  },
  {
   "cell_type": "markdown",
   "id": "d29ae630-47e6-459a-b216-c3bddaff62bd",
   "metadata": {
    "tags": []
   },
   "source": [
    "## uniform"
   ]
  },
  {
   "cell_type": "code",
   "execution_count": null,
   "id": "df1e4cbc",
   "metadata": {
    "execution": {
     "iopub.execute_input": "2025-07-31T16:01:29.785981Z",
     "iopub.status.busy": "2025-07-31T16:01:29.782307Z",
     "iopub.status.idle": "2025-07-31T16:01:42.728977Z",
     "shell.execute_reply": "2025-07-31T16:01:42.727812Z"
    },
    "tags": []
   },
   "outputs": [],
   "source": [
    "meta_now <- seurat_meta_all(obj)\n",
    "# check meta.data\n",
    "list('keep' = intersect(feature_keep, names(meta_now)),\n",
    "     'miss' = setdiff(feature_keep, names(meta_now)),\n",
    "     'TMI' = setdiff(names(meta_now), feature_keep))\n",
    "\n",
    "obj@meta.data <- obj@meta.data %>% transform(Tissue = 'Stomach')\n",
    "obj_use <- seurat_object_uniform(obj, barcode_length = 16)\n",
    "obj_use\n",
    "obj_use@meta.data %>% head(n = 2)"
   ]
  },
  {
   "cell_type": "markdown",
   "id": "faaff715-a63c-4e53-81a1-096e1f7ad957",
   "metadata": {},
   "source": [
    "## UMAP"
   ]
  },
  {
   "cell_type": "code",
   "execution_count": null,
   "id": "6a16bcf3",
   "metadata": {
    "execution": {
     "iopub.execute_input": "2025-07-31T16:06:43.824135Z",
     "iopub.status.busy": "2025-07-31T16:06:43.821032Z",
     "iopub.status.idle": "2025-07-31T16:06:57.629066Z",
     "shell.execute_reply": "2025-07-31T16:06:57.627805Z"
    },
    "tags": []
   },
   "outputs": [],
   "source": [
    "options(repr.plot.height = 4, repr.plot.width = 30)\n",
    "select <- 'umap'\n",
    "DimPlot_scCustom(obj_use, reduction = select, pt.size = 1, group.by = \"gCT\", label = T, label.size = 6, colors_use = pal_igv(\"default\")(51))|\n",
    "DimPlot_scCustom(obj_use, reduction = select, pt.size = 1, group.by = \"mCT\", label = F, label.size = 6, colors_use = pal_igv(\"default\")(51))|\n",
    "DimPlot_scCustom(obj_use, reduction = select, pt.size = 1, group.by = \"oCT\", label = F, colors_use = pal_igv(\"default\")(51))|\n",
    "DimPlot_scCustom(obj_use, reduction = select, pt.size = 1, group.by = \"SampleType\", label = F, label.size = 8, colors_use = pal_igv(\"default\")(51))"
   ]
  },
  {
   "cell_type": "markdown",
   "id": "5c4d8181-64d5-4238-9bc4-b843e44a578f",
   "metadata": {},
   "source": [
    "## Statistics"
   ]
  },
  {
   "cell_type": "code",
   "execution_count": null,
   "id": "5ac8a0a8",
   "metadata": {
    "execution": {
     "iopub.execute_input": "2025-07-31T16:06:04.535084Z",
     "iopub.status.busy": "2025-07-31T16:06:04.531656Z",
     "iopub.status.idle": "2025-07-31T16:06:04.572428Z",
     "shell.execute_reply": "2025-07-31T16:06:04.571319Z"
    },
    "tags": []
   },
   "outputs": [],
   "source": [
    "obj_use@meta.data[,c('SampleID', 'SampleType', 'Sex')] %>% .[!duplicated(.$SampleID),] %$% table(.$SampleType, .$Sex)\n",
    "obj_use@meta.data %$% table(.$SampleType)"
   ]
  },
  {
   "cell_type": "markdown",
   "id": "75eaf9a6-afc8-4870-b1cc-bc6416e5544b",
   "metadata": {},
   "source": [
    "## save for use"
   ]
  },
  {
   "cell_type": "code",
   "execution_count": null,
   "id": "5debffc5",
   "metadata": {
    "execution": {
     "iopub.execute_input": "2025-07-31T16:09:20.757621Z",
     "iopub.status.busy": "2025-07-31T16:09:20.754440Z",
     "iopub.status.idle": "2025-07-31T16:14:01.939343Z",
     "shell.execute_reply": "2025-07-31T16:14:01.936692Z"
    },
    "tags": []
   },
   "outputs": [],
   "source": [
    "saveRDS(obj_use, 'obj.GC_Kumar2022.rds')"
   ]
  },
  {
   "cell_type": "markdown",
   "id": "5ee262d3-a553-4f61-b0d2-8ce9fee0cdf9",
   "metadata": {
    "tags": []
   },
   "source": [
    "# obj9: HNSCC_Choi2023"
   ]
  },
  {
   "cell_type": "code",
   "execution_count": null,
   "id": "cd1e9ab0",
   "metadata": {
    "execution": {
     "iopub.execute_input": "2025-07-31T16:16:11.899817Z",
     "iopub.status.busy": "2025-07-31T16:16:11.896744Z",
     "iopub.status.idle": "2025-07-31T16:16:27.280365Z",
     "shell.execute_reply": "2025-07-31T16:16:27.279038Z"
    },
    "tags": []
   },
   "outputs": [],
   "source": [
    "obj <- readRDS(objList_full[9])\n",
    "obj <- UpdateSeuratObject(obj)\n",
    "obj"
   ]
  },
  {
   "cell_type": "markdown",
   "id": "743a2a95-25d3-4f8b-9383-650e6b488808",
   "metadata": {
    "tags": []
   },
   "source": [
    "## uniform"
   ]
  },
  {
   "cell_type": "code",
   "execution_count": null,
   "id": "5c3548a5",
   "metadata": {
    "execution": {
     "iopub.execute_input": "2025-07-31T16:20:00.084270Z",
     "iopub.status.busy": "2025-07-31T16:20:00.081036Z",
     "iopub.status.idle": "2025-07-31T16:20:01.342925Z",
     "shell.execute_reply": "2025-07-31T16:20:01.341699Z"
    },
    "tags": []
   },
   "outputs": [],
   "source": [
    "meta_now <- seurat_meta_all(obj)\n",
    "# check meta.data\n",
    "list('keep' = intersect(feature_keep, names(meta_now)),\n",
    "     'miss' = setdiff(feature_keep, names(meta_now)),\n",
    "     'TMI' = setdiff(names(meta_now), feature_keep))\n",
    "obj@meta.data <- obj@meta.data %>% transform(Tissue = \"Oral cavity\", Chemistry = \"10x 3' v2\")\n",
    "\n",
    "obj_use <- seurat_object_uniform(obj, barcode_length = 16)\n",
    "obj_use\n",
    "obj_use@meta.data %>% head(n = 2)"
   ]
  },
  {
   "cell_type": "markdown",
   "id": "6acdb23b-18c5-4402-ad84-649fb23004e0",
   "metadata": {},
   "source": [
    "## UMAP"
   ]
  },
  {
   "cell_type": "code",
   "execution_count": null,
   "id": "18ca030e",
   "metadata": {
    "execution": {
     "iopub.execute_input": "2025-07-31T16:23:40.171336Z",
     "iopub.status.busy": "2025-07-31T16:23:40.168179Z",
     "iopub.status.idle": "2025-07-31T16:23:42.442327Z",
     "shell.execute_reply": "2025-07-31T16:23:42.441181Z"
    },
    "tags": []
   },
   "outputs": [],
   "source": [
    "options(repr.plot.height = 4, repr.plot.width = 30)\n",
    "select <- 'umap'\n",
    "DimPlot_scCustom(obj_use, reduction = select, pt.size = 1, group.by = \"gCT\", label = T, label.size = 6, colors_use = pal_igv(\"default\")(51))|\n",
    "DimPlot_scCustom(obj_use, reduction = select, pt.size = 1, group.by = \"mCT\", label = F, label.size = 6, colors_use = pal_igv(\"default\")(51))|\n",
    "DimPlot_scCustom(obj_use, reduction = select, pt.size = 1, group.by = \"oCT\", label = F, colors_use = pal_igv(\"default\")(51))|\n",
    "DimPlot_scCustom(obj_use, reduction = select, pt.size = 1, group.by = \"SampleType\", label = F, label.size = 8, colors_use = pal_igv(\"default\")(51))"
   ]
  },
  {
   "cell_type": "markdown",
   "id": "c21926f3-73a4-4336-97c8-7484e5c25fbd",
   "metadata": {},
   "source": [
    "## Statistics"
   ]
  },
  {
   "cell_type": "code",
   "execution_count": null,
   "id": "085a3967",
   "metadata": {
    "execution": {
     "iopub.execute_input": "2025-07-31T16:24:10.053116Z",
     "iopub.status.busy": "2025-07-31T16:24:10.049846Z",
     "iopub.status.idle": "2025-07-31T16:24:10.081124Z",
     "shell.execute_reply": "2025-07-31T16:24:10.079439Z"
    },
    "tags": []
   },
   "outputs": [],
   "source": [
    "obj_use@meta.data[,c('SampleID', 'SampleType', 'Sex')] %>% .[!duplicated(.$SampleID),] %$% table(.$SampleType, .$Sex)\n",
    "obj_use@meta.data %$% table(.$SampleType)"
   ]
  },
  {
   "cell_type": "markdown",
   "id": "9dc27814-a1e2-483f-8bf8-83cf7e9ab9c1",
   "metadata": {},
   "source": [
    "## save for use"
   ]
  },
  {
   "cell_type": "code",
   "execution_count": null,
   "id": "594c6270",
   "metadata": {
    "execution": {
     "iopub.execute_input": "2025-07-31T16:24:36.270367Z",
     "iopub.status.busy": "2025-07-31T16:24:36.267245Z",
     "iopub.status.idle": "2025-07-31T16:25:07.643273Z",
     "shell.execute_reply": "2025-07-31T16:25:07.640857Z"
    },
    "tags": []
   },
   "outputs": [],
   "source": [
    "saveRDS(obj_use, 'obj.HNSCC_Choi2023.rds')"
   ]
  },
  {
   "cell_type": "markdown",
   "id": "001c5e6d-6172-4129-8e02-a95c07864a94",
   "metadata": {
    "tags": []
   },
   "source": [
    "# obj10: LIHC_Xue2022"
   ]
  },
  {
   "cell_type": "code",
   "execution_count": null,
   "id": "367f3d47",
   "metadata": {
    "execution": {
     "iopub.execute_input": "2025-08-01T08:46:54.569953Z",
     "iopub.status.busy": "2025-08-01T08:46:54.566870Z",
     "iopub.status.idle": "2025-08-01T08:48:07.163208Z",
     "shell.execute_reply": "2025-08-01T08:48:07.162036Z"
    },
    "tags": []
   },
   "outputs": [],
   "source": [
    "obj <- readRDS(objList_full[10])\n",
    "obj"
   ]
  },
  {
   "cell_type": "markdown",
   "id": "8a212a3a-8180-4267-af23-f63ac8c0d8f2",
   "metadata": {
    "tags": []
   },
   "source": [
    "## uniform"
   ]
  },
  {
   "cell_type": "code",
   "execution_count": null,
   "id": "e4f362c9",
   "metadata": {
    "execution": {
     "iopub.execute_input": "2025-08-01T08:50:38.421071Z",
     "iopub.status.busy": "2025-08-01T08:50:38.417257Z",
     "iopub.status.idle": "2025-08-01T08:51:04.214170Z",
     "shell.execute_reply": "2025-08-01T08:51:04.213048Z"
    },
    "tags": []
   },
   "outputs": [],
   "source": [
    "meta_now <- seurat_meta_all(obj)\n",
    "# check meta.data\n",
    "list('keep' = intersect(feature_keep, names(meta_now)),\n",
    "     'miss' = setdiff(feature_keep, names(meta_now)),\n",
    "     'TMI' = setdiff(names(meta_now), feature_keep))\n",
    "\n",
    "obj@meta.data <- obj@meta.data %>% transform(DonorID = SampleID, Tissue = \"Liver\", SampleType = 'tumor')\n",
    "\n",
    "obj_use <- seurat_object_uniform(obj, barcode_length = 16)\n",
    "obj_use\n",
    "obj_use@meta.data %>% head(n = 2)"
   ]
  },
  {
   "cell_type": "markdown",
   "id": "16118fa0-dead-4c45-9436-759717f109b8",
   "metadata": {},
   "source": [
    "## UMAP"
   ]
  },
  {
   "cell_type": "code",
   "execution_count": null,
   "id": "78e4c583",
   "metadata": {
    "execution": {
     "iopub.execute_input": "2025-08-01T08:51:08.647869Z",
     "iopub.status.busy": "2025-08-01T08:51:08.644634Z",
     "iopub.status.idle": "2025-08-01T08:51:13.752911Z",
     "shell.execute_reply": "2025-08-01T08:51:13.751641Z"
    },
    "tags": []
   },
   "outputs": [],
   "source": [
    "options(repr.plot.height = 4, repr.plot.width = 30)\n",
    "select <- 'umap'\n",
    "DimPlot_scCustom(obj_use, reduction = select, pt.size = 1, group.by = \"gCT\", label = T, label.size = 6, colors_use = pal_igv(\"default\")(51))|\n",
    "DimPlot_scCustom(obj_use, reduction = select, pt.size = 1, group.by = \"mCT\", label = F, label.size = 6, colors_use = pal_igv(\"default\")(51))|\n",
    "DimPlot_scCustom(obj_use, reduction = select, pt.size = 1, group.by = \"oCT\", label = F, colors_use = pal_igv(\"default\")(51))|\n",
    "DimPlot_scCustom(obj_use, reduction = select, pt.size = 1, group.by = \"SampleType\", label = F, label.size = 8, colors_use = pal_igv(\"default\")(51))"
   ]
  },
  {
   "cell_type": "markdown",
   "id": "de932503-53ca-4da4-ad7f-d84bb49be438",
   "metadata": {},
   "source": [
    "## Statistics"
   ]
  },
  {
   "cell_type": "code",
   "execution_count": null,
   "id": "1a1532b2",
   "metadata": {
    "execution": {
     "iopub.execute_input": "2025-08-01T08:51:15.067555Z",
     "iopub.status.busy": "2025-08-01T08:51:15.064067Z",
     "iopub.status.idle": "2025-08-01T08:51:15.108331Z",
     "shell.execute_reply": "2025-08-01T08:51:15.107014Z"
    },
    "tags": []
   },
   "outputs": [],
   "source": [
    "obj_use@meta.data[,c('SampleID', 'SampleType', 'Sex')] %>% .[!duplicated(.$SampleID),] %$% table(.$SampleType, .$Sex)\n",
    "obj_use@meta.data %$% table(.$SampleType)"
   ]
  },
  {
   "cell_type": "markdown",
   "id": "71e603a5-13c6-4a72-b509-ef31b7220aff",
   "metadata": {},
   "source": [
    "## save for use"
   ]
  },
  {
   "cell_type": "code",
   "execution_count": null,
   "id": "5ce6a70f",
   "metadata": {
    "execution": {
     "iopub.execute_input": "2025-08-01T08:51:19.276436Z",
     "iopub.status.busy": "2025-08-01T08:51:19.273307Z",
     "iopub.status.idle": "2025-08-01T09:01:13.670531Z",
     "shell.execute_reply": "2025-08-01T09:01:13.663959Z"
    },
    "tags": []
   },
   "outputs": [],
   "source": [
    "saveRDS(obj_use, 'obj.LIHC_Xue2022.rds')"
   ]
  },
  {
   "cell_type": "markdown",
   "id": "536dc892-039d-4dd5-a391-1eab747e2b1a",
   "metadata": {
    "tags": []
   },
   "source": [
    "# obj11: NSCLC_Salcher2022"
   ]
  },
  {
   "cell_type": "code",
   "execution_count": null,
   "id": "80a0ab92",
   "metadata": {
    "execution": {
     "iopub.execute_input": "2025-08-05T13:39:27.802212Z",
     "iopub.status.busy": "2025-08-05T13:39:27.799113Z",
     "iopub.status.idle": "2025-08-05T13:41:00.624620Z",
     "shell.execute_reply": "2025-08-05T13:41:00.623441Z"
    },
    "tags": []
   },
   "outputs": [],
   "source": [
    "obj <- readRDS(objList_full[11])\n",
    "obj <- UpdateSeuratObject(obj)\n",
    "obj"
   ]
  },
  {
   "cell_type": "markdown",
   "id": "7e5b4365-18e1-4100-bbf6-ab4fa174c9e4",
   "metadata": {
    "tags": []
   },
   "source": [
    "## uniform"
   ]
  },
  {
   "cell_type": "code",
   "execution_count": null,
   "id": "ae45e8d7",
   "metadata": {
    "execution": {
     "iopub.execute_input": "2025-08-05T13:42:56.268421Z",
     "iopub.status.busy": "2025-08-05T13:42:56.265152Z",
     "iopub.status.idle": "2025-08-05T13:43:48.249666Z",
     "shell.execute_reply": "2025-08-05T13:43:48.248470Z"
    },
    "tags": []
   },
   "outputs": [],
   "source": [
    "meta_now <- seurat_meta_all(obj)\n",
    "# check meta.data\n",
    "list('keep' = intersect(feature_keep, names(meta_now)),\n",
    "     'miss' = setdiff(feature_keep, names(meta_now)),\n",
    "     'TMI' = setdiff(names(meta_now), feature_keep))\n",
    "\n",
    "obj@meta.data <- obj@meta.data %>% transform(Tissue = 'Lung')\n",
    "\n",
    "obj_use <- seurat_object_uniform(obj, barcode_length = 17)\n",
    "obj_use\n",
    "obj_use@meta.data %>% head(n = 2)"
   ]
  },
  {
   "cell_type": "markdown",
   "id": "41adecdf-be9e-4118-8aa7-42ff370d851c",
   "metadata": {},
   "source": [
    "## UMAP"
   ]
  },
  {
   "cell_type": "code",
   "execution_count": null,
   "id": "00983b5a-60bf-46f0-b72f-6b4aaeff635f",
   "metadata": {
    "execution": {
     "iopub.execute_input": "2025-08-05T13:44:24.262918Z",
     "iopub.status.busy": "2025-08-05T13:44:24.259594Z",
     "iopub.status.idle": "2025-08-05T13:44:38.967909Z",
     "shell.execute_reply": "2025-08-05T13:44:38.966541Z"
    },
    "tags": []
   },
   "outputs": [],
   "source": [
    "options(repr.plot.height = 4, repr.plot.width = 30)\n",
    "select <- 'umap'\n",
    "DimPlot_scCustom(obj_use, reduction = select, pt.size = 1, group.by = \"gCT\", label = T, label.size = 6, colors_use = pal_igv(\"default\")(51))|\n",
    "DimPlot_scCustom(obj_use, reduction = select, pt.size = 1, group.by = \"mCT\", label = F, label.size = 6, colors_use = pal_igv(\"default\")(51))|\n",
    "DimPlot_scCustom(obj_use, reduction = select, pt.size = 1, group.by = \"oCT\", label = F, colors_use = pal_igv(\"default\")(51))|\n",
    "DimPlot_scCustom(obj_use, reduction = select, pt.size = 1, group.by = \"SampleType\", label = F, label.size = 8, colors_use = pal_igv(\"default\")(51))"
   ]
  },
  {
   "cell_type": "markdown",
   "id": "a009e107-92fa-47ee-8fad-1ab8fb95bb31",
   "metadata": {},
   "source": [
    "## Statistics"
   ]
  },
  {
   "cell_type": "code",
   "execution_count": null,
   "id": "0775dd07",
   "metadata": {
    "execution": {
     "iopub.execute_input": "2025-08-05T13:44:49.477240Z",
     "iopub.status.busy": "2025-08-05T13:44:49.473669Z",
     "iopub.status.idle": "2025-08-05T13:44:49.534582Z",
     "shell.execute_reply": "2025-08-05T13:44:49.533291Z"
    },
    "tags": []
   },
   "outputs": [],
   "source": [
    "obj_use@meta.data[,c('SampleID', 'SampleType', 'Sex')] %>% .[!duplicated(.$SampleID),] %$% table(.$SampleType, .$Sex)\n",
    "obj_use@meta.data %$% table(.$SampleType)"
   ]
  },
  {
   "cell_type": "markdown",
   "id": "c716f636-2094-4e06-b1cb-51229439596a",
   "metadata": {},
   "source": [
    "## save for use"
   ]
  },
  {
   "cell_type": "code",
   "execution_count": null,
   "id": "c9900bad",
   "metadata": {
    "execution": {
     "iopub.execute_input": "2025-08-05T13:44:52.654584Z",
     "iopub.status.busy": "2025-08-05T13:44:52.651021Z",
     "iopub.status.idle": "2025-08-05T13:58:42.341872Z",
     "shell.execute_reply": "2025-08-05T13:58:42.334643Z"
    },
    "tags": []
   },
   "outputs": [],
   "source": [
    "saveRDS(obj_use, 'obj.NSCLC_Salcher2022.rds')"
   ]
  },
  {
   "cell_type": "markdown",
   "id": "f120cfb4-f1bc-4c6b-b531-3b44b2bc2db5",
   "metadata": {
    "tags": []
   },
   "source": [
    "# obj12: PDAC_Hwang2022"
   ]
  },
  {
   "cell_type": "code",
   "execution_count": null,
   "id": "37d22b6c",
   "metadata": {
    "execution": {
     "iopub.execute_input": "2025-07-31T16:25:06.162151Z",
     "iopub.status.busy": "2025-07-31T16:25:06.159082Z",
     "iopub.status.idle": "2025-07-31T16:25:22.475074Z",
     "shell.execute_reply": "2025-07-31T16:25:22.473783Z"
    },
    "tags": []
   },
   "outputs": [],
   "source": [
    "obj <- readRDS(objList_full[12])\n",
    "obj <- UpdateSeuratObject(obj)\n",
    "obj"
   ]
  },
  {
   "cell_type": "markdown",
   "id": "265644bc-a3b4-489c-b3cc-0a64d0f11389",
   "metadata": {
    "tags": []
   },
   "source": [
    "## uniform"
   ]
  },
  {
   "cell_type": "code",
   "execution_count": null,
   "id": "e0a6e483",
   "metadata": {
    "execution": {
     "iopub.execute_input": "2025-07-31T16:35:46.839042Z",
     "iopub.status.busy": "2025-07-31T16:35:46.835783Z",
     "iopub.status.idle": "2025-07-31T16:35:55.199803Z",
     "shell.execute_reply": "2025-07-31T16:35:55.198613Z"
    },
    "tags": []
   },
   "outputs": [],
   "source": [
    "meta_now <- seurat_meta_all(obj)\n",
    "# check meta.data\n",
    "list('keep' = intersect(feature_keep, names(meta_now)),\n",
    "     'miss' = setdiff(feature_keep, names(meta_now)),\n",
    "     'TMI' = setdiff(names(meta_now), feature_keep))\n",
    "\n",
    "obj@meta.data <- obj@meta.data %>% transform(DonorID = SampleID, Tissue = \"Pancreas\")\n",
    "\n",
    "obj_use <- seurat_object_uniform(obj, barcode_length = 16)\n",
    "obj_use\n",
    "obj_use@meta.data %>% head(n = 2)"
   ]
  },
  {
   "cell_type": "markdown",
   "id": "0c2d7346-a43f-4223-b87a-afec961b85b3",
   "metadata": {},
   "source": [
    "## UMAP"
   ]
  },
  {
   "cell_type": "code",
   "execution_count": null,
   "id": "575f2422",
   "metadata": {
    "execution": {
     "iopub.execute_input": "2025-07-31T16:36:24.443530Z",
     "iopub.status.busy": "2025-07-31T16:36:24.440406Z",
     "iopub.status.idle": "2025-07-31T16:36:35.045135Z",
     "shell.execute_reply": "2025-07-31T16:36:35.043915Z"
    },
    "tags": []
   },
   "outputs": [],
   "source": [
    "options(repr.plot.height = 4, repr.plot.width = 30)\n",
    "select <- 'umap'\n",
    "DimPlot_scCustom(obj_use, reduction = select, pt.size = 1, group.by = \"gCT\", label = T, label.size = 6, colors_use = pal_igv(\"default\")(51))|\n",
    "DimPlot_scCustom(obj_use, reduction = select, pt.size = 1, group.by = \"mCT\", label = F, label.size = 6, colors_use = pal_igv(\"default\")(51))|\n",
    "DimPlot_scCustom(obj_use, reduction = select, pt.size = 1, group.by = \"oCT\", label = F, colors_use = pal_igv(\"default\")(51))|\n",
    "DimPlot_scCustom(obj_use, reduction = select, pt.size = 1, group.by = \"SampleType\", label = F, label.size = 8, colors_use = pal_igv(\"default\")(51))"
   ]
  },
  {
   "cell_type": "markdown",
   "id": "005051f5-90d4-4d6a-bf30-1117c51b01c6",
   "metadata": {},
   "source": [
    "## Statistics"
   ]
  },
  {
   "cell_type": "code",
   "execution_count": null,
   "id": "7fd4fe5b",
   "metadata": {
    "execution": {
     "iopub.execute_input": "2025-07-31T16:37:17.017928Z",
     "iopub.status.busy": "2025-07-31T16:37:17.014765Z",
     "iopub.status.idle": "2025-07-31T16:37:17.050271Z",
     "shell.execute_reply": "2025-07-31T16:37:17.049134Z"
    },
    "tags": []
   },
   "outputs": [],
   "source": [
    "obj_use@meta.data[,c('SampleID', 'SampleType', 'Sex')] %>% .[!duplicated(.$SampleID),] %$% table(.$SampleType, .$Sex)\n",
    "obj_use@meta.data %$% table(.$SampleType)"
   ]
  },
  {
   "cell_type": "markdown",
   "id": "f3a28da1-9c89-42a9-b19b-19bae58d55a6",
   "metadata": {},
   "source": [
    "## save for use"
   ]
  },
  {
   "cell_type": "code",
   "execution_count": null,
   "id": "cd4d1861",
   "metadata": {
    "execution": {
     "iopub.execute_input": "2025-07-31T16:37:45.400157Z",
     "iopub.status.busy": "2025-07-31T16:37:45.397042Z",
     "iopub.status.idle": "2025-07-31T16:40:20.566312Z",
     "shell.execute_reply": "2025-07-31T16:40:20.563899Z"
    },
    "tags": []
   },
   "outputs": [],
   "source": [
    "saveRDS(obj_use, 'obj.PDAC_Hwang2022.rds')"
   ]
  },
  {
   "cell_type": "markdown",
   "id": "3b6a90a2-d5cf-40ec-8ea5-beeba21176da",
   "metadata": {
    "tags": []
   },
   "source": [
    "# obj13: THCA_Pu2021"
   ]
  },
  {
   "cell_type": "code",
   "execution_count": null,
   "id": "ecee0b58",
   "metadata": {
    "execution": {
     "iopub.execute_input": "2025-07-31T16:40:44.274223Z",
     "iopub.status.busy": "2025-07-31T16:40:44.271150Z",
     "iopub.status.idle": "2025-07-31T16:41:15.972364Z",
     "shell.execute_reply": "2025-07-31T16:41:15.970977Z"
    },
    "tags": []
   },
   "outputs": [],
   "source": [
    "obj <- readRDS(objList_full[13])\n",
    "obj <- UpdateSeuratObject(obj)\n",
    "obj"
   ]
  },
  {
   "cell_type": "markdown",
   "id": "d4d1a5b8-c91d-49a1-ba40-ea7e05391f54",
   "metadata": {
    "tags": []
   },
   "source": [
    "## uniform"
   ]
  },
  {
   "cell_type": "code",
   "execution_count": null,
   "id": "ae8c7e64",
   "metadata": {
    "execution": {
     "iopub.execute_input": "2025-07-31T16:44:03.446320Z",
     "iopub.status.busy": "2025-07-31T16:44:03.443248Z",
     "iopub.status.idle": "2025-07-31T16:44:09.338863Z",
     "shell.execute_reply": "2025-07-31T16:44:09.337752Z"
    },
    "tags": []
   },
   "outputs": [],
   "source": [
    "meta_now <- seurat_meta_all(obj)\n",
    "# check meta.data\n",
    "list('keep' = intersect(feature_keep, names(meta_now)),\n",
    "     'miss' = setdiff(feature_keep, names(meta_now)),\n",
    "     'TMI' = setdiff(names(meta_now), feature_keep))\n",
    "\n",
    "obj@meta.data <- obj@meta.data %>% transform(Tissue = \"Thyroid\", Chemistry = \"10x v3\")\n",
    "\n",
    "obj_use <- seurat_object_uniform(obj, barcode_length = 16)\n",
    "obj_use\n",
    "obj_use@meta.data %>% head(n = 2)"
   ]
  },
  {
   "cell_type": "markdown",
   "id": "fd061ba8-329d-4793-b1ee-f46de1d8267d",
   "metadata": {},
   "source": [
    "## UMAP"
   ]
  },
  {
   "cell_type": "code",
   "execution_count": null,
   "id": "0ddf8f21",
   "metadata": {
    "execution": {
     "iopub.execute_input": "2025-07-31T16:44:33.368167Z",
     "iopub.status.busy": "2025-07-31T16:44:33.365114Z",
     "iopub.status.idle": "2025-07-31T16:44:42.369732Z",
     "shell.execute_reply": "2025-07-31T16:44:42.368569Z"
    },
    "tags": []
   },
   "outputs": [],
   "source": [
    "options(repr.plot.height = 4, repr.plot.width = 30)\n",
    "select <- 'umap'\n",
    "DimPlot_scCustom(obj_use, reduction = select, pt.size = 1, group.by = \"gCT\", label = T, label.size = 6, colors_use = pal_igv(\"default\")(51))|\n",
    "DimPlot_scCustom(obj_use, reduction = select, pt.size = 1, group.by = \"mCT\", label = F, label.size = 6, colors_use = pal_igv(\"default\")(51))|\n",
    "DimPlot_scCustom(obj_use, reduction = select, pt.size = 1, group.by = \"oCT\", label = F, colors_use = pal_igv(\"default\")(51))|\n",
    "DimPlot_scCustom(obj_use, reduction = select, pt.size = 1, group.by = \"SampleType\", label = F, label.size = 8, colors_use = pal_igv(\"default\")(51))"
   ]
  },
  {
   "cell_type": "markdown",
   "id": "77c2b0a6-0217-4728-ba7c-aefce3a66ef1",
   "metadata": {},
   "source": [
    "## Statistics"
   ]
  },
  {
   "cell_type": "code",
   "execution_count": null,
   "id": "4f1342fc",
   "metadata": {
    "execution": {
     "iopub.execute_input": "2025-07-31T16:44:47.774608Z",
     "iopub.status.busy": "2025-07-31T16:44:47.771507Z",
     "iopub.status.idle": "2025-07-31T16:44:47.806366Z",
     "shell.execute_reply": "2025-07-31T16:44:47.805010Z"
    },
    "tags": []
   },
   "outputs": [],
   "source": [
    "obj_use@meta.data[,c('SampleID', 'SampleType', 'Sex')] %>% .[!duplicated(.$SampleID),] %$% table(.$SampleType, .$Sex)\n",
    "obj_use@meta.data %$% table(.$SampleType)"
   ]
  },
  {
   "cell_type": "markdown",
   "id": "d748f4a0-fa0e-450d-bf30-314a67b35f0b",
   "metadata": {},
   "source": [
    "## save for use"
   ]
  },
  {
   "cell_type": "code",
   "execution_count": null,
   "id": "00f5bb4e",
   "metadata": {
    "execution": {
     "iopub.execute_input": "2025-07-31T16:44:57.654828Z",
     "iopub.status.busy": "2025-07-31T16:44:57.651729Z",
     "iopub.status.idle": "2025-07-31T16:46:42.017479Z",
     "shell.execute_reply": "2025-07-31T16:46:42.015247Z"
    },
    "tags": []
   },
   "outputs": [],
   "source": [
    "saveRDS(obj_use, 'obj.THCA_Pu2021.rds')"
   ]
  }
 ],
 "metadata": {
  "kernelspec": {
   "display_name": "rTrace",
   "language": "R",
   "name": "rtrace"
  },
  "language_info": {
   "codemirror_mode": "r",
   "file_extension": ".r",
   "mimetype": "text/x-r-source",
   "name": "R",
   "pygments_lexer": "r",
   "version": "4.2.3"
  },
  "toc-autonumbering": false
 },
 "nbformat": 4,
 "nbformat_minor": 5
}
