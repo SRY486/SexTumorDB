{
 "cells": [
  {
   "cell_type": "code",
   "execution_count": null,
   "id": "a98e08fa-28cc-4153-88f0-32be5a0f72b0",
   "metadata": {
    "execution": {
     "iopub.execute_input": "2025-08-15T09:22:52.800810Z",
     "iopub.status.busy": "2025-08-15T09:22:52.797703Z",
     "iopub.status.idle": "2025-08-15T09:23:55.929214Z",
     "shell.execute_reply": "2025-08-15T09:23:55.927877Z"
    },
    "tags": []
   },
   "outputs": [],
   "source": [
    "## load object\n",
    "obj <- readRDS('obj.TumorCell.diet.rds')\n",
    "obj@meta.data %>% head(n = 2)\n",
    "conf <- createConfig(obj)"
   ]
  },
  {
   "cell_type": "code",
   "execution_count": null,
   "id": "aef88acb-7168-4de3-a317-9efe3f630bfc",
   "metadata": {
    "execution": {
     "iopub.execute_input": "2025-08-15T09:28:42.076261Z",
     "iopub.status.busy": "2025-08-15T09:28:42.074066Z",
     "iopub.status.idle": "2025-08-15T09:35:14.837540Z",
     "shell.execute_reply": "2025-08-15T09:35:14.834965Z"
    },
    "tags": []
   },
   "outputs": [],
   "source": [
    "## make shiny app\n",
    "makeShinyApp(obj, \n",
    "             conf, \n",
    "             gene.mapping = FALSE,\n",
    "             gex.slot = \"data\",\n",
    "             shiny.title = \"SexTumorDB: Tumor cell landscape\",\n",
    "             shiny.footnotes = \"Datasets covering the total tumor microenvironment can be accessed freely from Zenodo platform\",\n",
    "             enableSubset = TRUE,\n",
    "             defPtSiz = 1.3,\n",
    "            )"
   ]
  },
  {
   "cell_type": "code",
   "execution_count": null,
   "id": "a421f8ae-bd8d-4af3-9c09-f33131e0cf2f",
   "metadata": {
    "execution": {
     "iopub.execute_input": "2025-08-15T09:38:12.566842Z",
     "iopub.status.busy": "2025-08-15T09:38:12.564127Z",
     "iopub.status.idle": "2025-08-15T09:38:15.789836Z",
     "shell.execute_reply": "2025-08-15T09:38:15.786884Z"
    },
    "tags": []
   },
   "outputs": [],
   "source": [
    "rsconnect::setAccountInfo(name='sextumordb',\n",
    "                          token='<SECRET>',\n",
    "                          secret='<SECRET>')"
   ]
  },
  {
   "cell_type": "code",
   "execution_count": null,
   "id": "ed40940e-1684-4a5b-a415-53943a2b4ef1",
   "metadata": {
    "execution": {
     "iopub.execute_input": "2025-08-15T09:38:42.109746Z",
     "iopub.status.busy": "2025-08-15T09:38:42.107210Z",
     "iopub.status.idle": "2025-08-15T10:02:12.293698Z",
     "shell.execute_reply": "2025-08-15T10:02:12.290937Z"
    },
    "jupyter": {
     "outputs_hidden": true
    },
    "tags": []
   },
   "outputs": [],
   "source": [
    "rsconnect::deployApp('/project/sex_cancer/shinyApp/', account = 'sextumordb')"
   ]
  }
 ],
 "metadata": {
  "kernelspec": {
   "display_name": "rTrace",
   "language": "R",
   "name": "rtrace"
  },
  "language_info": {
   "codemirror_mode": "r",
   "file_extension": ".r",
   "mimetype": "text/x-r-source",
   "name": "R",
   "pygments_lexer": "r",
   "version": "4.2.3"
  }
 },
 "nbformat": 4,
 "nbformat_minor": 5
}
