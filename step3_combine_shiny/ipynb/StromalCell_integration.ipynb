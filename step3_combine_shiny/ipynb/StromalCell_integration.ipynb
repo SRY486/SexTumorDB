{
 "cells": [
  {
   "cell_type": "markdown",
   "id": "7e4f236a-8e82-4c7e-bdf6-42027ef29516",
   "metadata": {},
   "source": [
    "# load data"
   ]
  },
  {
   "cell_type": "code",
   "execution_count": null,
   "id": "4082953f-9524-492b-9095-b46ffa6f90d7",
   "metadata": {},
   "outputs": [],
   "source": [
    "objList <- list.files('/project/sex_cancer/data/data_zenodo', pattern = 'obj', full.names = TRUE)\n",
    "objList"
   ]
  },
  {
   "cell_type": "code",
   "execution_count": null,
   "id": "8bdc3b06-9daa-4e2d-b505-f836eb5f1d2a",
   "metadata": {},
   "outputs": [],
   "source": [
    "seuratList <- lapply(objList, function(x){readRDS(x)})\n",
    "names(seuratList) <- objList %>% gsub('/project/sex_cancer/data/data_zenodo/obj.', '', .) %>% gsub('.rds', '', .)"
   ]
  },
  {
   "cell_type": "markdown",
   "id": "9d5443aa-3404-4821-a2d9-5839629a3c7b",
   "metadata": {},
   "source": [
    "# extract intersect genes"
   ]
  },
  {
   "cell_type": "code",
   "execution_count": null,
   "id": "044c1eac-ff60-42dd-805b-cb6e94bee938",
   "metadata": {},
   "outputs": [],
   "source": [
    "geneList <- lapply(seuratList, function(x){rownames(x)})\n",
    "geneList_all <- geneList %>% ext_list() %>% unique() \n",
    "length(geneList_all) ## 65547 genes\n",
    "geneList_freq13 <- geneList %>% unlist %>% table() %>% as.data.frame() %>% subset(Freq == 13) %>% .[,1] %>% ext_list() \n",
    "length(geneList_freq13) ## 13414 genes"
   ]
  },
  {
   "cell_type": "markdown",
   "id": "f5c9e309-91a8-4206-a384-c13f33d8d99e",
   "metadata": {},
   "source": [
    "# filter stromal cells"
   ]
  },
  {
   "cell_type": "code",
   "execution_count": null,
   "id": "a12f6e52-7f7e-4b16-a4f9-7a803094f0dd",
   "metadata": {},
   "outputs": [],
   "source": [
    "seuratList_Stromal <- lapply(seuratList, function(obj){\n",
    "                                    obj %>% subset(SampleType == 'tumor') %>% subset(gCT == 'Stromal') %>% subset(feature = geneList_freq13)\n",
    "                             })\n",
    "names(seuratList_Stromal) <- names(seuratList_Stromal)\n",
    "lapply(seuratList_Stromal, function(x){ncol(x)}) %>% do.call(sum, .)\n",
    "seurat_Stromal <- merge(seuratList_Immune[[1]], seuratList_Immune[-1])"
   ]
  },
  {
   "cell_type": "markdown",
   "id": "3eb869c7-592d-457b-b6e8-133e0e0d3868",
   "metadata": {},
   "source": [
    "# diet stromal cell"
   ]
  },
  {
   "cell_type": "code",
   "execution_count": null,
   "id": "e5bed3f5-c5cb-4fb0-9caf-d961586e9832",
   "metadata": {
    "execution": {
     "iopub.execute_input": "2025-08-15T09:35:34.655261Z",
     "iopub.status.busy": "2025-08-15T09:35:34.653115Z",
     "iopub.status.idle": "2025-08-15T09:35:58.003780Z",
     "shell.execute_reply": "2025-08-15T09:35:58.001079Z"
    },
    "tags": []
   },
   "outputs": [],
   "source": [
    "obj <- seurat_Stromal\n",
    "## extract unique group info\n",
    "meta <- obj@meta.data %>% transform(group = paste(SampleID, mCT, sep = '_'))\n",
    "groupList <- unique(meta$group)\n",
    "## down-sample\n",
    "metaDiet <- lapply(groupList, function(x){\n",
    "                    groupMeta <- meta %>% subset(group == x)\n",
    "                    Ncell <- nrow(groupMeta)\n",
    "                    if(Ncell > 100){\n",
    "                        groupMeta <- groupMeta[sample(Ncell, 100), ]\n",
    "                    }\n",
    "                    return(groupMeta)\n",
    "                }) %>% do.call(rbind, .)\n",
    "## filter\n",
    "obj.diet <- obj %>% subset(cells = rownames(metaDiet))\n",
    "obj.diet"
   ]
  },
  {
   "cell_type": "code",
   "execution_count": null,
   "id": "6eac6c18-02d7-4082-a6e0-40f41b5bd13f",
   "metadata": {
    "execution": {
     "iopub.execute_input": "2025-08-15T09:48:21.818125Z",
     "iopub.status.busy": "2025-08-15T09:48:21.815021Z",
     "iopub.status.idle": "2025-08-15T09:56:16.074052Z",
     "shell.execute_reply": "2025-08-15T09:56:16.072647Z"
    },
    "jupyter": {
     "outputs_hidden": true
    },
    "tags": []
   },
   "outputs": [],
   "source": [
    "## run UMAP\n",
    "obj.diet <- obj.diet %>%\n",
    "            # NormalizeData(normalization.method = \"LogNormalize\", scale.factor = 10000, verbose = F) %>%\n",
    "            FindVariableFeatures(selection.method = \"vst\", nfeatures = 1000, verbose = F) %>%\n",
    "            ScaleData(vars.to.regress = c(\"nCount_RNA\"), verbose = F) %>%\n",
    "            RunPCA(verbose = F)\n",
    "obj.diet <- obj.diet %>% harmony::RunHarmony(group.by.vars = \"Cohort\", plot_convergence = TRUE)\n",
    "## cluster\n",
    "nPC <- min(PC_selection_harmony(obj.diet)$PCselect)\n",
    "obj.diet <- obj.diet %>% \n",
    "             RunUMAP(reduction = \"harmony\", dims = 1:nPC, umap.method = \"uwot\") %>%\n",
    "             RunTSNE(reduction = \"harmony\", dims = 1:nPC)\n",
    "obj.diet@meta.data %>% head(n = 2)"
   ]
  },
  {
   "cell_type": "code",
   "execution_count": null,
   "id": "e34175c4-86ac-497c-80af-468122d83cef",
   "metadata": {
    "execution": {
     "iopub.execute_input": "2025-08-15T09:56:43.837001Z",
     "iopub.status.busy": "2025-08-15T09:56:43.833319Z",
     "iopub.status.idle": "2025-08-15T09:56:47.701768Z",
     "shell.execute_reply": "2025-08-15T09:56:47.700493Z"
    },
    "tags": []
   },
   "outputs": [],
   "source": [
    "options(repr.plot.height = 5, repr.plot.width = 23) \n",
    "select <- 'umap'\n",
    "DimPlot_scCustom(obj.diet, pt.size = .1, group.by = \"gCT\", reduction = select, label = F, label.size = 4, colors_use = pal_igv(\"default\")(51))|\n",
    "DimPlot_scCustom(obj.diet, pt.size = .1, group.by = \"mCT\", reduction = select, label = TRUE, label.size = 4, colors_use = pal_igv(\"default\")(51))|\n",
    "DimPlot_scCustom(obj.diet, pt.size = .1, group.by = \"Cohort\", reduction = select, label = TRUE, label.size = 4, colors_use = pal_igv(\"default\")(51))|\n",
    "DimPlot_scCustom(obj.diet, pt.size = 1, group.by = \"Sex\", label = TRUE, label.size = 4, colors_use = pal_igv(\"default\")(51))"
   ]
  },
  {
   "cell_type": "markdown",
   "id": "5e437ffb-70ce-4803-b40b-d14088b661e0",
   "metadata": {},
   "source": [
    "# save"
   ]
  },
  {
   "cell_type": "code",
   "execution_count": null,
   "id": "9cfd973d-d134-4c07-9db5-511e54c3ad5f",
   "metadata": {
    "execution": {
     "iopub.execute_input": "2025-08-15T09:57:48.953037Z",
     "iopub.status.busy": "2025-08-15T09:57:48.949931Z",
     "iopub.status.idle": "2025-08-15T09:59:56.385387Z",
     "shell.execute_reply": "2025-08-15T09:59:56.382997Z"
    },
    "tags": []
   },
   "outputs": [],
   "source": [
    "saveRDS(obj.diet, 'obj.StromalCell.diet.rds')"
   ]
  }
 ],
 "metadata": {
  "kernelspec": {
   "display_name": "rTrace",
   "language": "R",
   "name": "rtrace"
  },
  "language_info": {
   "codemirror_mode": "r",
   "file_extension": ".r",
   "mimetype": "text/x-r-source",
   "name": "R",
   "pygments_lexer": "r",
   "version": "4.2.3"
  }
 },
 "nbformat": 4,
 "nbformat_minor": 5
}
