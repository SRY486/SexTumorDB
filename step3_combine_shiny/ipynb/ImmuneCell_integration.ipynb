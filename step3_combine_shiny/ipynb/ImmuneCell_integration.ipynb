{
 "cells": [
  {
   "cell_type": "markdown",
   "id": "1d9d35f3-8b98-4c0b-8125-fec21ca83de4",
   "metadata": {},
   "source": [
    "# load data"
   ]
  },
  {
   "cell_type": "code",
   "execution_count": null,
   "id": "e7031741-38e1-410e-ba07-00b580cc2ee4",
   "metadata": {
    "execution": {
     "iopub.execute_input": "2025-08-14T16:30:46.162755Z",
     "iopub.status.busy": "2025-08-14T16:30:46.159455Z",
     "iopub.status.idle": "2025-08-14T16:30:46.186444Z",
     "shell.execute_reply": "2025-08-14T16:30:46.184909Z"
    },
    "tags": []
   },
   "outputs": [],
   "source": [
    "objList <- list.files('/project/sex_cancer/data/data_zenodo', pattern = 'obj', full.names = TRUE)\n",
    "objList"
   ]
  },
  {
   "cell_type": "code",
   "execution_count": null,
   "id": "68fb53ae-87ba-438d-8bc4-7ff2a227ffd6",
   "metadata": {
    "execution": {
     "iopub.execute_input": "2025-08-14T16:30:50.556882Z",
     "iopub.status.busy": "2025-08-14T16:30:50.553638Z",
     "iopub.status.idle": "2025-08-14T16:37:23.150413Z",
     "shell.execute_reply": "2025-08-14T16:37:23.149022Z"
    },
    "tags": []
   },
   "outputs": [],
   "source": [
    "seuratList <- lapply(objList, function(x){readRDS(x)})\n",
    "names(seuratList) <- objList %>% gsub('/project/sex_cancer/data/data_zenodo/obj.', '', .) %>% gsub('.rds', '', .)"
   ]
  },
  {
   "cell_type": "markdown",
   "id": "18d03763-979d-48aa-b3cc-a1d22fe2c8bb",
   "metadata": {},
   "source": [
    "# extract intersect genes"
   ]
  },
  {
   "cell_type": "code",
   "execution_count": null,
   "id": "1f46c0c7-83c1-4ae4-9a14-4ff3192ab1f1",
   "metadata": {
    "execution": {
     "iopub.execute_input": "2025-08-15T02:59:51.393584Z",
     "iopub.status.busy": "2025-08-15T02:59:51.389770Z",
     "iopub.status.idle": "2025-08-15T02:59:51.931160Z",
     "shell.execute_reply": "2025-08-15T02:59:51.929751Z"
    },
    "tags": []
   },
   "outputs": [],
   "source": [
    "geneList <- lapply(seuratList, function(x){rownames(x)})\n",
    "geneList_all <- geneList %>% ext_list() %>% unique() \n",
    "length(geneList_all) ## 65547 genes\n",
    "geneList_freq13 <- geneList %>% unlist %>% table() %>% as.data.frame() %>% subset(Freq == 13) %>% .[,1] %>% ext_list() \n",
    "length(geneList_freq13) ## 13414 genes"
   ]
  },
  {
   "cell_type": "markdown",
   "id": "54860dd3-9be6-46a1-9181-5499f0ea2b41",
   "metadata": {},
   "source": [
    "# filter immune cells"
   ]
  },
  {
   "cell_type": "code",
   "execution_count": null,
   "id": "caaacebd-7fdc-4d9d-bddf-893334a3a093",
   "metadata": {
    "execution": {
     "iopub.execute_input": "2025-08-15T03:00:41.286660Z",
     "iopub.status.busy": "2025-08-15T03:00:41.282861Z",
     "iopub.status.idle": "2025-08-15T03:10:55.043180Z",
     "shell.execute_reply": "2025-08-15T03:10:55.041817Z"
    },
    "tags": []
   },
   "outputs": [],
   "source": [
    "seuratList_Immune <- lapply(seuratList, function(obj){\n",
    "                                    obj %>% subset(SampleType == 'tumor') %>% subset(gCT == 'Immune') %>% subset(feature = geneList_freq13)\n",
    "                             })\n",
    "names(seuratList_Immune) <- names(seuratList_Immune)\n",
    "lapply(seuratList_Immune, function(x){ncol(x)}) %>% do.call(sum, .)"
   ]
  },
  {
   "cell_type": "code",
   "execution_count": null,
   "id": "fd888d32-1e5c-4eea-badc-6c6666667e15",
   "metadata": {
    "execution": {
     "iopub.execute_input": "2025-08-15T03:55:18.028335Z",
     "iopub.status.busy": "2025-08-15T03:55:18.024500Z",
     "iopub.status.idle": "2025-08-15T03:55:18.067180Z",
     "shell.execute_reply": "2025-08-15T03:55:18.065834Z"
    },
    "tags": []
   },
   "outputs": [],
   "source": [
    "seurat_Immune <- merge(seuratList_Immune[[1]], seuratList_Immune[-1])\n",
    "seurat_Immune"
   ]
  },
  {
   "cell_type": "markdown",
   "id": "6bb3e5cf-27b9-4a54-834b-3fbc8a41e9a5",
   "metadata": {
    "execution": {
     "iopub.execute_input": "2025-08-15T05:46:54.722489Z",
     "iopub.status.busy": "2025-08-15T05:46:54.718793Z",
     "iopub.status.idle": "2025-08-15T05:46:54.960225Z",
     "shell.execute_reply": "2025-08-15T05:46:54.958746Z"
    }
   },
   "source": [
    "# Diet Immune component"
   ]
  },
  {
   "cell_type": "code",
   "execution_count": null,
   "id": "09da9702-8376-43eb-88f7-cba68e3c4fda",
   "metadata": {
    "execution": {
     "iopub.execute_input": "2025-08-16T05:40:43.115229Z",
     "iopub.status.busy": "2025-08-16T05:40:43.111582Z",
     "iopub.status.idle": "2025-08-16T05:42:06.483826Z",
     "shell.execute_reply": "2025-08-16T05:42:06.482480Z"
    },
    "tags": []
   },
   "outputs": [],
   "source": [
    "obj <- seurat_Immune\n",
    "## extract unique group info\n",
    "meta <- obj@meta.data %>% transform(group = paste(SampleID, mCT, sep = '_'))\n",
    "groupList <- unique(meta$group)\n",
    "## downsample\n",
    "metaDiet <- lapply(groupList, function(x){\n",
    "                    groupMeta <- meta %>% subset(group == x)\n",
    "                    Ncell <- nrow(groupMeta)\n",
    "                    if(Ncell > 100){\n",
    "                        groupMeta <- groupMeta[sample(Ncell, 100), ]\n",
    "                    }\n",
    "                    return(groupMeta)\n",
    "                }) %>% do.call(rbind, .)\n",
    "## filter\n",
    "obj.diet <- obj %>% subset(cells = rownames(metaDiet))\n",
    "obj.diet"
   ]
  },
  {
   "cell_type": "code",
   "execution_count": null,
   "id": "6769ea7f-5a53-4a16-94c0-b7559c5c64e9",
   "metadata": {
    "execution": {
     "iopub.execute_input": "2025-08-16T06:26:07.084020Z",
     "iopub.status.busy": "2025-08-16T06:26:07.080772Z",
     "iopub.status.idle": "2025-08-16T07:28:39.037255Z",
     "shell.execute_reply": "2025-08-16T07:28:39.035902Z"
    },
    "jupyter": {
     "outputs_hidden": true
    },
    "tags": []
   },
   "outputs": [],
   "source": [
    "## run UMAP\n",
    "set.seed(486)\n",
    "obj.diet <- obj.diet %>%\n",
    "            NormalizeData(normalization.method = \"LogNormalize\", scale.factor = 10000, verbose = F) %>%\n",
    "            FindVariableFeatures(selection.method = \"vst\", nfeatures = 1000, verbose = F) %>%\n",
    "            ScaleData(vars.to.regress = c(\"nCount_RNA\"), verbose = F) %>%\n",
    "            RunPCA(verbose = F)\n",
    "obj.diet <- obj.diet %>% harmony::RunHarmony(group.by.vars = \"Cohort\", plot_convergence = TRUE)\n",
    "## cluster\n",
    "nPC <- min(PC_selection_harmony(obj.diet)$PCselect)\n",
    "obj.diet <- obj.diet %>% \n",
    "             RunUMAP(reduction = \"harmony\", dims = 1:nPC, umap.method = \"uwot\") %>%\n",
    "             RunTSNE(reduction = \"harmony\", dims = 1:nPC)\n",
    "colnames(obj.diet@meta.data)"
   ]
  },
  {
   "cell_type": "code",
   "execution_count": null,
   "id": "ff18f8d7-270c-40be-8f89-87d81d0d5e0c",
   "metadata": {
    "execution": {
     "iopub.execute_input": "2025-08-16T07:30:18.643193Z",
     "iopub.status.busy": "2025-08-16T07:30:18.639527Z",
     "iopub.status.idle": "2025-08-16T07:30:23.423064Z",
     "shell.execute_reply": "2025-08-16T07:30:23.421872Z"
    },
    "tags": []
   },
   "outputs": [],
   "source": [
    "options(repr.plot.height = 5, repr.plot.width = 30) \n",
    "select <- 'umap'\n",
    "DimPlot_scCustom(obj.diet, pt.size = .1, group.by = \"gCT\", reduction = select, label = F, label.size = 4, colors_use = pal_igv(\"default\")(51))|\n",
    "DimPlot_scCustom(obj.diet, pt.size = .1, group.by = \"mCT\", reduction = select, label = TRUE, label.size = 4, colors_use = pal_igv(\"default\")(51))|\n",
    "DimPlot_scCustom(obj.diet, pt.size = .1, group.by = \"Cohort\", reduction = select, label = TRUE, label.size = 4, colors_use = pal_igv(\"default\")(51))|\n",
    "DimPlot_scCustom(obj.diet, pt.size = 1, group.by = \"Sex\", label = TRUE, label.size = 4, colors_use = pal_igv(\"default\")(51))"
   ]
  },
  {
   "cell_type": "markdown",
   "id": "def0cb0a-70f2-4c68-9417-f7badd91fd72",
   "metadata": {},
   "source": [
    "# save"
   ]
  },
  {
   "cell_type": "code",
   "execution_count": null,
   "id": "6de0a8c4-a26c-4eed-b7c2-644a61634e4b",
   "metadata": {
    "execution": {
     "iopub.execute_input": "2025-08-16T07:30:35.296458Z",
     "iopub.status.busy": "2025-08-16T07:30:35.293176Z",
     "iopub.status.idle": "2025-08-16T07:36:30.833001Z",
     "shell.execute_reply": "2025-08-16T07:36:30.830296Z"
    },
    "tags": []
   },
   "outputs": [],
   "source": [
    "saveRDS(obj.diet, 'obj.ImmuneCell.diet.rds')"
   ]
  }
 ],
 "metadata": {
  "kernelspec": {
   "display_name": "rTrace",
   "language": "R",
   "name": "rtrace"
  },
  "language_info": {
   "codemirror_mode": "r",
   "file_extension": ".r",
   "mimetype": "text/x-r-source",
   "name": "R",
   "pygments_lexer": "r",
   "version": "4.2.3"
  }
 },
 "nbformat": 4,
 "nbformat_minor": 5
}
