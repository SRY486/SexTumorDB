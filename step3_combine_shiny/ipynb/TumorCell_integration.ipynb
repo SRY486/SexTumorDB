{
 "cells": [
  {
   "cell_type": "markdown",
   "id": "da1f5a22-2756-4f7f-ad05-168966305e43",
   "metadata": {},
   "source": [
    "# load data"
   ]
  },
  {
   "cell_type": "code",
   "execution_count": null,
   "id": "c5925ae9-560c-4af1-9865-ff60ca9c642f",
   "metadata": {
    "execution": {
     "iopub.execute_input": "2025-08-14T16:20:53.616812Z",
     "iopub.status.busy": "2025-08-14T16:20:53.613843Z",
     "iopub.status.idle": "2025-08-14T16:20:53.641256Z",
     "shell.execute_reply": "2025-08-14T16:20:53.639770Z"
    },
    "tags": []
   },
   "outputs": [],
   "source": [
    "objList <- list.files('/project/sex_cancer/data/data_zenodo', pattern = 'obj', full.names = TRUE)\n",
    "objList\n",
    "length(objList)"
   ]
  },
  {
   "cell_type": "code",
   "execution_count": null,
   "id": "12f5867d-45e8-4883-8be2-8029c5b0afe1",
   "metadata": {
    "execution": {
     "iopub.execute_input": "2025-08-14T16:23:26.126422Z",
     "iopub.status.busy": "2025-08-14T16:23:26.123309Z",
     "iopub.status.idle": "2025-08-14T16:29:55.072177Z",
     "shell.execute_reply": "2025-08-14T16:29:55.070802Z"
    },
    "tags": []
   },
   "outputs": [],
   "source": [
    "seuratList <- lapply(objList, function(x){readRDS(x)})\n",
    "names(seuratList) <- objList %>% gsub('/project/sex_cancer/data/data_zenodo/obj.', '', .) %>% gsub('.rds', '', .)"
   ]
  },
  {
   "cell_type": "markdown",
   "id": "6ca8bf22-17d9-41e2-96a7-1528224b8dd5",
   "metadata": {},
   "source": [
    "# extract intersect genes"
   ]
  },
  {
   "cell_type": "code",
   "execution_count": null,
   "id": "cdfc5615-d6ff-4228-89b0-45ef91921d80",
   "metadata": {
    "execution": {
     "iopub.execute_input": "2025-08-14T16:29:55.113511Z",
     "iopub.status.busy": "2025-08-14T16:29:55.112427Z",
     "iopub.status.idle": "2025-08-14T16:29:55.725295Z",
     "shell.execute_reply": "2025-08-14T16:29:55.723939Z"
    },
    "tags": []
   },
   "outputs": [],
   "source": [
    "geneList <- lapply(seuratList, function(x){rownames(x)})\n",
    "geneList_all <- geneList %>% ext_list() %>% unique() \n",
    "length(geneList_all) ## 65547 genes\n",
    "geneList_freq13 <- geneList %>% unlist %>% table() %>% as.data.frame() %>% subset(Freq == 13) %>% .[,1] %>% ext_list() \n",
    "length(geneList_freq13) ## 13414 genes"
   ]
  },
  {
   "cell_type": "markdown",
   "id": "f882698b-f09d-4e5f-b7e7-7fe9261dcbd4",
   "metadata": {},
   "source": [
    "# tumor cells integration"
   ]
  },
  {
   "cell_type": "code",
   "execution_count": null,
   "id": "eb96fd8e-da39-4050-9c23-dced97f89684",
   "metadata": {
    "execution": {
     "iopub.execute_input": "2025-08-14T16:30:00.757261Z",
     "iopub.status.busy": "2025-08-14T16:30:00.753770Z",
     "iopub.status.idle": "2025-08-14T16:30:00.782156Z",
     "shell.execute_reply": "2025-08-14T16:30:00.780310Z"
    },
    "tags": []
   },
   "outputs": [],
   "source": [
    "seuratList_name <- names(seuratList)\n",
    "seuratList_name"
   ]
  },
  {
   "cell_type": "markdown",
   "id": "127aee75-f77c-4293-bb75-d97967167d78",
   "metadata": {},
   "source": [
    "## filter cells & genes (retain only tumor cells)"
   ]
  },
  {
   "cell_type": "code",
   "execution_count": null,
   "id": "4d7f6f10-3ca4-4a1f-ac1c-22d4d679f350",
   "metadata": {
    "execution": {
     "iopub.execute_input": "2025-08-14T16:30:05.546119Z",
     "iopub.status.busy": "2025-08-14T16:30:05.542814Z",
     "iopub.status.idle": "2025-08-14T16:37:26.954056Z",
     "shell.execute_reply": "2025-08-14T16:37:26.952659Z"
    },
    "jupyter": {
     "outputs_hidden": true
    },
    "tags": []
   },
   "outputs": [],
   "source": [
    "seuratList <- lapply(seuratList, function(obj){\n",
    "                        obj %>% subset(gCT == 'Tumor') %>% subset(SampleType == 'tumor') %>% subset(feature = geneList_freq13)\n",
    "                     })\n",
    "names(seuratList) <- seuratList_name\n",
    "seuratList\n",
    "lapply(seuratList, function(x){ncol(x)}) %>% do.call(sum, .)\n",
    "seurat_TumorCell <- merge(seuratList[[1]], seuratList[-1])"
   ]
  },
  {
   "cell_type": "markdown",
   "id": "752283a3-b26a-4dd1-a062-973d5c9f2a15",
   "metadata": {
    "execution": {
     "iopub.execute_input": "2025-08-06T11:38:11.536381Z",
     "iopub.status.busy": "2025-08-06T11:38:11.533158Z",
     "iopub.status.idle": "2025-08-06T11:38:19.481450Z",
     "shell.execute_reply": "2025-08-06T11:38:19.480289Z"
    },
    "tags": []
   },
   "source": [
    "## run UMAP"
   ]
  },
  {
   "cell_type": "code",
   "execution_count": null,
   "id": "ecc6a5f5-6e72-4232-83ec-ed74ab2e4b0e",
   "metadata": {
    "execution": {
     "iopub.execute_input": "2025-08-14T16:47:43.652943Z",
     "iopub.status.busy": "2025-08-14T16:47:43.649517Z"
    },
    "tags": []
   },
   "outputs": [],
   "source": [
    "seurat_TumorCell <- seurat_TumorCell %>%\n",
    "                     NormalizeData(normalization.method = \"LogNormalize\", scale.factor = 10000, verbose = F) %>%\n",
    "                     FindVariableFeatures(selection.method = \"vst\", nfeatures = 1000, verbose = F) %>%\n",
    "                     ScaleData(vars.to.regress = c(\"nCount_RNA\"), verbose = F) %>%\n",
    "                     RunPCA(verbose = F)\n",
    "\n",
    "options(repr.plot.height = 3, repr.plot.width = 6)\n",
    "DimPlot(object = seurat_TumorCell, reduction = \"pca\", group.by = \"Cohort\", cols = paletteer_d(\"ggsci::default_igv\"))\n",
    "\n",
    "## run harmony\n",
    "library(harmony)\n",
    "seurat_TumorCell <- seurat_TumorCell %>% \n",
    "                         RunHarmony(group.by.vars = \"Cohort\", plot_convergence = TRUE)\n",
    "## cluster\n",
    "nPC <- min(PC_selection_harmony(seurat_TumorCell)$PCselect)\n",
    "seurat_TumorCell <- seurat_TumorCell %>% \n",
    "                         RunUMAP(reduction = \"harmony\", dims = 1:nPC, umap.method = \"uwot\") %>%\n",
    "                         RunTSNE(reduction = \"harmony\", dims = 1:nPC)\n",
    "colnames(seurat_TumorCell@meta.data)"
   ]
  },
  {
   "cell_type": "code",
   "execution_count": null,
   "id": "bcafebf5-d594-462d-b135-98654fba0cd7",
   "metadata": {
    "execution": {
     "iopub.execute_input": "2025-08-15T02:50:12.266684Z",
     "iopub.status.busy": "2025-08-15T02:50:12.263606Z",
     "iopub.status.idle": "2025-08-15T02:50:22.239969Z",
     "shell.execute_reply": "2025-08-15T02:50:22.238794Z"
    },
    "jupyter": {
     "outputs_hidden": true
    },
    "tags": []
   },
   "outputs": [],
   "source": [
    "options(repr.plot.height = 5, repr.plot.width = 22) \n",
    "select <- 'umap'\n",
    "DimPlot_scCustom(seurat_TumorCell, pt.size = .1, group.by = \"gCT\", reduction = select, label = F, label.size = 4, colors_use = pal_igv(\"default\")(51))|\n",
    "DimPlot_scCustom(seurat_TumorCell, pt.size = .1, group.by = \"mCT\", reduction = select, label = TRUE, label.size = 4, colors_use = pal_igv(\"default\")(51))|\n",
    "DimPlot_scCustom(seurat_TumorCell, pt.size = .1, group.by = \"Cohort\", reduction = select, label = F, label.size = 4, colors_use = pal_igv(\"default\")(51))|\n",
    "DimPlot_scCustom(seurat_TumorCell, pt.size = 1, group.by = \"Sex\", label = TRUE, label.size = 4, colors_use = pal_igv(\"default\")(51))"
   ]
  },
  {
   "cell_type": "markdown",
   "id": "f3f7ba91-6192-4611-b5ae-aadaeb6f0762",
   "metadata": {},
   "source": [
    "# malignancy score calculation"
   ]
  },
  {
   "cell_type": "code",
   "execution_count": null,
   "id": "a4d88288-d99f-43e0-bc97-42f15ff173a9",
   "metadata": {},
   "outputs": [],
   "source": [
    "obj <- seurat_TumorCell %>% SplitObject(split.by = \"Cohort\")\n",
    "obj"
   ]
  },
  {
   "cell_type": "code",
   "execution_count": null,
   "id": "c1d2a3ab-27e2-453c-b371-295629d7f2aa",
   "metadata": {},
   "outputs": [],
   "source": [
    "# code source: https://github.com/czythu/scCancer/blob/master/vignettes/malignantCellIden.Rmd\n",
    "scCancer_malignancy <- function(object){\n",
    "                            model.path <- paste0(system.file(\"txt\", package = \"scCancer\"), \"/sc_xgboost.model\")\n",
    "                            genes.path <- paste0(system.file(\"txt\", package = \"scCancer\"), \"/genes-scRNA-tcga-sorted.txt\")\n",
    "                            model.ref <- xgb.load(model.path)\n",
    "                            \n",
    "                            features <- as.list(read.table(genes.path))[[1]]\n",
    "                            testdata <- t(as.matrix(object@assays$RNA@scale.data))\n",
    "\n",
    "                            temp <- matrix(data = 0, nrow = nrow(testdata), ncol = length(features), dimnames = list(rownames(testdata), features))\n",
    "                            current.features <- colnames(testdata)\n",
    "                            for(j in 1:length(features)){\n",
    "                                if(features[j] %in% current.features){\n",
    "                                    temp[,j] <- testdata[, features[j]]\n",
    "                                }\n",
    "                            }\n",
    "                            testdata <- temp\n",
    "                            \n",
    "                            # Prediction\n",
    "                            testdata <- xgb.DMatrix(testdata)\n",
    "                            predict.label <- predict(model.ref, testdata)\n",
    "                            predict.score <- predict.label\n",
    "                            predict.label[which(predict.label > 0.5)] <- \"malignant\"\n",
    "                            predict.label[which(predict.label <= 0.5)] <- \"nonMalignant\"\n",
    "                            table(predict.label)\n",
    "\n",
    "                            # Visualization\n",
    "                            object$malignant.label <- predict.label\n",
    "                            object$malignant.score <- predict.score\n",
    "                            return(object)\n",
    "                        }"
   ]
  },
  {
   "cell_type": "code",
   "execution_count": null,
   "id": "d8d7ce44-42a6-4815-ac93-2285201e6629",
   "metadata": {},
   "outputs": [],
   "source": [
    "obj <- lapply(obj, function(x){scCancer_malignancy(x)})\n",
    "obj <- merge(obj[[1]], obj[-1])\n",
    "obj@meta.data <- obj@meta.data %>% dplyr::rename(c('Malignant_label' = 'malignant.label', 'Malignant_score' = 'malignant.score'))"
   ]
  },
  {
   "cell_type": "markdown",
   "id": "0467f414-3c30-4958-850c-e08dfcfa0e6e",
   "metadata": {},
   "source": [
    "## save"
   ]
  },
  {
   "cell_type": "code",
   "execution_count": null,
   "id": "aae2621e-e297-4f78-8d08-7e58f2d9c31b",
   "metadata": {
    "execution": {
     "iopub.execute_input": "2025-08-15T08:42:05.306148Z",
     "iopub.status.busy": "2025-08-15T08:42:05.302343Z",
     "iopub.status.idle": "2025-08-15T08:42:05.661939Z",
     "shell.execute_reply": "2025-08-15T08:42:05.660558Z"
    },
    "tags": []
   },
   "outputs": [],
   "source": [
    "seurat_TumorCell@meta.data <- seurat_TumorCell@meta.data %>% cbind(obj@meta.data[colnames(seurat_TumorCell), c('Malignant_label', 'Malignant_score')]) %>% .[colnames(seurat_TumorCell),]\n",
    "saveRDS(seurat_TumorCell, 'obj.TumorCell.all.rds')"
   ]
  },
  {
   "cell_type": "markdown",
   "id": "e2defc75-d15b-4ce1-b509-2d5638b9ae49",
   "metadata": {},
   "source": [
    "# Diet Tumor component\n",
    "downsample samples with > 1000 cells to 1000 cells"
   ]
  },
  {
   "cell_type": "code",
   "execution_count": null,
   "id": "a1a128bf-1bfe-4fbc-bca2-ed158dbdc1a6",
   "metadata": {
    "execution": {
     "iopub.execute_input": "2025-08-15T09:07:16.695976Z",
     "iopub.status.busy": "2025-08-15T09:07:16.692301Z",
     "iopub.status.idle": "2025-08-15T09:07:16.749402Z",
     "shell.execute_reply": "2025-08-15T09:07:16.748111Z"
    },
    "tags": []
   },
   "outputs": [],
   "source": [
    "obj <- seurat_TumorCell\n",
    "sampleList <- unique(obj$SampleID)\n",
    "length(sampleList)"
   ]
  },
  {
   "cell_type": "code",
   "execution_count": null,
   "id": "196629ad-b0df-4c4e-8eff-6d3d5f90d9c7",
   "metadata": {
    "execution": {
     "iopub.execute_input": "2025-08-15T09:07:16.752505Z",
     "iopub.status.busy": "2025-08-15T09:07:16.751425Z",
     "iopub.status.idle": "2025-08-15T09:07:23.858170Z",
     "shell.execute_reply": "2025-08-15T09:07:23.856981Z"
    },
    "tags": []
   },
   "outputs": [],
   "source": [
    "sampleDiet <- lapply(sampleList, function(x){\n",
    "                    sampleMeta <- obj@meta.data %>% subset(SampleID == x)\n",
    "                    Ncell <- nrow(sampleMeta)\n",
    "                    if(Ncell > 1000){\n",
    "                        sampleMeta <- sampleMeta[sample(Ncell, 1000), ]\n",
    "                    }\n",
    "                    return(sampleMeta)\n",
    "                }) %>% do.call(rbind, .)\n",
    "dim(sampleDiet)\n",
    "sampleDiet %>% head(n = 2)\n",
    "\n",
    "## filter\n",
    "obj.diet <- obj %>% subset(cells = rownames(sampleDiet))"
   ]
  },
  {
   "cell_type": "code",
   "execution_count": null,
   "id": "10c3e59c-3cbf-48f9-acb0-9c9c95c50579",
   "metadata": {
    "execution": {
     "iopub.execute_input": "2025-08-15T09:10:04.068081Z",
     "iopub.status.busy": "2025-08-15T09:10:04.065028Z",
     "iopub.status.idle": "2025-08-15T09:10:08.971921Z",
     "shell.execute_reply": "2025-08-15T09:10:08.970594Z"
    },
    "tags": []
   },
   "outputs": [],
   "source": [
    "obj.diet <- obj %>% subset(cells = rownames(sampleDiet))\n",
    "obj.diet\n",
    "\n",
    "options(repr.plot.height = 5, repr.plot.width = 30) \n",
    "select <- 'umap'\n",
    "DimPlot_scCustom(obj.diet, pt.size = .1, group.by = \"gCT\", reduction = select, label = F, label.size = 4, colors_use = pal_igv(\"default\")(51))|\n",
    "DimPlot_scCustom(obj.diet, pt.size = .1, group.by = \"mCT\", reduction = select, label = TRUE, label.size = 4, colors_use = pal_igv(\"default\")(51))|\n",
    "DimPlot_scCustom(obj.diet, pt.size = .1, group.by = \"Cohort\", reduction = select, label = TRUE, label.size = 4, colors_use = pal_igv(\"default\")(51))|\n",
    "DimPlot_scCustom(obj.diet, pt.size = .1, group.by = \"Malignant_label\", reduction = select, label = F, label.size = 4, colors_use = pal_igv(\"default\")(51))|\n",
    "DimPlot_scCustom(obj.diet, pt.size = 1, group.by = \"Sex\", label = TRUE, label.size = 4, colors_use = pal_igv(\"default\")(51))"
   ]
  },
  {
   "cell_type": "code",
   "execution_count": null,
   "id": "14d48e98-ecca-4b18-820e-7f593995337d",
   "metadata": {
    "execution": {
     "iopub.execute_input": "2025-08-15T09:10:24.415274Z",
     "iopub.status.busy": "2025-08-15T09:10:24.409251Z",
     "iopub.status.idle": "2025-08-15T09:21:19.677167Z",
     "shell.execute_reply": "2025-08-15T09:21:19.674795Z"
    },
    "tags": []
   },
   "outputs": [],
   "source": [
    "saveRDS(obj.diet, 'obj.TumorCell.diet.rds')"
   ]
  }
 ],
 "metadata": {
  "kernelspec": {
   "display_name": "rTrace",
   "language": "R",
   "name": "rtrace"
  },
  "language_info": {
   "codemirror_mode": "r",
   "file_extension": ".r",
   "mimetype": "text/x-r-source",
   "name": "R",
   "pygments_lexer": "r",
   "version": "4.2.3"
  }
 },
 "nbformat": 4,
 "nbformat_minor": 5
}
